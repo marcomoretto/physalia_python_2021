{
  "nbformat": 4,
  "nbformat_minor": 0,
  "metadata": {
    "colab": {
      "name": "Lesson 4: Objects",
      "provenance": [],
      "collapsed_sections": [],
      "toc_visible": true
    },
    "kernelspec": {
      "name": "python3",
      "display_name": "Python 3"
    }
  },
  "cells": [
    {
      "cell_type": "markdown",
      "metadata": {
        "id": "f1pFZZ6Sdvnk"
      },
      "source": [
        "# In Python everything is an Object"
      ]
    },
    {
      "cell_type": "markdown",
      "metadata": {
        "id": "FgQgy_51fMHj"
      },
      "source": [
        "By defining a new function you will extend the language functionalities (adding it to the set of functions already present in Python. Similarly by defining a new object you will extend the functionalities by adding a new data type."
      ]
    },
    {
      "cell_type": "code",
      "metadata": {
        "id": "ksoC8O9SdzWj"
      },
      "source": [
        "print(isinstance('abc', object))\n",
        "print(isinstance(1.5, object))\n",
        "print(isinstance(print, object))"
      ],
      "execution_count": null,
      "outputs": []
    },
    {
      "cell_type": "code",
      "metadata": {
        "id": "ODJhtjDRftn3"
      },
      "source": [
        "class Iris_Setosa():\n",
        "  pass"
      ],
      "execution_count": null,
      "outputs": []
    },
    {
      "cell_type": "code",
      "metadata": {
        "id": "xdoD_eT4f0cM"
      },
      "source": [
        "i = Iris_Setosa()\n",
        "type(i)"
      ],
      "execution_count": null,
      "outputs": []
    },
    {
      "cell_type": "code",
      "metadata": {
        "id": "1q5AvQGuf6PB"
      },
      "source": [
        "isinstance(i, Iris_Setosa)"
      ],
      "execution_count": null,
      "outputs": []
    },
    {
      "cell_type": "code",
      "metadata": {
        "id": "AlsEq21hf-sz"
      },
      "source": [
        "isinstance(i, object)"
      ],
      "execution_count": null,
      "outputs": []
    },
    {
      "cell_type": "code",
      "metadata": {
        "id": "t0mJtZWJgCU9"
      },
      "source": [
        "isinstance(i, str)"
      ],
      "execution_count": null,
      "outputs": []
    },
    {
      "cell_type": "markdown",
      "metadata": {
        "id": "mDSWCx1vgWnr"
      },
      "source": [
        "An **object** is simply a collection of data (variables) and methods (functions) that act on those data. Similarly, a **class** is a blueprint for that **object**. Every **object** inherit from the base class `object`.\n"
      ]
    },
    {
      "cell_type": "code",
      "metadata": {
        "id": "-n6jHsqlgy7i"
      },
      "source": [
        "'abc'.upper() # upper is a method of the str object"
      ],
      "execution_count": null,
      "outputs": []
    },
    {
      "cell_type": "code",
      "metadata": {
        "id": "YFWlCDy0hTC8"
      },
      "source": [
        "# the init method\n",
        "\n",
        "class Iris_Setosa:\n",
        "    def __init__(self, petal_width, sepal_width, petal_height, sepal_height): # self refers to the current instantiated object from this class\n",
        "        self.petal_width = petal_width\n",
        "        self.sepal_width = sepal_width\n",
        "        self.petal_height = petal_height\n",
        "        self.sepal_height = sepal_height"
      ],
      "execution_count": null,
      "outputs": []
    },
    {
      "cell_type": "code",
      "metadata": {
        "id": "OLjuCrYlhuSh"
      },
      "source": [
        "i = Iris_Setosa(1, 2, 3, 4)"
      ],
      "execution_count": null,
      "outputs": []
    },
    {
      "cell_type": "code",
      "metadata": {
        "id": "WPw34EBuhxDi"
      },
      "source": [
        "i.petal_width"
      ],
      "execution_count": null,
      "outputs": []
    },
    {
      "cell_type": "code",
      "metadata": {
        "id": "l8Llg2wOh2pf"
      },
      "source": [
        "# let's define a more useful method\n",
        "\n",
        "class Iris_Setosa:\n",
        "    def __init__(self, petal_width, sepal_width, petal_height, sepal_height):\n",
        "        self.petal_width = petal_width\n",
        "        self.sepal_width = sepal_width\n",
        "        self.petal_height = petal_height\n",
        "        self.sepal_height = sepal_height\n",
        "    \n",
        "    def get_total_width(self):\n",
        "      '''\n",
        "      return the total sum of petal and sepal with\n",
        "      '''\n",
        "      return self.petal_width + self.sepal_width"
      ],
      "execution_count": null,
      "outputs": []
    },
    {
      "cell_type": "code",
      "metadata": {
        "id": "TyjO2ISNiUyV"
      },
      "source": [
        "i = Iris_Setosa(1, 2, 3, 4)"
      ],
      "execution_count": null,
      "outputs": []
    },
    {
      "cell_type": "code",
      "metadata": {
        "id": "hYylJnM0iXjn"
      },
      "source": [
        "i.get_total_width()"
      ],
      "execution_count": null,
      "outputs": []
    },
    {
      "cell_type": "code",
      "metadata": {
        "id": "X9_skyqbidgX"
      },
      "source": [
        "print(i) # this is not really informative"
      ],
      "execution_count": null,
      "outputs": []
    },
    {
      "cell_type": "code",
      "metadata": {
        "id": "j9VgS6VcineT"
      },
      "source": [
        "# overwrite the __str__ method\n",
        "\n",
        "class Iris_Setosa:\n",
        "  def __init__(self, petal_width, sepal_width, petal_height, sepal_height):\n",
        "    self.petal_width = petal_width\n",
        "    self.sepal_width = sepal_width\n",
        "    self.petal_height = petal_height\n",
        "    self.sepal_height = sepal_height\n",
        "    \n",
        "  def get_total_width(self):\n",
        "    '''\n",
        "    return the total sum of petal and sepal with\n",
        "    '''\n",
        "    return self.petal_width + self.sepal_width\n",
        "\n",
        "\n",
        "  def __str__(self):\n",
        "    return \"Iris Setosa:\" + \", \".join(['pw: '+ str(self.petal_width), 'sw: ' + str(self.sepal_width), 'ph: ' + str(self.petal_height), 'sh: ' +str(self.sepal_height)])"
      ],
      "execution_count": null,
      "outputs": []
    },
    {
      "cell_type": "code",
      "metadata": {
        "id": "KiEj6iusjIjw"
      },
      "source": [
        "i = Iris_Setosa(1, 2, 3, 4)\n",
        "print(i)"
      ],
      "execution_count": null,
      "outputs": []
    },
    {
      "cell_type": "code",
      "metadata": {
        "id": "JyYRMhM0jJn9"
      },
      "source": [
        "i = Iris_Setosa(1, 2, 3, 4)\n",
        "j = Iris_Setosa(5, 6, 7, 8)\n",
        "\n",
        "# can I sum these two objects?\n",
        "i + j"
      ],
      "execution_count": null,
      "outputs": []
    },
    {
      "cell_type": "markdown",
      "metadata": {
        "id": "Ez946MHmj5BL"
      },
      "source": [
        "### Let's decide about the meaning of summing two Iris_Setosa objects using the plus (+) operand. The sum of two Iris_Setosa objects will create a new Iris_Setosa object with average values between the initial given Iris_Setosa objects\n"
      ]
    },
    {
      "cell_type": "code",
      "metadata": {
        "id": "BVH9d-H3joA1"
      },
      "source": [
        "class Iris_Setosa:\n",
        "  def __init__(self, petal_width, sepal_width, petal_height, sepal_height):\n",
        "    self.petal_width = petal_width\n",
        "    self.sepal_width = sepal_width\n",
        "    self.petal_height = petal_height\n",
        "    self.sepal_height = sepal_height\n",
        "    \n",
        "  def get_total_width(self):\n",
        "    '''\n",
        "    return the total sum of petal and sepal with\n",
        "    ''' \n",
        "    return self.petal_width + self.sepal_width\n",
        "\n",
        "\n",
        "  def __str__(self):\n",
        "    return \"Iris Setosa:\" + \", \".join(['pw: '+ str(self.petal_width), 'sw: ' + str(self.sepal_width), 'ph: ' + str(self.petal_height), 'sh: ' +str(self.sepal_height)])\n",
        "\n",
        "  def __repr__(self):\n",
        "    return self.__str__()\n",
        "\n",
        "  def __add__(self, other):\n",
        "    return Iris_Setosa((self.petal_width + other.petal_width) / 2.,\n",
        "                       (self.sepal_width + other.sepal_width) / 2.,\n",
        "                       (self.petal_height + other.petal_height) / 2.,\n",
        "                       (self.sepal_height + other.sepal_height) / 2.)"
      ],
      "execution_count": null,
      "outputs": []
    },
    {
      "cell_type": "code",
      "metadata": {
        "id": "qLwvzttrkqHF"
      },
      "source": [
        "i = Iris_Setosa(1, 2, 3, 4)\n",
        "j = Iris_Setosa(5, 6, 7, 8)\n",
        "\n",
        "# can I sum these two objects?\n",
        "i + j"
      ],
      "execution_count": null,
      "outputs": []
    },
    {
      "cell_type": "code",
      "metadata": {
        "id": "wk8w3njsktrS"
      },
      "source": [
        "import random\n",
        "\n",
        "iris_list = [Iris_Setosa(random.randint(0, 100),random.randint(0, 100), random.randint(0, 100), random.randint(0, 100)) for x in range(10)]\n",
        "\n",
        "print(iris_list)"
      ],
      "execution_count": null,
      "outputs": []
    },
    {
      "cell_type": "code",
      "metadata": {
        "id": "q4d2RmmnlfyW"
      },
      "source": [
        "# can i sort a list of Iris_Setosa?\n",
        "sorted(iris_list)"
      ],
      "execution_count": null,
      "outputs": []
    },
    {
      "cell_type": "markdown",
      "metadata": {
        "id": "UUdiKFZBl6gM"
      },
      "source": [
        "### Let's decide about the meaning of ordering two (or more) Iris_Setosa objects, i.e. given 2 objects what does it mean that one is **bigger** than the other? In our case the definition would be: one Iris_Setosa is bigger than another one if the height of the sepal is bigger."
      ]
    },
    {
      "cell_type": "code",
      "metadata": {
        "id": "qFvi98EpltwL"
      },
      "source": [
        "class Iris_Setosa:\n",
        "  def __init__(self, petal_width, sepal_width, petal_height, sepal_height):\n",
        "    self.petal_width = petal_width\n",
        "    self.sepal_width = sepal_width\n",
        "    self.petal_height = petal_height\n",
        "    self.sepal_height = sepal_height\n",
        "    \n",
        "  def get_total_width(self):\n",
        "    '''\n",
        "    return the total sum of petal and sepal with\n",
        "    '''\n",
        "    return self.petal_width + self.sepal_width\n",
        "\n",
        "\n",
        "  def __str__(self):\n",
        "    return \"Iris Setosa:\" + \", \".join(['pw: '+ str(self.petal_width), 'sw: ' + str(self.sepal_width), 'ph: ' + str(self.petal_height), 'sh: ' +str(self.sepal_height)])\n",
        "\n",
        "  def __repr__(self):\n",
        "    return self.__str__()\n",
        "\n",
        "  def __add__(self, other):\n",
        "    return Iris_Setosa((self.petal_width + other.petal_width) / 2.,\n",
        "                       (self.sepal_width + other.sepal_width) / 2.,\n",
        "                       (self.petal_height + other.petal_height) / 2.,\n",
        "                       (self.sepal_height + other.sepal_height) / 2.)\n",
        "    \n",
        "  def __lt__(self, other):\n",
        "    return self.sepal_height < other.sepal_height"
      ],
      "execution_count": null,
      "outputs": []
    },
    {
      "cell_type": "code",
      "metadata": {
        "id": "6zm2IO8Png4l"
      },
      "source": [
        "import random\n",
        "\n",
        "iris_list = [Iris_Setosa(random.randint(0, 100),random.randint(0, 100), random.randint(0, 100), random.randint(0, 100)) for x in range(10)]\n",
        "\n",
        "print(iris_list)"
      ],
      "execution_count": null,
      "outputs": []
    },
    {
      "cell_type": "code",
      "metadata": {
        "id": "R-O_ZtJQmoZG"
      },
      "source": [
        "print(*iris_list[:2])"
      ],
      "execution_count": null,
      "outputs": []
    },
    {
      "cell_type": "code",
      "metadata": {
        "id": "VEA1F2Fwm4sU"
      },
      "source": [
        "iris_list[0] < iris_list[1]"
      ],
      "execution_count": null,
      "outputs": []
    },
    {
      "cell_type": "code",
      "metadata": {
        "id": "-0Ic6JzOnWMS"
      },
      "source": [
        "sorted(iris_list)"
      ],
      "execution_count": null,
      "outputs": []
    },
    {
      "cell_type": "code",
      "metadata": {
        "id": "8cmRgqUGnpXE"
      },
      "source": [
        "sorted(iris_list, key=lambda x: x.petal_width)"
      ],
      "execution_count": null,
      "outputs": []
    },
    {
      "cell_type": "markdown",
      "metadata": {
        "id": "iObBnAaxeDsY"
      },
      "source": [
        "### Python inheritance"
      ]
    },
    {
      "cell_type": "code",
      "metadata": {
        "id": "fQh_avbQnxNG"
      },
      "source": [
        "class Iris_Versicolor:\n",
        "  def __init__(self, petal_width, sepal_width, petal_height, sepal_height):\n",
        "    self.petal_width = petal_width\n",
        "    self.sepal_width = sepal_width\n",
        "    self.petal_height = petal_height\n",
        "    self.sepal_height = sepal_height\n",
        "    \n",
        "  def get_total_width(self):\n",
        "    '''\n",
        "    return the total sum of petal and sepal with\n",
        "    '''\n",
        "    return self.petal_width + self.sepal_width\n",
        "\n",
        "\n",
        "  def __str__(self):\n",
        "    return \"Iris Versicolor:\" + \", \".join(['pw: '+ str(self.petal_width), 'sw: ' + str(self.sepal_width), 'ph: ' + str(self.petal_height), 'sh: ' +str(self.sepal_height)])\n",
        "\n",
        "  def __repr__(self):\n",
        "    return self.__str__()\n",
        "\n",
        "  def __add__(self, other):\n",
        "    return Iris_Versicolor((self.petal_width + other.petal_width) / 2.,\n",
        "                       (self.sepal_width + other.sepal_width) / 2.,\n",
        "                       (self.petal_height + other.petal_height) / 2.,\n",
        "                       (self.sepal_height + other.sepal_height) / 2.)\n",
        "    \n",
        "  def __lt__(self, other):\n",
        "    return self.sepal_height < other.sepal_height"
      ],
      "execution_count": null,
      "outputs": []
    },
    {
      "cell_type": "code",
      "metadata": {
        "id": "alt_NxFjehCY"
      },
      "source": [
        "i = Iris_Setosa(1, 2, 3, 4)\n",
        "j = Iris_Versicolor(5, 6, 7, 8)\n",
        "\n",
        "print(i)\n",
        "print(j)"
      ],
      "execution_count": null,
      "outputs": []
    },
    {
      "cell_type": "code",
      "metadata": {
        "id": "Ka_DwhrNfS8W"
      },
      "source": [
        "# Let's define the base class Iris\n",
        "\n",
        "class Iris:\n",
        "  def __init__(self, petal_width, sepal_width, petal_height, sepal_height):\n",
        "    self.petal_width = petal_width\n",
        "    self.sepal_width = sepal_width\n",
        "    self.petal_height = petal_height\n",
        "    self.sepal_height = sepal_height\n",
        "    \n",
        "  def get_total_width(self):\n",
        "    '''\n",
        "    return the total sum of petal and sepal with\n",
        "    '''\n",
        "    return self.petal_width + self.sepal_width\n",
        "\n",
        "\n",
        "  def __str__(self):\n",
        "    return \"Iris:\" + \", \".join(['pw: '+ str(self.petal_width), 'sw: ' + str(self.sepal_width), 'ph: ' + str(self.petal_height), 'sh: ' +str(self.sepal_height)])\n",
        "\n",
        "  def __repr__(self):\n",
        "    return self.__str__()\n",
        "\n",
        "  def __add__(self, other):\n",
        "    return Iris((self.petal_width + other.petal_width) / 2.,\n",
        "                       (self.sepal_width + other.sepal_width) / 2.,\n",
        "                       (self.petal_height + other.petal_height) / 2.,\n",
        "                       (self.sepal_height + other.sepal_height) / 2.)\n",
        "    \n",
        "  def __lt__(self, other):\n",
        "    return self.sepal_height < other.sepal_height\n",
        "\n",
        "  def __radd__(self, other):\n",
        "    return self + other"
      ],
      "execution_count": null,
      "outputs": []
    },
    {
      "cell_type": "code",
      "metadata": {
        "id": "kRyeJ6QGfe7H"
      },
      "source": [
        "# Then the other two kind of Iris will inherit from the base class overwriting only the __str__ method\n",
        "\n",
        "class Iris_Setosa(Iris):\n",
        "  def __str__(self):\n",
        "    return \"Iris Setosa: \" + \", \".join(['pw: '+ str(self.petal_width), 'sw: ' + str(self.sepal_width), 'ph: ' + str(self.petal_height), 'sh: ' +str(self.sepal_height)])\n",
        "\n",
        "\n",
        "class Iris_Versicolor(Iris):\n",
        "  def __str__(self):\n",
        "    return \"Iris Versicolor: \" + \", \".join(['pw: '+ str(self.petal_width), 'sw: ' + str(self.sepal_width), 'ph: ' + str(self.petal_height), 'sh: ' +str(self.sepal_height)])"
      ],
      "execution_count": null,
      "outputs": []
    },
    {
      "cell_type": "code",
      "metadata": {
        "id": "oYZKKXUegWng"
      },
      "source": [
        "i = Iris_Setosa(1, 2, 3, 4)\n",
        "j = Iris_Versicolor(5, 6, 7, 8)\n",
        "\n",
        "print(i)\n",
        "print(j)"
      ],
      "execution_count": null,
      "outputs": []
    },
    {
      "cell_type": "code",
      "metadata": {
        "id": "UrHBfWP_gaMN"
      },
      "source": [
        "i + j"
      ],
      "execution_count": null,
      "outputs": []
    },
    {
      "cell_type": "code",
      "metadata": {
        "id": "ux4WOvSqgt2Y"
      },
      "source": [
        "class FlowerPrettyPrint:\n",
        "    def __str__(self):\n",
        "        return  '''\n",
        "              ,         ,\n",
        "             /|   _,_   |\\\n",
        "             \n",
        "            | \\.'` \\ `'./ |\n",
        "            | /   /`>   \\ |\n",
        "            ; | / |o| \\ | ;\n",
        "             \\_\\ /.8.\\ /_/\n",
        "          _.-' .'/   \\'. '-._\n",
        "          \\__.'  |   | `;.__/\n",
        "            / |  | ; |  | \\\n",
        "            \n",
        "            |  \\ '._.'  | |\n",
        "             \\  \\ | |  /  /\n",
        "             |  | | | /  /\n",
        "             |  | | | |  |\n",
        "             \\  \\ | |/  /\n",
        "              \\  \\| /  /\n",
        "               `\\ \\ | /\n",
        "                 \\ `;/\n",
        "                 `| |                '''"
      ],
      "execution_count": null,
      "outputs": []
    },
    {
      "cell_type": "code",
      "metadata": {
        "id": "ZdCupXg8gwZR"
      },
      "source": [
        "class Iris_Setosa(FlowerPrettyPrint, Iris, object):\n",
        "  pass"
      ],
      "execution_count": null,
      "outputs": []
    },
    {
      "cell_type": "code",
      "metadata": {
        "id": "-5wrSkqng578"
      },
      "source": [
        "i = Iris_Setosa(1, 2, 3, 4)\n",
        "j = Iris_Versicolor(5, 6, 7, 8)\n",
        "\n",
        "print(i)\n",
        "print(j)"
      ],
      "execution_count": null,
      "outputs": []
    },
    {
      "cell_type": "code",
      "metadata": {
        "id": "XQF-ReqGg9Vb"
      },
      "source": [
        "class Iris_Setosa(FlowerPrettyPrint, Iris):\n",
        "  def __str__(self):\n",
        "    fpp = FlowerPrettyPrint.__str__(self)\n",
        "    return fpp + \"\\nIris Setosa: \" + \", \".join(['pw: '+ str(self.petal_width), 'sw: ' + str(self.sepal_width), 'ph: ' + str(self.petal_height), 'sh: ' +str(self.sepal_height)])"
      ],
      "execution_count": null,
      "outputs": []
    },
    {
      "cell_type": "code",
      "metadata": {
        "id": "LsEN6MqOhdhz"
      },
      "source": [
        "i = Iris_Setosa(1, 2, 3, 4)\n",
        "j = Iris_Versicolor(5, 6, 7, 8)\n",
        "\n",
        "print(i)\n",
        "print(j)"
      ],
      "execution_count": null,
      "outputs": []
    },
    {
      "cell_type": "markdown",
      "metadata": {
        "id": "Ia8VS3X9hyv-"
      },
      "source": [
        "# Exercises"
      ]
    },
    {
      "cell_type": "code",
      "metadata": {
        "id": "yeTdziFcNFyZ"
      },
      "source": [
        "# create a class that represent a DNA FASTA sequence. It should have 2 fields, id and sequence\n",
        "# implement the reverse_complement() method that return a new object with the same id but with the reverse complemented sequence\n",
        "# (i.e. the sequence should be reversed and A to T and G to C substitutions) A -> T, T -> A, G -> C, C -> G\n",
        "# overload the __repr__(self) and __str__(self) method in order to nicely print it"
      ],
      "execution_count": null,
      "outputs": []
    },
    {
      "cell_type": "markdown",
      "metadata": {
        "id": "ReWBxc7wh1Cs"
      },
      "source": [
        "# Exceptions\n",
        "\n",
        "Exceptions are a way to handle programming error that might occur at runtime"
      ]
    },
    {
      "cell_type": "code",
      "metadata": {
        "id": "TcVr2WUOhf8j"
      },
      "source": [
        "for i in sorted(range(6), reverse=True):\n",
        "    print(\"5 / {} = {}\".format(i, 5 / i))"
      ],
      "execution_count": null,
      "outputs": []
    },
    {
      "cell_type": "markdown",
      "metadata": {
        "id": "fOzBzprViNWO"
      },
      "source": [
        "### Syntax\n",
        "\n",
        "```\n",
        "try:\n",
        "\n",
        "    <expression> # code that might give an error (raise an exception)\n",
        "    \n",
        "except <exception_type> as <exception_name>:\n",
        "\n",
        "    <expression> # behaviour in case of exception\n",
        "\n",
        "```\n",
        "\n"
      ]
    },
    {
      "cell_type": "code",
      "metadata": {
        "id": "QmZ5Pqw8iEln"
      },
      "source": [
        "try:\n",
        "  for i in sorted(range(6), reverse=True):\n",
        "    print(\"5 / {} = {}\".format(i, 5 / i))\n",
        "except ZeroDivisionError as e:\n",
        "  print(\"5 / 0 = undefined\")"
      ],
      "execution_count": null,
      "outputs": []
    },
    {
      "cell_type": "code",
      "metadata": {
        "id": "MJeS7mrtmms4"
      },
      "source": [
        "try:\n",
        "  for i in sorted(range(6), reverse=True):\n",
        "    print(\"5 / {} = {}\".format(i, 5 / i))\n",
        "except Exception as e:\n",
        "  print(\"5 / 0 = undefined\", e)"
      ],
      "execution_count": null,
      "outputs": []
    },
    {
      "cell_type": "code",
      "metadata": {
        "id": "ShHC8cNx3bB9"
      },
      "source": [
        "import traceback\n",
        "\n",
        "try:\n",
        "  for i in sorted(range(6), reverse=True):\n",
        "    print(\"5 / {} = {}\".format(i, 5 / i))\n",
        "except Exception as e:\n",
        "  print(\"5 / 0 = undefined\", e, traceback.print_exc())"
      ],
      "execution_count": null,
      "outputs": []
    },
    {
      "cell_type": "code",
      "metadata": {
        "id": "JBNJRT-qn-nn"
      },
      "source": [
        "try:\n",
        "  for i in sorted(range(6), reverse=True):\n",
        "    print(\"5 / {} = {}\".format(i, 5 / i))\n",
        "except FileNotFoundError as e:\n",
        "  print(\"file not found\")\n",
        "except Exception as e:\n",
        "  print(\"general exception\")\n",
        "except ZeroDivisionError as e:\n",
        "  print(\"division by zero\", e)\n",
        "finally:\n",
        "  print(\"this will be always executed\")"
      ],
      "execution_count": null,
      "outputs": []
    },
    {
      "cell_type": "markdown",
      "metadata": {
        "id": "q2iQiW2woy5I"
      },
      "source": [
        "We saw how to handle errors when the code we execute raise an exception, but can we forse an exception to occur?"
      ]
    },
    {
      "cell_type": "code",
      "metadata": {
        "id": "cxJlKO-aodgI"
      },
      "source": [
        "raise Exception(\"this is not supposed to happen\")"
      ],
      "execution_count": null,
      "outputs": []
    },
    {
      "cell_type": "code",
      "metadata": {
        "id": "0A94Z7iH5WGm"
      },
      "source": [
        "def my_fun(*args):\n",
        "  cumulative = args[0]\n",
        "  for x in args[1:]:\n",
        "    cumulative += x\n",
        "  return cumulative"
      ],
      "execution_count": null,
      "outputs": []
    },
    {
      "cell_type": "code",
      "metadata": {
        "id": "exGLKUYM5r4z"
      },
      "source": [
        "my_fun(1,2,3,4,5,7, '1','2','3','4','5')"
      ],
      "execution_count": null,
      "outputs": []
    },
    {
      "cell_type": "code",
      "metadata": {
        "id": "ONb-pMNk5110"
      },
      "source": [
        "my_fun('1','2','3','4','5')"
      ],
      "execution_count": null,
      "outputs": []
    },
    {
      "cell_type": "code",
      "metadata": {
        "id": "fHilaRvdpFBR"
      },
      "source": [
        "import functools\n",
        "\n",
        "def my_fun(*args):\n",
        "  if len(set([type(x) for x in args])) > 1:\n",
        "    raise Exception('Arguments must all be of the same type')\n",
        "  # do your stuff here\n",
        "  return functools.reduce(lambda x, y: x + y, args)\n"
      ],
      "execution_count": null,
      "outputs": []
    },
    {
      "cell_type": "code",
      "metadata": {
        "id": "NDgM9-uZqilN"
      },
      "source": [
        "my_fun(1,2,3,4,5)"
      ],
      "execution_count": null,
      "outputs": []
    },
    {
      "cell_type": "code",
      "metadata": {
        "id": "oMXTldaJqlpq"
      },
      "source": [
        "my_fun('1','2','3','4','5')"
      ],
      "execution_count": null,
      "outputs": []
    },
    {
      "cell_type": "code",
      "metadata": {
        "id": "fS-mB0aVq3nb"
      },
      "source": [
        "my_fun(1, '1')"
      ],
      "execution_count": null,
      "outputs": []
    },
    {
      "cell_type": "code",
      "metadata": {
        "id": "ySyrvZip6gG0"
      },
      "source": [
        "class SameTypeException(Exception):\n",
        "  def __str__(self):\n",
        "    return 'Arguments are of different type'"
      ],
      "execution_count": null,
      "outputs": []
    },
    {
      "cell_type": "code",
      "metadata": {
        "id": "qQGTqrcc7MaG"
      },
      "source": [
        "import functools\n",
        "\n",
        "def my_fun(*args):\n",
        "  if len(set([type(x) for x in args])) > 1:\n",
        "    raise SameTypeException()\n",
        "  # do your stuff here\n",
        "  return functools.reduce(lambda x, y: x + y, args)"
      ],
      "execution_count": null,
      "outputs": []
    },
    {
      "cell_type": "markdown",
      "metadata": {
        "id": "g8bSoQP7cCel"
      },
      "source": [
        "# Exercises"
      ]
    },
    {
      "cell_type": "code",
      "metadata": {
        "id": "6O37kC50PZak"
      },
      "source": [
        "# starting from previous exercises about the FASTA object, implement a new Exception called InvalidNucleotideException that should be raised every time \n",
        "# a letter different from A, T, G or C is used to create the FASTA object\n",
        "\n",
        "# now read the multifasta file and create a list of FASTA object\n",
        "# use try except to gently inform if one sequence is not a valid DNA sequence, skipping it but informing with a warning message\n",
        "\n",
        "fasta = '/content/drive/MyDrive/Projects/Physalia-courses/Python/Notebook - Colab/exception.fasta'"
      ],
      "execution_count": null,
      "outputs": []
    },
    {
      "cell_type": "markdown",
      "metadata": {
        "id": "S6YkG9KRcHcC"
      },
      "source": [
        "# Python packages\n",
        "\n",
        "### [Python standard library](https://docs.python.org/3/library/) and [external packages](https://pypi.org/)"
      ]
    },
    {
      "cell_type": "code",
      "metadata": {
        "id": "idlV8xOmcBF0"
      },
      "source": [
        "!pip install numpy"
      ],
      "execution_count": null,
      "outputs": []
    },
    {
      "cell_type": "code",
      "metadata": {
        "id": "IjbnYrqydLx7"
      },
      "source": [
        "import numpy\n",
        "\n",
        "numpy.__version__"
      ],
      "execution_count": null,
      "outputs": []
    },
    {
      "cell_type": "code",
      "metadata": {
        "id": "dNPXnkSydS35"
      },
      "source": [
        "!pip install numpy==1.18"
      ],
      "execution_count": null,
      "outputs": []
    },
    {
      "cell_type": "code",
      "metadata": {
        "id": "fetfdQZkdXLC"
      },
      "source": [
        "import numpy\n",
        "\n",
        "numpy.__version__"
      ],
      "execution_count": null,
      "outputs": []
    },
    {
      "cell_type": "markdown",
      "metadata": {
        "id": "vNPtpyqzVy5e"
      },
      "source": [
        "# Virtual Environment\n",
        "\n",
        "### Why a `virtual environment`?\n",
        "Because by default, every project on your system will use these same directories to store and retrieve site packages (third party libraries) and this can lead to incompatibilities for example if we need to use different versions of the same package.\n",
        "\n",
        "### What is a virtual environment?\n",
        "In a nutshell is a directory where all the packages (and the Python interpreter) will be installed. A Python virtual environments is to create an isolated environment for Python projects. This means that each project can have its own dependencies, regardless of what dependencies every other project has.\n"
      ]
    },
    {
      "cell_type": "markdown",
      "metadata": {
        "id": "Yl1OBI3rXMjP"
      },
      "source": [
        "# Anaconda\n",
        "[Anaconda](https://www.anaconda.com/) is a distribution of the Python programming languages for scientific computing, it includes a Python interpreter, a package manager (`conda`) and a virtual environment system."
      ]
    },
    {
      "cell_type": "markdown",
      "metadata": {
        "id": "RLD6NLK7G0P0"
      },
      "source": [
        "# Create your own package\n",
        "\n",
        "[How to write your own Python Package and publish it on PyPi](https://thucnc.medium.com/how-to-publish-your-own-python-package-to-pypi-4318868210f9)"
      ]
    },
    {
      "cell_type": "code",
      "metadata": {
        "id": "q5g7jz9vdckG"
      },
      "source": [
        ""
      ],
      "execution_count": null,
      "outputs": []
    }
  ]
}