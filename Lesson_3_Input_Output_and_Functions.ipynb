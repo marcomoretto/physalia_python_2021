{
  "nbformat": 4,
  "nbformat_minor": 0,
  "metadata": {
    "colab": {
      "name": "Lesson 3: Input / Output and Functions",
      "provenance": [],
      "collapsed_sections": [],
      "toc_visible": true
    },
    "kernelspec": {
      "name": "python3",
      "display_name": "Python 3"
    }
  },
  "cells": [
    {
      "cell_type": "markdown",
      "metadata": {
        "id": "y-yHqWfp19j1"
      },
      "source": [
        "# Reading a text file"
      ]
    },
    {
      "cell_type": "code",
      "metadata": {
        "colab": {
          "base_uri": "https://localhost:8080/"
        },
        "id": "Dnl0ukDR2Fit",
        "outputId": "c1daa8f6-06b2-4623-9983-efa3b47025f4"
      },
      "source": [
        "fn = '/content/drive/MyDrive/Projects/Physalia-courses/Python/Notebook - Colab/simple_text_file.txt'\n",
        "fo = open(fn, 'r')\n",
        "for l in fo:\n",
        "  print(l, type(l))\n",
        "fo.close()"
      ],
      "execution_count": null,
      "outputs": [
        {
          "output_type": "stream",
          "text": [
            "A quick brown fox jumps over the lazy dog <class 'str'>\n"
          ],
          "name": "stdout"
        }
      ]
    },
    {
      "cell_type": "code",
      "metadata": {
        "colab": {
          "base_uri": "https://localhost:8080/"
        },
        "id": "yUlPaH8e3MxV",
        "outputId": "a28de7c0-571d-4e64-e509-0232d01873b2"
      },
      "source": [
        "fn = '/content/drive/MyDrive/Projects/Physalia-courses/Python/Notebook - Colab/simple_text_file.txt'\n",
        "with open(fn) as fo:\n",
        "  for l in fo:\n",
        "    print(l) "
      ],
      "execution_count": null,
      "outputs": [
        {
          "output_type": "stream",
          "text": [
            "A quick brown fox jumps over the lazy dog\n"
          ],
          "name": "stdout"
        }
      ]
    },
    {
      "cell_type": "code",
      "metadata": {
        "colab": {
          "base_uri": "https://localhost:8080/"
        },
        "id": "s6jgrQpS3fX1",
        "outputId": "558cf5d1-2173-42eb-a1c6-55cb46a40c74"
      },
      "source": [
        "text = []\n",
        "fn = '/content/drive/MyDrive/Projects/Physalia-courses/Python/Notebook - Colab/another_simple_text_file.txt'\n",
        "with open(fn) as fo:\n",
        "  for l in fo:\n",
        "    text.append(l.strip())\n",
        "\n",
        "print(text)"
      ],
      "execution_count": null,
      "outputs": [
        {
          "output_type": "stream",
          "text": [
            "['Lorem ipsum dolor sit amet,', 'consectetur adipisci elit,', 'sed do eiusmod tempor incidunt ut labore et dolore magna aliqua.', 'Ut enim ad minim veniam,', 'quis nostrum exercitationem ullamco laboriosam,', 'nisi ut aliquid ex ea commodi consequatur.', 'Duis aute irure reprehenderit in voluptate velit esse cillum dolore eu fugiat nulla pariatur.', 'Excepteur sint obcaecat cupiditat non proident,', 'sunt in culpa qui officia deserunt mollit anim id est laborum.']\n"
          ],
          "name": "stdout"
        }
      ]
    },
    {
      "cell_type": "markdown",
      "metadata": {
        "id": "ERXVopLJ4uqu"
      },
      "source": [
        "# Writing a text file"
      ]
    },
    {
      "cell_type": "code",
      "metadata": {
        "id": "Yo0devDm4t_a"
      },
      "source": [
        "sentence = 'Hello World!'\n",
        "with open('/content/drive/MyDrive/Projects/Physalia-courses/Python/Notebook - Colab/my_simple_text_file.txt', 'w') as fo:\n",
        "  fo.write(sentence)"
      ],
      "execution_count": null,
      "outputs": []
    },
    {
      "cell_type": "markdown",
      "metadata": {
        "id": "bFIBSXa99cwe"
      },
      "source": [
        "# Files and directories"
      ]
    },
    {
      "cell_type": "code",
      "metadata": {
        "colab": {
          "base_uri": "https://localhost:8080/"
        },
        "id": "rapkXcP97Fj2",
        "outputId": "397f050e-7394-433e-db24-d49ff1d083a7"
      },
      "source": [
        "from os import listdir\n",
        "\n",
        "dir = '/content/drive/MyDrive/Projects/Physalia-courses/Python/Notebook - Colab/'\n",
        "listdir(dir) # gives all files and directory in a directory path"
      ],
      "execution_count": null,
      "outputs": [
        {
          "output_type": "execute_result",
          "data": {
            "text/plain": [
              "['Lesson 3: Input   Output and Functions',\n",
              " 'variable_value.png',\n",
              " 'Lesson 1: Exercises',\n",
              " 'Lesson 4: Control Structures',\n",
              " 'Lesson 1: data types, variables and data structures',\n",
              " 'Lesson 2: Operators',\n",
              " 'Lesson 2: Exercises',\n",
              " 'Untitled0.ipynb',\n",
              " 'simple_text_file.txt',\n",
              " 'another_simple_text_file.txt',\n",
              " 'my_simple_text_file.txt']"
            ]
          },
          "metadata": {
            "tags": []
          },
          "execution_count": 18
        }
      ]
    },
    {
      "cell_type": "code",
      "metadata": {
        "colab": {
          "base_uri": "https://localhost:8080/"
        },
        "id": "0Oj3wlf77YI9",
        "outputId": "01233a1e-7d92-4d08-ea64-6b4f2ad872a3"
      },
      "source": [
        "# how can we tell if a path is a file or a directory?\n",
        "\n",
        "import os\n",
        "\n",
        "dir = '/content/drive/MyDrive/Projects/Physalia-courses/Python/Notebook - Colab/'\n",
        "for file_or_dir in os.listdir(dir):\n",
        "  full_file_or_dir = os.path.join(dir, file_or_dir)\n",
        "  if os.path.isfile(full_file_or_dir):\n",
        "    print(file_or_dir, ' - FILE')\n",
        "  elif os.path.isdir(full_file_or_dir):\n",
        "    print(file_or_dir, ' - DIRECTORY')\n",
        "  else:\n",
        "    print(file_or_dir, ' - UNNOWN')"
      ],
      "execution_count": null,
      "outputs": [
        {
          "output_type": "stream",
          "text": [
            "Lesson 3: Input   Output and Functions  - FILE\n",
            "variable_value.png  - FILE\n",
            "Lesson 1: Exercises  - FILE\n",
            "Lesson 4: Control Structures  - FILE\n",
            "Lesson 1: data types, variables and data structures  - FILE\n",
            "Lesson 2: Operators  - FILE\n",
            "Lesson 2: Exercises  - FILE\n",
            "Untitled0.ipynb  - FILE\n",
            "simple_text_file.txt  - FILE\n",
            "another_simple_text_file.txt  - FILE\n",
            "my_simple_text_file.txt  - FILE\n"
          ],
          "name": "stdout"
        }
      ]
    },
    {
      "cell_type": "code",
      "metadata": {
        "colab": {
          "base_uri": "https://localhost:8080/"
        },
        "id": "vlAmfCnS59wx",
        "outputId": "e9599af1-7489-418b-f219-2a1dc8847356"
      },
      "source": [
        "# list all possible paths from a starting point\n",
        "from os import walk\n",
        "\n",
        "path = '/content/drive/MyDrive/Projects/Physalia-courses/Python/'\n",
        "for (dirpath, dirnames, filenames) in walk(path):\n",
        "    print(dirpath)\n",
        "    print(dirnames)\n",
        "    print(filenames)\n",
        "    print()"
      ],
      "execution_count": null,
      "outputs": [
        {
          "output_type": "stream",
          "text": [
            "/content/drive/MyDrive/Projects/Physalia-courses/Python/\n",
            "['Notebook - Colab', 'Slides - presentation']\n",
            "['Python Course: ideas.gdoc', 'Syllabus Python Course.gdoc', 'Python Course: Topics.gdoc', 'Concept maps.gslides', 'Learning outcomes.gsheet', 'Agenda.gsheet']\n",
            "\n",
            "/content/drive/MyDrive/Projects/Physalia-courses/Python/Notebook - Colab\n",
            "[]\n",
            "['Lesson 3: Input   Output and Functions', 'variable_value.png', 'Lesson 1: Exercises', 'Lesson 4: Control Structures', 'Lesson 1: data types, variables and data structures', 'Lesson 2: Operators', 'Lesson 2: Exercises', 'Untitled0.ipynb', 'simple_text_file.txt', 'another_simple_text_file.txt', 'my_simple_text_file.txt']\n",
            "\n",
            "/content/drive/MyDrive/Projects/Physalia-courses/Python/Slides - presentation\n",
            "[]\n",
            "['Jupyter.gslides', 'Learning Python programming by doing.gslides']\n",
            "\n"
          ],
          "name": "stdout"
        }
      ]
    },
    {
      "cell_type": "code",
      "metadata": {
        "colab": {
          "base_uri": "https://localhost:8080/"
        },
        "id": "ZUgSEvzG9GOm",
        "outputId": "99dfbfbe-0bab-410e-a40a-7cc8a619909f"
      },
      "source": [
        "import glob\n",
        "\n",
        "dir = '/content/drive/MyDrive/Projects/Physalia-courses/Python/Notebook - Colab/'\n",
        "glob.glob(dir + '*.txt')"
      ],
      "execution_count": null,
      "outputs": [
        {
          "output_type": "execute_result",
          "data": {
            "text/plain": [
              "['/content/drive/MyDrive/Projects/Physalia-courses/Python/Notebook - Colab/simple_text_file.txt',\n",
              " '/content/drive/MyDrive/Projects/Physalia-courses/Python/Notebook - Colab/another_simple_text_file.txt',\n",
              " '/content/drive/MyDrive/Projects/Physalia-courses/Python/Notebook - Colab/my_simple_text_file.txt']"
            ]
          },
          "metadata": {
            "tags": []
          },
          "execution_count": 25
        }
      ]
    },
    {
      "cell_type": "markdown",
      "metadata": {
        "id": "94JtHf929b8_"
      },
      "source": [
        "# Using REQUEST package to retrieve a remote file (or request some data)"
      ]
    },
    {
      "cell_type": "code",
      "metadata": {
        "id": "2ig_Pw5F4Wd4"
      },
      "source": [
        "import requests\n",
        "\n",
        "r = requests.get('http://api.plos.org/search?q=title:DNA')\n",
        "print(r.text)"
      ],
      "execution_count": null,
      "outputs": []
    },
    {
      "cell_type": "code",
      "metadata": {
        "id": "yD2X8xsv98yh"
      },
      "source": [
        "import json\n",
        "\n",
        "j = json.loads(r.text) # r.json()"
      ],
      "execution_count": null,
      "outputs": []
    },
    {
      "cell_type": "code",
      "metadata": {
        "colab": {
          "base_uri": "https://localhost:8080/"
        },
        "id": "b2lpMINe-IgU",
        "outputId": "79c74fd9-4f23-4753-ac9d-78d52e20ce34"
      },
      "source": [
        "type(r.text), type(j)"
      ],
      "execution_count": null,
      "outputs": [
        {
          "output_type": "execute_result",
          "data": {
            "text/plain": [
              "(str, dict)"
            ]
          },
          "metadata": {
            "tags": []
          },
          "execution_count": 75
        }
      ]
    },
    {
      "cell_type": "code",
      "metadata": {
        "id": "WzV1Pgrq99bz",
        "colab": {
          "base_uri": "https://localhost:8080/"
        },
        "outputId": "f1001b4e-54b6-4138-c357-8d1fae250e56"
      },
      "source": [
        "print('\\n'.join([a['title_display'] for a in j['response']['docs']]))"
      ],
      "execution_count": null,
      "outputs": [
        {
          "output_type": "stream",
          "text": [
            "Stability of mRNA/DNA and DNA/DNA Duplexes Affects mRNA Transcription\n",
            "DNA Topology and the Initiation of Virus DNA Packaging\n",
            "Spermine Attenuates the Action of the DNA Intercalator, Actinomycin D, on DNA Binding and the Inhibition of Transcription and DNA Replication\n",
            "DNA Display I. Sequence-Encoded Routing of DNA Populations\n",
            "DNA Damage, Homology-Directed Repair, and DNA Methylation\n",
            "Correction: Spermine Attenuates the Action of the DNA Intercalator, Actinomycin D, on DNA Binding and the Inhibition of Transcription and DNA Replication\n",
            "DNA Electric Charge Oscillations Govern Protein–DNA Recognition\n",
            "Dpb11 may function with RPA and DNA to initiate DNA replication\n",
            "Correction: DNA Damage, Homology-Directed Repair, and DNA Methylation\n",
            "Platinum nanoparticles induce damage to DNA and inhibit DNA replication\n"
          ],
          "name": "stdout"
        }
      ]
    },
    {
      "cell_type": "markdown",
      "metadata": {
        "id": "OAKbN8p2DMBA"
      },
      "source": [
        "# Examples and exercises\n"
      ]
    },
    {
      "cell_type": "code",
      "metadata": {
        "colab": {
          "base_uri": "https://localhost:8080/"
        },
        "id": "UOO6SutLy_fy",
        "outputId": "343e26eb-ced2-42ef-a63a-92f779944c74"
      },
      "source": [
        "# copy the content of this file to another file (with different name), where every word that ends with 'um' should be substituted with 'us', i.e. ipsum -> ipsus\n",
        "fn = '/content/drive/MyDrive/Projects/Physalia-courses/Python/Notebook - Colab/another_simple_text_file.txt'\n"
      ],
      "execution_count": null,
      "outputs": [
        {
          "output_type": "stream",
          "text": [
            "[{'accession': 'P21802', 'id': 'FGFR2_HUMAN', 'proteinExistence': 'Evidence at protein level', 'info': {'type': 'Swiss-Prot', 'created': '1991-05-01', 'modified': '2020-12-02', 'version': 257}, 'organism': {'taxonomy': 9606, 'names': [{'type': 'scientific', 'value': 'Homo sapiens'}, {'type': 'common', 'value': 'Human'}], 'lineage': ['Eukaryota', 'Metazoa', 'Chordata', 'Craniata', 'Vertebrata', 'Euteleostomi', 'Mammalia', 'Eutheria', 'Euarchontoglires', 'Primates', 'Haplorrhini', 'Catarrhini', 'Hominidae', 'Homo']}, 'secondaryAccession': ['B4DFC2', 'E7EVR6', 'E9PCR0', 'P18443', 'Q01742', 'Q12922', 'Q14300', 'Q14301', 'Q14302', 'Q14303', 'Q14304', 'Q14305', 'Q14672', 'Q14718', 'Q14719', 'Q1KHY5', 'Q86YI4', 'Q8IXC7', 'Q96KL9', 'Q96KM0', 'Q96KM1', 'Q96KM2', 'Q9NZU2', 'Q9NZU3', 'Q9UD01', 'Q9UD02', 'Q9UIH3', 'Q9UIH4', 'Q9UIH5', 'Q9UIH6', 'Q9UIH7', 'Q9UIH8', 'Q9UM87', 'Q9UMC6', 'Q9UNS7', 'Q9UQH7', 'Q9UQH8', 'Q9UQH9', 'Q9UQI0'], 'protein': {'recommendedName': {'fullName': {'value': 'Fibroblast growth factor receptor 2'}, 'shortName': [{'value': 'FGFR-2'}], 'ecNumber': [{'value': '2.7.10.1', 'evidences': [{'code': 'ECO:0000269', 'source': {'name': 'PubMed', 'id': '16844695', 'url': 'http://www.ncbi.nlm.nih.gov/pubmed/16844695', 'alternativeUrl': 'https://europepmc.org/abstract/MED/16844695'}}, {'code': 'ECO:0000269', 'source': {'name': 'PubMed', 'id': '18056630', 'url': 'http://www.ncbi.nlm.nih.gov/pubmed/18056630', 'alternativeUrl': 'https://europepmc.org/abstract/MED/18056630'}}, {'code': 'ECO:0000269', 'source': {'name': 'PubMed', 'id': '19410646', 'url': 'http://www.ncbi.nlm.nih.gov/pubmed/19410646', 'alternativeUrl': 'https://europepmc.org/abstract/MED/19410646'}}, {'code': 'ECO:0000269', 'source': {'name': 'PubMed', 'id': '21454610', 'url': 'http://www.ncbi.nlm.nih.gov/pubmed/21454610', 'alternativeUrl': 'https://europepmc.org/abstract/MED/21454610'}}]}]}, 'alternativeName': [{'fullName': {'value': 'K-sam'}, 'shortName': [{'value': 'KGFR'}]}, {'fullName': {'value': 'Keratinocyte growth factor receptor'}}], 'cdAntigenName': [{'value': 'CD332'}]}, 'gene': [{'name': {'value': 'FGFR2'}, 'synonyms': [{'value': 'BEK'}, {'value': 'KGFR'}, {'value': 'KSAM'}]}], 'comments': [{'type': 'FUNCTION', 'text': [{'value': 'Tyrosine-protein kinase that acts as cell-surface receptor for fibroblast growth factors and plays an essential role in the regulation of cell proliferation, differentiation, migration and apoptosis, and in the regulation of embryonic development. Required for normal embryonic patterning, trophoblast function, limb bud development, lung morphogenesis, osteogenesis and skin development. Plays an essential role in the regulation of osteoblast differentiation, proliferation and apoptosis, and is required for normal skeleton development. Promotes cell proliferation in keratinocytes and immature osteoblasts, but promotes apoptosis in differentiated osteoblasts. Phosphorylates PLCG1, FRS2 and PAK4. Ligand binding leads to the activation of several signaling cascades. Activation of PLCG1 leads to the production of the cellular signaling molecules diacylglycerol and inositol 1,4,5-trisphosphate. Phosphorylation of FRS2 triggers recruitment of GRB2, GAB1, PIK3R1 and SOS1, and mediates activation of RAS, MAPK1/ERK2, MAPK3/ERK1 and the MAP kinase signaling pathway, as well as of the AKT1 signaling pathway. FGFR2 signaling is down-regulated by ubiquitination, internalization and degradation. Mutations that lead to constitutive kinase activation or impair normal FGFR2 maturation, internalization and degradation lead to aberrant signaling. Over-expressed FGFR2 promotes activation of STAT1', 'evidences': [{'code': 'ECO:0000269', 'source': {'name': 'PubMed', 'id': '12529371', 'url': 'http://www.ncbi.nlm.nih.gov/pubmed/12529371', 'alternativeUrl': 'https://europepmc.org/abstract/MED/12529371'}}, {'code': 'ECO:0000269', 'source': {'name': 'PubMed', 'id': '15190072', 'url': 'http://www.ncbi.nlm.nih.gov/pubmed/15190072', 'alternativeUrl': 'https://europepmc.org/abstract/MED/15190072'}}, {'code': 'ECO:0000269', 'source': {'name': 'PubMed', 'id': '15629145', 'url': 'http://www.ncbi.nlm.nih.gov/pubmed/15629145', 'alternativeUrl': 'https://europepmc.org/abstract/MED/15629145'}}, {'code': 'ECO:0000269', 'source': {'name': 'PubMed', 'id': '16384934', 'url': 'http://www.ncbi.nlm.nih.gov/pubmed/16384934', 'alternativeUrl': 'https://europepmc.org/abstract/MED/16384934'}}, {'code': 'ECO:0000269', 'source': {'name': 'PubMed', 'id': '16597617', 'url': 'http://www.ncbi.nlm.nih.gov/pubmed/16597617', 'alternativeUrl': 'https://europepmc.org/abstract/MED/16597617'}}, {'code': 'ECO:0000269', 'source': {'name': 'PubMed', 'id': '17311277', 'url': 'http://www.ncbi.nlm.nih.gov/pubmed/17311277', 'alternativeUrl': 'https://europepmc.org/abstract/MED/17311277'}}, {'code': 'ECO:0000269', 'source': {'name': 'PubMed', 'id': '17623664', 'url': 'http://www.ncbi.nlm.nih.gov/pubmed/17623664', 'alternativeUrl': 'https://europepmc.org/abstract/MED/17623664'}}, {'code': 'ECO:0000269', 'source': {'name': 'PubMed', 'id': '18374639', 'url': 'http://www.ncbi.nlm.nih.gov/pubmed/18374639', 'alternativeUrl': 'https://europepmc.org/abstract/MED/18374639'}}, {'code': 'ECO:0000269', 'source': {'name': 'PubMed', 'id': '19103595', 'url': 'http://www.ncbi.nlm.nih.gov/pubmed/19103595', 'alternativeUrl': 'https://europepmc.org/abstract/MED/19103595'}}, {'code': 'ECO:0000269', 'source': {'name': 'PubMed', 'id': '19387476', 'url': 'http://www.ncbi.nlm.nih.gov/pubmed/19387476', 'alternativeUrl': 'https://europepmc.org/abstract/MED/19387476'}}, {'code': 'ECO:0000269', 'source': {'name': 'PubMed', 'id': '19410646', 'url': 'http://www.ncbi.nlm.nih.gov/pubmed/19410646', 'alternativeUrl': 'https://europepmc.org/abstract/MED/19410646'}}, {'code': 'ECO:0000269', 'source': {'name': 'PubMed', 'id': '21596750', 'url': 'http://www.ncbi.nlm.nih.gov/pubmed/21596750', 'alternativeUrl': 'https://europepmc.org/abstract/MED/21596750'}}, {'code': 'ECO:0000269', 'source': {'name': 'PubMed', 'id': '8663044', 'url': 'http://www.ncbi.nlm.nih.gov/pubmed/8663044', 'alternativeUrl': 'https://europepmc.org/abstract/MED/8663044'}}]}]}, {'type': 'CATALYTIC_ACTIVITY', 'reaction': {'name': 'ATP + L-tyrosyl-[protein] = ADP + H(+) + O-phospho-L-tyrosyl-[protein]', 'dbReferences': [{'type': 'Rhea', 'id': 'RHEA:10596'}, {'type': 'Rhea', 'id': 'RHEA-COMP:10136'}, {'type': 'Rhea', 'id': 'RHEA-COMP:10137'}, {'type': 'ChEBI', 'id': 'CHEBI:15378'}, {'type': 'ChEBI', 'id': 'CHEBI:30616'}, {'type': 'ChEBI', 'id': 'CHEBI:46858'}, {'type': 'ChEBI', 'id': 'CHEBI:82620'}, {'type': 'ChEBI', 'id': 'CHEBI:456216'}], 'ecNumber': '2.7.10.1', 'evidences': [{'code': 'ECO:0000255', 'source': {'name': 'PROSITE-ProRule', 'id': 'PRU10028', 'url': 'https://prosite.expasy.org/unirule/PRU10028'}}, {'code': 'ECO:0000269', 'source': {'name': 'PubMed', 'id': '16844695', 'url': 'http://www.ncbi.nlm.nih.gov/pubmed/16844695', 'alternativeUrl': 'https://europepmc.org/abstract/MED/16844695'}}, {'code': 'ECO:0000269', 'source': {'name': 'PubMed', 'id': '18056630', 'url': 'http://www.ncbi.nlm.nih.gov/pubmed/18056630', 'alternativeUrl': 'https://europepmc.org/abstract/MED/18056630'}}, {'code': 'ECO:0000269', 'source': {'name': 'PubMed', 'id': '19410646', 'url': 'http://www.ncbi.nlm.nih.gov/pubmed/19410646', 'alternativeUrl': 'https://europepmc.org/abstract/MED/19410646'}}, {'code': 'ECO:0000269', 'source': {'name': 'PubMed', 'id': '21454610', 'url': 'http://www.ncbi.nlm.nih.gov/pubmed/21454610', 'alternativeUrl': 'https://europepmc.org/abstract/MED/21454610'}}]}}, {'type': 'ACTIVITY_REGULATION', 'text': [{'value': 'Present in an inactive conformation in the absence of bound ligand. Ligand binding leads to dimerization and activation by autophosphorylation on tyrosine residues. Inhibited by ARQ 523 and ARQ 069; these compounds maintain the kinase in an inactive conformation and inhibit autophosphorylation', 'evidences': [{'code': 'ECO:0000269', 'source': {'name': 'PubMed', 'id': '17803937', 'url': 'http://www.ncbi.nlm.nih.gov/pubmed/17803937', 'alternativeUrl': 'https://europepmc.org/abstract/MED/17803937'}}, {'code': 'ECO:0000269', 'source': {'name': 'PubMed', 'id': '21454610', 'url': 'http://www.ncbi.nlm.nih.gov/pubmed/21454610', 'alternativeUrl': 'https://europepmc.org/abstract/MED/21454610'}}]}]}, {'type': 'SUBUNIT', 'text': [{'value': 'Monomer. Homodimer after ligand binding. Interacts predominantly with FGF1 and FGF2, but can also interact with FGF3, FGF4, FGF6, FGF7, FGF8, FGF9, FGF10, FGF17, FGF18 and FGF22 (in vitro). Ligand specificity is determined by tissue-specific expression of isoforms, and differences in the third Ig-like domain are crucial for ligand specificity. Isoform 1 has high affinity for FGF1 and FGF2, but low affinity for FGF7. Isoform 3 has high affinity for FGF1 and FGF7, and has much higher affinity for FGF7 than isoform 1 (in vitro). Affinity for fibroblast growth factors (FGFs) is increased by heparan sulfate glycosaminoglycans that function as coreceptors. Likewise, KLB increases the affinity for FGF19 and FGF21. Interacts with PLCG1, GRB2 and PAK4. Interacts with FLRT2 (By similarity)', 'evidences': [{'code': 'ECO:0000250', 'source': {'name': 'UniProtKB', 'id': 'P21803', 'url': 'https://www.uniprot.org/uniprot/P21803'}}, {'code': 'ECO:0000269', 'source': {'name': 'PubMed', 'id': '10618369', 'url': 'http://www.ncbi.nlm.nih.gov/pubmed/10618369', 'alternativeUrl': 'https://europepmc.org/abstract/MED/10618369'}}, {'code': 'ECO:0000269', 'source': {'name': 'PubMed', 'id': '10830168', 'url': 'http://www.ncbi.nlm.nih.gov/pubmed/10830168', 'alternativeUrl': 'https://europepmc.org/abstract/MED/10830168'}}, {'code': 'ECO:0000269', 'source': {'name': 'PubMed', 'id': '11069186', 'url': 'http://www.ncbi.nlm.nih.gov/pubmed/11069186', 'alternativeUrl': 'https://europepmc.org/abstract/MED/11069186'}}, {'code': 'ECO:0000269', 'source': {'name': 'PubMed', 'id': '11390973', 'url': 'http://www.ncbi.nlm.nih.gov/pubmed/11390973', 'alternativeUrl': 'https://europepmc.org/abstract/MED/11390973'}}, {'code': 'ECO:0000269', 'source': {'name': 'PubMed', 'id': '12529371', 'url': 'http://www.ncbi.nlm.nih.gov/pubmed/12529371', 'alternativeUrl': 'https://europepmc.org/abstract/MED/12529371'}}, {'code': 'ECO:0000269', 'source': {'name': 'PubMed', 'id': '12591959', 'url': 'http://www.ncbi.nlm.nih.gov/pubmed/12591959', 'alternativeUrl': 'https://europepmc.org/abstract/MED/12591959'}}, {'code': 'ECO:0000269', 'source': {'name': 'PubMed', 'id': '1309608', 'url': 'http://www.ncbi.nlm.nih.gov/pubmed/1309608', 'alternativeUrl': 'https://europepmc.org/abstract/MED/1309608'}}, {'code': 'ECO:0000269', 'source': {'name': 'PubMed', 'id': '1400433', 'url': 'http://www.ncbi.nlm.nih.gov/pubmed/1400433', 'alternativeUrl': 'https://europepmc.org/abstract/MED/1400433'}}, {'code': 'ECO:0000269', 'source': {'name': 'PubMed', 'id': '15190072', 'url': 'http://www.ncbi.nlm.nih.gov/pubmed/15190072', 'alternativeUrl': 'https://europepmc.org/abstract/MED/15190072'}}, {'code': 'ECO:0000269', 'source': {'name': 'PubMed', 'id': '15629145', 'url': 'http://www.ncbi.nlm.nih.gov/pubmed/15629145', 'alternativeUrl': 'https://europepmc.org/abstract/MED/15629145'}}, {'code': 'ECO:0000269', 'source': {'name': 'PubMed', 'id': '16384934', 'url': 'http://www.ncbi.nlm.nih.gov/pubmed/16384934', 'alternativeUrl': 'https://europepmc.org/abstract/MED/16384934'}}, {'code': 'ECO:0000269', 'source': {'name': 'PubMed', 'id': '16597617', 'url': 'http://www.ncbi.nlm.nih.gov/pubmed/16597617', 'alternativeUrl': 'https://europepmc.org/abstract/MED/16597617'}}, {'code': 'ECO:0000269', 'source': {'name': 'PubMed', 'id': '16844695', 'url': 'http://www.ncbi.nlm.nih.gov/pubmed/16844695', 'alternativeUrl': 'https://europepmc.org/abstract/MED/16844695'}}, {'code': 'ECO:0000269', 'source': {'name': 'PubMed', 'id': '17623664', 'url': 'http://www.ncbi.nlm.nih.gov/pubmed/17623664', 'alternativeUrl': 'https://europepmc.org/abstract/MED/17623664'}}, {'code': 'ECO:0000269', 'source': {'name': 'PubMed', 'id': '17803937', 'url': 'http://www.ncbi.nlm.nih.gov/pubmed/17803937', 'alternativeUrl': 'https://europepmc.org/abstract/MED/17803937'}}, {'code': 'ECO:0000269', 'source': {'name': 'PubMed', 'id': '18056630', 'url': 'http://www.ncbi.nlm.nih.gov/pubmed/18056630', 'alternativeUrl': 'https://europepmc.org/abstract/MED/18056630'}}, {'code': 'ECO:0000269', 'source': {'name': 'PubMed', 'id': '19060208', 'url': 'http://www.ncbi.nlm.nih.gov/pubmed/19060208', 'alternativeUrl': 'https://europepmc.org/abstract/MED/19060208'}}, {'code': 'ECO:0000269', 'source': {'name': 'PubMed', 'id': '19103595', 'url': 'http://www.ncbi.nlm.nih.gov/pubmed/19103595', 'alternativeUrl': 'https://europepmc.org/abstract/MED/19103595'}}, {'code': 'ECO:0000269', 'source': {'name': 'PubMed', 'id': '21454610', 'url': 'http://www.ncbi.nlm.nih.gov/pubmed/21454610', 'alternativeUrl': 'https://europepmc.org/abstract/MED/21454610'}}, {'code': 'ECO:0000269', 'source': {'name': 'PubMed', 'id': '8663044', 'url': 'http://www.ncbi.nlm.nih.gov/pubmed/8663044', 'alternativeUrl': 'https://europepmc.org/abstract/MED/8663044'}}, {'code': 'ECO:0000269', 'source': {'name': 'PubMed', 'id': '8961926', 'url': 'http://www.ncbi.nlm.nih.gov/pubmed/8961926', 'alternativeUrl': 'https://europepmc.org/abstract/MED/8961926'}}]}]}, {'type': 'INTERACTION', 'interactions': [{'accession1': 'P21802', 'accession2': 'P05230', 'gene': 'FGF1', 'interactor1': 'EBI-1028658', 'interactor2': 'EBI-698068', 'organismDiffer': False, 'experiments': 2}, {'accession1': 'P21802', 'accession2': 'P05230', 'chain2': 'PRO_0000008908', 'gene': 'FGF1', 'interactor1': 'EBI-1028658', 'interactor2': 'EBI-6880860', 'organismDiffer': False, 'experiments': 5}, {'accession1': 'P21802', 'accession2': 'O15520', 'gene': 'FGF10', 'interactor1': 'EBI-1028658', 'interactor2': 'EBI-1035684', 'organismDiffer': False, 'experiments': 2}, {'accession1': 'P21802', 'accession2': 'P09038', 'gene': 'FGF2', 'interactor1': 'EBI-1028658', 'interactor2': 'EBI-977447', 'organismDiffer': False, 'experiments': 3}, {'accession1': 'P21802', 'accession2': 'P09038-2', 'gene': 'FGF2', 'interactor1': 'EBI-1028658', 'interactor2': 'EBI-11122080', 'organismDiffer': False, 'experiments': 2}, {'accession1': 'P21802', 'accession2': 'P62993', 'gene': 'GRB2', 'interactor1': 'EBI-1028658', 'interactor2': 'EBI-401755', 'organismDiffer': False, 'experiments': 5}, {'accession1': 'P21802', 'accession2': 'P03968', 'gene': 'FGF1', 'interactor1': 'EBI-1028658', 'interactor2': 'EBI-6358090', 'organismDiffer': True, 'experiments': 2}, {'accession1': 'P21802-1', 'accession2': 'P05230-1', 'gene': 'FGF1', 'interactor1': 'EBI-15489960', 'interactor2': 'EBI-15489950', 'organismDiffer': False, 'experiments': 2}, {'accession1': 'P21802-1', 'accession2': 'P09038', 'gene': 'FGF2', 'interactor1': 'EBI-15489960', 'interactor2': 'EBI-977447', 'organismDiffer': False, 'experiments': 2}, {'accession1': 'P21802-1', 'accession2': 'P21802-1', 'gene': 'FGFR2', 'interactor1': 'EBI-15489960', 'interactor2': 'EBI-15489960', 'organismDiffer': False, 'experiments': 3}, {'accession1': 'P21802-1', 'accession2': 'P19174', 'gene': 'PLCG1', 'interactor1': 'EBI-15489960', 'interactor2': 'EBI-79387', 'organismDiffer': False, 'experiments': 9}, {'accession1': 'P21802-3', 'accession2': 'P21781', 'gene': 'FGF7', 'interactor1': 'EBI-6354683', 'interactor2': 'EBI-3937699', 'organismDiffer': False, 'experiments': 2}, {'accession1': 'P21802-3', 'accession2': 'P03968', 'gene': 'FGF1', 'interactor1': 'EBI-6354683', 'interactor2': 'EBI-6358090', 'organismDiffer': True, 'experiments': 2}]}, {'type': 'SUBCELLULAR_LOCATION', 'locations': [{'location': {'value': 'Cell membrane'}, 'topology': {'value': 'Single-pass type I membrane protein'}}, {'location': {'value': 'Golgi apparatus'}}, {'location': {'value': 'Cytoplasmic vesicle'}}], 'text': [{'value': 'Detected on osteoblast plasma membrane lipid rafts. After ligand binding, the activated receptor is rapidly internalized and degraded'}]}, {'type': 'SUBCELLULAR_LOCATION', 'molecule': 'Isoform 1', 'locations': [{'location': {'value': 'Cell membrane'}, 'topology': {'value': 'Single-pass type I membrane protein'}}], 'text': [{'value': 'After ligand binding, the activated receptor is rapidly internalized and degraded'}]}, {'type': 'SUBCELLULAR_LOCATION', 'molecule': 'Isoform 3', 'locations': [{'location': {'value': 'Cell membrane'}, 'topology': {'value': 'Single-pass type I membrane protein'}}], 'text': [{'value': 'After ligand binding, the activated receptor is rapidly internalized and degraded'}]}, {'type': 'SUBCELLULAR_LOCATION', 'molecule': 'Isoform 8', 'locations': [{'location': {'value': 'Secreted'}}]}, {'type': 'SUBCELLULAR_LOCATION', 'molecule': 'Isoform 13', 'locations': [{'location': {'value': 'Secreted'}}]}, {'type': 'ALTERNATIVE_PRODUCTS', 'event': ['Alternative splicing'], 'isoforms': [{'ids': ['P21802-1'], 'name': {'value': '1'}, 'synonyms': [{'value': 'BEK'}, {'value': 'FGFR2IIIc'}], 'sequenceStatus': 'displayed'}, {'ids': ['P21802-2'], 'name': {'value': '2'}, 'synonyms': [{'value': 'Short'}], 'sequenceStatus': 'described', 'sequence': ['VSP_002978']}, {'ids': ['P21802-3'], 'name': {'value': '3'}, 'synonyms': [{'value': 'BFR-1'}, {'value': 'FGFR2IIIb'}, {'value': 'KGFR'}], 'sequenceStatus': 'described', 'sequence': ['VSP_002969', 'VSP_002970', 'VSP_002971', 'VSP_002972']}, {'ids': ['P21802-4'], 'name': {'value': '4'}, 'synonyms': [{'value': 'K-sam'}], 'sequenceStatus': 'described', 'sequence': ['VSP_002964', 'VSP_002969', 'VSP_002970', 'VSP_002971', 'VSP_002972', 'VSP_002975', 'VSP_002976']}, {'ids': ['P21802-5'], 'name': {'value': '5'}, 'synonyms': [{'value': 'K-sam-I'}, {'value': 'BEK'}, {'value': 'IgIIIc'}], 'sequenceStatus': 'described', 'sequence': ['VSP_002975']}, {'ids': ['P21802-6'], 'name': {'value': '6'}, 'synonyms': [{'value': 'K-sam-IIC2'}], 'sequenceStatus': 'described', 'sequence': ['VSP_002975', 'VSP_002984']}, {'ids': ['P21802-8'], 'name': {'value': '7'}, 'synonyms': [{'value': 'K-sam-IIC3'}], 'sequenceStatus': 'described', 'sequence': ['VSP_002975', 'VSP_002978']}, {'ids': ['P21802-14'], 'name': {'value': '8'}, 'synonyms': [{'value': 'K-sam-IV'}, {'value': 'Soluble KGFR'}], 'sequenceStatus': 'described', 'sequence': ['VSP_002965', 'VSP_002966']}, {'ids': ['P21802-15'], 'name': {'value': '9'}, 'synonyms': [{'value': 'K-sam-III'}], 'sequenceStatus': 'described', 'sequence': ['VSP_002968']}, {'ids': ['P21802-16'], 'name': {'value': '10'}, 'synonyms': [{'value': 'TK14'}], 'sequenceStatus': 'described', 'sequence': ['VSP_002967', 'VSP_002975']}, {'ids': ['P21802-17'], 'name': {'value': '11'}, 'sequenceStatus': 'described', 'sequence': ['VSP_002969', 'VSP_002970', 'VSP_002971', 'VSP_002972', 'VSP_002978']}, {'ids': ['P21802-18'], 'name': {'value': '12'}, 'synonyms': [{'value': 'K-sam-IIC1'}, {'value': 'KGFR'}, {'value': 'IgIIIb'}], 'sequenceStatus': 'described', 'sequence': ['VSP_002969', 'VSP_002970', 'VSP_002971', 'VSP_002972', 'VSP_002975']}, {'ids': ['P21802-19'], 'name': {'value': '13'}, 'synonyms': [{'value': 'Soluble KGFR'}], 'sequenceStatus': 'described', 'sequence': ['VSP_002969', 'VSP_002970', 'VSP_002971', 'VSP_002972', 'VSP_002973', 'VSP_002974']}, {'ids': ['P21802-20'], 'name': {'value': '14'}, 'sequenceStatus': 'described', 'sequence': ['VSP_019608', 'VSP_019609']}, {'ids': ['P21802-21'], 'name': {'value': '15'}, 'sequenceStatus': 'described', 'sequence': ['VSP_002964', 'VSP_041915']}, {'ids': ['P21802-22'], 'name': {'value': '16'}, 'sequenceStatus': 'described', 'sequence': ['VSP_002964', 'VSP_002969', 'VSP_002970', 'VSP_002971', 'VSP_002972', 'VSP_002978']}, {'ids': ['P21802-23'], 'name': {'value': '17'}, 'sequenceStatus': 'described', 'sequence': ['VSP_041914']}]}, {'type': 'DOMAIN', 'text': [{'value': 'The second and third Ig-like domains directly interact with fibroblast growth factors (FGF) and heparan sulfate proteoglycans. Alternative splicing events affecting the third Ig-like domain are crucial for ligand selectivity', 'evidences': [{'code': 'ECO:0000269', 'source': {'name': 'PubMed', 'id': '1309608', 'url': 'http://www.ncbi.nlm.nih.gov/pubmed/1309608', 'alternativeUrl': 'https://europepmc.org/abstract/MED/1309608'}}, {'code': 'ECO:0000269', 'source': {'name': 'PubMed', 'id': '1400433', 'url': 'http://www.ncbi.nlm.nih.gov/pubmed/1400433', 'alternativeUrl': 'https://europepmc.org/abstract/MED/1400433'}}, {'code': 'ECO:0000269', 'source': {'name': 'PubMed', 'id': '8961926', 'url': 'http://www.ncbi.nlm.nih.gov/pubmed/8961926', 'alternativeUrl': 'https://europepmc.org/abstract/MED/8961926'}}]}]}, {'type': 'PTM', 'text': [{'value': 'Autophosphorylated. Binding of FGF family members together with heparan sulfate proteoglycan or heparin promotes receptor dimerization and autophosphorylation on several tyrosine residues. Autophosphorylation occurs in trans between the two FGFR molecules present in the dimer. Phosphorylation at Tyr-769 is essential for interaction with PLCG1', 'evidences': [{'code': 'ECO:0000269', 'source': {'name': 'PubMed', 'id': '15629145', 'url': 'http://www.ncbi.nlm.nih.gov/pubmed/15629145', 'alternativeUrl': 'https://europepmc.org/abstract/MED/15629145'}}, {'code': 'ECO:0000269', 'source': {'name': 'PubMed', 'id': '19060208', 'url': 'http://www.ncbi.nlm.nih.gov/pubmed/19060208', 'alternativeUrl': 'https://europepmc.org/abstract/MED/19060208'}}]}]}, {'type': 'PTM', 'text': [{'value': 'N-glycosylated in the endoplasmic reticulum. The N-glycan chains undergo further maturation to an Endo H-resistant form in the Golgi apparatus', 'evidences': [{'code': 'ECO:0000269', 'source': {'name': 'PubMed', 'id': '16844695', 'url': 'http://www.ncbi.nlm.nih.gov/pubmed/16844695', 'alternativeUrl': 'https://europepmc.org/abstract/MED/16844695'}}, {'code': 'ECO:0000269', 'source': {'name': 'PubMed', 'id': '17311277', 'url': 'http://www.ncbi.nlm.nih.gov/pubmed/17311277', 'alternativeUrl': 'https://europepmc.org/abstract/MED/17311277'}}]}]}, {'type': 'PTM', 'text': [{'value': 'Ubiquitinated. FGFR2 is rapidly ubiquitinated after autophosphorylation, leading to internalization and degradation. Subject to degradation both in lysosomes and by the proteasome', 'evidences': [{'code': 'ECO:0000269', 'source': {'name': 'PubMed', 'id': '15190072', 'url': 'http://www.ncbi.nlm.nih.gov/pubmed/15190072', 'alternativeUrl': 'https://europepmc.org/abstract/MED/15190072'}}, {'code': 'ECO:0000269', 'source': {'name': 'PubMed', 'id': '16844695', 'url': 'http://www.ncbi.nlm.nih.gov/pubmed/16844695', 'alternativeUrl': 'https://europepmc.org/abstract/MED/16844695'}}, {'code': 'ECO:0000269', 'source': {'name': 'PubMed', 'id': '21596750', 'url': 'http://www.ncbi.nlm.nih.gov/pubmed/21596750', 'alternativeUrl': 'https://europepmc.org/abstract/MED/21596750'}}]}]}, {'type': 'DISEASE', 'diseaseId': 'Crouzon syndrome', 'acronym': 'CS', 'dbReference': {'type': 'MIM', 'id': '123500'}, 'description': {'value': 'An autosomal dominant syndrome characterized by craniosynostosis, hypertelorism, exophthalmos and external strabismus, parrot-beaked nose, short upper lip, hypoplastic maxilla, and a relative mandibular prognathism.', 'evidences': [{'code': 'ECO:0000269', 'source': {'name': 'PubMed', 'id': '10574673', 'url': 'http://www.ncbi.nlm.nih.gov/pubmed/10574673', 'alternativeUrl': 'https://europepmc.org/abstract/MED/10574673'}}, {'code': 'ECO:0000269', 'source': {'name': 'PubMed', 'id': '11173845', 'url': 'http://www.ncbi.nlm.nih.gov/pubmed/11173845', 'alternativeUrl': 'https://europepmc.org/abstract/MED/11173845'}}, {'code': 'ECO:0000269', 'source': {'name': 'PubMed', 'id': '11380921', 'url': 'http://www.ncbi.nlm.nih.gov/pubmed/11380921', 'alternativeUrl': 'https://europepmc.org/abstract/MED/11380921'}}, {'code': 'ECO:0000269', 'source': {'name': 'PubMed', 'id': '11781872', 'url': 'http://www.ncbi.nlm.nih.gov/pubmed/11781872', 'alternativeUrl': 'https://europepmc.org/abstract/MED/11781872'}}, {'code': 'ECO:0000269', 'source': {'name': 'PubMed', 'id': '17803937', 'url': 'http://www.ncbi.nlm.nih.gov/pubmed/17803937', 'alternativeUrl': 'https://europepmc.org/abstract/MED/17803937'}}, {'code': 'ECO:0000269', 'source': {'name': 'PubMed', 'id': '7581378', 'url': 'http://www.ncbi.nlm.nih.gov/pubmed/7581378', 'alternativeUrl': 'https://europepmc.org/abstract/MED/7581378'}}, {'code': 'ECO:0000269', 'source': {'name': 'PubMed', 'id': '7655462', 'url': 'http://www.ncbi.nlm.nih.gov/pubmed/7655462', 'alternativeUrl': 'https://europepmc.org/abstract/MED/7655462'}}, {'code': 'ECO:0000269', 'source': {'name': 'PubMed', 'id': '7874170', 'url': 'http://www.ncbi.nlm.nih.gov/pubmed/7874170', 'alternativeUrl': 'https://europepmc.org/abstract/MED/7874170'}}, {'code': 'ECO:0000269', 'source': {'name': 'PubMed', 'id': '7987400', 'url': 'http://www.ncbi.nlm.nih.gov/pubmed/7987400', 'alternativeUrl': 'https://europepmc.org/abstract/MED/7987400'}}, {'code': 'ECO:0000269', 'source': {'name': 'PubMed', 'id': '8528214', 'url': 'http://www.ncbi.nlm.nih.gov/pubmed/8528214', 'alternativeUrl': 'https://europepmc.org/abstract/MED/8528214'}}, {'code': 'ECO:0000269', 'source': {'name': 'PubMed', 'id': '8644708', 'url': 'http://www.ncbi.nlm.nih.gov/pubmed/8644708', 'alternativeUrl': 'https://europepmc.org/abstract/MED/8644708'}}, {'code': 'ECO:0000269', 'source': {'name': 'PubMed', 'id': '8946174', 'url': 'http://www.ncbi.nlm.nih.gov/pubmed/8946174', 'alternativeUrl': 'https://europepmc.org/abstract/MED/8946174'}}, {'code': 'ECO:0000269', 'source': {'name': 'PubMed', 'id': '8956050', 'url': 'http://www.ncbi.nlm.nih.gov/pubmed/8956050', 'alternativeUrl': 'https://europepmc.org/abstract/MED/8956050'}}, {'code': 'ECO:0000269', 'source': {'name': 'PubMed', 'id': '9152842', 'url': 'http://www.ncbi.nlm.nih.gov/pubmed/9152842', 'alternativeUrl': 'https://europepmc.org/abstract/MED/9152842'}}, {'code': 'ECO:0000269', 'source': {'name': 'PubMed', 'id': '9521581', 'url': 'http://www.ncbi.nlm.nih.gov/pubmed/9521581', 'alternativeUrl': 'https://europepmc.org/abstract/MED/9521581'}}, {'code': 'ECO:0000269', 'source': {'name': 'PubMed', 'id': '9677057', 'url': 'http://www.ncbi.nlm.nih.gov/pubmed/9677057', 'alternativeUrl': 'https://europepmc.org/abstract/MED/9677057'}}, {'code': 'ECO:0000269', 'source': {'name': 'Citation', 'id': 'Ref.10', 'url': 'https://www.uniprot.org/uniprot/null#ref10'}}]}, 'text': [{'value': 'The disease is caused by mutations affecting the gene represented in this entry'}]}, {'type': 'DISEASE', 'diseaseId': 'Jackson-Weiss syndrome', 'acronym': 'JWS', 'dbReference': {'type': 'MIM', 'id': '123150'}, 'description': {'value': 'An autosomal dominant craniosynostosis syndrome characterized by craniofacial abnormalities and abnormality of the feet: broad great toes with medial deviation and tarsal-metatarsal coalescence.', 'evidences': [{'code': 'ECO:0000269', 'source': {'name': 'PubMed', 'id': '7874170', 'url': 'http://www.ncbi.nlm.nih.gov/pubmed/7874170', 'alternativeUrl': 'https://europepmc.org/abstract/MED/7874170'}}, {'code': 'ECO:0000269', 'source': {'name': 'PubMed', 'id': '8528214', 'url': 'http://www.ncbi.nlm.nih.gov/pubmed/8528214', 'alternativeUrl': 'https://europepmc.org/abstract/MED/8528214'}}, {'code': 'ECO:0000269', 'source': {'name': 'PubMed', 'id': '8644708', 'url': 'http://www.ncbi.nlm.nih.gov/pubmed/8644708', 'alternativeUrl': 'https://europepmc.org/abstract/MED/8644708'}}, {'code': 'ECO:0000269', 'source': {'name': 'PubMed', 'id': '9385368', 'url': 'http://www.ncbi.nlm.nih.gov/pubmed/9385368', 'alternativeUrl': 'https://europepmc.org/abstract/MED/9385368'}}, {'code': 'ECO:0000269', 'source': {'name': 'PubMed', 'id': '9677057', 'url': 'http://www.ncbi.nlm.nih.gov/pubmed/9677057', 'alternativeUrl': 'https://europepmc.org/abstract/MED/9677057'}}]}, 'text': [{'value': 'The disease is caused by mutations affecting the gene represented in this entry'}]}, {'type': 'DISEASE', 'diseaseId': 'Apert syndrome', 'acronym': 'APRS', 'dbReference': {'type': 'MIM', 'id': '101200'}, 'description': {'value': 'A syndrome characterized by facio-cranio-synostosis, osseous and membranous syndactyly of the four extremities, and midface hypoplasia. The craniosynostosis is bicoronal and results in acrocephaly of brachysphenocephalic type. Syndactyly of the fingers and toes may be total (mitten hands and sock feet) or partial affecting the second, third, and fourth digits. Intellectual deficit is frequent and often severe, usually being associated with cerebral malformations.', 'evidences': [{'code': 'ECO:0000269', 'source': {'name': 'PubMed', 'id': '11390973', 'url': 'http://www.ncbi.nlm.nih.gov/pubmed/11390973', 'alternativeUrl': 'https://europepmc.org/abstract/MED/11390973'}}, {'code': 'ECO:0000269', 'source': {'name': 'PubMed', 'id': '11781872', 'url': 'http://www.ncbi.nlm.nih.gov/pubmed/11781872', 'alternativeUrl': 'https://europepmc.org/abstract/MED/11781872'}}, {'code': 'ECO:0000269', 'source': {'name': 'PubMed', 'id': '15190072', 'url': 'http://www.ncbi.nlm.nih.gov/pubmed/15190072', 'alternativeUrl': 'https://europepmc.org/abstract/MED/15190072'}}, {'code': 'ECO:0000269', 'source': {'name': 'PubMed', 'id': '7668257', 'url': 'http://www.ncbi.nlm.nih.gov/pubmed/7668257', 'alternativeUrl': 'https://europepmc.org/abstract/MED/7668257'}}, {'code': 'ECO:0000269', 'source': {'name': 'PubMed', 'id': '7719344', 'url': 'http://www.ncbi.nlm.nih.gov/pubmed/7719344', 'alternativeUrl': 'https://europepmc.org/abstract/MED/7719344'}}, {'code': 'ECO:0000269', 'source': {'name': 'PubMed', 'id': '9002682', 'url': 'http://www.ncbi.nlm.nih.gov/pubmed/9002682', 'alternativeUrl': 'https://europepmc.org/abstract/MED/9002682'}}, {'code': 'ECO:0000269', 'source': {'name': 'PubMed', 'id': '9452027', 'url': 'http://www.ncbi.nlm.nih.gov/pubmed/9452027', 'alternativeUrl': 'https://europepmc.org/abstract/MED/9452027'}}, {'code': 'ECO:0000269', 'source': {'name': 'PubMed', 'id': '9677057', 'url': 'http://www.ncbi.nlm.nih.gov/pubmed/9677057', 'alternativeUrl': 'https://europepmc.org/abstract/MED/9677057'}}]}, 'text': [{'value': 'The disease is caused by mutations affecting the gene represented in this entry'}]}, {'type': 'DISEASE', 'diseaseId': 'Pfeiffer syndrome', 'acronym': 'PS', 'dbReference': {'type': 'MIM', 'id': '101600'}, 'description': {'value': 'A syndrome characterized by the association of craniosynostosis, broad and deviated thumbs and big toes, and partial syndactyly of the fingers and toes. Three subtypes are known: mild autosomal dominant form (type 1); cloverleaf skull, elbow ankylosis, early death, sporadic (type 2); craniosynostosis, early demise, sporadic (type 3).', 'evidences': [{'code': 'ECO:0000269', 'source': {'name': 'PubMed', 'id': '10394936', 'url': 'http://www.ncbi.nlm.nih.gov/pubmed/10394936', 'alternativeUrl': 'https://europepmc.org/abstract/MED/10394936'}}, {'code': 'ECO:0000269', 'source': {'name': 'PubMed', 'id': '10945669', 'url': 'http://www.ncbi.nlm.nih.gov/pubmed/10945669', 'alternativeUrl': 'https://europepmc.org/abstract/MED/10945669'}}, {'code': 'ECO:0000269', 'source': {'name': 'PubMed', 'id': '11173845', 'url': 'http://www.ncbi.nlm.nih.gov/pubmed/11173845', 'alternativeUrl': 'https://europepmc.org/abstract/MED/11173845'}}, {'code': 'ECO:0000269', 'source': {'name': 'PubMed', 'id': '11781872', 'url': 'http://www.ncbi.nlm.nih.gov/pubmed/11781872', 'alternativeUrl': 'https://europepmc.org/abstract/MED/11781872'}}, {'code': 'ECO:0000269', 'source': {'name': 'PubMed', 'id': '16844695', 'url': 'http://www.ncbi.nlm.nih.gov/pubmed/16844695', 'alternativeUrl': 'https://europepmc.org/abstract/MED/16844695'}}, {'code': 'ECO:0000269', 'source': {'name': 'PubMed', 'id': '17803937', 'url': 'http://www.ncbi.nlm.nih.gov/pubmed/17803937', 'alternativeUrl': 'https://europepmc.org/abstract/MED/17803937'}}, {'code': 'ECO:0000269', 'source': {'name': 'PubMed', 'id': '7719333', 'url': 'http://www.ncbi.nlm.nih.gov/pubmed/7719333', 'alternativeUrl': 'https://europepmc.org/abstract/MED/7719333'}}, {'code': 'ECO:0000269', 'source': {'name': 'PubMed', 'id': '7719345', 'url': 'http://www.ncbi.nlm.nih.gov/pubmed/7719345', 'alternativeUrl': 'https://europepmc.org/abstract/MED/7719345'}}, {'code': 'ECO:0000269', 'source': {'name': 'PubMed', 'id': '8644708', 'url': 'http://www.ncbi.nlm.nih.gov/pubmed/8644708', 'alternativeUrl': 'https://europepmc.org/abstract/MED/8644708'}}, {'code': 'ECO:0000269', 'source': {'name': 'PubMed', 'id': '9002682', 'url': 'http://www.ncbi.nlm.nih.gov/pubmed/9002682', 'alternativeUrl': 'https://europepmc.org/abstract/MED/9002682'}}, {'code': 'ECO:0000269', 'source': {'name': 'PubMed', 'id': '9150725', 'url': 'http://www.ncbi.nlm.nih.gov/pubmed/9150725', 'alternativeUrl': 'https://europepmc.org/abstract/MED/9150725'}}, {'code': 'ECO:0000269', 'source': {'name': 'PubMed', 'id': '9693549', 'url': 'http://www.ncbi.nlm.nih.gov/pubmed/9693549', 'alternativeUrl': 'https://europepmc.org/abstract/MED/9693549'}}, {'code': 'ECO:0000269', 'source': {'name': 'PubMed', 'id': '9719378', 'url': 'http://www.ncbi.nlm.nih.gov/pubmed/9719378', 'alternativeUrl': 'https://europepmc.org/abstract/MED/9719378'}}]}, 'text': [{'value': 'The disease is caused by mutations affecting the gene represented in this entry'}]}, {'type': 'DISEASE', 'diseaseId': 'Beare-Stevenson cutis gyrata syndrome', 'acronym': 'BSTVS', 'dbReference': {'type': 'MIM', 'id': '123790'}, 'description': {'value': 'An autosomal dominant disease characterized by craniofacial anomalies, particularly craniosynostosis, and ear defects, cutis gyrata, acanthosis nigricans, anogenital anomalies, skin tags, and prominent umbilical stump. The skin furrows have a corrugated appearance and are widespread. Cutis gyrata variably affects the scalp, forehead, face, preauricular area, neck, trunk, hands, and feet.', 'evidences': [{'code': 'ECO:0000269', 'source': {'name': 'PubMed', 'id': '12000365', 'url': 'http://www.ncbi.nlm.nih.gov/pubmed/12000365', 'alternativeUrl': 'https://europepmc.org/abstract/MED/12000365'}}, {'code': 'ECO:0000269', 'source': {'name': 'PubMed', 'id': '8696350', 'url': 'http://www.ncbi.nlm.nih.gov/pubmed/8696350', 'alternativeUrl': 'https://europepmc.org/abstract/MED/8696350'}}]}, 'text': [{'value': 'The disease is caused by mutations affecting the gene represented in this entry'}]}, {'type': 'DISEASE', 'diseaseId': 'Familial scaphocephaly syndrome', 'acronym': 'FSPC', 'dbReference': {'type': 'MIM', 'id': '609579'}, 'description': {'value': 'An autosomal dominant craniosynostosis syndrome characterized by scaphocephaly, macrocephaly, hypertelorism, maxillary retrusion, and mild intellectual disability. Scaphocephaly is the most common of the craniosynostosis conditions and is characterized by a long, narrow head. It is due to premature fusion of the sagittal suture or from external deformation.', 'evidences': [{'code': 'ECO:0000269', 'source': {'name': 'PubMed', 'id': '16061565', 'url': 'http://www.ncbi.nlm.nih.gov/pubmed/16061565', 'alternativeUrl': 'https://europepmc.org/abstract/MED/16061565'}}, {'code': 'ECO:0000269', 'source': {'name': 'PubMed', 'id': '17803937', 'url': 'http://www.ncbi.nlm.nih.gov/pubmed/17803937', 'alternativeUrl': 'https://europepmc.org/abstract/MED/17803937'}}]}, 'text': [{'value': 'The disease is caused by mutations affecting the gene represented in this entry'}]}, {'type': 'DISEASE', 'diseaseId': 'Lacrimo-auriculo-dento-digital syndrome', 'acronym': 'LADDS', 'dbReference': {'type': 'MIM', 'id': '149730'}, 'description': {'value': 'An autosomal dominant ectodermal dysplasia, a heterogeneous group of disorders due to abnormal development of two or more ectodermal structures. Lacrimo-auriculo-dento-digital syndrome is characterized by aplastic/hypoplastic lacrimal and salivary glands and ducts, cup-shaped ears, hearing loss, hypodontia and enamel hypoplasia, and distal limb segments anomalies. In addition to these cardinal features, facial dysmorphism, malformations of the kidney and respiratory system and abnormal genitalia have been reported. Craniosynostosis and severe syndactyly are not observed.', 'evidences': [{'code': 'ECO:0000269', 'source': {'name': 'PubMed', 'id': '16501574', 'url': 'http://www.ncbi.nlm.nih.gov/pubmed/16501574', 'alternativeUrl': 'https://europepmc.org/abstract/MED/16501574'}}, {'code': 'ECO:0000269', 'source': {'name': 'PubMed', 'id': '18056630', 'url': 'http://www.ncbi.nlm.nih.gov/pubmed/18056630', 'alternativeUrl': 'https://europepmc.org/abstract/MED/18056630'}}]}, 'text': [{'value': 'The disease is caused by mutations affecting the gene represented in this entry'}]}, {'type': 'DISEASE', 'diseaseId': 'Antley-Bixler syndrome, without genital anomalies or disordered steroidogenesis', 'acronym': 'ABS2', 'dbReference': {'type': 'MIM', 'id': '207410'}, 'description': {'value': 'A rare syndrome characterized by craniosynostosis, radiohumeral synostosis present from the perinatal period, midface hypoplasia, choanal stenosis or atresia, femoral bowing and multiple joint contractures. Arachnodactyly and/or camptodactyly have also been reported.', 'evidences': [{'code': 'ECO:0000269', 'source': {'name': 'PubMed', 'id': '10633130', 'url': 'http://www.ncbi.nlm.nih.gov/pubmed/10633130', 'alternativeUrl': 'https://europepmc.org/abstract/MED/10633130'}}]}, 'text': [{'value': 'The disease is caused by mutations affecting the gene represented in this entry'}]}, {'type': 'DISEASE', 'diseaseId': 'Bent bone dysplasia syndrome', 'acronym': 'BBDS', 'dbReference': {'type': 'MIM', 'id': '614592'}, 'description': {'value': 'A perinatal lethal skeletal dysplasia characterized by poor mineralization of the calvarium, craniosynostosis, dysmorphic facial features, prenatal teeth, hypoplastic pubis and clavicles, osteopenia, and bent long bones. Dysmorphic facial features included low-set ears, hypertelorism, midface hypoplasia, prematurely erupted fetal teeth, and micrognathia.', 'evidences': [{'code': 'ECO:0000269', 'source': {'name': 'PubMed', 'id': '22387015', 'url': 'http://www.ncbi.nlm.nih.gov/pubmed/22387015', 'alternativeUrl': 'https://europepmc.org/abstract/MED/22387015'}}]}, 'text': [{'value': 'The disease is caused by mutations affecting the gene represented in this entry'}]}, {'type': 'DISEASE', 'diseaseId': 'Saethre-Chotzen syndrome', 'acronym': 'SCS', 'dbReference': {'type': 'MIM', 'id': '101400'}, 'description': {'value': 'A craniosynostosis syndrome characterized by coronal synostosis, brachycephaly, low frontal hairline, facial asymmetry, hypertelorism, broad halluces, and clinodactyly.', 'evidences': [{'code': 'ECO:0000269', 'source': {'name': 'PubMed', 'id': '9585583', 'url': 'http://www.ncbi.nlm.nih.gov/pubmed/9585583', 'alternativeUrl': 'https://europepmc.org/abstract/MED/9585583'}}]}, 'text': [{'value': 'The disease is caused by mutations affecting the gene represented in this entry'}]}, {'type': 'SIMILARITY', 'text': [{'value': 'Belongs to the protein kinase superfamily. Tyr protein kinase family. Fibroblast growth factor receptor subfamily', 'evidences': [{'code': 'ECO:0000255', 'source': {'name': 'PROSITE-ProRule', 'id': 'PRU00159', 'url': 'https://prosite.expasy.org/unirule/PRU00159'}}]}]}, {'type': 'SEQUENCE_CAUTION', 'conflictType': 'MISCELLANEOUS_DISCREPANCY', 'sequence': 'BAA89296.1', 'text': 'Contaminating sequence. Somatic variant that appeared in a cancer cell line as a result of genome instability.', 'evidences': [{'code': 'ECO:0000305', 'source': {'name': 'PubMed', 'id': '10626794', 'url': 'http://www.ncbi.nlm.nih.gov/pubmed/10626794', 'alternativeUrl': 'https://europepmc.org/abstract/MED/10626794'}}]}, {'type': 'SEQUENCE_CAUTION', 'conflictType': 'MISCELLANEOUS_DISCREPANCY', 'sequence': 'BAA89297.1', 'text': 'Contaminating sequence. Somatic variant that appeared in a cancer cell line as a result of genome instability.', 'evidences': [{'code': 'ECO:0000305', 'source': {'name': 'PubMed', 'id': '10626794', 'url': 'http://www.ncbi.nlm.nih.gov/pubmed/10626794', 'alternativeUrl': 'https://europepmc.org/abstract/MED/10626794'}}]}, {'type': 'SEQUENCE_CAUTION', 'conflictType': 'MISCELLANEOUS_DISCREPANCY', 'sequence': 'BAA89298.1', 'text': 'Contaminating sequence. Somatic variant that appeared in a cancer cell line as a result of genome instability.', 'evidences': [{'code': 'ECO:0000305', 'source': {'name': 'PubMed', 'id': '10626794', 'url': 'http://www.ncbi.nlm.nih.gov/pubmed/10626794', 'alternativeUrl': 'https://europepmc.org/abstract/MED/10626794'}}]}, {'type': 'SEQUENCE_CAUTION', 'conflictType': 'MISCELLANEOUS_DISCREPANCY', 'sequence': 'BAA89299.1', 'text': 'Contaminating sequence. Somatic variant that appeared in a cancer cell line as a result of genome instability.', 'evidences': [{'code': 'ECO:0000305', 'source': {'name': 'PubMed', 'id': '10626794', 'url': 'http://www.ncbi.nlm.nih.gov/pubmed/10626794', 'alternativeUrl': 'https://europepmc.org/abstract/MED/10626794'}}]}, {'type': 'SEQUENCE_CAUTION', 'conflictType': 'MISCELLANEOUS_DISCREPANCY', 'sequence': 'BAA89300.1', 'text': 'Contaminating sequence. Somatic variant that appeared in a cancer cell line as a result of genome instability.', 'evidences': [{'code': 'ECO:0000305', 'source': {'name': 'PubMed', 'id': '10626794', 'url': 'http://www.ncbi.nlm.nih.gov/pubmed/10626794', 'alternativeUrl': 'https://europepmc.org/abstract/MED/10626794'}}]}, {'type': 'SEQUENCE_CAUTION', 'conflictType': 'MISCELLANEOUS_DISCREPANCY', 'sequence': 'BAA89301.1', 'text': 'Contaminating sequence. Somatic variant that appeared in a cancer cell line as a result of genome instability.', 'evidences': [{'code': 'ECO:0000305', 'source': {'name': 'PubMed', 'id': '10626794', 'url': 'http://www.ncbi.nlm.nih.gov/pubmed/10626794', 'alternativeUrl': 'https://europepmc.org/abstract/MED/10626794'}}]}, {'type': 'SEQUENCE_CAUTION', 'conflictType': 'ERRONEOUS_INITIATION', 'sequence': 'BAG57383.1', 'text': 'Extended N-terminus.', 'evidences': [{'code': 'ECO:0000305'}]}, {'type': 'WEBRESOURCE', 'name': 'Atlas of Genetics and Cytogenetics in Oncology and Haematology', 'url': 'http://atlasgeneticsoncology.org/Genes/FGFR2ID40570ch10q26.html'}, {'type': 'WEBRESOURCE', 'name': 'NIEHS-SNPs', 'url': 'http://egp.gs.washington.edu/data/fgfr2/'}], 'features': [{'type': 'SIGNAL', 'category': 'MOLECULE_PROCESSING', 'description': '', 'begin': '1', 'end': '21', 'molecule': '', 'evidences': [{'code': 'ECO:0000255'}]}, {'type': 'CHAIN', 'category': 'MOLECULE_PROCESSING', 'ftId': 'PRO_0000016783', 'description': 'Fibroblast growth factor receptor 2', 'begin': '22', 'end': '821', 'molecule': ''}, {'type': 'TOPO_DOM', 'category': 'TOPOLOGY', 'description': 'Extracellular', 'begin': '22', 'end': '377', 'molecule': '', 'evidences': [{'code': 'ECO:0000255'}]}, {'type': 'TRANSMEM', 'category': 'TOPOLOGY', 'description': 'Helical', 'begin': '378', 'end': '398', 'molecule': '', 'evidences': [{'code': 'ECO:0000255'}]}, {'type': 'TOPO_DOM', 'category': 'TOPOLOGY', 'description': 'Cytoplasmic', 'begin': '399', 'end': '821', 'molecule': '', 'evidences': [{'code': 'ECO:0000255'}]}, {'type': 'DOMAIN', 'category': 'DOMAINS_AND_SITES', 'description': 'Ig-like C2-type 1', 'begin': '25', 'end': '125', 'molecule': ''}, {'type': 'DOMAIN', 'category': 'DOMAINS_AND_SITES', 'description': 'Ig-like C2-type 2', 'begin': '154', 'end': '247', 'molecule': ''}, {'type': 'DOMAIN', 'category': 'DOMAINS_AND_SITES', 'description': 'Ig-like C2-type 3', 'begin': '256', 'end': '358', 'molecule': ''}, {'type': 'DOMAIN', 'category': 'DOMAINS_AND_SITES', 'description': 'Protein kinase', 'begin': '481', 'end': '770', 'molecule': '', 'evidences': [{'code': 'ECO:0000255', 'source': {'name': 'PROSITE-ProRule', 'id': 'PRU00159', 'url': 'https://prosite.expasy.org/unirule/PRU00159'}}]}, {'type': 'NP_BIND', 'category': 'DOMAINS_AND_SITES', 'description': 'ATP', 'begin': '487', 'end': '495', 'molecule': '', 'evidences': [{'code': 'ECO:0000255', 'source': {'name': 'PROSITE-ProRule', 'id': 'PRU00159', 'url': 'https://prosite.expasy.org/unirule/PRU00159'}}, {'code': 'ECO:0000269', 'source': {'name': 'PubMed', 'id': '19060208', 'url': 'http://www.ncbi.nlm.nih.gov/pubmed/19060208', 'alternativeUrl': 'https://europepmc.org/abstract/MED/19060208'}}]}, {'type': 'NP_BIND', 'category': 'DOMAINS_AND_SITES', 'description': 'ATP', 'begin': '565', 'end': '567', 'molecule': '', 'evidences': [{'code': 'ECO:0000255', 'source': {'name': 'PROSITE-ProRule', 'id': 'PRU00159', 'url': 'https://prosite.expasy.org/unirule/PRU00159'}}, {'code': 'ECO:0000269', 'source': {'name': 'PubMed', 'id': '19060208', 'url': 'http://www.ncbi.nlm.nih.gov/pubmed/19060208', 'alternativeUrl': 'https://europepmc.org/abstract/MED/19060208'}}]}, {'type': 'REGION', 'category': 'DOMAINS_AND_SITES', 'description': 'Heparin-binding', 'begin': '161', 'end': '178', 'molecule': ''}, {'type': 'ACT_SITE', 'category': 'DOMAINS_AND_SITES', 'description': 'Proton acceptor', 'begin': '626', 'end': '626', 'molecule': '', 'evidences': [{'code': 'ECO:0000255', 'source': {'name': 'PROSITE-ProRule', 'id': 'PRU00159', 'url': 'https://prosite.expasy.org/unirule/PRU00159'}}, {'code': 'ECO:0000255', 'source': {'name': 'PROSITE-ProRule', 'id': 'PRU10028', 'url': 'https://prosite.expasy.org/unirule/PRU10028'}}, {'code': 'ECO:0000269', 'source': {'name': 'PubMed', 'id': '19060208', 'url': 'http://www.ncbi.nlm.nih.gov/pubmed/19060208', 'alternativeUrl': 'https://europepmc.org/abstract/MED/19060208'}}]}, {'type': 'BINDING', 'category': 'DOMAINS_AND_SITES', 'description': 'ATP', 'begin': '517', 'end': '517', 'molecule': '', 'evidences': [{'code': 'ECO:0000255', 'source': {'name': 'PROSITE-ProRule', 'id': 'PRU00159', 'url': 'https://prosite.expasy.org/unirule/PRU00159'}}, {'code': 'ECO:0000269', 'source': {'name': 'PubMed', 'id': '19060208', 'url': 'http://www.ncbi.nlm.nih.gov/pubmed/19060208', 'alternativeUrl': 'https://europepmc.org/abstract/MED/19060208'}}]}, {'type': 'BINDING', 'category': 'DOMAINS_AND_SITES', 'description': 'ATP', 'begin': '571', 'end': '571', 'molecule': '', 'evidences': [{'code': 'ECO:0000255', 'source': {'name': 'PROSITE-ProRule', 'id': 'PRU00159', 'url': 'https://prosite.expasy.org/unirule/PRU00159'}}, {'code': 'ECO:0000269', 'source': {'name': 'PubMed', 'id': '19060208', 'url': 'http://www.ncbi.nlm.nih.gov/pubmed/19060208', 'alternativeUrl': 'https://europepmc.org/abstract/MED/19060208'}}]}, {'type': 'MOD_RES', 'category': 'PTM', 'description': 'Phosphotyrosine; by autocatalysis', 'begin': '466', 'end': '466', 'molecule': '', 'evidences': [{'code': 'ECO:0000269', 'source': {'name': 'PubMed', 'id': '19060208', 'url': 'http://www.ncbi.nlm.nih.gov/pubmed/19060208', 'alternativeUrl': 'https://europepmc.org/abstract/MED/19060208'}}, {'code': 'ECO:0000269', 'source': {'name': 'PubMed', 'id': '19410646', 'url': 'http://www.ncbi.nlm.nih.gov/pubmed/19410646', 'alternativeUrl': 'https://europepmc.org/abstract/MED/19410646'}}]}, {'type': 'MOD_RES', 'category': 'PTM', 'description': 'Phosphotyrosine; by autocatalysis', 'begin': '586', 'end': '586', 'molecule': '', 'evidences': [{'code': 'ECO:0000269', 'source': {'name': 'PubMed', 'id': '17803937', 'url': 'http://www.ncbi.nlm.nih.gov/pubmed/17803937', 'alternativeUrl': 'https://europepmc.org/abstract/MED/17803937'}}, {'code': 'ECO:0000269', 'source': {'name': 'PubMed', 'id': '19060208', 'url': 'http://www.ncbi.nlm.nih.gov/pubmed/19060208', 'alternativeUrl': 'https://europepmc.org/abstract/MED/19060208'}}, {'code': 'ECO:0000269', 'source': {'name': 'PubMed', 'id': '19410646', 'url': 'http://www.ncbi.nlm.nih.gov/pubmed/19410646', 'alternativeUrl': 'https://europepmc.org/abstract/MED/19410646'}}]}, {'type': 'MOD_RES', 'category': 'PTM', 'description': 'Phosphotyrosine; by autocatalysis', 'begin': '588', 'end': '588', 'molecule': '', 'evidences': [{'code': 'ECO:0000269', 'source': {'name': 'PubMed', 'id': '19060208', 'url': 'http://www.ncbi.nlm.nih.gov/pubmed/19060208', 'alternativeUrl': 'https://europepmc.org/abstract/MED/19060208'}}, {'code': 'ECO:0000269', 'source': {'name': 'PubMed', 'id': '19410646', 'url': 'http://www.ncbi.nlm.nih.gov/pubmed/19410646', 'alternativeUrl': 'https://europepmc.org/abstract/MED/19410646'}}]}, {'type': 'MOD_RES', 'category': 'PTM', 'description': 'Phosphotyrosine; by autocatalysis', 'begin': '656', 'end': '656', 'molecule': '', 'evidences': [{'code': 'ECO:0000269', 'source': {'name': 'PubMed', 'id': '17803937', 'url': 'http://www.ncbi.nlm.nih.gov/pubmed/17803937', 'alternativeUrl': 'https://europepmc.org/abstract/MED/17803937'}}, {'code': 'ECO:0000269', 'source': {'name': 'PubMed', 'id': '19060208', 'url': 'http://www.ncbi.nlm.nih.gov/pubmed/19060208', 'alternativeUrl': 'https://europepmc.org/abstract/MED/19060208'}}, {'code': 'ECO:0000269', 'source': {'name': 'PubMed', 'id': '19410646', 'url': 'http://www.ncbi.nlm.nih.gov/pubmed/19410646', 'alternativeUrl': 'https://europepmc.org/abstract/MED/19410646'}}]}, {'type': 'MOD_RES', 'category': 'PTM', 'description': 'Phosphotyrosine; by autocatalysis', 'begin': '657', 'end': '657', 'molecule': '', 'evidences': [{'code': 'ECO:0000269', 'source': {'name': 'PubMed', 'id': '17803937', 'url': 'http://www.ncbi.nlm.nih.gov/pubmed/17803937', 'alternativeUrl': 'https://europepmc.org/abstract/MED/17803937'}}, {'code': 'ECO:0000269', 'source': {'name': 'PubMed', 'id': '19060208', 'url': 'http://www.ncbi.nlm.nih.gov/pubmed/19060208', 'alternativeUrl': 'https://europepmc.org/abstract/MED/19060208'}}, {'code': 'ECO:0000269', 'source': {'name': 'PubMed', 'id': '19410646', 'url': 'http://www.ncbi.nlm.nih.gov/pubmed/19410646', 'alternativeUrl': 'https://europepmc.org/abstract/MED/19410646'}}]}, {'type': 'MOD_RES', 'category': 'PTM', 'description': 'Phosphotyrosine; by autocatalysis', 'begin': '769', 'end': '769', 'molecule': '', 'evidences': [{'code': 'ECO:0000269', 'source': {'name': 'PubMed', 'id': '15629145', 'url': 'http://www.ncbi.nlm.nih.gov/pubmed/15629145', 'alternativeUrl': 'https://europepmc.org/abstract/MED/15629145'}}, {'code': 'ECO:0000269', 'source': {'name': 'PubMed', 'id': '19060208', 'url': 'http://www.ncbi.nlm.nih.gov/pubmed/19060208', 'alternativeUrl': 'https://europepmc.org/abstract/MED/19060208'}}]}, {'type': 'MOD_RES', 'category': 'PTM', 'description': 'Phosphoserine', 'begin': '780', 'end': '780', 'molecule': '', 'evidences': [{'code': 'ECO:0000244', 'source': {'name': 'PubMed', 'id': '24275569', 'url': 'http://www.ncbi.nlm.nih.gov/pubmed/24275569', 'alternativeUrl': 'https://europepmc.org/abstract/MED/24275569'}}]}, {'type': 'CARBOHYD', 'category': 'PTM', 'ftId': '', 'description': 'N-linked (GlcNAc...) asparagine', 'begin': '83', 'end': '83', 'molecule': '', 'evidences': [{'code': 'ECO:0000255'}]}, {'type': 'CARBOHYD', 'category': 'PTM', 'ftId': '', 'description': 'N-linked (GlcNAc...) asparagine', 'begin': '123', 'end': '123', 'molecule': '', 'evidences': [{'code': 'ECO:0000255'}]}, {'type': 'CARBOHYD', 'category': 'PTM', 'ftId': '', 'description': 'N-linked (GlcNAc...) asparagine', 'begin': '228', 'end': '228', 'molecule': '', 'evidences': [{'code': 'ECO:0000255'}]}, {'type': 'CARBOHYD', 'category': 'PTM', 'ftId': '', 'description': 'N-linked (GlcNAc...) asparagine', 'begin': '241', 'end': '241', 'molecule': '', 'evidences': [{'code': 'ECO:0000255'}]}, {'type': 'CARBOHYD', 'category': 'PTM', 'ftId': '', 'description': 'N-linked (GlcNAc...) asparagine', 'begin': '265', 'end': '265', 'molecule': '', 'evidences': [{'code': 'ECO:0000255'}]}, {'type': 'CARBOHYD', 'category': 'PTM', 'ftId': '', 'description': 'N-linked (GlcNAc...) asparagine', 'begin': '297', 'end': '297', 'molecule': '', 'evidences': [{'code': 'ECO:0000255'}]}, {'type': 'CARBOHYD', 'category': 'PTM', 'ftId': '', 'description': 'N-linked (GlcNAc...) asparagine', 'begin': '318', 'end': '318', 'molecule': '', 'evidences': [{'code': 'ECO:0000255'}]}, {'type': 'CARBOHYD', 'category': 'PTM', 'ftId': '', 'description': 'N-linked (GlcNAc...) asparagine', 'begin': '331', 'end': '331', 'molecule': '', 'evidences': [{'code': 'ECO:0000255'}]}, {'type': 'DISULFID', 'category': 'PTM', 'description': '', 'begin': '62', 'end': '107', 'molecule': '', 'evidences': [{'code': 'ECO:0000255', 'source': {'name': 'PROSITE-ProRule', 'id': 'PRU00114', 'url': 'https://prosite.expasy.org/unirule/PRU00114'}}]}, {'type': 'DISULFID', 'category': 'PTM', 'description': '', 'begin': '179', 'end': '231', 'molecule': '', 'evidences': [{'code': 'ECO:0000255', 'source': {'name': 'PROSITE-ProRule', 'id': 'PRU00114', 'url': 'https://prosite.expasy.org/unirule/PRU00114'}}, {'code': 'ECO:0000269', 'source': {'name': 'PubMed', 'id': '16384934', 'url': 'http://www.ncbi.nlm.nih.gov/pubmed/16384934', 'alternativeUrl': 'https://europepmc.org/abstract/MED/16384934'}}]}, {'type': 'DISULFID', 'category': 'PTM', 'description': '', 'begin': '278', 'end': '342', 'molecule': '', 'evidences': [{'code': 'ECO:0000255', 'source': {'name': 'PROSITE-ProRule', 'id': 'PRU00114', 'url': 'https://prosite.expasy.org/unirule/PRU00114'}}, {'code': 'ECO:0000269', 'source': {'name': 'PubMed', 'id': '16384934', 'url': 'http://www.ncbi.nlm.nih.gov/pubmed/16384934', 'alternativeUrl': 'https://europepmc.org/abstract/MED/16384934'}}]}, {'type': 'VAR_SEQ', 'category': 'VARIANTS', 'ftId': 'VSP_019608', 'begin': '37', 'end': '152', 'molecule': '', 'evidences': [{'code': 'ECO:0000303', 'source': {'name': 'PubMed', 'id': '15489334', 'url': 'http://www.ncbi.nlm.nih.gov/pubmed/15489334', 'alternativeUrl': 'https://europepmc.org/abstract/MED/15489334'}}]}, {'type': 'VAR_SEQ', 'category': 'VARIANTS', 'ftId': 'VSP_002964', 'begin': '37', 'end': '125', 'molecule': '', 'evidences': [{'code': 'ECO:0000303', 'source': {'name': 'PubMed', 'id': '14702039', 'url': 'http://www.ncbi.nlm.nih.gov/pubmed/14702039', 'alternativeUrl': 'https://europepmc.org/abstract/MED/14702039'}}, {'code': 'ECO:0000303', 'source': {'name': 'PubMed', 'id': '2377625', 'url': 'http://www.ncbi.nlm.nih.gov/pubmed/2377625', 'alternativeUrl': 'https://europepmc.org/abstract/MED/2377625'}}]}, {'type': 'VAR_SEQ', 'category': 'VARIANTS', 'ftId': 'VSP_041914', 'begin': '250', 'end': '361', 'molecule': '', 'evidences': [{'code': 'ECO:0000303', 'source': {'name': 'Citation', 'id': 'Ref.14', 'url': 'https://www.uniprot.org/uniprot/P21802#ref14'}}]}, {'type': 'VAR_SEQ', 'category': 'VARIANTS', 'ftId': 'VSP_002965', 'begin': '250', 'end': '254', 'molecule': '', 'evidences': [{'code': 'ECO:0000303', 'source': {'name': 'PubMed', 'id': '1313574', 'url': 'http://www.ncbi.nlm.nih.gov/pubmed/1313574', 'alternativeUrl': 'https://europepmc.org/abstract/MED/1313574'}}]}, {'type': 'VAR_SEQ', 'category': 'VARIANTS', 'ftId': 'VSP_002966', 'begin': '255', 'end': '821', 'molecule': '', 'evidences': [{'code': 'ECO:0000303', 'source': {'name': 'PubMed', 'id': '1313574', 'url': 'http://www.ncbi.nlm.nih.gov/pubmed/1313574', 'alternativeUrl': 'https://europepmc.org/abstract/MED/1313574'}}]}, {'type': 'VAR_SEQ', 'category': 'VARIANTS', 'ftId': 'VSP_002967', 'begin': '313', 'end': '313', 'molecule': '', 'evidences': [{'code': 'ECO:0000303', 'source': {'name': 'PubMed', 'id': '2172978', 'url': 'http://www.ncbi.nlm.nih.gov/pubmed/2172978', 'alternativeUrl': 'https://europepmc.org/abstract/MED/2172978'}}]}, {'type': 'VAR_SEQ', 'category': 'VARIANTS', 'ftId': 'VSP_002968', 'begin': '314', 'end': '429', 'molecule': '', 'evidences': [{'code': 'ECO:0000303', 'source': {'name': 'PubMed', 'id': '1313574', 'url': 'http://www.ncbi.nlm.nih.gov/pubmed/1313574', 'alternativeUrl': 'https://europepmc.org/abstract/MED/1313574'}}]}, {'type': 'VAR_SEQ', 'category': 'VARIANTS', 'ftId': 'VSP_002969', 'begin': '314', 'end': '330', 'molecule': '', 'evidences': [{'code': 'ECO:0000303', 'source': {'name': 'PubMed', 'id': '10626794', 'url': 'http://www.ncbi.nlm.nih.gov/pubmed/10626794', 'alternativeUrl': 'https://europepmc.org/abstract/MED/10626794'}}, {'code': 'ECO:0000303', 'source': {'name': 'PubMed', 'id': '1309608', 'url': 'http://www.ncbi.nlm.nih.gov/pubmed/1309608', 'alternativeUrl': 'https://europepmc.org/abstract/MED/1309608'}}, {'code': 'ECO:0000303', 'source': {'name': 'PubMed', 'id': '1400433', 'url': 'http://www.ncbi.nlm.nih.gov/pubmed/1400433', 'alternativeUrl': 'https://europepmc.org/abstract/MED/1400433'}}, {'code': 'ECO:0000303', 'source': {'name': 'PubMed', 'id': '1647213', 'url': 'http://www.ncbi.nlm.nih.gov/pubmed/1647213', 'alternativeUrl': 'https://europepmc.org/abstract/MED/1647213'}}, {'code': 'ECO:0000303', 'source': {'name': 'PubMed', 'id': '2377625', 'url': 'http://www.ncbi.nlm.nih.gov/pubmed/2377625', 'alternativeUrl': 'https://europepmc.org/abstract/MED/2377625'}}, {'code': 'ECO:0000303', 'source': {'name': 'PubMed', 'id': '7866434', 'url': 'http://www.ncbi.nlm.nih.gov/pubmed/7866434', 'alternativeUrl': 'https://europepmc.org/abstract/MED/7866434'}}]}, {'type': 'VAR_SEQ', 'category': 'VARIANTS', 'ftId': 'VSP_002970', 'begin': '334', 'end': '335', 'molecule': '', 'evidences': [{'code': 'ECO:0000303', 'source': {'name': 'PubMed', 'id': '10626794', 'url': 'http://www.ncbi.nlm.nih.gov/pubmed/10626794', 'alternativeUrl': 'https://europepmc.org/abstract/MED/10626794'}}, {'code': 'ECO:0000303', 'source': {'name': 'PubMed', 'id': '1309608', 'url': 'http://www.ncbi.nlm.nih.gov/pubmed/1309608', 'alternativeUrl': 'https://europepmc.org/abstract/MED/1309608'}}, {'code': 'ECO:0000303', 'source': {'name': 'PubMed', 'id': '1400433', 'url': 'http://www.ncbi.nlm.nih.gov/pubmed/1400433', 'alternativeUrl': 'https://europepmc.org/abstract/MED/1400433'}}, {'code': 'ECO:0000303', 'source': {'name': 'PubMed', 'id': '1647213', 'url': 'http://www.ncbi.nlm.nih.gov/pubmed/1647213', 'alternativeUrl': 'https://europepmc.org/abstract/MED/1647213'}}, {'code': 'ECO:0000303', 'source': {'name': 'PubMed', 'id': '2377625', 'url': 'http://www.ncbi.nlm.nih.gov/pubmed/2377625', 'alternativeUrl': 'https://europepmc.org/abstract/MED/2377625'}}, {'code': 'ECO:0000303', 'source': {'name': 'PubMed', 'id': '7866434', 'url': 'http://www.ncbi.nlm.nih.gov/pubmed/7866434', 'alternativeUrl': 'https://europepmc.org/abstract/MED/7866434'}}]}, {'type': 'VAR_SEQ', 'category': 'VARIANTS', 'ftId': 'VSP_002971', 'begin': '341', 'end': '353', 'molecule': '', 'evidences': [{'code': 'ECO:0000303', 'source': {'name': 'PubMed', 'id': '10626794', 'url': 'http://www.ncbi.nlm.nih.gov/pubmed/10626794', 'alternativeUrl': 'https://europepmc.org/abstract/MED/10626794'}}, {'code': 'ECO:0000303', 'source': {'name': 'PubMed', 'id': '1309608', 'url': 'http://www.ncbi.nlm.nih.gov/pubmed/1309608', 'alternativeUrl': 'https://europepmc.org/abstract/MED/1309608'}}, {'code': 'ECO:0000303', 'source': {'name': 'PubMed', 'id': '1400433', 'url': 'http://www.ncbi.nlm.nih.gov/pubmed/1400433', 'alternativeUrl': 'https://europepmc.org/abstract/MED/1400433'}}, {'code': 'ECO:0000303', 'source': {'name': 'PubMed', 'id': '1647213', 'url': 'http://www.ncbi.nlm.nih.gov/pubmed/1647213', 'alternativeUrl': 'https://europepmc.org/abstract/MED/1647213'}}, {'code': 'ECO:0000303', 'source': {'name': 'PubMed', 'id': '2377625', 'url': 'http://www.ncbi.nlm.nih.gov/pubmed/2377625', 'alternativeUrl': 'https://europepmc.org/abstract/MED/2377625'}}, {'code': 'ECO:0000303', 'source': {'name': 'PubMed', 'id': '7866434', 'url': 'http://www.ncbi.nlm.nih.gov/pubmed/7866434', 'alternativeUrl': 'https://europepmc.org/abstract/MED/7866434'}}]}, {'type': 'VAR_SEQ', 'category': 'VARIANTS', 'ftId': 'VSP_002972', 'begin': '361', 'end': '361', 'molecule': '', 'evidences': [{'code': 'ECO:0000303', 'source': {'name': 'PubMed', 'id': '10626794', 'url': 'http://www.ncbi.nlm.nih.gov/pubmed/10626794', 'alternativeUrl': 'https://europepmc.org/abstract/MED/10626794'}}, {'code': 'ECO:0000303', 'source': {'name': 'PubMed', 'id': '1309608', 'url': 'http://www.ncbi.nlm.nih.gov/pubmed/1309608', 'alternativeUrl': 'https://europepmc.org/abstract/MED/1309608'}}, {'code': 'ECO:0000303', 'source': {'name': 'PubMed', 'id': '1400433', 'url': 'http://www.ncbi.nlm.nih.gov/pubmed/1400433', 'alternativeUrl': 'https://europepmc.org/abstract/MED/1400433'}}, {'code': 'ECO:0000303', 'source': {'name': 'PubMed', 'id': '1647213', 'url': 'http://www.ncbi.nlm.nih.gov/pubmed/1647213', 'alternativeUrl': 'https://europepmc.org/abstract/MED/1647213'}}, {'code': 'ECO:0000303', 'source': {'name': 'PubMed', 'id': '2377625', 'url': 'http://www.ncbi.nlm.nih.gov/pubmed/2377625', 'alternativeUrl': 'https://europepmc.org/abstract/MED/2377625'}}, {'code': 'ECO:0000303', 'source': {'name': 'PubMed', 'id': '7866434', 'url': 'http://www.ncbi.nlm.nih.gov/pubmed/7866434', 'alternativeUrl': 'https://europepmc.org/abstract/MED/7866434'}}]}, {'type': 'VAR_SEQ', 'category': 'VARIANTS', 'ftId': 'VSP_002973', 'begin': '362', 'end': '365', 'molecule': '', 'evidences': [{'code': 'ECO:0000303', 'source': {'name': 'PubMed', 'id': '1309608', 'url': 'http://www.ncbi.nlm.nih.gov/pubmed/1309608', 'alternativeUrl': 'https://europepmc.org/abstract/MED/1309608'}}, {'code': 'ECO:0000303', 'source': {'name': 'PubMed', 'id': '7866434', 'url': 'http://www.ncbi.nlm.nih.gov/pubmed/7866434', 'alternativeUrl': 'https://europepmc.org/abstract/MED/7866434'}}]}, {'type': 'VAR_SEQ', 'category': 'VARIANTS', 'ftId': 'VSP_002974', 'begin': '366', 'end': '821', 'molecule': '', 'evidences': [{'code': 'ECO:0000303', 'source': {'name': 'PubMed', 'id': '1309608', 'url': 'http://www.ncbi.nlm.nih.gov/pubmed/1309608', 'alternativeUrl': 'https://europepmc.org/abstract/MED/1309608'}}, {'code': 'ECO:0000303', 'source': {'name': 'PubMed', 'id': '7866434', 'url': 'http://www.ncbi.nlm.nih.gov/pubmed/7866434', 'alternativeUrl': 'https://europepmc.org/abstract/MED/7866434'}}]}, {'type': 'VAR_SEQ', 'category': 'VARIANTS', 'ftId': 'VSP_002975', 'begin': '428', 'end': '429', 'molecule': '', 'evidences': [{'code': 'ECO:0000303', 'source': {'name': 'PubMed', 'id': '1313574', 'url': 'http://www.ncbi.nlm.nih.gov/pubmed/1313574', 'alternativeUrl': 'https://europepmc.org/abstract/MED/1313574'}}, {'code': 'ECO:0000303', 'source': {'name': 'PubMed', 'id': '2172978', 'url': 'http://www.ncbi.nlm.nih.gov/pubmed/2172978', 'alternativeUrl': 'https://europepmc.org/abstract/MED/2172978'}}, {'code': 'ECO:0000303', 'source': {'name': 'PubMed', 'id': '2377625', 'url': 'http://www.ncbi.nlm.nih.gov/pubmed/2377625', 'alternativeUrl': 'https://europepmc.org/abstract/MED/2377625'}}]}, {'type': 'VAR_SEQ', 'category': 'VARIANTS', 'ftId': 'VSP_019609', 'begin': '429', 'end': '430', 'molecule': '', 'evidences': [{'code': 'ECO:0000303', 'source': {'name': 'PubMed', 'id': '15489334', 'url': 'http://www.ncbi.nlm.nih.gov/pubmed/15489334', 'alternativeUrl': 'https://europepmc.org/abstract/MED/15489334'}}]}, {'type': 'VAR_SEQ', 'category': 'VARIANTS', 'ftId': 'VSP_002976', 'begin': '761', 'end': '821', 'molecule': '', 'evidences': [{'code': 'ECO:0000303', 'source': {'name': 'PubMed', 'id': '2377625', 'url': 'http://www.ncbi.nlm.nih.gov/pubmed/2377625', 'alternativeUrl': 'https://europepmc.org/abstract/MED/2377625'}}]}, {'type': 'VAR_SEQ', 'category': 'VARIANTS', 'ftId': 'VSP_002978', 'begin': '768', 'end': '821', 'molecule': '', 'evidences': [{'code': 'ECO:0000303', 'source': {'name': 'PubMed', 'id': '1647213', 'url': 'http://www.ncbi.nlm.nih.gov/pubmed/1647213', 'alternativeUrl': 'https://europepmc.org/abstract/MED/1647213'}}]}, {'type': 'VAR_SEQ', 'category': 'VARIANTS', 'ftId': 'VSP_041915', 'begin': '769', 'end': '821', 'molecule': '', 'evidences': [{'code': 'ECO:0000303', 'source': {'name': 'PubMed', 'id': '14702039', 'url': 'http://www.ncbi.nlm.nih.gov/pubmed/14702039', 'alternativeUrl': 'https://europepmc.org/abstract/MED/14702039'}}]}, {'type': 'VAR_SEQ', 'category': 'VARIANTS', 'ftId': 'VSP_002984', 'begin': '778', 'end': '821', 'molecule': '', 'evidences': [{'code': 'ECO:0000305'}]}, {'type': 'VARIANT', 'category': 'VARIANTS', 'ftId': 'VAR_017258', 'description': 'in dbSNP:rs3750819', 'alternativeSequence': 'P', 'begin': '6', 'end': '6', 'molecule': '', 'evidences': [{'code': 'ECO:0000269', 'source': {'name': 'Citation', 'id': 'Ref.15', 'url': 'https://www.uniprot.org/uniprot/P21802#ref15'}}]}, {'type': 'VARIANT', 'category': 'VARIANTS', 'ftId': 'VAR_042204', 'description': 'polymorphism; dbSNP:rs56226109', 'alternativeSequence': 'L', 'begin': '57', 'end': '57', 'molecule': '', 'evidences': [{'code': 'ECO:0000269', 'source': {'name': 'PubMed', 'id': '17344846', 'url': 'http://www.ncbi.nlm.nih.gov/pubmed/17344846', 'alternativeUrl': 'https://europepmc.org/abstract/MED/17344846'}}, {'code': 'ECO:0000269', 'source': {'name': 'PubMed', 'id': '26429889', 'url': 'http://www.ncbi.nlm.nih.gov/pubmed/26429889', 'alternativeUrl': 'https://europepmc.org/abstract/MED/26429889'}}]}, {'type': 'VARIANT', 'category': 'VARIANTS', 'ftId': 'VAR_004112', 'description': 'in CS; dbSNP:rs1434545235', 'alternativeSequence': 'C', 'begin': '105', 'end': '105', 'molecule': '', 'evidences': [{'code': 'ECO:0000269', 'source': {'name': 'PubMed', 'id': '11781872', 'url': 'http://www.ncbi.nlm.nih.gov/pubmed/11781872', 'alternativeUrl': 'https://europepmc.org/abstract/MED/11781872'}}, {'code': 'ECO:0000269', 'source': {'name': 'PubMed', 'id': '8946174', 'url': 'http://www.ncbi.nlm.nih.gov/pubmed/8946174', 'alternativeUrl': 'https://europepmc.org/abstract/MED/8946174'}}]}, {'type': 'VARIANT', 'category': 'VARIANTS', 'ftId': 'VAR_017259', 'description': 'in PS; requires 2 nucleotide substitutions', 'alternativeSequence': 'F', 'begin': '172', 'end': '172', 'molecule': '', 'evidences': [{'code': 'ECO:0000269', 'source': {'name': 'PubMed', 'id': '11781872', 'url': 'http://www.ncbi.nlm.nih.gov/pubmed/11781872', 'alternativeUrl': 'https://europepmc.org/abstract/MED/11781872'}}]}, {'type': 'VARIANT', 'category': 'VARIANTS', 'ftId': 'VAR_017260', 'description': 'in dbSNP:rs755793', 'alternativeSequence': 'T', 'begin': '186', 'end': '186', 'molecule': '', 'evidences': [{'code': 'ECO:0000269', 'source': {'name': 'PubMed', 'id': '11781872', 'url': 'http://www.ncbi.nlm.nih.gov/pubmed/11781872', 'alternativeUrl': 'https://europepmc.org/abstract/MED/11781872'}}, {'code': 'ECO:0000269', 'source': {'name': 'PubMed', 'id': '17344846', 'url': 'http://www.ncbi.nlm.nih.gov/pubmed/17344846', 'alternativeUrl': 'https://europepmc.org/abstract/MED/17344846'}}, {'code': 'ECO:0000269', 'source': {'name': 'Citation', 'id': 'Ref.15', 'url': 'https://www.uniprot.org/uniprot/P21802#ref15'}}]}, {'type': 'VARIANT', 'category': 'VARIANTS', 'ftId': 'VAR_036380', 'description': 'in breast cancer samples; infiltrating ductal carcinoma; somatic mutation', 'alternativeSequence': 'C', 'begin': '203', 'end': '203', 'molecule': '', 'evidences': [{'code': 'ECO:0000269', 'source': {'name': 'PubMed', 'id': '16959974', 'url': 'http://www.ncbi.nlm.nih.gov/pubmed/16959974', 'alternativeUrl': 'https://europepmc.org/abstract/MED/16959974'}}, {'code': 'ECO:0000269', 'source': {'name': 'PubMed', 'id': '17344846', 'url': 'http://www.ncbi.nlm.nih.gov/pubmed/17344846', 'alternativeUrl': 'https://europepmc.org/abstract/MED/17344846'}}]}, {'type': 'VARIANT', 'category': 'VARIANTS', 'ftId': 'VAR_004116', 'description': 'in PS; dbSNP:rs281865420', 'alternativeSequence': 'FS', 'begin': '252', 'end': '253', 'molecule': ''}, {'type': 'VARIANT', 'category': 'VARIANTS', 'ftId': 'VAR_004114', 'description': 'in APRS; requires 2 nucleotide substitutions; dbSNP:rs121918498', 'alternativeSequence': 'F', 'begin': '252', 'end': '252', 'molecule': '', 'evidences': [{'code': 'ECO:0000269', 'source': {'name': 'PubMed', 'id': '9002682', 'url': 'http://www.ncbi.nlm.nih.gov/pubmed/9002682', 'alternativeUrl': 'https://europepmc.org/abstract/MED/9002682'}}]}, {'type': 'VARIANT', 'category': 'VARIANTS', 'ftId': 'VAR_004113', 'description': 'in dbSNP:rs79184941', 'alternativeSequence': 'L', 'begin': '252', 'end': '252', 'molecule': '', 'evidences': [{'code': 'ECO:0000269', 'source': {'name': 'PubMed', 'id': '9002682', 'url': 'http://www.ncbi.nlm.nih.gov/pubmed/9002682', 'alternativeUrl': 'https://europepmc.org/abstract/MED/9002682'}}]}, {'type': 'VARIANT', 'category': 'VARIANTS', 'ftId': 'VAR_004115', 'description': 'in APRS and PS; common mutation; dbSNP:rs79184941', 'alternativeSequence': 'W', 'begin': '252', 'end': '252', 'molecule': '', 'evidences': [{'code': 'ECO:0000269', 'source': {'name': 'PubMed', 'id': '11781872', 'url': 'http://www.ncbi.nlm.nih.gov/pubmed/11781872', 'alternativeUrl': 'https://europepmc.org/abstract/MED/11781872'}}, {'code': 'ECO:0000269', 'source': {'name': 'PubMed', 'id': '15190072', 'url': 'http://www.ncbi.nlm.nih.gov/pubmed/15190072', 'alternativeUrl': 'https://europepmc.org/abstract/MED/15190072'}}, {'code': 'ECO:0000269', 'source': {'name': 'PubMed', 'id': '7668257', 'url': 'http://www.ncbi.nlm.nih.gov/pubmed/7668257', 'alternativeUrl': 'https://europepmc.org/abstract/MED/7668257'}}, {'code': 'ECO:0000269', 'source': {'name': 'PubMed', 'id': '7719344', 'url': 'http://www.ncbi.nlm.nih.gov/pubmed/7719344', 'alternativeUrl': 'https://europepmc.org/abstract/MED/7719344'}}, {'code': 'ECO:0000269', 'source': {'name': 'PubMed', 'id': '9452027', 'url': 'http://www.ncbi.nlm.nih.gov/pubmed/9452027', 'alternativeUrl': 'https://europepmc.org/abstract/MED/9452027'}}, {'code': 'ECO:0000269', 'source': {'name': 'PubMed', 'id': '9677057', 'url': 'http://www.ncbi.nlm.nih.gov/pubmed/9677057', 'alternativeUrl': 'https://europepmc.org/abstract/MED/9677057'}}, {'code': 'ECO:0000269', 'source': {'name': 'PubMed', 'id': '9719378', 'url': 'http://www.ncbi.nlm.nih.gov/pubmed/9719378', 'alternativeUrl': 'https://europepmc.org/abstract/MED/9719378'}}]}, {'type': 'VARIANT', 'category': 'VARIANTS', 'ftId': 'VAR_004117', 'description': 'in APRS; common mutation; dbSNP:rs77543610', 'alternativeSequence': 'R', 'begin': '253', 'end': '253', 'molecule': '', 'evidences': [{'code': 'ECO:0000269', 'source': {'name': 'PubMed', 'id': '11781872', 'url': 'http://www.ncbi.nlm.nih.gov/pubmed/11781872', 'alternativeUrl': 'https://europepmc.org/abstract/MED/11781872'}}, {'code': 'ECO:0000269', 'source': {'name': 'PubMed', 'id': '7668257', 'url': 'http://www.ncbi.nlm.nih.gov/pubmed/7668257', 'alternativeUrl': 'https://europepmc.org/abstract/MED/7668257'}}, {'code': 'ECO:0000269', 'source': {'name': 'PubMed', 'id': '7719344', 'url': 'http://www.ncbi.nlm.nih.gov/pubmed/7719344', 'alternativeUrl': 'https://europepmc.org/abstract/MED/7719344'}}, {'code': 'ECO:0000269', 'source': {'name': 'PubMed', 'id': '9452027', 'url': 'http://www.ncbi.nlm.nih.gov/pubmed/9452027', 'alternativeUrl': 'https://europepmc.org/abstract/MED/9452027'}}, {'code': 'ECO:0000269', 'source': {'name': 'PubMed', 'id': '9677057', 'url': 'http://www.ncbi.nlm.nih.gov/pubmed/9677057', 'alternativeUrl': 'https://europepmc.org/abstract/MED/9677057'}}]}, {'type': 'VARIANT', 'category': 'VARIANTS', 'ftId': 'VAR_017261', 'description': 'in CS; dbSNP:rs779326224', 'alternativeSequence': 'L', 'begin': '263', 'end': '263', 'molecule': '', 'evidences': [{'code': 'ECO:0000269', 'source': {'name': 'PubMed', 'id': '11173845', 'url': 'http://www.ncbi.nlm.nih.gov/pubmed/11173845', 'alternativeUrl': 'https://europepmc.org/abstract/MED/11173845'}}]}, {'type': 'VARIANT', 'category': 'VARIANTS', 'ftId': 'VAR_004118', 'description': 'in CS; dbSNP:rs121918505', 'alternativeSequence': 'P', 'begin': '267', 'end': '267', 'molecule': '', 'evidences': [{'code': 'ECO:0000269', 'source': {'name': 'PubMed', 'id': '11781872', 'url': 'http://www.ncbi.nlm.nih.gov/pubmed/11781872', 'alternativeUrl': 'https://europepmc.org/abstract/MED/11781872'}}]}, {'type': 'VARIANT', 'category': 'VARIANTS', 'ftId': 'VAR_004119', 'description': 'in CS', 'alternativeSequence': 'TG', 'begin': '268', 'end': '268', 'molecule': '', 'evidences': [{'code': 'ECO:0000269', 'source': {'name': 'PubMed', 'id': '8644708', 'url': 'http://www.ncbi.nlm.nih.gov/pubmed/8644708', 'alternativeUrl': 'https://europepmc.org/abstract/MED/8644708'}}]}, {'type': 'VARIANT', 'category': 'VARIANTS', 'ftId': 'VAR_075856', 'description': 'in SCS', 'alternativeSequence': '', 'begin': '269', 'end': '270', 'molecule': '', 'evidences': [{'code': 'ECO:0000269', 'source': {'name': 'PubMed', 'id': '9585583', 'url': 'http://www.ncbi.nlm.nih.gov/pubmed/9585583', 'alternativeUrl': 'https://europepmc.org/abstract/MED/9585583'}}]}, {'type': 'VARIANT', 'category': 'VARIANTS', 'ftId': 'VAR_042205', 'description': 'in an ovarian serous carcinoma sample; somatic mutation', 'alternativeSequence': 'V', 'begin': '272', 'end': '272', 'molecule': '', 'evidences': [{'code': 'ECO:0000269', 'source': {'name': 'PubMed', 'id': '17344846', 'url': 'http://www.ncbi.nlm.nih.gov/pubmed/17344846', 'alternativeUrl': 'https://europepmc.org/abstract/MED/17344846'}}]}, {'type': 'VARIANT', 'category': 'VARIANTS', 'ftId': 'VAR_017262', 'description': 'in PS; type 2', 'alternativeSequence': '', 'begin': '273', 'end': '273', 'molecule': '', 'evidences': [{'code': 'ECO:0000269', 'source': {'name': 'PubMed', 'id': '10945669', 'url': 'http://www.ncbi.nlm.nih.gov/pubmed/10945669', 'alternativeUrl': 'https://europepmc.org/abstract/MED/10945669'}}]}, {'type': 'VARIANT', 'category': 'VARIANTS', 'ftId': 'VAR_004120', 'description': 'in CS; dbSNP:rs1057519036', 'alternativeSequence': 'V', 'begin': '276', 'end': '276', 'molecule': '', 'evidences': [{'code': 'ECO:0000269', 'source': {'name': 'PubMed', 'id': '11173845', 'url': 'http://www.ncbi.nlm.nih.gov/pubmed/11173845', 'alternativeUrl': 'https://europepmc.org/abstract/MED/11173845'}}, {'code': 'ECO:0000269', 'source': {'name': 'PubMed', 'id': '11781872', 'url': 'http://www.ncbi.nlm.nih.gov/pubmed/11781872', 'alternativeUrl': 'https://europepmc.org/abstract/MED/11781872'}}, {'code': 'ECO:0000269', 'source': {'name': 'PubMed', 'id': '9521581', 'url': 'http://www.ncbi.nlm.nih.gov/pubmed/9521581', 'alternativeUrl': 'https://europepmc.org/abstract/MED/9521581'}}]}, {'type': 'VARIANT', 'category': 'VARIANTS', 'ftId': 'VAR_004121', 'description': 'in CS, JWS and PS; forms disulfide-linked dimers with constitutive kinase activity, is retained in an intracellular compartment and not detected at the cell surface; dbSNP:rs776587763', 'alternativeSequence': 'F', 'begin': '278', 'end': '278', 'molecule': '', 'evidences': [{'code': 'ECO:0000269', 'source': {'name': 'PubMed', 'id': '11173845', 'url': 'http://www.ncbi.nlm.nih.gov/pubmed/11173845', 'alternativeUrl': 'https://europepmc.org/abstract/MED/11173845'}}, {'code': 'ECO:0000269', 'source': {'name': 'PubMed', 'id': '11781872', 'url': 'http://www.ncbi.nlm.nih.gov/pubmed/11781872', 'alternativeUrl': 'https://europepmc.org/abstract/MED/11781872'}}, {'code': 'ECO:0000269', 'source': {'name': 'PubMed', 'id': '16844695', 'url': 'http://www.ncbi.nlm.nih.gov/pubmed/16844695', 'alternativeUrl': 'https://europepmc.org/abstract/MED/16844695'}}, {'code': 'ECO:0000269', 'source': {'name': 'PubMed', 'id': '8644708', 'url': 'http://www.ncbi.nlm.nih.gov/pubmed/8644708', 'alternativeUrl': 'https://europepmc.org/abstract/MED/8644708'}}, {'code': 'ECO:0000269', 'source': {'name': 'PubMed', 'id': '9677057', 'url': 'http://www.ncbi.nlm.nih.gov/pubmed/9677057', 'alternativeUrl': 'https://europepmc.org/abstract/MED/9677057'}}]}, {'type': 'VARIANT', 'category': 'VARIANTS', 'ftId': 'VAR_017263', 'description': 'in CS; dbSNP:rs776587763', 'alternativeSequence': 'Y', 'begin': '278', 'end': '278', 'molecule': '', 'evidences': [{'code': 'ECO:0000269', 'source': {'name': 'PubMed', 'id': '11173845', 'url': 'http://www.ncbi.nlm.nih.gov/pubmed/11173845', 'alternativeUrl': 'https://europepmc.org/abstract/MED/11173845'}}]}, {'type': 'VARIANT', 'category': 'VARIANTS', 'ftId': 'VAR_017264', 'description': 'in CS; dbSNP:rs1057519038', 'alternativeSequence': 'C', 'begin': '281', 'end': '281', 'molecule': '', 'evidences': [{'code': 'ECO:0000269', 'source': {'name': 'PubMed', 'id': '11380921', 'url': 'http://www.ncbi.nlm.nih.gov/pubmed/11380921', 'alternativeUrl': 'https://europepmc.org/abstract/MED/11380921'}}, {'code': 'ECO:0000269', 'source': {'name': 'PubMed', 'id': '11781872', 'url': 'http://www.ncbi.nlm.nih.gov/pubmed/11781872', 'alternativeUrl': 'https://europepmc.org/abstract/MED/11781872'}}]}, {'type': 'VARIANT', 'category': 'VARIANTS', 'ftId': 'VAR_042206', 'description': 'in a lung squamous cell carcinoma sample; somatic mutation', 'alternativeSequence': 'N', 'begin': '283', 'end': '283', 'molecule': '', 'evidences': [{'code': 'ECO:0000269', 'source': {'name': 'PubMed', 'id': '17344846', 'url': 'http://www.ncbi.nlm.nih.gov/pubmed/17344846', 'alternativeUrl': 'https://europepmc.org/abstract/MED/17344846'}}]}, {'type': 'VARIANT', 'category': 'VARIANTS', 'ftId': 'VAR_004122', 'description': 'in CS', 'alternativeSequence': '', 'begin': '287', 'end': '289', 'molecule': ''}, {'type': 'VARIANT', 'category': 'VARIANTS', 'ftId': 'VAR_017265', 'description': 'in CS', 'alternativeSequence': 'S', 'begin': '288', 'end': '288', 'molecule': '', 'evidences': [{'code': 'ECO:0000269', 'source': {'name': 'PubMed', 'id': '11173845', 'url': 'http://www.ncbi.nlm.nih.gov/pubmed/11173845', 'alternativeUrl': 'https://europepmc.org/abstract/MED/11173845'}}]}, {'type': 'VARIANT', 'category': 'VARIANTS', 'ftId': 'VAR_004123', 'description': 'in CS and JWS; dbSNP:rs121918497', 'alternativeSequence': 'P', 'begin': '289', 'end': '289', 'molecule': '', 'evidences': [{'code': 'ECO:0000269', 'source': {'name': 'PubMed', 'id': '11173845', 'url': 'http://www.ncbi.nlm.nih.gov/pubmed/11173845', 'alternativeUrl': 'https://europepmc.org/abstract/MED/11173845'}}, {'code': 'ECO:0000269', 'source': {'name': 'PubMed', 'id': '11380921', 'url': 'http://www.ncbi.nlm.nih.gov/pubmed/11380921', 'alternativeUrl': 'https://europepmc.org/abstract/MED/11380921'}}, {'code': 'ECO:0000269', 'source': {'name': 'PubMed', 'id': '11781872', 'url': 'http://www.ncbi.nlm.nih.gov/pubmed/11781872', 'alternativeUrl': 'https://europepmc.org/abstract/MED/11781872'}}, {'code': 'ECO:0000269', 'source': {'name': 'PubMed', 'id': '7581378', 'url': 'http://www.ncbi.nlm.nih.gov/pubmed/7581378', 'alternativeUrl': 'https://europepmc.org/abstract/MED/7581378'}}, {'code': 'ECO:0000269', 'source': {'name': 'PubMed', 'id': '8644708', 'url': 'http://www.ncbi.nlm.nih.gov/pubmed/8644708', 'alternativeUrl': 'https://europepmc.org/abstract/MED/8644708'}}]}, {'type': 'VARIANT', 'category': 'VARIANTS', 'ftId': 'VAR_004124', 'description': 'in PS; severe; also in a lung squamous cell carcinoma sample; somatic mutation; dbSNP:rs121918499', 'alternativeSequence': 'C', 'begin': '290', 'end': '290', 'molecule': '', 'evidences': [{'code': 'ECO:0000269', 'source': {'name': 'PubMed', 'id': '11781872', 'url': 'http://www.ncbi.nlm.nih.gov/pubmed/11781872', 'alternativeUrl': 'https://europepmc.org/abstract/MED/11781872'}}, {'code': 'ECO:0000269', 'source': {'name': 'PubMed', 'id': '17344846', 'url': 'http://www.ncbi.nlm.nih.gov/pubmed/17344846', 'alternativeUrl': 'https://europepmc.org/abstract/MED/17344846'}}, {'code': 'ECO:0000269', 'source': {'name': 'PubMed', 'id': '9150725', 'url': 'http://www.ncbi.nlm.nih.gov/pubmed/9150725', 'alternativeUrl': 'https://europepmc.org/abstract/MED/9150725'}}]}, {'type': 'VARIANT', 'category': 'VARIANTS', 'ftId': 'VAR_017266', 'description': 'in CS; dbSNP:rs121918501', 'alternativeSequence': 'G', 'begin': '290', 'end': '290', 'molecule': '', 'evidences': [{'code': 'ECO:0000269', 'source': {'name': 'PubMed', 'id': '8528214', 'url': 'http://www.ncbi.nlm.nih.gov/pubmed/8528214', 'alternativeUrl': 'https://europepmc.org/abstract/MED/8528214'}}]}, {'type': 'VARIANT', 'category': 'VARIANTS', 'ftId': 'VAR_004125', 'description': 'in CS; dbSNP:rs121918501', 'alternativeSequence': 'R', 'begin': '290', 'end': '290', 'molecule': ''}, {'type': 'VARIANT', 'category': 'VARIANTS', 'ftId': 'VAR_004126', 'description': 'in CS; dbSNP:rs121918500', 'alternativeSequence': 'E', 'begin': '292', 'end': '292', 'molecule': '', 'evidences': [{'code': 'ECO:0000269', 'source': {'name': 'PubMed', 'id': '9152842', 'url': 'http://www.ncbi.nlm.nih.gov/pubmed/9152842', 'alternativeUrl': 'https://europepmc.org/abstract/MED/9152842'}}]}, {'type': 'VARIANT', 'category': 'VARIANTS', 'ftId': 'VAR_004127', 'description': 'in CS; dbSNP:rs1554930684', 'alternativeSequence': 'C', 'begin': '301', 'end': '301', 'molecule': '', 'evidences': [{'code': 'ECO:0000269', 'source': {'name': 'PubMed', 'id': '9521581', 'url': 'http://www.ncbi.nlm.nih.gov/pubmed/9521581', 'alternativeUrl': 'https://europepmc.org/abstract/MED/9521581'}}]}, {'type': 'VARIANT', 'category': 'VARIANTS', 'ftId': 'VAR_004128', 'description': 'in craniosynostosis; dbSNP:rs1358919643', 'alternativeSequence': 'S', 'begin': '314', 'end': '314', 'molecule': '', 'evidences': [{'code': 'ECO:0000269', 'source': {'name': 'PubMed', 'id': '9521581', 'url': 'http://www.ncbi.nlm.nih.gov/pubmed/9521581', 'alternativeUrl': 'https://europepmc.org/abstract/MED/9521581'}}]}, {'type': 'VARIANT', 'category': 'VARIANTS', 'ftId': 'VAR_017267', 'description': 'in a non-syndromic craniosynostosis patient with abnormal intrauterine history; confers predisposition to craniosynostosis; dbSNP:rs121918504', 'alternativeSequence': 'S', 'begin': '315', 'end': '315', 'molecule': '', 'evidences': [{'code': 'ECO:0000269', 'source': {'name': 'PubMed', 'id': '10951518', 'url': 'http://www.ncbi.nlm.nih.gov/pubmed/10951518', 'alternativeUrl': 'https://europepmc.org/abstract/MED/10951518'}}, {'code': 'ECO:0000269', 'source': {'name': 'PubMed', 'id': '11781872', 'url': 'http://www.ncbi.nlm.nih.gov/pubmed/11781872', 'alternativeUrl': 'https://europepmc.org/abstract/MED/11781872'}}]}, {'type': 'VARIANT', 'category': 'VARIANTS', 'ftId': 'VAR_004129', 'description': 'in PS; dbSNP:rs121918510', 'alternativeSequence': 'A', 'begin': '321', 'end': '321', 'molecule': '', 'evidences': [{'code': 'ECO:0000269', 'source': {'name': 'PubMed', 'id': '7719333', 'url': 'http://www.ncbi.nlm.nih.gov/pubmed/7719333', 'alternativeUrl': 'https://europepmc.org/abstract/MED/7719333'}}]}, {'type': 'VARIANT', 'category': 'VARIANTS', 'ftId': 'VAR_004130', 'description': 'in CS; dbSNP:rs121918493', 'alternativeSequence': 'C', 'begin': '328', 'end': '328', 'molecule': '', 'evidences': [{'code': 'ECO:0000269', 'source': {'name': 'PubMed', 'id': '7874170', 'url': 'http://www.ncbi.nlm.nih.gov/pubmed/7874170', 'alternativeUrl': 'https://europepmc.org/abstract/MED/7874170'}}]}, {'type': 'VARIANT', 'category': 'VARIANTS', 'ftId': 'VAR_004131', 'description': 'in CS', 'alternativeSequence': 'I', 'begin': '331', 'end': '331', 'molecule': '', 'evidences': [{'code': 'ECO:0000269', 'source': {'name': 'PubMed', 'id': '8956050', 'url': 'http://www.ncbi.nlm.nih.gov/pubmed/8956050', 'alternativeUrl': 'https://europepmc.org/abstract/MED/8956050'}}]}, {'type': 'VARIANT', 'category': 'VARIANTS', 'ftId': 'VAR_004132', 'description': 'in CS', 'alternativeSequence': 'ANA', 'begin': '337', 'end': '337', 'molecule': ''}, {'type': 'VARIANT', 'category': 'VARIANTS', 'ftId': 'VAR_017268', 'description': 'in CS; dbSNP:rs387906676', 'alternativeSequence': 'P', 'begin': '337', 'end': '337', 'molecule': '', 'evidences': [{'code': 'ECO:0000269', 'source': {'name': 'PubMed', 'id': '9677057', 'url': 'http://www.ncbi.nlm.nih.gov/pubmed/9677057', 'alternativeUrl': 'https://europepmc.org/abstract/MED/9677057'}}]}, {'type': 'VARIANT', 'category': 'VARIANTS', 'ftId': 'VAR_004133', 'description': 'in CS; dbSNP:rs1057519044', 'alternativeSequence': 'E', 'begin': '338', 'end': '338', 'molecule': '', 'evidences': [{'code': 'ECO:0000269', 'source': {'name': 'PubMed', 'id': '8946174', 'url': 'http://www.ncbi.nlm.nih.gov/pubmed/8946174', 'alternativeUrl': 'https://europepmc.org/abstract/MED/8946174'}}]}, {'type': 'VARIANT', 'category': 'VARIANTS', 'ftId': 'VAR_015011', 'description': 'in CS; dbSNP:rs1057519043', 'alternativeSequence': 'R', 'begin': '338', 'end': '338', 'molecule': '', 'evidences': [{'code': 'ECO:0000269', 'source': {'name': 'PubMed', 'id': '11781872', 'url': 'http://www.ncbi.nlm.nih.gov/pubmed/11781872', 'alternativeUrl': 'https://europepmc.org/abstract/MED/11781872'}}, {'code': 'ECO:0000269', 'source': {'name': 'PubMed', 'id': '7581378', 'url': 'http://www.ncbi.nlm.nih.gov/pubmed/7581378', 'alternativeUrl': 'https://europepmc.org/abstract/MED/7581378'}}, {'code': 'ECO:0000269', 'source': {'name': 'PubMed', 'id': '9677057', 'url': 'http://www.ncbi.nlm.nih.gov/pubmed/9677057', 'alternativeUrl': 'https://europepmc.org/abstract/MED/9677057'}}]}, {'type': 'VARIANT', 'category': 'VARIANTS', 'ftId': 'VAR_017269', 'description': 'in PS; dbSNP:rs1554928884', 'alternativeSequence': 'C', 'begin': '340', 'end': '340', 'molecule': '', 'evidences': [{'code': 'ECO:0000269', 'source': {'name': 'PubMed', 'id': '10394936', 'url': 'http://www.ncbi.nlm.nih.gov/pubmed/10394936', 'alternativeUrl': 'https://europepmc.org/abstract/MED/10394936'}}, {'code': 'ECO:0000269', 'source': {'name': 'PubMed', 'id': '11781872', 'url': 'http://www.ncbi.nlm.nih.gov/pubmed/11781872', 'alternativeUrl': 'https://europepmc.org/abstract/MED/11781872'}}]}, {'type': 'VARIANT', 'category': 'VARIANTS', 'ftId': 'VAR_004134', 'description': 'in CS; dbSNP:rs121918489', 'alternativeSequence': 'H', 'begin': '340', 'end': '340', 'molecule': '', 'evidences': [{'code': 'ECO:0000269', 'source': {'name': 'PubMed', 'id': '11781872', 'url': 'http://www.ncbi.nlm.nih.gov/pubmed/11781872', 'alternativeUrl': 'https://europepmc.org/abstract/MED/11781872'}}, {'code': 'ECO:0000269', 'source': {'name': 'PubMed', 'id': '7987400', 'url': 'http://www.ncbi.nlm.nih.gov/pubmed/7987400', 'alternativeUrl': 'https://europepmc.org/abstract/MED/7987400'}}]}, {'type': 'VARIANT', 'category': 'VARIANTS', 'ftId': 'VAR_004135', 'description': 'in PS and CS; dbSNP:rs121918495', 'alternativeSequence': 'P', 'begin': '341', 'end': '341', 'molecule': '', 'evidences': [{'code': 'ECO:0000269', 'source': {'name': 'PubMed', 'id': '11173845', 'url': 'http://www.ncbi.nlm.nih.gov/pubmed/11173845', 'alternativeUrl': 'https://europepmc.org/abstract/MED/11173845'}}, {'code': 'ECO:0000269', 'source': {'name': 'PubMed', 'id': '11781872', 'url': 'http://www.ncbi.nlm.nih.gov/pubmed/11781872', 'alternativeUrl': 'https://europepmc.org/abstract/MED/11781872'}}, {'code': 'ECO:0000269', 'source': {'name': 'PubMed', 'id': '7719345', 'url': 'http://www.ncbi.nlm.nih.gov/pubmed/7719345', 'alternativeUrl': 'https://europepmc.org/abstract/MED/7719345'}}]}, {'type': 'VARIANT', 'category': 'VARIANTS', 'ftId': 'VAR_004136', 'description': 'in CS; dbSNP:rs121918487', 'alternativeSequence': 'F', 'begin': '342', 'end': '342', 'molecule': '', 'evidences': [{'code': 'ECO:0000269', 'source': {'name': 'PubMed', 'id': '11781872', 'url': 'http://www.ncbi.nlm.nih.gov/pubmed/11781872', 'alternativeUrl': 'https://europepmc.org/abstract/MED/11781872'}}, {'code': 'ECO:0000269', 'source': {'name': 'PubMed', 'id': '8644708', 'url': 'http://www.ncbi.nlm.nih.gov/pubmed/8644708', 'alternativeUrl': 'https://europepmc.org/abstract/MED/8644708'}}, {'code': 'ECO:0000269', 'source': {'name': 'PubMed', 'id': '9677057', 'url': 'http://www.ncbi.nlm.nih.gov/pubmed/9677057', 'alternativeUrl': 'https://europepmc.org/abstract/MED/9677057'}}]}, {'type': 'VARIANT', 'category': 'VARIANTS', 'ftId': 'VAR_017270', 'description': 'in PS; dbSNP:rs121918488', 'alternativeSequence': 'G', 'begin': '342', 'end': '342', 'molecule': '', 'evidences': [{'code': 'ECO:0000269', 'source': {'name': 'PubMed', 'id': '10394936', 'url': 'http://www.ncbi.nlm.nih.gov/pubmed/10394936', 'alternativeUrl': 'https://europepmc.org/abstract/MED/10394936'}}]}, {'type': 'VARIANT', 'category': 'VARIANTS', 'ftId': 'VAR_004137', 'description': 'in CS, JWS, PS and ABS2; dbSNP:rs121918488', 'alternativeSequence': 'R', 'begin': '342', 'end': '342', 'molecule': '', 'evidences': [{'code': 'ECO:0000269', 'source': {'name': 'PubMed', 'id': '10633130', 'url': 'http://www.ncbi.nlm.nih.gov/pubmed/10633130', 'alternativeUrl': 'https://europepmc.org/abstract/MED/10633130'}}, {'code': 'ECO:0000269', 'source': {'name': 'PubMed', 'id': '11173845', 'url': 'http://www.ncbi.nlm.nih.gov/pubmed/11173845', 'alternativeUrl': 'https://europepmc.org/abstract/MED/11173845'}}, {'code': 'ECO:0000269', 'source': {'name': 'PubMed', 'id': '11380921', 'url': 'http://www.ncbi.nlm.nih.gov/pubmed/11380921', 'alternativeUrl': 'https://europepmc.org/abstract/MED/11380921'}}, {'code': 'ECO:0000269', 'source': {'name': 'PubMed', 'id': '11781872', 'url': 'http://www.ncbi.nlm.nih.gov/pubmed/11781872', 'alternativeUrl': 'https://europepmc.org/abstract/MED/11781872'}}, {'code': 'ECO:0000269', 'source': {'name': 'PubMed', 'id': '7719345', 'url': 'http://www.ncbi.nlm.nih.gov/pubmed/7719345', 'alternativeUrl': 'https://europepmc.org/abstract/MED/7719345'}}, {'code': 'ECO:0000269', 'source': {'name': 'PubMed', 'id': '7987400', 'url': 'http://www.ncbi.nlm.nih.gov/pubmed/7987400', 'alternativeUrl': 'https://europepmc.org/abstract/MED/7987400'}}, {'code': 'ECO:0000269', 'source': {'name': 'PubMed', 'id': '8528214', 'url': 'http://www.ncbi.nlm.nih.gov/pubmed/8528214', 'alternativeUrl': 'https://europepmc.org/abstract/MED/8528214'}}, {'code': 'ECO:0000269', 'source': {'name': 'PubMed', 'id': '8644708', 'url': 'http://www.ncbi.nlm.nih.gov/pubmed/8644708', 'alternativeUrl': 'https://europepmc.org/abstract/MED/8644708'}}, {'code': 'ECO:0000269', 'source': {'name': 'PubMed', 'id': '9677057', 'url': 'http://www.ncbi.nlm.nih.gov/pubmed/9677057', 'alternativeUrl': 'https://europepmc.org/abstract/MED/9677057'}}]}, {'type': 'VARIANT', 'category': 'VARIANTS', 'ftId': 'VAR_004138', 'description': 'in CS, JWS, PS and ABS2; dbSNP:rs121918488', 'alternativeSequence': 'S', 'begin': '342', 'end': '342', 'molecule': '', 'evidences': [{'code': 'ECO:0000269', 'source': {'name': 'PubMed', 'id': '10633130', 'url': 'http://www.ncbi.nlm.nih.gov/pubmed/10633130', 'alternativeUrl': 'https://europepmc.org/abstract/MED/10633130'}}, {'code': 'ECO:0000269', 'source': {'name': 'PubMed', 'id': '11173845', 'url': 'http://www.ncbi.nlm.nih.gov/pubmed/11173845', 'alternativeUrl': 'https://europepmc.org/abstract/MED/11173845'}}, {'code': 'ECO:0000269', 'source': {'name': 'PubMed', 'id': '11781872', 'url': 'http://www.ncbi.nlm.nih.gov/pubmed/11781872', 'alternativeUrl': 'https://europepmc.org/abstract/MED/11781872'}}, {'code': 'ECO:0000269', 'source': {'name': 'PubMed', 'id': '7581378', 'url': 'http://www.ncbi.nlm.nih.gov/pubmed/7581378', 'alternativeUrl': 'https://europepmc.org/abstract/MED/7581378'}}, {'code': 'ECO:0000269', 'source': {'name': 'PubMed', 'id': '7987400', 'url': 'http://www.ncbi.nlm.nih.gov/pubmed/7987400', 'alternativeUrl': 'https://europepmc.org/abstract/MED/7987400'}}, {'code': 'ECO:0000269', 'source': {'name': 'PubMed', 'id': '8644708', 'url': 'http://www.ncbi.nlm.nih.gov/pubmed/8644708', 'alternativeUrl': 'https://europepmc.org/abstract/MED/8644708'}}, {'code': 'ECO:0000269', 'source': {'name': 'PubMed', 'id': '9385368', 'url': 'http://www.ncbi.nlm.nih.gov/pubmed/9385368', 'alternativeUrl': 'https://europepmc.org/abstract/MED/9385368'}}, {'code': 'ECO:0000269', 'source': {'name': 'Citation', 'id': 'Ref.10', 'url': 'https://www.uniprot.org/uniprot/P21802#ref10'}}]}, {'type': 'VARIANT', 'category': 'VARIANTS', 'ftId': 'VAR_017271', 'description': 'in CS; dbSNP:rs121918496', 'alternativeSequence': 'W', 'begin': '342', 'end': '342', 'molecule': '', 'evidences': [{'code': 'ECO:0000269', 'source': {'name': 'PubMed', 'id': '11173845', 'url': 'http://www.ncbi.nlm.nih.gov/pubmed/11173845', 'alternativeUrl': 'https://europepmc.org/abstract/MED/11173845'}}, {'code': 'ECO:0000269', 'source': {'name': 'PubMed', 'id': '11781872', 'url': 'http://www.ncbi.nlm.nih.gov/pubmed/11781872', 'alternativeUrl': 'https://europepmc.org/abstract/MED/11781872'}}, {'code': 'ECO:0000269', 'source': {'name': 'PubMed', 'id': '8528214', 'url': 'http://www.ncbi.nlm.nih.gov/pubmed/8528214', 'alternativeUrl': 'https://europepmc.org/abstract/MED/8528214'}}]}, {'type': 'VARIANT', 'category': 'VARIANTS', 'ftId': 'VAR_004139', 'description': 'in CS and PS; dbSNP:rs121918487', 'alternativeSequence': 'Y', 'begin': '342', 'end': '342', 'molecule': '', 'evidences': [{'code': 'ECO:0000269', 'source': {'name': 'PubMed', 'id': '11173845', 'url': 'http://www.ncbi.nlm.nih.gov/pubmed/11173845', 'alternativeUrl': 'https://europepmc.org/abstract/MED/11173845'}}, {'code': 'ECO:0000269', 'source': {'name': 'PubMed', 'id': '11380921', 'url': 'http://www.ncbi.nlm.nih.gov/pubmed/11380921', 'alternativeUrl': 'https://europepmc.org/abstract/MED/11380921'}}, {'code': 'ECO:0000269', 'source': {'name': 'PubMed', 'id': '11781872', 'url': 'http://www.ncbi.nlm.nih.gov/pubmed/11781872', 'alternativeUrl': 'https://europepmc.org/abstract/MED/11781872'}}, {'code': 'ECO:0000269', 'source': {'name': 'PubMed', 'id': '7581378', 'url': 'http://www.ncbi.nlm.nih.gov/pubmed/7581378', 'alternativeUrl': 'https://europepmc.org/abstract/MED/7581378'}}, {'code': 'ECO:0000269', 'source': {'name': 'PubMed', 'id': '7719345', 'url': 'http://www.ncbi.nlm.nih.gov/pubmed/7719345', 'alternativeUrl': 'https://europepmc.org/abstract/MED/7719345'}}, {'code': 'ECO:0000269', 'source': {'name': 'PubMed', 'id': '7987400', 'url': 'http://www.ncbi.nlm.nih.gov/pubmed/7987400', 'alternativeUrl': 'https://europepmc.org/abstract/MED/7987400'}}, {'code': 'ECO:0000269', 'source': {'name': 'PubMed', 'id': '8644708', 'url': 'http://www.ncbi.nlm.nih.gov/pubmed/8644708', 'alternativeUrl': 'https://europepmc.org/abstract/MED/8644708'}}, {'code': 'ECO:0000269', 'source': {'name': 'PubMed', 'id': '9677057', 'url': 'http://www.ncbi.nlm.nih.gov/pubmed/9677057', 'alternativeUrl': 'https://europepmc.org/abstract/MED/9677057'}}]}, {'type': 'VARIANT', 'category': 'VARIANTS', 'ftId': 'VAR_004140', 'description': 'in CS and JWS; dbSNP:rs121918492', 'alternativeSequence': 'G', 'begin': '344', 'end': '344', 'molecule': '', 'evidences': [{'code': 'ECO:0000269', 'source': {'name': 'PubMed', 'id': '7581378', 'url': 'http://www.ncbi.nlm.nih.gov/pubmed/7581378', 'alternativeUrl': 'https://europepmc.org/abstract/MED/7581378'}}, {'code': 'ECO:0000269', 'source': {'name': 'PubMed', 'id': '7874170', 'url': 'http://www.ncbi.nlm.nih.gov/pubmed/7874170', 'alternativeUrl': 'https://europepmc.org/abstract/MED/7874170'}}]}, {'type': 'VARIANT', 'category': 'VARIANTS', 'ftId': 'VAR_004141', 'description': 'in CS and PS', 'alternativeSequence': 'P', 'begin': '344', 'end': '344', 'molecule': '', 'evidences': [{'code': 'ECO:0000269', 'source': {'name': 'PubMed', 'id': '8644708', 'url': 'http://www.ncbi.nlm.nih.gov/pubmed/8644708', 'alternativeUrl': 'https://europepmc.org/abstract/MED/8644708'}}]}, {'type': 'VARIANT', 'category': 'VARIANTS', 'ftId': 'VAR_004142', 'description': 'in CS; dbSNP:rs121918494', 'alternativeSequence': 'C', 'begin': '347', 'end': '347', 'molecule': '', 'evidences': [{'code': 'ECO:0000269', 'source': {'name': 'PubMed', 'id': '11781872', 'url': 'http://www.ncbi.nlm.nih.gov/pubmed/11781872', 'alternativeUrl': 'https://europepmc.org/abstract/MED/11781872'}}, {'code': 'ECO:0000269', 'source': {'name': 'PubMed', 'id': '7874170', 'url': 'http://www.ncbi.nlm.nih.gov/pubmed/7874170', 'alternativeUrl': 'https://europepmc.org/abstract/MED/7874170'}}]}, {'type': 'VARIANT', 'category': 'VARIANTS', 'ftId': 'VAR_004143', 'description': 'in CS, PS and ABS2; dbSNP:rs121918502', 'alternativeSequence': 'C', 'begin': '351', 'end': '351', 'molecule': '', 'evidences': [{'code': 'ECO:0000269', 'source': {'name': 'PubMed', 'id': '10633130', 'url': 'http://www.ncbi.nlm.nih.gov/pubmed/10633130', 'alternativeUrl': 'https://europepmc.org/abstract/MED/10633130'}}, {'code': 'ECO:0000269', 'source': {'name': 'PubMed', 'id': '8946174', 'url': 'http://www.ncbi.nlm.nih.gov/pubmed/8946174', 'alternativeUrl': 'https://europepmc.org/abstract/MED/8946174'}}, {'code': 'ECO:0000269', 'source': {'name': 'PubMed', 'id': '9693549', 'url': 'http://www.ncbi.nlm.nih.gov/pubmed/9693549', 'alternativeUrl': 'https://europepmc.org/abstract/MED/9693549'}}]}, {'type': 'VARIANT', 'category': 'VARIANTS', 'ftId': 'VAR_004144', 'description': 'in CS; dbSNP:rs121918490', 'alternativeSequence': 'C', 'begin': '354', 'end': '354', 'molecule': '', 'evidences': [{'code': 'ECO:0000269', 'source': {'name': 'PubMed', 'id': '11173845', 'url': 'http://www.ncbi.nlm.nih.gov/pubmed/11173845', 'alternativeUrl': 'https://europepmc.org/abstract/MED/11173845'}}, {'code': 'ECO:0000269', 'source': {'name': 'PubMed', 'id': '11781872', 'url': 'http://www.ncbi.nlm.nih.gov/pubmed/11781872', 'alternativeUrl': 'https://europepmc.org/abstract/MED/11781872'}}, {'code': 'ECO:0000269', 'source': {'name': 'PubMed', 'id': '7581378', 'url': 'http://www.ncbi.nlm.nih.gov/pubmed/7581378', 'alternativeUrl': 'https://europepmc.org/abstract/MED/7581378'}}, {'code': 'ECO:0000269', 'source': {'name': 'PubMed', 'id': '7987400', 'url': 'http://www.ncbi.nlm.nih.gov/pubmed/7987400', 'alternativeUrl': 'https://europepmc.org/abstract/MED/7987400'}}, {'code': 'ECO:0000269', 'source': {'name': 'PubMed', 'id': '8528214', 'url': 'http://www.ncbi.nlm.nih.gov/pubmed/8528214', 'alternativeUrl': 'https://europepmc.org/abstract/MED/8528214'}}]}, {'type': 'VARIANT', 'category': 'VARIANTS', 'ftId': 'VAR_017272', 'description': 'in CS', 'alternativeSequence': 'Y', 'begin': '354', 'end': '354', 'molecule': '', 'evidences': [{'code': 'ECO:0000269', 'source': {'name': 'PubMed', 'id': '11173845', 'url': 'http://www.ncbi.nlm.nih.gov/pubmed/11173845', 'alternativeUrl': 'https://europepmc.org/abstract/MED/11173845'}}]}, {'type': 'VARIANT', 'category': 'VARIANTS', 'ftId': 'VAR_004145', 'description': 'in CS', 'alternativeSequence': '', 'begin': '356', 'end': '358', 'molecule': '', 'evidences': [{'code': 'ECO:0000269', 'source': {'name': 'PubMed', 'id': '8956050', 'url': 'http://www.ncbi.nlm.nih.gov/pubmed/8956050', 'alternativeUrl': 'https://europepmc.org/abstract/MED/8956050'}}]}, {'type': 'VARIANT', 'category': 'VARIANTS', 'ftId': 'VAR_004146', 'description': 'in CS and PS', 'alternativeSequence': 'F', 'begin': '359', 'end': '359', 'molecule': '', 'evidences': [{'code': 'ECO:0000269', 'source': {'name': 'PubMed', 'id': '11173845', 'url': 'http://www.ncbi.nlm.nih.gov/pubmed/11173845', 'alternativeUrl': 'https://europepmc.org/abstract/MED/11173845'}}, {'code': 'ECO:0000269', 'source': {'name': 'PubMed', 'id': '8644708', 'url': 'http://www.ncbi.nlm.nih.gov/pubmed/8644708', 'alternativeUrl': 'https://europepmc.org/abstract/MED/8644708'}}]}, {'type': 'VARIANT', 'category': 'VARIANTS', 'ftId': 'VAR_017273', 'description': 'in CS', 'alternativeSequence': 'S', 'begin': '362', 'end': '362', 'molecule': '', 'evidences': [{'code': 'ECO:0000269', 'source': {'name': 'PubMed', 'id': '10574673', 'url': 'http://www.ncbi.nlm.nih.gov/pubmed/10574673', 'alternativeUrl': 'https://europepmc.org/abstract/MED/10574673'}}]}, {'type': 'VARIANT', 'category': 'VARIANTS', 'ftId': 'VAR_017274', 'description': 'in BSTVS; dbSNP:rs121913477', 'alternativeSequence': 'C', 'begin': '372', 'end': '372', 'molecule': '', 'evidences': [{'code': 'ECO:0000269', 'source': {'name': 'PubMed', 'id': '8696350', 'url': 'http://www.ncbi.nlm.nih.gov/pubmed/8696350', 'alternativeUrl': 'https://europepmc.org/abstract/MED/8696350'}}]}, {'type': 'VARIANT', 'category': 'VARIANTS', 'ftId': 'VAR_017275', 'description': 'in PS and BSTVS; dbSNP:rs121913478', 'alternativeSequence': 'C', 'begin': '375', 'end': '375', 'molecule': '', 'evidences': [{'code': 'ECO:0000269', 'source': {'name': 'PubMed', 'id': '11781872', 'url': 'http://www.ncbi.nlm.nih.gov/pubmed/11781872', 'alternativeUrl': 'https://europepmc.org/abstract/MED/11781872'}}, {'code': 'ECO:0000269', 'source': {'name': 'PubMed', 'id': '12000365', 'url': 'http://www.ncbi.nlm.nih.gov/pubmed/12000365', 'alternativeUrl': 'https://europepmc.org/abstract/MED/12000365'}}, {'code': 'ECO:0000269', 'source': {'name': 'PubMed', 'id': '8696350', 'url': 'http://www.ncbi.nlm.nih.gov/pubmed/8696350', 'alternativeUrl': 'https://europepmc.org/abstract/MED/8696350'}}]}, {'type': 'VARIANT', 'category': 'VARIANTS', 'ftId': 'VAR_067977', 'description': 'in BBDS; dbSNP:rs387906678', 'alternativeSequence': 'D', 'begin': '381', 'end': '381', 'molecule': '', 'evidences': [{'code': 'ECO:0000269', 'source': {'name': 'PubMed', 'id': '22387015', 'url': 'http://www.ncbi.nlm.nih.gov/pubmed/22387015', 'alternativeUrl': 'https://europepmc.org/abstract/MED/22387015'}}]}, {'type': 'VARIANT', 'category': 'VARIANTS', 'ftId': 'VAR_004147', 'description': 'in CS; dbSNP:rs1554927408', 'alternativeSequence': 'R', 'begin': '384', 'end': '384', 'molecule': '', 'evidences': [{'code': 'ECO:0000269', 'source': {'name': 'PubMed', 'id': '8946174', 'url': 'http://www.ncbi.nlm.nih.gov/pubmed/8946174', 'alternativeUrl': 'https://europepmc.org/abstract/MED/8946174'}}]}, {'type': 'VARIANT', 'category': 'VARIANTS', 'ftId': 'VAR_067978', 'description': \"in BBDS; the mutation selectively reduces plasma-membrane levels of the protein and markedly diminishes the receptor's responsiveness to extracellular FGF; dbSNP:rs387906677\", 'alternativeSequence': 'R', 'begin': '391', 'end': '391', 'molecule': '', 'evidences': [{'code': 'ECO:0000269', 'source': {'name': 'PubMed', 'id': '22387015', 'url': 'http://www.ncbi.nlm.nih.gov/pubmed/22387015', 'alternativeUrl': 'https://europepmc.org/abstract/MED/22387015'}}]}, {'type': 'VARIANT', 'category': 'VARIANTS', 'ftId': 'VAR_023788', 'description': 'in FSPC; constitutive kinase activity; dbSNP:rs121918507', 'alternativeSequence': 'E', 'begin': '526', 'end': '526', 'molecule': '', 'evidences': [{'code': 'ECO:0000269', 'source': {'name': 'PubMed', 'id': '16061565', 'url': 'http://www.ncbi.nlm.nih.gov/pubmed/16061565', 'alternativeUrl': 'https://europepmc.org/abstract/MED/16061565'}}, {'code': 'ECO:0000269', 'source': {'name': 'PubMed', 'id': '17803937', 'url': 'http://www.ncbi.nlm.nih.gov/pubmed/17803937', 'alternativeUrl': 'https://europepmc.org/abstract/MED/17803937'}}]}, {'type': 'VARIANT', 'category': 'VARIANTS', 'ftId': 'VAR_017276', 'description': 'in CS; constitutive kinase activity; dbSNP:rs1057519045', 'alternativeSequence': 'H', 'begin': '549', 'end': '549', 'molecule': '', 'evidences': [{'code': 'ECO:0000269', 'source': {'name': 'PubMed', 'id': '11781872', 'url': 'http://www.ncbi.nlm.nih.gov/pubmed/11781872', 'alternativeUrl': 'https://europepmc.org/abstract/MED/11781872'}}, {'code': 'ECO:0000269', 'source': {'name': 'PubMed', 'id': '17803937', 'url': 'http://www.ncbi.nlm.nih.gov/pubmed/17803937', 'alternativeUrl': 'https://europepmc.org/abstract/MED/17803937'}}]}, {'type': 'VARIANT', 'category': 'VARIANTS', 'ftId': 'VAR_017277', 'description': 'in PS; constitutive kinase activity; dbSNP:rs121918506', 'alternativeSequence': 'G', 'begin': '565', 'end': '565', 'molecule': '', 'evidences': [{'code': 'ECO:0000269', 'source': {'name': 'PubMed', 'id': '11781872', 'url': 'http://www.ncbi.nlm.nih.gov/pubmed/11781872', 'alternativeUrl': 'https://europepmc.org/abstract/MED/11781872'}}, {'code': 'ECO:0000269', 'source': {'name': 'PubMed', 'id': '17803937', 'url': 'http://www.ncbi.nlm.nih.gov/pubmed/17803937', 'alternativeUrl': 'https://europepmc.org/abstract/MED/17803937'}}]}, {'type': 'VARIANT', 'category': 'VARIANTS', 'ftId': 'VAR_046071', 'description': 'in a lung adenocarcinoma sample; somatic mutation', 'alternativeSequence': 'T', 'begin': '612', 'end': '612', 'molecule': '', 'evidences': [{'code': 'ECO:0000269', 'source': {'name': 'PubMed', 'id': '17344846', 'url': 'http://www.ncbi.nlm.nih.gov/pubmed/17344846', 'alternativeUrl': 'https://europepmc.org/abstract/MED/17344846'}}]}, {'type': 'VARIANT', 'category': 'VARIANTS', 'ftId': 'VAR_015012', 'description': '', 'alternativeSequence': 'R', 'begin': '613', 'end': '613', 'molecule': '', 'evidences': [{'code': 'ECO:0000269', 'source': {'name': 'PubMed', 'id': '10626794', 'url': 'http://www.ncbi.nlm.nih.gov/pubmed/10626794', 'alternativeUrl': 'https://europepmc.org/abstract/MED/10626794'}}, {'code': 'ECO:0000269', 'source': {'name': 'PubMed', 'id': '1309608', 'url': 'http://www.ncbi.nlm.nih.gov/pubmed/1309608', 'alternativeUrl': 'https://europepmc.org/abstract/MED/1309608'}}]}, {'type': 'VARIANT', 'category': 'VARIANTS', 'ftId': 'VAR_029884', 'description': 'in LADDS; strongly reduced kinase activity; dbSNP:rs121918509', 'alternativeSequence': 'T', 'begin': '628', 'end': '628', 'molecule': '', 'evidences': [{'code': 'ECO:0000269', 'source': {'name': 'PubMed', 'id': '16501574', 'url': 'http://www.ncbi.nlm.nih.gov/pubmed/16501574', 'alternativeUrl': 'https://europepmc.org/abstract/MED/16501574'}}]}, {'type': 'VARIANT', 'category': 'VARIANTS', 'ftId': 'VAR_017278', 'description': 'in PS; constitutive kinase activity; dbSNP:rs1057519047', 'alternativeSequence': 'R', 'begin': '641', 'end': '641', 'molecule': '', 'evidences': [{'code': 'ECO:0000269', 'source': {'name': 'PubMed', 'id': '11781872', 'url': 'http://www.ncbi.nlm.nih.gov/pubmed/11781872', 'alternativeUrl': 'https://europepmc.org/abstract/MED/11781872'}}, {'code': 'ECO:0000269', 'source': {'name': 'PubMed', 'id': '17803937', 'url': 'http://www.ncbi.nlm.nih.gov/pubmed/17803937', 'alternativeUrl': 'https://europepmc.org/abstract/MED/17803937'}}]}, {'type': 'VARIANT', 'category': 'VARIANTS', 'ftId': 'VAR_029885', 'description': 'in LADDS; dbSNP:rs121918508', 'alternativeSequence': 'T', 'begin': '648', 'end': '648', 'molecule': '', 'evidences': [{'code': 'ECO:0000269', 'source': {'name': 'PubMed', 'id': '16501574', 'url': 'http://www.ncbi.nlm.nih.gov/pubmed/16501574', 'alternativeUrl': 'https://europepmc.org/abstract/MED/16501574'}}]}, {'type': 'VARIANT', 'category': 'VARIANTS', 'ftId': 'VAR_029886', 'description': 'in LADDS', 'alternativeSequence': 'S', 'begin': '649', 'end': '650', 'molecule': '', 'evidences': [{'code': 'ECO:0000269', 'source': {'name': 'PubMed', 'id': '16501574', 'url': 'http://www.ncbi.nlm.nih.gov/pubmed/16501574', 'alternativeUrl': 'https://europepmc.org/abstract/MED/16501574'}}]}, {'type': 'VARIANT', 'category': 'VARIANTS', 'ftId': 'VAR_017279', 'description': 'in craniosynostosis; constitutive kinase activity', 'alternativeSequence': 'N', 'begin': '659', 'end': '659', 'molecule': '', 'evidences': [{'code': 'ECO:0000269', 'source': {'name': 'PubMed', 'id': '11781872', 'url': 'http://www.ncbi.nlm.nih.gov/pubmed/11781872', 'alternativeUrl': 'https://europepmc.org/abstract/MED/11781872'}}, {'code': 'ECO:0000269', 'source': {'name': 'PubMed', 'id': '17803937', 'url': 'http://www.ncbi.nlm.nih.gov/pubmed/17803937', 'alternativeUrl': 'https://europepmc.org/abstract/MED/17803937'}}]}, {'type': 'VARIANT', 'category': 'VARIANTS', 'ftId': 'VAR_017280', 'description': 'in PS', 'alternativeSequence': 'E', 'begin': '663', 'end': '663', 'molecule': '', 'evidences': [{'code': 'ECO:0000269', 'source': {'name': 'PubMed', 'id': '11781872', 'url': 'http://www.ncbi.nlm.nih.gov/pubmed/11781872', 'alternativeUrl': 'https://europepmc.org/abstract/MED/11781872'}}]}, {'type': 'VARIANT', 'category': 'VARIANTS', 'ftId': 'VAR_017281', 'description': 'in CS', 'alternativeSequence': 'G', 'begin': '678', 'end': '678', 'molecule': '', 'evidences': [{'code': 'ECO:0000269', 'source': {'name': 'PubMed', 'id': '11781872', 'url': 'http://www.ncbi.nlm.nih.gov/pubmed/11781872', 'alternativeUrl': 'https://europepmc.org/abstract/MED/11781872'}}]}, {'type': 'MUTAGEN', 'category': 'MUTAGENESIS', 'description': 'Reduced N-glycosylation. Reduced expression at the cell surface.', 'alternativeSequence': 'Q', 'begin': '265', 'end': '265', 'molecule': '', 'evidences': [{'code': 'ECO:0000269', 'source': {'name': 'PubMed', 'id': '16844695', 'url': 'http://www.ncbi.nlm.nih.gov/pubmed/16844695', 'alternativeUrl': 'https://europepmc.org/abstract/MED/16844695'}}]}, {'type': 'MUTAGEN', 'category': 'MUTAGENESIS', 'description': 'Constitutive kinase activity.', 'alternativeSequence': 'T', 'begin': '549', 'end': '549', 'molecule': '', 'evidences': [{'code': 'ECO:0000269', 'source': {'name': 'PubMed', 'id': '17803937', 'url': 'http://www.ncbi.nlm.nih.gov/pubmed/17803937', 'alternativeUrl': 'https://europepmc.org/abstract/MED/17803937'}}]}, {'type': 'MUTAGEN', 'category': 'MUTAGENESIS', 'description': 'Constitutive kinase activity.', 'alternativeSequence': 'A', 'begin': '565', 'end': '565', 'molecule': '', 'evidences': [{'code': 'ECO:0000269', 'source': {'name': 'PubMed', 'id': '17803937', 'url': 'http://www.ncbi.nlm.nih.gov/pubmed/17803937', 'alternativeUrl': 'https://europepmc.org/abstract/MED/17803937'}}]}, {'type': 'MUTAGEN', 'category': 'MUTAGENESIS', 'description': 'Loss of kinase activity.', 'alternativeSequence': '', 'begin': '656', 'end': '657', 'molecule': '', 'evidences': [{'code': 'ECO:0000269', 'source': {'name': 'PubMed', 'id': '16844695', 'url': 'http://www.ncbi.nlm.nih.gov/pubmed/16844695', 'alternativeUrl': 'https://europepmc.org/abstract/MED/16844695'}}]}, {'type': 'MUTAGEN', 'category': 'MUTAGENESIS', 'description': 'Increases fibroblast proliferation. Decreases phosphorylation of PLCG1 and FRS2. Decreases activation of MAP kinases.', 'alternativeSequence': 'F', 'begin': '769', 'end': '769', 'molecule': '', 'evidences': [{'code': 'ECO:0000269', 'source': {'name': 'PubMed', 'id': '15629145', 'url': 'http://www.ncbi.nlm.nih.gov/pubmed/15629145', 'alternativeUrl': 'https://europepmc.org/abstract/MED/15629145'}}, {'code': 'ECO:0000269', 'source': {'name': 'PubMed', 'id': '19103595', 'url': 'http://www.ncbi.nlm.nih.gov/pubmed/19103595', 'alternativeUrl': 'https://europepmc.org/abstract/MED/19103595'}}]}, {'type': 'CONFLICT', 'category': 'SEQUENCE_INFORMATION', 'description': 'in Ref. 16; BAG57383', 'alternativeSequence': 'P', 'begin': '246', 'end': '246', 'molecule': '', 'evidences': [{'code': 'ECO:0000305'}]}, {'type': 'CONFLICT', 'category': 'SEQUENCE_INFORMATION', 'description': 'in Ref. 16; BAG57383', 'alternativeSequence': 'N', 'begin': '310', 'end': '310', 'molecule': '', 'evidences': [{'code': 'ECO:0000305'}]}, {'type': 'STRAND', 'category': 'STRUCTURAL', 'begin': '152', 'end': '157', 'molecule': '', 'evidences': [{'code': 'ECO:0000244', 'source': {'name': 'PDB', 'id': '3CAF', 'url': 'https://www.ebi.ac.uk/pdbe-srv/view/entry/3CAF'}}]}, {'type': 'TURN', 'category': 'STRUCTURAL', 'begin': '159', 'end': '162', 'molecule': '', 'evidences': [{'code': 'ECO:0000244', 'source': {'name': 'PDB', 'id': '3CAF', 'url': 'https://www.ebi.ac.uk/pdbe-srv/view/entry/3CAF'}}]}, {'type': 'STRAND', 'category': 'STRUCTURAL', 'begin': '166', 'end': '170', 'molecule': '', 'evidences': [{'code': 'ECO:0000244', 'source': {'name': 'PDB', 'id': '3CAF', 'url': 'https://www.ebi.ac.uk/pdbe-srv/view/entry/3CAF'}}]}, {'type': 'STRAND', 'category': 'STRUCTURAL', 'begin': '175', 'end': '178', 'molecule': '', 'evidences': [{'code': 'ECO:0000244', 'source': {'name': 'PDB', 'id': '3CAF', 'url': 'https://www.ebi.ac.uk/pdbe-srv/view/entry/3CAF'}}]}, {'type': 'STRAND', 'category': 'STRUCTURAL', 'begin': '181', 'end': '185', 'molecule': '', 'evidences': [{'code': 'ECO:0000244', 'source': {'name': 'PDB', 'id': '3CAF', 'url': 'https://www.ebi.ac.uk/pdbe-srv/view/entry/3CAF'}}]}, {'type': 'STRAND', 'category': 'STRUCTURAL', 'begin': '188', 'end': '193', 'molecule': '', 'evidences': [{'code': 'ECO:0000244', 'source': {'name': 'PDB', 'id': '3CAF', 'url': 'https://www.ebi.ac.uk/pdbe-srv/view/entry/3CAF'}}]}, {'type': 'HELIX', 'category': 'STRUCTURAL', 'begin': '200', 'end': '202', 'molecule': '', 'evidences': [{'code': 'ECO:0000244', 'source': {'name': 'PDB', 'id': '3CAF', 'url': 'https://www.ebi.ac.uk/pdbe-srv/view/entry/3CAF'}}]}, {'type': 'STRAND', 'category': 'STRUCTURAL', 'begin': '203', 'end': '205', 'molecule': '', 'evidences': [{'code': 'ECO:0000244', 'source': {'name': 'PDB', 'id': '4WV1', 'url': 'https://www.ebi.ac.uk/pdbe-srv/view/entry/4WV1'}}]}, {'type': 'STRAND', 'category': 'STRUCTURAL', 'begin': '208', 'end': '210', 'molecule': '', 'evidences': [{'code': 'ECO:0000244', 'source': {'name': 'PDB', 'id': '3CAF', 'url': 'https://www.ebi.ac.uk/pdbe-srv/view/entry/3CAF'}}]}, {'type': 'HELIX', 'category': 'STRUCTURAL', 'begin': '211', 'end': '213', 'molecule': '', 'evidences': [{'code': 'ECO:0000244', 'source': {'name': 'PDB', 'id': '3CAF', 'url': 'https://www.ebi.ac.uk/pdbe-srv/view/entry/3CAF'}}]}, {'type': 'STRAND', 'category': 'STRUCTURAL', 'begin': '215', 'end': '218', 'molecule': '', 'evidences': [{'code': 'ECO:0000244', 'source': {'name': 'PDB', 'id': '3CAF', 'url': 'https://www.ebi.ac.uk/pdbe-srv/view/entry/3CAF'}}]}, {'type': 'HELIX', 'category': 'STRUCTURAL', 'begin': '223', 'end': '225', 'molecule': '', 'evidences': [{'code': 'ECO:0000244', 'source': {'name': 'PDB', 'id': '3CAF', 'url': 'https://www.ebi.ac.uk/pdbe-srv/view/entry/3CAF'}}]}, {'type': 'STRAND', 'category': 'STRUCTURAL', 'begin': '227', 'end': '235', 'molecule': '', 'evidences': [{'code': 'ECO:0000244', 'source': {'name': 'PDB', 'id': '3CAF', 'url': 'https://www.ebi.ac.uk/pdbe-srv/view/entry/3CAF'}}]}, {'type': 'STRAND', 'category': 'STRUCTURAL', 'begin': '238', 'end': '249', 'molecule': '', 'evidences': [{'code': 'ECO:0000244', 'source': {'name': 'PDB', 'id': '3CAF', 'url': 'https://www.ebi.ac.uk/pdbe-srv/view/entry/3CAF'}}]}, {'type': 'STRAND', 'category': 'STRUCTURAL', 'begin': '266', 'end': '269', 'molecule': '', 'evidences': [{'code': 'ECO:0000244', 'source': {'name': 'PDB', 'id': '3OJM', 'url': 'https://www.ebi.ac.uk/pdbe-srv/view/entry/3OJM'}}]}, {'type': 'STRAND', 'category': 'STRUCTURAL', 'begin': '274', 'end': '277', 'molecule': '', 'evidences': [{'code': 'ECO:0000244', 'source': {'name': 'PDB', 'id': '3OJM', 'url': 'https://www.ebi.ac.uk/pdbe-srv/view/entry/3OJM'}}]}, {'type': 'STRAND', 'category': 'STRUCTURAL', 'begin': '287', 'end': '293', 'molecule': '', 'evidences': [{'code': 'ECO:0000244', 'source': {'name': 'PDB', 'id': '3OJM', 'url': 'https://www.ebi.ac.uk/pdbe-srv/view/entry/3OJM'}}]}, {'type': 'STRAND', 'category': 'STRUCTURAL', 'begin': '296', 'end': '298', 'molecule': '', 'evidences': [{'code': 'ECO:0000244', 'source': {'name': 'PDB', 'id': '3OJ2', 'url': 'https://www.ebi.ac.uk/pdbe-srv/view/entry/3OJ2'}}]}, {'type': 'STRAND', 'category': 'STRUCTURAL', 'begin': '299', 'end': '301', 'molecule': '', 'evidences': [{'code': 'ECO:0000244', 'source': {'name': 'PDB', 'id': '3OJM', 'url': 'https://www.ebi.ac.uk/pdbe-srv/view/entry/3OJM'}}]}, {'type': 'STRAND', 'category': 'STRUCTURAL', 'begin': '303', 'end': '305', 'molecule': '', 'evidences': [{'code': 'ECO:0000244', 'source': {'name': 'PDB', 'id': '1IIL', 'url': 'https://www.ebi.ac.uk/pdbe-srv/view/entry/1IIL'}}]}, {'type': 'STRAND', 'category': 'STRUCTURAL', 'begin': '309', 'end': '314', 'molecule': '', 'evidences': [{'code': 'ECO:0000244', 'source': {'name': 'PDB', 'id': '3OJM', 'url': 'https://www.ebi.ac.uk/pdbe-srv/view/entry/3OJM'}}]}, {'type': 'STRAND', 'category': 'STRUCTURAL', 'begin': '315', 'end': '319', 'molecule': '', 'evidences': [{'code': 'ECO:0000244', 'source': {'name': 'PDB', 'id': '2FDB', 'url': 'https://www.ebi.ac.uk/pdbe-srv/view/entry/2FDB'}}]}, {'type': 'HELIX', 'category': 'STRUCTURAL', 'begin': '321', 'end': '323', 'molecule': '', 'evidences': [{'code': 'ECO:0000244', 'source': {'name': 'PDB', 'id': '1IIL', 'url': 'https://www.ebi.ac.uk/pdbe-srv/view/entry/1IIL'}}]}, {'type': 'STRAND', 'category': 'STRUCTURAL', 'begin': '324', 'end': '327', 'molecule': '', 'evidences': [{'code': 'ECO:0000244', 'source': {'name': 'PDB', 'id': '3OJM', 'url': 'https://www.ebi.ac.uk/pdbe-srv/view/entry/3OJM'}}]}, {'type': 'HELIX', 'category': 'STRUCTURAL', 'begin': '334', 'end': '336', 'molecule': '', 'evidences': [{'code': 'ECO:0000244', 'source': {'name': 'PDB', 'id': '3OJM', 'url': 'https://www.ebi.ac.uk/pdbe-srv/view/entry/3OJM'}}]}, {'type': 'STRAND', 'category': 'STRUCTURAL', 'begin': '338', 'end': '346', 'molecule': '', 'evidences': [{'code': 'ECO:0000244', 'source': {'name': 'PDB', 'id': '3OJM', 'url': 'https://www.ebi.ac.uk/pdbe-srv/view/entry/3OJM'}}]}, {'type': 'STRAND', 'category': 'STRUCTURAL', 'begin': '349', 'end': '360', 'molecule': '', 'evidences': [{'code': 'ECO:0000244', 'source': {'name': 'PDB', 'id': '3OJM', 'url': 'https://www.ebi.ac.uk/pdbe-srv/view/entry/3OJM'}}]}, {'type': 'TURN', 'category': 'STRUCTURAL', 'begin': '463', 'end': '465', 'molecule': '', 'evidences': [{'code': 'ECO:0000244', 'source': {'name': 'PDB', 'id': '5UI0', 'url': 'https://www.ebi.ac.uk/pdbe-srv/view/entry/5UI0'}}]}, {'type': 'TURN', 'category': 'STRUCTURAL', 'begin': '472', 'end': '474', 'molecule': '', 'evidences': [{'code': 'ECO:0000244', 'source': {'name': 'PDB', 'id': '2PVF', 'url': 'https://www.ebi.ac.uk/pdbe-srv/view/entry/2PVF'}}]}, {'type': 'HELIX', 'category': 'STRUCTURAL', 'begin': '478', 'end': '480', 'molecule': '', 'evidences': [{'code': 'ECO:0000244', 'source': {'name': 'PDB', 'id': '2PVF', 'url': 'https://www.ebi.ac.uk/pdbe-srv/view/entry/2PVF'}}]}, {'type': 'STRAND', 'category': 'STRUCTURAL', 'begin': '481', 'end': '489', 'molecule': '', 'evidences': [{'code': 'ECO:0000244', 'source': {'name': 'PDB', 'id': '2PVF', 'url': 'https://www.ebi.ac.uk/pdbe-srv/view/entry/2PVF'}}]}, {'type': 'STRAND', 'category': 'STRUCTURAL', 'begin': '494', 'end': '500', 'molecule': '', 'evidences': [{'code': 'ECO:0000244', 'source': {'name': 'PDB', 'id': '2PVF', 'url': 'https://www.ebi.ac.uk/pdbe-srv/view/entry/2PVF'}}]}, {'type': 'STRAND', 'category': 'STRUCTURAL', 'begin': '504', 'end': '506', 'molecule': '', 'evidences': [{'code': 'ECO:0000244', 'source': {'name': 'PDB', 'id': '3CLY', 'url': 'https://www.ebi.ac.uk/pdbe-srv/view/entry/3CLY'}}]}, {'type': 'STRAND', 'category': 'STRUCTURAL', 'begin': '513', 'end': '518', 'molecule': '', 'evidences': [{'code': 'ECO:0000244', 'source': {'name': 'PDB', 'id': '2PVF', 'url': 'https://www.ebi.ac.uk/pdbe-srv/view/entry/2PVF'}}]}, {'type': 'HELIX', 'category': 'STRUCTURAL', 'begin': '525', 'end': '541', 'molecule': '', 'evidences': [{'code': 'ECO:0000244', 'source': {'name': 'PDB', 'id': '2PVF', 'url': 'https://www.ebi.ac.uk/pdbe-srv/view/entry/2PVF'}}]}, {'type': 'STRAND', 'category': 'STRUCTURAL', 'begin': '550', 'end': '554', 'molecule': '', 'evidences': [{'code': 'ECO:0000244', 'source': {'name': 'PDB', 'id': '2PVF', 'url': 'https://www.ebi.ac.uk/pdbe-srv/view/entry/2PVF'}}]}, {'type': 'STRAND', 'category': 'STRUCTURAL', 'begin': '556', 'end': '558', 'molecule': '', 'evidences': [{'code': 'ECO:0000244', 'source': {'name': 'PDB', 'id': '2PVF', 'url': 'https://www.ebi.ac.uk/pdbe-srv/view/entry/2PVF'}}]}, {'type': 'STRAND', 'category': 'STRUCTURAL', 'begin': '561', 'end': '565', 'molecule': '', 'evidences': [{'code': 'ECO:0000244', 'source': {'name': 'PDB', 'id': '2PVF', 'url': 'https://www.ebi.ac.uk/pdbe-srv/view/entry/2PVF'}}]}, {'type': 'STRAND', 'category': 'STRUCTURAL', 'begin': '568', 'end': '571', 'molecule': '', 'evidences': [{'code': 'ECO:0000244', 'source': {'name': 'PDB', 'id': '1OEC', 'url': 'https://www.ebi.ac.uk/pdbe-srv/view/entry/1OEC'}}]}, {'type': 'HELIX', 'category': 'STRUCTURAL', 'begin': '572', 'end': '577', 'molecule': '', 'evidences': [{'code': 'ECO:0000244', 'source': {'name': 'PDB', 'id': '2PVF', 'url': 'https://www.ebi.ac.uk/pdbe-srv/view/entry/2PVF'}}]}, {'type': 'TURN', 'category': 'STRUCTURAL', 'begin': '585', 'end': '588', 'molecule': '', 'evidences': [{'code': 'ECO:0000244', 'source': {'name': 'PDB', 'id': '4J99', 'url': 'https://www.ebi.ac.uk/pdbe-srv/view/entry/4J99'}}]}, {'type': 'HELIX', 'category': 'STRUCTURAL', 'begin': '594', 'end': '596', 'molecule': '', 'evidences': [{'code': 'ECO:0000244', 'source': {'name': 'PDB', 'id': '5UI0', 'url': 'https://www.ebi.ac.uk/pdbe-srv/view/entry/5UI0'}}]}, {'type': 'HELIX', 'category': 'STRUCTURAL', 'begin': '600', 'end': '619', 'molecule': '', 'evidences': [{'code': 'ECO:0000244', 'source': {'name': 'PDB', 'id': '2PVF', 'url': 'https://www.ebi.ac.uk/pdbe-srv/view/entry/2PVF'}}]}, {'type': 'HELIX', 'category': 'STRUCTURAL', 'begin': '629', 'end': '631', 'molecule': '', 'evidences': [{'code': 'ECO:0000244', 'source': {'name': 'PDB', 'id': '2PVF', 'url': 'https://www.ebi.ac.uk/pdbe-srv/view/entry/2PVF'}}]}, {'type': 'STRAND', 'category': 'STRUCTURAL', 'begin': '632', 'end': '634', 'molecule': '', 'evidences': [{'code': 'ECO:0000244', 'source': {'name': 'PDB', 'id': '2PVF', 'url': 'https://www.ebi.ac.uk/pdbe-srv/view/entry/2PVF'}}]}, {'type': 'TURN', 'category': 'STRUCTURAL', 'begin': '636', 'end': '638', 'molecule': '', 'evidences': [{'code': 'ECO:0000244', 'source': {'name': 'PDB', 'id': '2PVY', 'url': 'https://www.ebi.ac.uk/pdbe-srv/view/entry/2PVY'}}]}, {'type': 'STRAND', 'category': 'STRUCTURAL', 'begin': '640', 'end': '642', 'molecule': '', 'evidences': [{'code': 'ECO:0000244', 'source': {'name': 'PDB', 'id': '2PVF', 'url': 'https://www.ebi.ac.uk/pdbe-srv/view/entry/2PVF'}}]}, {'type': 'HELIX', 'category': 'STRUCTURAL', 'begin': '645', 'end': '647', 'molecule': '', 'evidences': [{'code': 'ECO:0000244', 'source': {'name': 'PDB', 'id': '5UGL', 'url': 'https://www.ebi.ac.uk/pdbe-srv/view/entry/5UGL'}}]}, {'type': 'TURN', 'category': 'STRUCTURAL', 'begin': '652', 'end': '654', 'molecule': '', 'evidences': [{'code': 'ECO:0000244', 'source': {'name': 'PDB', 'id': '2PVF', 'url': 'https://www.ebi.ac.uk/pdbe-srv/view/entry/2PVF'}}]}, {'type': 'STRAND', 'category': 'STRUCTURAL', 'begin': '655', 'end': '658', 'molecule': '', 'evidences': [{'code': 'ECO:0000244', 'source': {'name': 'PDB', 'id': '2PVF', 'url': 'https://www.ebi.ac.uk/pdbe-srv/view/entry/2PVF'}}]}, {'type': 'TURN', 'category': 'STRUCTURAL', 'begin': '659', 'end': '662', 'molecule': '', 'evidences': [{'code': 'ECO:0000244', 'source': {'name': 'PDB', 'id': '2PZR', 'url': 'https://www.ebi.ac.uk/pdbe-srv/view/entry/2PZR'}}]}, {'type': 'STRAND', 'category': 'STRUCTURAL', 'begin': '664', 'end': '666', 'molecule': '', 'evidences': [{'code': 'ECO:0000244', 'source': {'name': 'PDB', 'id': '5UI0', 'url': 'https://www.ebi.ac.uk/pdbe-srv/view/entry/5UI0'}}]}, {'type': 'HELIX', 'category': 'STRUCTURAL', 'begin': '667', 'end': '669', 'molecule': '', 'evidences': [{'code': 'ECO:0000244', 'source': {'name': 'PDB', 'id': '2PVF', 'url': 'https://www.ebi.ac.uk/pdbe-srv/view/entry/2PVF'}}]}, {'type': 'HELIX', 'category': 'STRUCTURAL', 'begin': '672', 'end': '677', 'molecule': '', 'evidences': [{'code': 'ECO:0000244', 'source': {'name': 'PDB', 'id': '2PVF', 'url': 'https://www.ebi.ac.uk/pdbe-srv/view/entry/2PVF'}}]}, {'type': 'HELIX', 'category': 'STRUCTURAL', 'begin': '682', 'end': '697', 'molecule': '', 'evidences': [{'code': 'ECO:0000244', 'source': {'name': 'PDB', 'id': '2PVF', 'url': 'https://www.ebi.ac.uk/pdbe-srv/view/entry/2PVF'}}]}, {'type': 'HELIX', 'category': 'STRUCTURAL', 'begin': '709', 'end': '718', 'molecule': '', 'evidences': [{'code': 'ECO:0000244', 'source': {'name': 'PDB', 'id': '2PVF', 'url': 'https://www.ebi.ac.uk/pdbe-srv/view/entry/2PVF'}}]}, {'type': 'STRAND', 'category': 'STRUCTURAL', 'begin': '726', 'end': '728', 'molecule': '', 'evidences': [{'code': 'ECO:0000244', 'source': {'name': 'PDB', 'id': '2PZ5', 'url': 'https://www.ebi.ac.uk/pdbe-srv/view/entry/2PZ5'}}]}, {'type': 'HELIX', 'category': 'STRUCTURAL', 'begin': '730', 'end': '739', 'molecule': '', 'evidences': [{'code': 'ECO:0000244', 'source': {'name': 'PDB', 'id': '2PVF', 'url': 'https://www.ebi.ac.uk/pdbe-srv/view/entry/2PVF'}}]}, {'type': 'HELIX', 'category': 'STRUCTURAL', 'begin': '744', 'end': '746', 'molecule': '', 'evidences': [{'code': 'ECO:0000244', 'source': {'name': 'PDB', 'id': '2PVF', 'url': 'https://www.ebi.ac.uk/pdbe-srv/view/entry/2PVF'}}]}, {'type': 'HELIX', 'category': 'STRUCTURAL', 'begin': '750', 'end': '764', 'molecule': '', 'evidences': [{'code': 'ECO:0000244', 'source': {'name': 'PDB', 'id': '2PVF', 'url': 'https://www.ebi.ac.uk/pdbe-srv/view/entry/2PVF'}}]}, {'type': 'CONFLICT', 'category': 'SEQUENCE_INFORMATION', 'description': 'in Ref. 2; AAA61188', 'alternativeSequence': 'L', 'begin': '315', 'end': '315', 'molecule': 'P21802-16', 'evidences': [{'code': 'ECO:0000305'}]}], 'dbReferences': [{'type': 'EMBL', 'id': 'X52832', 'properties': {'molecule type': 'mRNA', 'protein sequence ID': 'CAA37014.1'}}, {'type': 'EMBL', 'id': 'M55614', 'properties': {'molecule type': 'mRNA', 'protein sequence ID': 'AAA61188.1'}}, {'type': 'EMBL', 'id': 'X56191', 'properties': {'molecule type': 'mRNA', 'protein sequence ID': 'CAA39654.1'}}, {'type': 'EMBL', 'id': 'M35718', 'properties': {'molecule type': 'mRNA', 'protein sequence ID': 'AAA36152.1'}}, {'type': 'EMBL', 'id': 'M87770', 'properties': {'molecule type': 'mRNA', 'protein sequence ID': 'AAA59470.1'}}, {'type': 'EMBL', 'id': 'M87771', 'properties': {'molecule type': 'mRNA', 'protein sequence ID': 'AAA59471.1'}}, {'type': 'EMBL', 'id': 'M87772', 'properties': {'molecule type': 'mRNA', 'protein sequence ID': 'AAA59472.1'}}, {'type': 'EMBL', 'id': 'M97193', 'properties': {'molecule type': 'mRNA', 'protein sequence ID': 'AAA52449.1'}}, {'type': 'EMBL', 'id': 'U11814', 'properties': {'molecule type': 'mRNA', 'protein sequence ID': 'AAA68514.1'}}, {'type': 'EMBL', 'id': 'M80634', 'properties': {'molecule type': 'mRNA', 'protein sequence ID': 'AAA36147.1'}}, {'type': 'EMBL', 'id': 'Z71929', 'properties': {'molecule type': 'mRNA', 'protein sequence ID': 'CAA96492.1'}}, {'type': 'EMBL', 'id': 'AB030073', 'properties': {'molecule type': 'mRNA', 'protein sequence ID': 'BAA89296.1', 'status': 'ALT_SEQ'}}, {'type': 'EMBL', 'id': 'AB030074', 'properties': {'molecule type': 'mRNA', 'protein sequence ID': 'BAA89297.1', 'status': 'ALT_SEQ'}}, {'type': 'EMBL', 'id': 'AB030075', 'properties': {'molecule type': 'mRNA', 'protein sequence ID': 'BAA89298.1', 'status': 'ALT_SEQ'}}, {'type': 'EMBL', 'id': 'AB030076', 'properties': {'molecule type': 'mRNA', 'protein sequence ID': 'BAA89299.1', 'status': 'ALT_SEQ'}}, {'type': 'EMBL', 'id': 'AB030077', 'properties': {'molecule type': 'mRNA', 'protein sequence ID': 'BAA89300.1', 'status': 'ALT_SEQ'}}, {'type': 'EMBL', 'id': 'AB030078', 'properties': {'molecule type': 'mRNA', 'protein sequence ID': 'BAA89301.1', 'status': 'ALT_SEQ'}}, {'type': 'EMBL', 'id': 'AF360695', 'properties': {'molecule type': 'Genomic_DNA', 'protein sequence ID': 'AAK94205.1'}}, {'type': 'EMBL', 'id': 'AF410480', 'properties': {'molecule type': 'Genomic_DNA', 'protein sequence ID': 'AAK94205.1', 'status': 'JOINED'}}, {'type': 'EMBL', 'id': 'AF360695', 'properties': {'molecule type': 'Genomic_DNA', 'protein sequence ID': 'AAK94206.1'}}, {'type': 'EMBL', 'id': 'AF410480', 'properties': {'molecule type': 'Genomic_DNA', 'protein sequence ID': 'AAK94206.1', 'status': 'JOINED'}}, {'type': 'EMBL', 'id': 'AF360695', 'properties': {'molecule type': 'Genomic_DNA', 'protein sequence ID': 'AAK94207.1'}}, {'type': 'EMBL', 'id': 'AF410480', 'properties': {'molecule type': 'Genomic_DNA', 'protein sequence ID': 'AAK94207.1', 'status': 'JOINED'}}, {'type': 'EMBL', 'id': 'AF360695', 'properties': {'molecule type': 'Genomic_DNA', 'protein sequence ID': 'AAK94208.1'}}, {'type': 'EMBL', 'id': 'AF410480', 'properties': {'molecule type': 'Genomic_DNA', 'protein sequence ID': 'AAK94208.1', 'status': 'JOINED'}}, {'type': 'EMBL', 'id': 'AF360695', 'properties': {'molecule type': 'Genomic_DNA', 'protein sequence ID': 'AAK94209.1'}}, {'type': 'EMBL', 'id': 'AF410480', 'properties': {'molecule type': 'Genomic_DNA', 'protein sequence ID': 'AAK94209.1', 'status': 'JOINED'}}, {'type': 'EMBL', 'id': 'AF487553', 'properties': {'molecule type': 'Genomic_DNA', 'protein sequence ID': 'AAM74056.1'}}, {'type': 'EMBL', 'id': 'AB084153', 'properties': {'molecule type': 'mRNA', 'protein sequence ID': 'BAC45037.1'}}, {'type': 'EMBL', 'id': 'DQ493927', 'properties': {'molecule type': 'Genomic_DNA', 'protein sequence ID': 'ABE96832.1'}}, {'type': 'EMBL', 'id': 'AK294026', 'properties': {'molecule type': 'mRNA', 'protein sequence ID': 'BAG57383.1', 'status': 'ALT_INIT'}}, {'type': 'EMBL', 'id': 'AC009988', 'properties': {'molecule type': 'Genomic_DNA', 'status': 'NOT_ANNOTATED_CDS'}}, {'type': 'EMBL', 'id': 'BC039243', 'properties': {'molecule type': 'mRNA', 'protein sequence ID': 'AAH39243.2'}}, {'type': 'EMBL', 'id': 'AF169399', 'properties': {'molecule type': 'Genomic_DNA', 'protein sequence ID': 'AAF43273.1'}}, {'type': 'EMBL', 'id': 'AF169399', 'properties': {'molecule type': 'Genomic_DNA', 'protein sequence ID': 'AAF43274.1'}}, {'type': 'EMBL', 'id': 'AF097353', 'properties': {'molecule type': 'Genomic_DNA', 'protein sequence ID': 'AAD31560.1'}}, {'type': 'EMBL', 'id': 'AF097341', 'properties': {'molecule type': 'Genomic_DNA', 'protein sequence ID': 'AAD31560.1', 'status': 'JOINED'}}, {'type': 'EMBL', 'id': 'AF097342', 'properties': {'molecule type': 'Genomic_DNA', 'protein sequence ID': 'AAD31560.1', 'status': 'JOINED'}}, {'type': 'EMBL', 'id': 'AF097343', 'properties': {'molecule type': 'Genomic_DNA', 'protein sequence ID': 'AAD31560.1', 'status': 'JOINED'}}, {'type': 'EMBL', 'id': 'AF097345', 'properties': {'molecule type': 'Genomic_DNA', 'protein sequence ID': 'AAD31560.1', 'status': 'JOINED'}}, {'type': 'EMBL', 'id': 'AF097346', 'properties': {'molecule type': 'Genomic_DNA', 'protein sequence ID': 'AAD31560.1', 'status': 'JOINED'}}, {'type': 'EMBL', 'id': 'AF097347', 'properties': {'molecule type': 'Genomic_DNA', 'protein sequence ID': 'AAD31560.1', 'status': 'JOINED'}}, {'type': 'EMBL', 'id': 'AF097348', 'properties': {'molecule type': 'Genomic_DNA', 'protein sequence ID': 'AAD31560.1', 'status': 'JOINED'}}, {'type': 'EMBL', 'id': 'AF097349', 'properties': {'molecule type': 'Genomic_DNA', 'protein sequence ID': 'AAD31560.1', 'status': 'JOINED'}}, {'type': 'EMBL', 'id': 'AF097350', 'properties': {'molecule type': 'Genomic_DNA', 'protein sequence ID': 'AAD31560.1', 'status': 'JOINED'}}, {'type': 'EMBL', 'id': 'AF097351', 'properties': {'molecule type': 'Genomic_DNA', 'protein sequence ID': 'AAD31560.1', 'status': 'JOINED'}}, {'type': 'EMBL', 'id': 'AF097352', 'properties': {'molecule type': 'Genomic_DNA', 'protein sequence ID': 'AAD31560.1', 'status': 'JOINED'}}, {'type': 'EMBL', 'id': 'AF097353', 'properties': {'molecule type': 'Genomic_DNA', 'protein sequence ID': 'AAD31561.1'}}, {'type': 'EMBL', 'id': 'AF097341', 'properties': {'molecule type': 'Genomic_DNA', 'protein sequence ID': 'AAD31561.1', 'status': 'JOINED'}}, {'type': 'EMBL', 'id': 'AF097342', 'properties': {'molecule type': 'Genomic_DNA', 'protein sequence ID': 'AAD31561.1', 'status': 'JOINED'}}, {'type': 'EMBL', 'id': 'AF097344', 'properties': {'molecule type': 'Genomic_DNA', 'protein sequence ID': 'AAD31561.1', 'status': 'JOINED'}}, {'type': 'EMBL', 'id': 'AF097345', 'properties': {'molecule type': 'Genomic_DNA', 'protein sequence ID': 'AAD31561.1', 'status': 'JOINED'}}, {'type': 'EMBL', 'id': 'AF097346', 'properties': {'molecule type': 'Genomic_DNA', 'protein sequence ID': 'AAD31561.1', 'status': 'JOINED'}}, {'type': 'EMBL', 'id': 'AF097347', 'properties': {'molecule type': 'Genomic_DNA', 'protein sequence ID': 'AAD31561.1', 'status': 'JOINED'}}, {'type': 'EMBL', 'id': 'AF097348', 'properties': {'molecule type': 'Genomic_DNA', 'protein sequence ID': 'AAD31561.1', 'status': 'JOINED'}}, {'type': 'EMBL', 'id': 'AF097349', 'properties': {'molecule type': 'Genomic_DNA', 'protein sequence ID': 'AAD31561.1', 'status': 'JOINED'}}, {'type': 'EMBL', 'id': 'AF097350', 'properties': {'molecule type': 'Genomic_DNA', 'protein sequence ID': 'AAD31561.1', 'status': 'JOINED'}}, {'type': 'EMBL', 'id': 'AF097351', 'properties': {'molecule type': 'Genomic_DNA', 'protein sequence ID': 'AAD31561.1', 'status': 'JOINED'}}, {'type': 'EMBL', 'id': 'AF097352', 'properties': {'molecule type': 'Genomic_DNA', 'protein sequence ID': 'AAD31561.1', 'status': 'JOINED'}}, {'type': 'EMBL', 'id': 'AF097340', 'properties': {'molecule type': 'Genomic_DNA', 'protein sequence ID': 'AAD31562.1'}}, {'type': 'EMBL', 'id': 'AF097337', 'properties': {'molecule type': 'Genomic_DNA', 'protein sequence ID': 'AAD31562.1', 'status': 'JOINED'}}, {'type': 'EMBL', 'id': 'AF097338', 'properties': {'molecule type': 'Genomic_DNA', 'protein sequence ID': 'AAD31562.1', 'status': 'JOINED'}}, {'type': 'EMBL', 'id': 'AF097339', 'properties': {'molecule type': 'Genomic_DNA', 'protein sequence ID': 'AAD31562.1', 'status': 'JOINED'}}, {'type': 'EMBL', 'id': 'AF097354', 'properties': {'molecule type': 'Genomic_DNA', 'protein sequence ID': 'AAD31565.1'}}, {'type': 'EMBL', 'id': 'AF097341', 'properties': {'molecule type': 'Genomic_DNA', 'protein sequence ID': 'AAD31567.1'}}, {'type': 'EMBL', 'id': 'S82438', 'properties': {'molecule type': 'Genomic_DNA', 'protein sequence ID': 'AAD14392.1'}}, {'type': 'EMBL', 'id': 'Y17131', 'properties': {'molecule type': 'Genomic_DNA', 'protein sequence ID': 'CAA76643.1'}}, {'type': 'EMBL', 'id': 'L49237', 'properties': {'molecule type': 'Genomic_DNA', 'protein sequence ID': 'AAC41933.1'}}, {'type': 'EMBL', 'id': 'L49242', 'properties': {'molecule type': 'Genomic_DNA', 'protein sequence ID': 'AAC41934.1'}}, {'type': 'EMBL', 'id': 'L49238', 'properties': {'molecule type': 'Genomic_DNA', 'protein sequence ID': 'AAC41935.1'}}, {'type': 'EMBL', 'id': 'L49239', 'properties': {'molecule type': 'Genomic_DNA', 'protein sequence ID': 'AAC41936.1'}}, {'type': 'EMBL', 'id': 'L49240', 'properties': {'molecule type': 'Genomic_DNA', 'protein sequence ID': 'AAC41937.1'}}, {'type': 'EMBL', 'id': 'L49241', 'properties': {'molecule type': 'Genomic_DNA', 'protein sequence ID': 'AAC41938.1'}}, {'type': 'CCDS', 'id': 'CCDS31298.1', 'isoform': 'P21802-1'}, {'type': 'CCDS', 'id': 'CCDS44485.1', 'isoform': 'P21802-20'}, {'type': 'CCDS', 'id': 'CCDS44486.1', 'isoform': 'P21802-23'}, {'type': 'CCDS', 'id': 'CCDS44487.1', 'isoform': 'P21802-15'}, {'type': 'CCDS', 'id': 'CCDS44488.1', 'isoform': 'P21802-22'}, {'type': 'CCDS', 'id': 'CCDS44489.1', 'isoform': 'P21802-17'}, {'type': 'CCDS', 'id': 'CCDS53584.1', 'isoform': 'P21802-21'}, {'type': 'CCDS', 'id': 'CCDS7620.2', 'isoform': 'P21802-3'}, {'type': 'CCDS', 'id': 'CCDS81515.1', 'isoform': 'P21802-5'}, {'type': 'PIR', 'id': 'A35969', 'properties': {'entry name': 'A35969'}}, {'type': 'PIR', 'id': 'A42691', 'properties': {'entry name': 'TVHUF2'}}, {'type': 'PIR', 'id': 'A45081', 'properties': {'entry name': 'A45081'}}, {'type': 'PIR', 'id': 'C42691', 'properties': {'entry name': 'C42691'}}, {'type': 'PIR', 'id': 'S16236', 'properties': {'entry name': 'S16236'}}, {'type': 'RefSeq', 'id': 'NP_000132.3', 'properties': {'nucleotide sequence ID': 'NM_000141.4'}, 'isoform': 'P21802-1'}, {'type': 'RefSeq', 'id': 'NP_001138385.1', 'properties': {'nucleotide sequence ID': 'NM_001144913.1'}, 'isoform': 'P21802-17'}, {'type': 'RefSeq', 'id': 'NP_001138386.1', 'properties': {'nucleotide sequence ID': 'NM_001144914.1'}, 'isoform': 'P21802-23'}, {'type': 'RefSeq', 'id': 'NP_001138387.1', 'properties': {'nucleotide sequence ID': 'NM_001144915.1'}, 'isoform': 'P21802-21'}, {'type': 'RefSeq', 'id': 'NP_001138388.1', 'properties': {'nucleotide sequence ID': 'NM_001144916.1'}}, {'type': 'RefSeq', 'id': 'NP_001138389.1', 'properties': {'nucleotide sequence ID': 'NM_001144917.1'}, 'isoform': 'P21802-15'}, {'type': 'RefSeq', 'id': 'NP_001138390.1', 'properties': {'nucleotide sequence ID': 'NM_001144918.1'}, 'isoform': 'P21802-20'}, {'type': 'RefSeq', 'id': 'NP_001138391.1', 'properties': {'nucleotide sequence ID': 'NM_001144919.1'}, 'isoform': 'P21802-22'}, {'type': 'RefSeq', 'id': 'NP_001307583.1', 'properties': {'nucleotide sequence ID': 'NM_001320654.1'}}, {'type': 'RefSeq', 'id': 'NP_001307587.1', 'properties': {'nucleotide sequence ID': 'NM_001320658.1'}, 'isoform': 'P21802-5'}, {'type': 'RefSeq', 'id': 'NP_075259.4', 'properties': {'nucleotide sequence ID': 'NM_022970.3'}, 'isoform': 'P21802-3'}, {'type': 'RefSeq', 'id': 'NP_075418.1', 'properties': {'nucleotide sequence ID': 'NM_023029.2'}}, {'type': 'PDB', 'id': '1DJS', 'properties': {'method': 'X-ray', 'chains': 'A=153-362', 'resolution': '2.40 A'}}, {'type': 'PDB', 'id': '1E0O', 'properties': {'method': 'X-ray', 'chains': 'B/D=148-366', 'resolution': '2.80 A'}}, {'type': 'PDB', 'id': '1EV2', 'properties': {'method': 'X-ray', 'chains': 'E/F/G/H=147-366', 'resolution': '2.20 A'}}, {'type': 'PDB', 'id': '1GJO', 'properties': {'method': 'X-ray', 'chains': 'A=456-768', 'resolution': '2.40 A'}}, {'type': 'PDB', 'id': '1II4', 'properties': {'method': 'X-ray', 'chains': 'E/F/G/H=147-366', 'resolution': '2.70 A'}}, {'type': 'PDB', 'id': '1IIL', 'properties': {'method': 'X-ray', 'chains': 'E/F/G/H=147-366', 'resolution': '2.30 A'}}, {'type': 'PDB', 'id': '1NUN', 'properties': {'method': 'X-ray', 'chains': 'B=140-368', 'resolution': '2.90 A'}}, {'type': 'PDB', 'id': '1OEC', 'properties': {'method': 'X-ray', 'chains': 'A=456-768', 'resolution': '2.40 A'}}, {'type': 'PDB', 'id': '1WVZ', 'properties': {'method': 'NMR', 'chains': 'A=147-249'}}, {'type': 'PDB', 'id': '2FDB', 'properties': {'method': 'X-ray', 'chains': 'P/R=149-368', 'resolution': '2.28 A'}}, {'type': 'PDB', 'id': '2PSQ', 'properties': {'method': 'X-ray', 'chains': 'A/B=413-768', 'resolution': '2.40 A'}}, {'type': 'PDB', 'id': '2PVF', 'properties': {'method': 'X-ray', 'chains': 'A=458-778, B=764-778', 'resolution': '1.80 A'}}, {'type': 'PDB', 'id': '2PVY', 'properties': {'method': 'X-ray', 'chains': 'A/B/C/D=458-768', 'resolution': '2.20 A'}}, {'type': 'PDB', 'id': '2PWL', 'properties': {'method': 'X-ray', 'chains': 'A/B=458-768', 'resolution': '2.40 A'}}, {'type': 'PDB', 'id': '2PY3', 'properties': {'method': 'X-ray', 'chains': 'A/B=458-768', 'resolution': '2.30 A'}}, {'type': 'PDB', 'id': '2PZ5', 'properties': {'method': 'X-ray', 'chains': 'A/B=458-768', 'resolution': '2.40 A'}}, {'type': 'PDB', 'id': '2PZP', 'properties': {'method': 'X-ray', 'chains': 'A/B=458-768', 'resolution': '2.40 A'}}, {'type': 'PDB', 'id': '2PZR', 'properties': {'method': 'X-ray', 'chains': 'A/B=458-768', 'resolution': '3.00 A'}}, {'type': 'PDB', 'id': '2Q0B', 'properties': {'method': 'X-ray', 'chains': 'A/B=458-768', 'resolution': '2.90 A'}}, {'type': 'PDB', 'id': '3B2T', 'properties': {'method': 'X-ray', 'chains': 'A/B=458-766', 'resolution': '1.80 A'}}, {'type': 'PDB', 'id': '3CAF', 'properties': {'method': 'X-ray', 'chains': 'A=150-249', 'resolution': '1.96 A'}}, {'type': 'PDB', 'id': '3CLY', 'properties': {'method': 'X-ray', 'chains': 'A=458-778', 'resolution': '2.00 A'}}, {'type': 'PDB', 'id': '3CU1', 'properties': {'method': 'X-ray', 'chains': 'A/C=150-249', 'resolution': '2.60 A'}}, {'type': 'PDB', 'id': '3DAR', 'properties': {'method': 'X-ray', 'chains': 'A/B=146-249', 'resolution': '2.20 A'}}, {'type': 'PDB', 'id': '3EUU', 'properties': {'method': 'X-ray', 'chains': 'A/B=150-249', 'resolution': '2.34 A'}}, {'type': 'PDB', 'id': '3OJ2', 'properties': {'method': 'X-ray', 'chains': 'C/D=140-313', 'resolution': '2.20 A'}}, {'type': 'PDB', 'id': '3OJM', 'properties': {'method': 'X-ray', 'chains': 'B=140-313', 'resolution': '2.10 A'}}, {'type': 'PDB', 'id': '3RI1', 'properties': {'method': 'X-ray', 'chains': 'A/B=458-768', 'resolution': '2.10 A'}}, {'type': 'PDB', 'id': '4J23', 'properties': {'method': 'X-ray', 'chains': 'A=147-366', 'resolution': '3.88 A'}}, {'type': 'PDB', 'id': '4J95', 'properties': {'method': 'X-ray', 'chains': 'A/B/C/D=458-768', 'resolution': '2.38 A'}}, {'type': 'PDB', 'id': '4J96', 'properties': {'method': 'X-ray', 'chains': 'A/B=458-768', 'resolution': '2.30 A'}}, {'type': 'PDB', 'id': '4J97', 'properties': {'method': 'X-ray', 'chains': 'A/B/C/D=458-768', 'resolution': '2.55 A'}}, {'type': 'PDB', 'id': '4J98', 'properties': {'method': 'X-ray', 'chains': 'A/B=458-768', 'resolution': '2.31 A'}}, {'type': 'PDB', 'id': '4J99', 'properties': {'method': 'X-ray', 'chains': 'A/B/C/D=458-768', 'resolution': '1.85 A'}}, {'type': 'PDB', 'id': '4WV1', 'properties': {'method': 'X-ray', 'chains': 'C/F=153-251', 'resolution': '2.36 A'}}, {'type': 'PDB', 'id': '5EG3', 'properties': {'method': 'X-ray', 'chains': 'A=458-778', 'resolution': '2.61 A'}}, {'type': 'PDB', 'id': '5UGL', 'properties': {'method': 'X-ray', 'chains': 'A/B=458-768', 'resolution': '1.86 A'}}, {'type': 'PDB', 'id': '5UGX', 'properties': {'method': 'X-ray', 'chains': 'A/B=458-768', 'resolution': '2.35 A'}}, {'type': 'PDB', 'id': '5UHN', 'properties': {'method': 'X-ray', 'chains': 'A/B=458-768', 'resolution': '2.91 A'}}, {'type': 'PDB', 'id': '5UI0', 'properties': {'method': 'X-ray', 'chains': 'A/B=458-768', 'resolution': '2.05 A'}}, {'type': 'PDB', 'id': '6AGX', 'properties': {'method': 'X-ray', 'chains': 'A/B/C/D=467-764', 'resolution': '2.95 A'}}, {'type': 'PDB', 'id': '6LVK', 'properties': {'method': 'X-ray', 'chains': 'A/B=459-768', 'resolution': '2.29 A'}}, {'type': 'PDB', 'id': '6LVL', 'properties': {'method': 'X-ray', 'chains': 'A/B=459-768', 'resolution': '2.98 A'}}, {'type': 'PDBsum', 'id': '1DJS'}, {'type': 'PDBsum', 'id': '1E0O'}, {'type': 'PDBsum', 'id': '1EV2'}, {'type': 'PDBsum', 'id': '1GJO'}, {'type': 'PDBsum', 'id': '1II4'}, {'type': 'PDBsum', 'id': '1IIL'}, {'type': 'PDBsum', 'id': '1NUN'}, {'type': 'PDBsum', 'id': '1OEC'}, {'type': 'PDBsum', 'id': '1WVZ'}, {'type': 'PDBsum', 'id': '2FDB'}, {'type': 'PDBsum', 'id': '2PSQ'}, {'type': 'PDBsum', 'id': '2PVF'}, {'type': 'PDBsum', 'id': '2PVY'}, {'type': 'PDBsum', 'id': '2PWL'}, {'type': 'PDBsum', 'id': '2PY3'}, {'type': 'PDBsum', 'id': '2PZ5'}, {'type': 'PDBsum', 'id': '2PZP'}, {'type': 'PDBsum', 'id': '2PZR'}, {'type': 'PDBsum', 'id': '2Q0B'}, {'type': 'PDBsum', 'id': '3B2T'}, {'type': 'PDBsum', 'id': '3CAF'}, {'type': 'PDBsum', 'id': '3CLY'}, {'type': 'PDBsum', 'id': '3CU1'}, {'type': 'PDBsum', 'id': '3DAR'}, {'type': 'PDBsum', 'id': '3EUU'}, {'type': 'PDBsum', 'id': '3OJ2'}, {'type': 'PDBsum', 'id': '3OJM'}, {'type': 'PDBsum', 'id': '3RI1'}, {'type': 'PDBsum', 'id': '4J23'}, {'type': 'PDBsum', 'id': '4J95'}, {'type': 'PDBsum', 'id': '4J96'}, {'type': 'PDBsum', 'id': '4J97'}, {'type': 'PDBsum', 'id': '4J98'}, {'type': 'PDBsum', 'id': '4J99'}, {'type': 'PDBsum', 'id': '4WV1'}, {'type': 'PDBsum', 'id': '5EG3'}, {'type': 'PDBsum', 'id': '5UGL'}, {'type': 'PDBsum', 'id': '5UGX'}, {'type': 'PDBsum', 'id': '5UHN'}, {'type': 'PDBsum', 'id': '5UI0'}, {'type': 'PDBsum', 'id': '6AGX'}, {'type': 'PDBsum', 'id': '6LVK'}, {'type': 'PDBsum', 'id': '6LVL'}, {'type': 'BMRB', 'id': 'P21802'}, {'type': 'SMR', 'id': 'P21802'}, {'type': 'BioGRID', 'id': '108554', 'properties': {'interactions': '104'}}, {'type': 'CORUM', 'id': 'P21802'}, {'type': 'DIP', 'id': 'DIP-3788N'}, {'type': 'IntAct', 'id': 'P21802', 'properties': {'interactions': '53'}}, {'type': 'MINT', 'id': 'P21802'}, {'type': 'STRING', 'id': '9606.ENSP00000410294'}, {'type': 'BindingDB', 'id': 'P21802'}, {'type': 'ChEMBL', 'id': 'CHEMBL4142'}, {'type': 'DrugBank', 'id': 'DB02058', 'properties': {'generic name': '3-[4-(1-formylpiperazin-4-yl)-benzylidenyl]-2-indolinone'}}, {'type': 'DrugBank', 'id': 'DB02491', 'properties': {'generic name': '4-[4-(1-Amino-1-Methylethyl)Phenyl]-5-Chloro-N-[4-(2-Morpholin-4-Ylethyl)Phenyl]Pyrimidin-2-Amine'}}, {'type': 'DrugBank', 'id': 'DB12147', 'properties': {'generic name': 'Erdafitinib'}}, {'type': 'DrugBank', 'id': 'DB10770', 'properties': {'generic name': 'Foreskin fibroblast (neonatal)'}}, {'type': 'DrugBank', 'id': 'DB10772', 'properties': {'generic name': 'Foreskin keratinocyte (neonatal)'}}, {'type': 'DrugBank', 'id': 'DB12010', 'properties': {'generic name': 'Fostamatinib'}}, {'type': 'DrugBank', 'id': 'DB01109', 'properties': {'generic name': 'Heparin'}}, {'type': 'DrugBank', 'id': 'DB09078', 'properties': {'generic name': 'Lenvatinib'}}, {'type': 'DrugBank', 'id': 'DB09079', 'properties': {'generic name': 'Nintedanib'}}, {'type': 'DrugBank', 'id': 'DB00039', 'properties': {'generic name': 'Palifermin'}}, {'type': 'DrugBank', 'id': 'DB15102', 'properties': {'generic name': 'Pemigatinib'}}, {'type': 'DrugBank', 'id': 'DB08901', 'properties': {'generic name': 'Ponatinib'}}, {'type': 'DrugBank', 'id': 'DB08896', 'properties': {'generic name': 'Regorafenib'}}, {'type': 'DrugBank', 'id': 'DB15685', 'properties': {'generic name': 'Selpercatinib'}}, {'type': 'DrugBank', 'id': 'DB01901', 'properties': {'generic name': 'Sucrosofate'}}, {'type': 'DrugBank', 'id': 'DB01041', 'properties': {'generic name': 'Thalidomide'}}, {'type': 'DrugCentral', 'id': 'P21802'}, {'type': 'GuidetoPHARMACOLOGY', 'id': '1809'}, {'type': 'GlyConnect', 'id': '1997', 'properties': {'glycosylation': '1 N-Linked glycan (1 site)'}}, {'type': 'GlyGen', 'id': 'P21802', 'properties': {'glycosylation': '9 sites, 1 O-linked glycan (1 site)'}}, {'type': 'iPTMnet', 'id': 'P21802'}, {'type': 'PhosphoSitePlus', 'id': 'P21802'}, {'type': 'BioMuta', 'id': 'FGFR2'}, {'type': 'DMDM', 'id': '120049'}, {'type': 'jPOST', 'id': 'P21802'}, {'type': 'MassIVE', 'id': 'P21802'}, {'type': 'PaxDb', 'id': 'P21802'}, {'type': 'PeptideAtlas', 'id': 'P21802'}, {'type': 'PRIDE', 'id': 'P21802'}, {'type': 'ProteomicsDB', 'id': '53905', 'isoform': 'P21802-1'}, {'type': 'ProteomicsDB', 'id': '53910', 'isoform': 'P21802-14'}, {'type': 'ProteomicsDB', 'id': '53911', 'isoform': 'P21802-15'}, {'type': 'ProteomicsDB', 'id': '53912', 'isoform': 'P21802-16'}, {'type': 'ProteomicsDB', 'id': '53913', 'isoform': 'P21802-17'}, {'type': 'ProteomicsDB', 'id': '53914', 'isoform': 'P21802-18'}, {'type': 'ProteomicsDB', 'id': '53915', 'isoform': 'P21802-19'}, {'type': 'ProteomicsDB', 'id': '53916', 'isoform': 'P21802-2'}, {'type': 'ProteomicsDB', 'id': '53917', 'isoform': 'P21802-20'}, {'type': 'ProteomicsDB', 'id': '53918', 'isoform': 'P21802-21'}, {'type': 'ProteomicsDB', 'id': '53919', 'isoform': 'P21802-22'}, {'type': 'ProteomicsDB', 'id': '53920', 'isoform': 'P21802-23'}, {'type': 'ProteomicsDB', 'id': '53921', 'isoform': 'P21802-3'}, {'type': 'ProteomicsDB', 'id': '53922', 'isoform': 'P21802-4'}, {'type': 'ProteomicsDB', 'id': '53923', 'isoform': 'P21802-5'}, {'type': 'ProteomicsDB', 'id': '53924', 'isoform': 'P21802-6'}, {'type': 'ProteomicsDB', 'id': '53926', 'isoform': 'P21802-8'}, {'type': 'TopDownProteomics', 'id': 'P21802-8', 'isoform': 'P21802-8'}, {'type': 'ABCD', 'id': 'P21802', 'properties': {'antibodies': '5 sequenced antibodies'}}, {'type': 'Antibodypedia', 'id': '4393', 'properties': {'antibodies': '1244 antibodies'}}, {'type': 'Ensembl', 'id': 'ENST00000346997', 'properties': {'gene ID': 'ENSG00000066468', 'protein sequence ID': 'ENSP00000263451'}, 'isoform': 'P21802-5'}, {'type': 'Ensembl', 'id': 'ENST00000356226', 'properties': {'gene ID': 'ENSG00000066468', 'protein sequence ID': 'ENSP00000348559'}, 'isoform': 'P21802-20'}, {'type': 'Ensembl', 'id': 'ENST00000357555', 'properties': {'gene ID': 'ENSG00000066468', 'protein sequence ID': 'ENSP00000350166'}, 'isoform': 'P21802-21'}, {'type': 'Ensembl', 'id': 'ENST00000358487', 'properties': {'gene ID': 'ENSG00000066468', 'protein sequence ID': 'ENSP00000351276'}, 'isoform': 'P21802-1'}, {'type': 'Ensembl', 'id': 'ENST00000359354', 'properties': {'gene ID': 'ENSG00000066468', 'protein sequence ID': 'ENSP00000352309'}, 'isoform': 'P21802-14'}, {'type': 'Ensembl', 'id': 'ENST00000360144', 'properties': {'gene ID': 'ENSG00000066468', 'protein sequence ID': 'ENSP00000353262'}, 'isoform': 'P21802-22'}, {'type': 'Ensembl', 'id': 'ENST00000369056', 'properties': {'gene ID': 'ENSG00000066468', 'protein sequence ID': 'ENSP00000358052'}, 'isoform': 'P21802-17'}, {'type': 'Ensembl', 'id': 'ENST00000369060', 'properties': {'gene ID': 'ENSG00000066468', 'protein sequence ID': 'ENSP00000358056'}, 'isoform': 'P21802-15'}, {'type': 'Ensembl', 'id': 'ENST00000369061', 'properties': {'gene ID': 'ENSG00000066468', 'protein sequence ID': 'ENSP00000358057'}, 'isoform': 'P21802-23'}, {'type': 'Ensembl', 'id': 'ENST00000457416', 'properties': {'gene ID': 'ENSG00000066468', 'protein sequence ID': 'ENSP00000410294'}, 'isoform': 'P21802-3'}, {'type': 'GeneID', 'id': '2263'}, {'type': 'KEGG', 'id': 'hsa:2263'}, {'type': 'UCSC', 'id': 'uc010qtl.3', 'properties': {'organism name': 'human'}, 'isoform': 'P21802-1'}, {'type': 'CTD', 'id': '2263'}, {'type': 'DisGeNET', 'id': '2263'}, {'type': 'EuPathDB', 'id': 'HostDB:ENSG00000066468.20'}, {'type': 'GeneCards', 'id': 'FGFR2'}, {'type': 'GeneReviews', 'id': 'FGFR2'}, {'type': 'HGNC', 'id': 'HGNC:3689', 'properties': {'gene designation': 'FGFR2'}}, {'type': 'HPA', 'id': 'ENSG00000066468', 'properties': {'expression patterns': 'Tissue enhanced (brain)'}}, {'type': 'MalaCards', 'id': 'FGFR2'}, {'type': 'MIM', 'id': '101200', 'properties': {'type': 'phenotype'}}, {'type': 'MIM', 'id': '101400', 'properties': {'type': 'phenotype'}}, {'type': 'MIM', 'id': '101600', 'properties': {'type': 'phenotype'}}, {'type': 'MIM', 'id': '123150', 'properties': {'type': 'phenotype'}}, {'type': 'MIM', 'id': '123500', 'properties': {'type': 'phenotype'}}, {'type': 'MIM', 'id': '123790', 'properties': {'type': 'phenotype'}}, {'type': 'MIM', 'id': '149730', 'properties': {'type': 'phenotype'}}, {'type': 'MIM', 'id': '176943', 'properties': {'type': 'gene'}}, {'type': 'MIM', 'id': '207410', 'properties': {'type': 'phenotype'}}, {'type': 'MIM', 'id': '609579', 'properties': {'type': 'phenotype'}}, {'type': 'MIM', 'id': '614592', 'properties': {'type': 'phenotype'}}, {'type': 'neXtProt', 'id': 'NX_P21802'}, {'type': 'OpenTargets', 'id': 'ENSG00000066468'}, {'type': 'Orphanet', 'id': '83', 'properties': {'disease': 'Antley-Bixler syndrome'}}, {'type': 'Orphanet', 'id': '87', 'properties': {'disease': 'Apert syndrome'}}, {'type': 'Orphanet', 'id': '207', 'properties': {'disease': 'Crouzon disease'}}, {'type': 'Orphanet', 'id': '1555', 'properties': {'disease': 'Cutis gyrata-acanthosis nigricans-craniosynostosis syndrome'}}, {'type': 'Orphanet', 'id': '168624', 'properties': {'disease': 'Familial scaphocephaly syndrome, McGillivray type'}}, {'type': 'Orphanet', 'id': '313855', 'properties': {'disease': 'FGFR2-related bent bone dysplasia'}}, {'type': 'Orphanet', 'id': '1540', 'properties': {'disease': 'Jackson-Weiss syndrome'}}, {'type': 'Orphanet', 'id': '2363', 'properties': {'disease': 'Lacrimoauriculodentodigital syndrome'}}, {'type': 'Orphanet', 'id': '93258', 'properties': {'disease': 'Pfeiffer syndrome type 1'}}, {'type': 'Orphanet', 'id': '93259', 'properties': {'disease': 'Pfeiffer syndrome type 2'}}, {'type': 'Orphanet', 'id': '93260', 'properties': {'disease': 'Pfeiffer syndrome type 3'}}, {'type': 'Orphanet', 'id': '794', 'properties': {'disease': 'Saethre-Chotzen syndrome'}}, {'type': 'PharmGKB', 'id': 'PA28128'}, {'type': 'eggNOG', 'id': 'KOG0200', 'properties': {'taxonomic scope': 'Eukaryota'}}, {'type': 'GeneTree', 'id': 'ENSGT00940000155447'}, {'type': 'HOGENOM', 'id': 'CLU_000288_74_2_1'}, {'type': 'InParanoid', 'id': 'P21802'}, {'type': 'OMA', 'id': 'HIEKNGS'}, {'type': 'OrthoDB', 'id': '543832at2759'}, {'type': 'PhylomeDB', 'id': 'P21802'}, {'type': 'TreeFam', 'id': 'TF316307'}, {'type': 'BRENDA', 'id': '2.7.10.1', 'properties': {'organism ID': '2681'}}, {'type': 'PathwayCommons', 'id': 'P21802'}, {'type': 'Reactome', 'id': 'R-HSA-109704', 'properties': {'pathway name': 'PI3K Cascade'}}, {'type': 'Reactome', 'id': 'R-HSA-1257604', 'properties': {'pathway name': 'PIP3 activates AKT signaling'}}, {'type': 'Reactome', 'id': 'R-HSA-190375', 'properties': {'pathway name': 'FGFR2c ligand binding and activation'}}, {'type': 'Reactome', 'id': 'R-HSA-190377', 'properties': {'pathway name': 'FGFR2b ligand binding and activation'}}, {'type': 'Reactome', 'id': 'R-HSA-2023837', 'properties': {'pathway name': 'Signaling by FGFR2 amplification mutants'}}, {'type': 'Reactome', 'id': 'R-HSA-2033519', 'properties': {'pathway name': 'Activated point mutants of FGFR2'}}, {'type': 'Reactome', 'id': 'R-HSA-2219530', 'properties': {'pathway name': 'Constitutive Signaling by Aberrant PI3K in Cancer'}}, {'type': 'Reactome', 'id': 'R-HSA-5654221', 'properties': {'pathway name': 'Phospholipase C-mediated cascade, FGFR2'}}, {'type': 'Reactome', 'id': 'R-HSA-5654695', 'properties': {'pathway name': 'PI-3K cascade:FGFR2'}}, {'type': 'Reactome', 'id': 'R-HSA-5654699', 'properties': {'pathway name': 'SHC-mediated cascade:FGFR2'}}, {'type': 'Reactome', 'id': 'R-HSA-5654700', 'properties': {'pathway name': 'FRS-mediated FGFR2 signaling'}}, {'type': 'Reactome', 'id': 'R-HSA-5654727', 'properties': {'pathway name': 'Negative regulation of FGFR2 signaling'}}, {'type': 'Reactome', 'id': 'R-HSA-5655253', 'properties': {'pathway name': 'Signaling by FGFR2 in disease'}}, {'type': 'Reactome', 'id': 'R-HSA-5673001', 'properties': {'pathway name': 'RAF/MAP kinase cascade'}}, {'type': 'Reactome', 'id': 'R-HSA-6811558', 'properties': {'pathway name': 'PI5P, PP2A and IER3 Regulate PI3K/AKT Signaling'}}, {'type': 'Reactome', 'id': 'R-HSA-8851708', 'properties': {'pathway name': 'Signaling by FGFR2 IIIa TM'}}, {'type': 'Reactome', 'id': 'R-HSA-8853333', 'properties': {'pathway name': 'Signaling by FGFR2 fusions'}}, {'type': 'SignaLink', 'id': 'P21802'}, {'type': 'SIGNOR', 'id': 'P21802'}, {'type': 'BioGRID-ORCS', 'id': '2263', 'properties': {'hits': '16 hits in 869 CRISPR screens'}}, {'type': 'ChiTaRS', 'id': 'FGFR2', 'properties': {'organism name': 'human'}}, {'type': 'EvolutionaryTrace', 'id': 'P21802'}, {'type': 'GeneWiki', 'id': 'Fibroblast_growth_factor_receptor_2'}, {'type': 'GenomeRNAi', 'id': '2263'}, {'type': 'Pharos', 'id': 'P21802', 'properties': {'development level': 'Tclin'}}, {'type': 'PRO', 'id': 'PR:P21802'}, {'type': 'Proteomes', 'id': 'UP000005640', 'properties': {'component': 'Chromosome 10'}}, {'type': 'RNAct', 'id': 'P21802', 'properties': {'molecule type': 'protein'}}, {'type': 'Bgee', 'id': 'ENSG00000066468', 'properties': {'expression patterns': 'Expressed in C1 segment of cervical spinal cord and 235 other tissues'}}, {'type': 'ExpressionAtlas', 'id': 'P21802', 'properties': {'expression patterns': 'baseline and differential'}}, {'type': 'Genevisible', 'id': 'P21802', 'properties': {'organism ID': 'HS'}}, {'type': 'GO', 'id': 'GO:0005938', 'properties': {'term': 'C:cell cortex', 'source': 'IDA:UniProtKB'}, 'evidences': [{'code': 'ECO:0000269', 'source': {'name': 'PubMed', 'id': '17471512', 'url': 'http://www.ncbi.nlm.nih.gov/pubmed/17471512', 'alternativeUrl': 'https://europepmc.org/abstract/MED/17471512'}}]}, {'type': 'GO', 'id': 'GO:0009986', 'properties': {'term': 'C:cell surface', 'source': 'IDA:UniProtKB'}, 'evidences': [{'code': 'ECO:0000269', 'source': {'name': 'PubMed', 'id': '16597614', 'url': 'http://www.ncbi.nlm.nih.gov/pubmed/16597614', 'alternativeUrl': 'https://europepmc.org/abstract/MED/16597614'}}]}, {'type': 'GO', 'id': 'GO:0005737', 'properties': {'term': 'C:cytoplasm', 'source': 'IDA:UniProtKB'}, 'evidences': [{'code': 'ECO:0000269', 'source': {'name': 'PubMed', 'id': '16597614', 'url': 'http://www.ncbi.nlm.nih.gov/pubmed/16597614', 'alternativeUrl': 'https://europepmc.org/abstract/MED/16597614'}}, {'code': 'ECO:0000269', 'source': {'name': 'PubMed', 'id': '17471512', 'url': 'http://www.ncbi.nlm.nih.gov/pubmed/17471512', 'alternativeUrl': 'https://europepmc.org/abstract/MED/17471512'}}]}, {'type': 'GO', 'id': 'GO:0031410', 'properties': {'term': 'C:cytoplasmic vesicle', 'source': 'IEA:UniProtKB-KW'}}, {'type': 'GO', 'id': 'GO:0060076', 'properties': {'term': 'C:excitatory synapse', 'source': 'ISS:UniProtKB'}}, {'type': 'GO', 'id': 'GO:0005576', 'properties': {'term': 'C:extracellular region', 'source': 'IEA:UniProtKB-SubCell'}}, {'type': 'GO', 'id': 'GO:0005794', 'properties': {'term': 'C:Golgi apparatus', 'source': 'IEA:UniProtKB-SubCell'}}, {'type': 'GO', 'id': 'GO:0016021', 'properties': {'term': 'C:integral component of membrane', 'source': 'NAS:UniProtKB'}, 'evidences': [{'code': 'ECO:0000269', 'source': {'name': 'PubMed', 'id': '1697263', 'url': 'http://www.ncbi.nlm.nih.gov/pubmed/1697263', 'alternativeUrl': 'https://europepmc.org/abstract/MED/1697263'}}]}, {'type': 'GO', 'id': 'GO:0005887', 'properties': {'term': 'C:integral component of plasma membrane', 'source': 'IDA:UniProtKB'}, 'evidences': [{'code': 'ECO:0000269', 'source': {'name': 'PubMed', 'id': '15629145', 'url': 'http://www.ncbi.nlm.nih.gov/pubmed/15629145', 'alternativeUrl': 'https://europepmc.org/abstract/MED/15629145'}}, {'code': 'ECO:0000269', 'source': {'name': 'PubMed', 'id': '16844695', 'url': 'http://www.ncbi.nlm.nih.gov/pubmed/16844695', 'alternativeUrl': 'https://europepmc.org/abstract/MED/16844695'}}]}, {'type': 'GO', 'id': 'GO:0016020', 'properties': {'term': 'C:membrane', 'source': 'NAS:UniProtKB'}, 'evidences': [{'code': 'ECO:0000269', 'source': {'name': 'PubMed', 'id': '8676562', 'url': 'http://www.ncbi.nlm.nih.gov/pubmed/8676562', 'alternativeUrl': 'https://europepmc.org/abstract/MED/8676562'}}]}, {'type': 'GO', 'id': 'GO:0005634', 'properties': {'term': 'C:nucleus', 'source': 'IDA:UniProtKB'}, 'evidences': [{'code': 'ECO:0000269', 'source': {'name': 'PubMed', 'id': '16597614', 'url': 'http://www.ncbi.nlm.nih.gov/pubmed/16597614', 'alternativeUrl': 'https://europepmc.org/abstract/MED/16597614'}}, {'code': 'ECO:0000269', 'source': {'name': 'PubMed', 'id': '17471512', 'url': 'http://www.ncbi.nlm.nih.gov/pubmed/17471512', 'alternativeUrl': 'https://europepmc.org/abstract/MED/17471512'}}]}, {'type': 'GO', 'id': 'GO:0005886', 'properties': {'term': 'C:plasma membrane', 'source': 'TAS:Reactome'}}, {'type': 'GO', 'id': 'GO:0043235', 'properties': {'term': 'C:receptor complex', 'source': 'IBA:GO_Central'}, 'evidences': [{'code': 'ECO:0000269', 'source': {'name': 'PubMed', 'id': '21873635', 'url': 'http://www.ncbi.nlm.nih.gov/pubmed/21873635', 'alternativeUrl': 'https://europepmc.org/abstract/MED/21873635'}}]}, {'type': 'GO', 'id': 'GO:0005524', 'properties': {'term': 'F:ATP binding', 'source': 'IEA:UniProtKB-KW'}}, {'type': 'GO', 'id': 'GO:0017134', 'properties': {'term': 'F:fibroblast growth factor binding', 'source': 'IDA:UniProtKB'}, 'evidences': [{'code': 'ECO:0000269', 'source': {'name': 'PubMed', 'id': '8663044', 'url': 'http://www.ncbi.nlm.nih.gov/pubmed/8663044', 'alternativeUrl': 'https://europepmc.org/abstract/MED/8663044'}}]}, {'type': 'GO', 'id': 'GO:0005007', 'properties': {'term': 'F:fibroblast growth factor-activated receptor activity', 'source': 'IDA:UniProtKB'}, 'evidences': [{'code': 'ECO:0000269', 'source': {'name': 'PubMed', 'id': '15629145', 'url': 'http://www.ncbi.nlm.nih.gov/pubmed/15629145', 'alternativeUrl': 'https://europepmc.org/abstract/MED/15629145'}}, {'code': 'ECO:0000269', 'source': {'name': 'PubMed', 'id': '8663044', 'url': 'http://www.ncbi.nlm.nih.gov/pubmed/8663044', 'alternativeUrl': 'https://europepmc.org/abstract/MED/8663044'}}]}, {'type': 'GO', 'id': 'GO:0008201', 'properties': {'term': 'F:heparin binding', 'source': 'IEA:UniProtKB-KW'}}, {'type': 'GO', 'id': 'GO:0042802', 'properties': {'term': 'F:identical protein binding', 'source': 'IPI:IntAct'}}, {'type': 'GO', 'id': 'GO:0042803', 'properties': {'term': 'F:protein homodimerization activity', 'source': 'IPI:UniProtKB'}, 'evidences': [{'code': 'ECO:0000269', 'source': {'name': 'PubMed', 'id': '16844695', 'url': 'http://www.ncbi.nlm.nih.gov/pubmed/16844695', 'alternativeUrl': 'https://europepmc.org/abstract/MED/16844695'}}]}, {'type': 'GO', 'id': 'GO:0004713', 'properties': {'term': 'F:protein tyrosine kinase activity', 'source': 'NAS:UniProtKB'}, 'evidences': [{'code': 'ECO:0000269', 'source': {'name': 'PubMed', 'id': '1697263', 'url': 'http://www.ncbi.nlm.nih.gov/pubmed/1697263', 'alternativeUrl': 'https://europepmc.org/abstract/MED/1697263'}}]}, {'type': 'GO', 'id': 'GO:0004714', 'properties': {'term': 'F:transmembrane receptor protein tyrosine kinase activity', 'source': 'IBA:GO_Central'}, 'evidences': [{'code': 'ECO:0000269', 'source': {'name': 'PubMed', 'id': '21873635', 'url': 'http://www.ncbi.nlm.nih.gov/pubmed/21873635', 'alternativeUrl': 'https://europepmc.org/abstract/MED/21873635'}}]}, {'type': 'GO', 'id': 'GO:0001525', 'properties': {'term': 'P:angiogenesis', 'source': 'ISS:UniProtKB'}}, {'type': 'GO', 'id': 'GO:0009887', 'properties': {'term': 'P:animal organ morphogenesis', 'source': 'ISS:UniProtKB'}}, {'type': 'GO', 'id': 'GO:0006915', 'properties': {'term': 'P:apoptotic process', 'source': 'IEA:UniProtKB-KW'}}, {'type': 'GO', 'id': 'GO:0007409', 'properties': {'term': 'P:axonogenesis', 'source': 'ISS:UniProtKB'}}, {'type': 'GO', 'id': 'GO:0060348', 'properties': {'term': 'P:bone development', 'source': 'ISS:UniProtKB'}}, {'type': 'GO', 'id': 'GO:0030282', 'properties': {'term': 'P:bone mineralization', 'source': 'ISS:UniProtKB'}}, {'type': 'GO', 'id': 'GO:0060349', 'properties': {'term': 'P:bone morphogenesis', 'source': 'ISS:UniProtKB'}}, {'type': 'GO', 'id': 'GO:0060667', 'properties': {'term': 'P:branch elongation involved in salivary gland morphogenesis', 'source': 'ISS:UniProtKB'}}, {'type': 'GO', 'id': 'GO:0060670', 'properties': {'term': 'P:branching involved in labyrinthine layer morphogenesis', 'source': 'ISS:UniProtKB'}}, {'type': 'GO', 'id': 'GO:0060442', 'properties': {'term': 'P:branching involved in prostate gland morphogenesis', 'source': 'ISS:UniProtKB'}}, {'type': 'GO', 'id': 'GO:0060445', 'properties': {'term': 'P:branching involved in salivary gland morphogenesis', 'source': 'ISS:UniProtKB'}}, {'type': 'GO', 'id': 'GO:0048755', 'properties': {'term': 'P:branching morphogenesis of a nerve', 'source': 'ISS:UniProtKB'}}, {'type': 'GO', 'id': 'GO:0060449', 'properties': {'term': 'P:bud elongation involved in lung branching', 'source': 'ISS:UniProtKB'}}, {'type': 'GO', 'id': 'GO:0045165', 'properties': {'term': 'P:cell fate commitment', 'source': 'ISS:UniProtKB'}}, {'type': 'GO', 'id': 'GO:0007267', 'properties': {'term': 'P:cell-cell signaling', 'source': 'ISS:UniProtKB'}}, {'type': 'GO', 'id': 'GO:0071300', 'properties': {'term': 'P:cellular response to retinoic acid', 'source': 'IEA:Ensembl'}}, {'type': 'GO', 'id': 'GO:0071560', 'properties': {'term': 'P:cellular response to transforming growth factor beta stimulus', 'source': 'IEA:Ensembl'}}, {'type': 'GO', 'id': 'GO:0048565', 'properties': {'term': 'P:digestive tract development', 'source': 'ISS:UniProtKB'}}, {'type': 'GO', 'id': 'GO:0048701', 'properties': {'term': 'P:embryonic cranial skeleton morphogenesis', 'source': 'IMP:BHF-UCL'}, 'evidences': [{'code': 'ECO:0000269', 'source': {'name': 'PubMed', 'id': '7874170', 'url': 'http://www.ncbi.nlm.nih.gov/pubmed/7874170', 'alternativeUrl': 'https://europepmc.org/abstract/MED/7874170'}}, {'code': 'ECO:0000269', 'source': {'name': 'PubMed', 'id': '7987400', 'url': 'http://www.ncbi.nlm.nih.gov/pubmed/7987400', 'alternativeUrl': 'https://europepmc.org/abstract/MED/7987400'}}]}, {'type': 'GO', 'id': 'GO:0048557', 'properties': {'term': 'P:embryonic digestive tract morphogenesis', 'source': 'ISS:UniProtKB'}}, {'type': 'GO', 'id': 'GO:0048568', 'properties': {'term': 'P:embryonic organ development', 'source': 'ISS:UniProtKB'}}, {'type': 'GO', 'id': 'GO:0048562', 'properties': {'term': 'P:embryonic organ morphogenesis', 'source': 'ISS:UniProtKB'}}, {'type': 'GO', 'id': 'GO:0009880', 'properties': {'term': 'P:embryonic pattern specification', 'source': 'ISS:UniProtKB'}}, {'type': 'GO', 'id': 'GO:0003416', 'properties': {'term': 'P:endochondral bone growth', 'source': 'IEA:Ensembl'}}, {'type': 'GO', 'id': 'GO:0048730', 'properties': {'term': 'P:epidermis morphogenesis', 'source': 'ISS:UniProtKB'}}, {'type': 'GO', 'id': 'GO:0030855', 'properties': {'term': 'P:epithelial cell differentiation', 'source': 'ISS:UniProtKB'}}, {'type': 'GO', 'id': 'GO:0060664', 'properties': {'term': 'P:epithelial cell proliferation involved in salivary gland morphogenesis', 'source': 'ISS:UniProtKB'}}, {'type': 'GO', 'id': 'GO:0001837', 'properties': {'term': 'P:epithelial to mesenchymal transition', 'source': 'IEA:Ensembl'}}, {'type': 'GO', 'id': 'GO:0008543', 'properties': {'term': 'P:fibroblast growth factor receptor signaling pathway', 'source': 'IDA:UniProtKB'}, 'evidences': [{'code': 'ECO:0000269', 'source': {'name': 'PubMed', 'id': '15629145', 'url': 'http://www.ncbi.nlm.nih.gov/pubmed/15629145', 'alternativeUrl': 'https://europepmc.org/abstract/MED/15629145'}}, {'code': 'ECO:0000269', 'source': {'name': 'PubMed', 'id': '8663044', 'url': 'http://www.ncbi.nlm.nih.gov/pubmed/8663044', 'alternativeUrl': 'https://europepmc.org/abstract/MED/8663044'}}]}, {'type': 'GO', 'id': 'GO:0035603', 'properties': {'term': 'P:fibroblast growth factor receptor signaling pathway involved in hemopoiesis', 'source': 'ISS:UniProtKB'}}, {'type': 'GO', 'id': 'GO:0060595', 'properties': {'term': 'P:fibroblast growth factor receptor signaling pathway involved in mammary gland specification', 'source': 'ISS:UniProtKB'}}, {'type': 'GO', 'id': 'GO:0035602', 'properties': {'term': 'P:fibroblast growth factor receptor signaling pathway involved in negative regulation of apoptotic process in bone marrow cell', 'source': 'ISS:UniProtKB'}}, {'type': 'GO', 'id': 'GO:0035607', 'properties': {'term': 'P:fibroblast growth factor receptor signaling pathway involved in orbitofrontal cortex development', 'source': 'ISS:UniProtKB'}}, {'type': 'GO', 'id': 'GO:0035604', 'properties': {'term': 'P:fibroblast growth factor receptor signaling pathway involved in positive regulation of cell proliferation in bone marrow', 'source': 'ISS:UniProtKB'}}, {'type': 'GO', 'id': 'GO:0022612', 'properties': {'term': 'P:gland morphogenesis', 'source': 'ISS:UniProtKB'}}, {'type': 'GO', 'id': 'GO:0031069', 'properties': {'term': 'P:hair follicle morphogenesis', 'source': 'ISS:UniProtKB'}}, {'type': 'GO', 'id': 'GO:0001701', 'properties': {'term': 'P:in utero embryonic development', 'source': 'ISS:UniProtKB'}}, {'type': 'GO', 'id': 'GO:0042472', 'properties': {'term': 'P:inner ear morphogenesis', 'source': 'ISS:UniProtKB'}}, {'type': 'GO', 'id': 'GO:0032808', 'properties': {'term': 'P:lacrimal gland development', 'source': 'ISS:UniProtKB'}}, {'type': 'GO', 'id': 'GO:0060601', 'properties': {'term': 'P:lateral sprouting from an epithelium', 'source': 'ISS:UniProtKB'}}, {'type': 'GO', 'id': 'GO:0060174', 'properties': {'term': 'P:limb bud formation', 'source': 'ISS:UniProtKB'}}, {'type': 'GO', 'id': 'GO:0048286', 'properties': {'term': 'P:lung alveolus development', 'source': 'ISS:UniProtKB'}}, {'type': 'GO', 'id': 'GO:0030324', 'properties': {'term': 'P:lung development', 'source': 'ISS:UniProtKB'}}, {'type': 'GO', 'id': 'GO:0060463', 'properties': {'term': 'P:lung lobe morphogenesis', 'source': 'ISS:UniProtKB'}}, {'type': 'GO', 'id': 'GO:0060484', 'properties': {'term': 'P:lung-associated mesenchyme development', 'source': 'ISS:UniProtKB'}}, {'type': 'GO', 'id': 'GO:0060615', 'properties': {'term': 'P:mammary gland bud formation', 'source': 'ISS:UniProtKB'}}, {'type': 'GO', 'id': 'GO:0000165', 'properties': {'term': 'P:MAPK cascade', 'source': 'TAS:Reactome'}}, {'type': 'GO', 'id': 'GO:0003149', 'properties': {'term': 'P:membranous septum morphogenesis', 'source': 'ISS:UniProtKB'}}, {'type': 'GO', 'id': 'GO:0048762', 'properties': {'term': 'P:mesenchymal cell differentiation', 'source': 'ISS:UniProtKB'}}, {'type': 'GO', 'id': 'GO:0060915', 'properties': {'term': 'P:mesenchymal cell differentiation involved in lung development', 'source': 'ISS:UniProtKB'}}, {'type': 'GO', 'id': 'GO:0060916', 'properties': {'term': 'P:mesenchymal cell proliferation involved in lung development', 'source': 'ISS:UniProtKB'}}, {'type': 'GO', 'id': 'GO:0048333', 'properties': {'term': 'P:mesodermal cell differentiation', 'source': 'IEA:Ensembl'}}, {'type': 'GO', 'id': 'GO:0030901', 'properties': {'term': 'P:midbrain development', 'source': 'ISS:UniProtKB'}}, {'type': 'GO', 'id': 'GO:0016331', 'properties': {'term': 'P:morphogenesis of embryonic epithelium', 'source': 'ISS:UniProtKB'}}, {'type': 'GO', 'id': 'GO:0007275', 'properties': {'term': 'P:multicellular organism development', 'source': 'IBA:GO_Central'}, 'evidences': [{'code': 'ECO:0000269', 'source': {'name': 'PubMed', 'id': '21873635', 'url': 'http://www.ncbi.nlm.nih.gov/pubmed/21873635', 'alternativeUrl': 'https://europepmc.org/abstract/MED/21873635'}}]}, {'type': 'GO', 'id': 'GO:0010839', 'properties': {'term': 'P:negative regulation of keratinocyte proliferation', 'source': 'IMP:BHF-UCL'}, 'evidences': [{'code': 'ECO:0000269', 'source': {'name': 'PubMed', 'id': '21412257', 'url': 'http://www.ncbi.nlm.nih.gov/pubmed/21412257', 'alternativeUrl': 'https://europepmc.org/abstract/MED/21412257'}}]}, {'type': 'GO', 'id': 'GO:0000122', 'properties': {'term': 'P:negative regulation of transcription by RNA polymerase II', 'source': 'ISS:UniProtKB'}}, {'type': 'GO', 'id': 'GO:0042476', 'properties': {'term': 'P:odontogenesis', 'source': 'ISS:UniProtKB'}}, {'type': 'GO', 'id': 'GO:0021769', 'properties': {'term': 'P:orbitofrontal cortex development', 'source': 'ISS:UniProtKB'}}, {'type': 'GO', 'id': 'GO:0035265', 'properties': {'term': 'P:organ growth', 'source': 'ISS:UniProtKB'}}, {'type': 'GO', 'id': 'GO:0030916', 'properties': {'term': 'P:otic vesicle formation', 'source': 'ISS:UniProtKB'}}, {'type': 'GO', 'id': 'GO:0003148', 'properties': {'term': 'P:outflow tract septum morphogenesis', 'source': 'ISS:UniProtKB'}}, {'type': 'GO', 'id': 'GO:0018108', 'properties': {'term': 'P:peptidyl-tyrosine phosphorylation', 'source': 'IDA:UniProtKB'}, 'evidences': [{'code': 'ECO:0000269', 'source': {'name': 'PubMed', 'id': '15629145', 'url': 'http://www.ncbi.nlm.nih.gov/pubmed/15629145', 'alternativeUrl': 'https://europepmc.org/abstract/MED/15629145'}}, {'code': 'ECO:0000269', 'source': {'name': 'PubMed', 'id': '16844695', 'url': 'http://www.ncbi.nlm.nih.gov/pubmed/16844695', 'alternativeUrl': 'https://europepmc.org/abstract/MED/16844695'}}]}, {'type': 'GO', 'id': 'GO:0090263', 'properties': {'term': 'P:positive regulation of canonical Wnt signaling pathway', 'source': 'ISS:UniProtKB'}}, {'type': 'GO', 'id': 'GO:0060045', 'properties': {'term': 'P:positive regulation of cardiac muscle cell proliferation', 'source': 'ISS:UniProtKB'}}, {'type': 'GO', 'id': 'GO:0045787', 'properties': {'term': 'P:positive regulation of cell cycle', 'source': 'ISS:UniProtKB'}}, {'type': 'GO', 'id': 'GO:0051781', 'properties': {'term': 'P:positive regulation of cell division', 'source': 'ISS:UniProtKB'}}, {'type': 'GO', 'id': 'GO:0008284', 'properties': {'term': 'P:positive regulation of cell population proliferation', 'source': 'IDA:UniProtKB'}, 'evidences': [{'code': 'ECO:0000269', 'source': {'name': 'PubMed', 'id': '8663044', 'url': 'http://www.ncbi.nlm.nih.gov/pubmed/8663044', 'alternativeUrl': 'https://europepmc.org/abstract/MED/8663044'}}]}, {'type': 'GO', 'id': 'GO:0050679', 'properties': {'term': 'P:positive regulation of epithelial cell proliferation', 'source': 'ISS:UniProtKB'}}, {'type': 'GO', 'id': 'GO:0060501', 'properties': {'term': 'P:positive regulation of epithelial cell proliferation involved in lung morphogenesis', 'source': 'ISS:UniProtKB'}}, {'type': 'GO', 'id': 'GO:0070374', 'properties': {'term': 'P:positive regulation of ERK1 and ERK2 cascade', 'source': 'ISS:UniProtKB'}}, {'type': 'GO', 'id': 'GO:0033674', 'properties': {'term': 'P:positive regulation of kinase activity', 'source': 'IBA:GO_Central'}, 'evidences': [{'code': 'ECO:0000269', 'source': {'name': 'PubMed', 'id': '21873635', 'url': 'http://www.ncbi.nlm.nih.gov/pubmed/21873635', 'alternativeUrl': 'https://europepmc.org/abstract/MED/21873635'}}]}, {'type': 'GO', 'id': 'GO:0043410', 'properties': {'term': 'P:positive regulation of MAPK cascade', 'source': 'IMP:UniProtKB'}, 'evidences': [{'code': 'ECO:0000269', 'source': {'name': 'PubMed', 'id': '15629145', 'url': 'http://www.ncbi.nlm.nih.gov/pubmed/15629145', 'alternativeUrl': 'https://europepmc.org/abstract/MED/15629145'}}]}, {'type': 'GO', 'id': 'GO:0002053', 'properties': {'term': 'P:positive regulation of mesenchymal cell proliferation', 'source': 'ISS:UniProtKB'}}, {'type': 'GO', 'id': 'GO:0010518', 'properties': {'term': 'P:positive regulation of phospholipase activity', 'source': 'IMP:UniProtKB'}, 'evidences': [{'code': 'ECO:0000269', 'source': {'name': 'PubMed', 'id': '16844695', 'url': 'http://www.ncbi.nlm.nih.gov/pubmed/16844695', 'alternativeUrl': 'https://europepmc.org/abstract/MED/16844695'}}]}, {'type': 'GO', 'id': 'GO:0051897', 'properties': {'term': 'P:positive regulation of protein kinase B signaling', 'source': 'TAS:Reactome'}}, {'type': 'GO', 'id': 'GO:0048661', 'properties': {'term': 'P:positive regulation of smooth muscle cell proliferation', 'source': 'IEA:Ensembl'}}, {'type': 'GO', 'id': 'GO:0045944', 'properties': {'term': 'P:positive regulation of transcription by RNA polymerase II', 'source': 'ISS:UniProtKB'}}, {'type': 'GO', 'id': 'GO:0030177', 'properties': {'term': 'P:positive regulation of Wnt signaling pathway', 'source': 'ISS:UniProtKB'}}, {'type': 'GO', 'id': 'GO:0009791', 'properties': {'term': 'P:post-embryonic development', 'source': 'ISS:UniProtKB'}}, {'type': 'GO', 'id': 'GO:0060527', 'properties': {'term': 'P:prostate epithelial cord arborization involved in prostate glandular acinus morphogenesis', 'source': 'ISS:UniProtKB'}}, {'type': 'GO', 'id': 'GO:0060523', 'properties': {'term': 'P:prostate epithelial cord elongation', 'source': 'ISS:UniProtKB'}}, {'type': 'GO', 'id': 'GO:0060512', 'properties': {'term': 'P:prostate gland morphogenesis', 'source': 'ISS:UniProtKB'}}, {'type': 'GO', 'id': 'GO:0046777', 'properties': {'term': 'P:protein autophosphorylation', 'source': 'IDA:UniProtKB'}, 'evidences': [{'code': 'ECO:0000269', 'source': {'name': 'PubMed', 'id': '15629145', 'url': 'http://www.ncbi.nlm.nih.gov/pubmed/15629145', 'alternativeUrl': 'https://europepmc.org/abstract/MED/15629145'}}]}, {'type': 'GO', 'id': 'GO:0021860', 'properties': {'term': 'P:pyramidal neuron development', 'source': 'ISS:UniProtKB'}}, {'type': 'GO', 'id': 'GO:0070372', 'properties': {'term': 'P:regulation of ERK1 and ERK2 cascade', 'source': 'ISS:UniProtKB'}}, {'type': 'GO', 'id': 'GO:0060688', 'properties': {'term': 'P:regulation of morphogenesis of a branching structure', 'source': 'ISS:UniProtKB'}}, {'type': 'GO', 'id': 'GO:0045667', 'properties': {'term': 'P:regulation of osteoblast differentiation', 'source': 'TAS:UniProtKB'}, 'evidences': [{'code': 'ECO:0000269', 'source': {'name': 'PubMed', 'id': '15190072', 'url': 'http://www.ncbi.nlm.nih.gov/pubmed/15190072', 'alternativeUrl': 'https://europepmc.org/abstract/MED/15190072'}}]}, {'type': 'GO', 'id': 'GO:0033688', 'properties': {'term': 'P:regulation of osteoblast proliferation', 'source': 'TAS:UniProtKB'}, 'evidences': [{'code': 'ECO:0000269', 'source': {'name': 'PubMed', 'id': '15190072', 'url': 'http://www.ncbi.nlm.nih.gov/pubmed/15190072', 'alternativeUrl': 'https://europepmc.org/abstract/MED/15190072'}}]}, {'type': 'GO', 'id': 'GO:0051150', 'properties': {'term': 'P:regulation of smooth muscle cell differentiation', 'source': 'ISS:UniProtKB'}}, {'type': 'GO', 'id': 'GO:0008589', 'properties': {'term': 'P:regulation of smoothened signaling pathway', 'source': 'ISS:UniProtKB'}}, {'type': 'GO', 'id': 'GO:0048608', 'properties': {'term': 'P:reproductive structure development', 'source': 'ISS:UniProtKB'}}, {'type': 'GO', 'id': 'GO:0045471', 'properties': {'term': 'P:response to ethanol', 'source': 'IEA:Ensembl'}}, {'type': 'GO', 'id': 'GO:0032496', 'properties': {'term': 'P:response to lipopolysaccharide', 'source': 'IEA:Ensembl'}}, {'type': 'GO', 'id': 'GO:0048705', 'properties': {'term': 'P:skeletal system morphogenesis', 'source': 'TAS:UniProtKB'}, 'evidences': [{'code': 'ECO:0000269', 'source': {'name': 'PubMed', 'id': '15190072', 'url': 'http://www.ncbi.nlm.nih.gov/pubmed/15190072', 'alternativeUrl': 'https://europepmc.org/abstract/MED/15190072'}}]}, {'type': 'GO', 'id': 'GO:0060529', 'properties': {'term': 'P:squamous basal epithelial stem cell differentiation involved in prostate gland acinus development', 'source': 'ISS:UniProtKB'}}, {'type': 'GO', 'id': 'GO:0007169', 'properties': {'term': 'P:transmembrane receptor protein tyrosine kinase signaling pathway', 'source': 'IBA:GO_Central'}, 'evidences': [{'code': 'ECO:0000269', 'source': {'name': 'PubMed', 'id': '21873635', 'url': 'http://www.ncbi.nlm.nih.gov/pubmed/21873635', 'alternativeUrl': 'https://europepmc.org/abstract/MED/21873635'}}]}, {'type': 'GO', 'id': 'GO:0001657', 'properties': {'term': 'P:ureteric bud development', 'source': 'ISS:UniProtKB'}}, {'type': 'GO', 'id': 'GO:0055010', 'properties': {'term': 'P:ventricular cardiac muscle tissue morphogenesis', 'source': 'ISS:UniProtKB'}}, {'type': 'GO', 'id': 'GO:0021847', 'properties': {'term': 'P:ventricular zone neuroblast division', 'source': 'ISS:UniProtKB'}}, {'type': 'GO', 'id': 'GO:0042060', 'properties': {'term': 'P:wound healing', 'source': 'IEA:Ensembl'}}, {'type': 'Gene3D', 'id': '2.60.40.10', 'properties': {'match status': '3'}}, {'type': 'IDEAL', 'id': 'IID00546'}, {'type': 'InterPro', 'id': 'IPR016248', 'properties': {'entry name': 'FGF_rcpt_fam'}}, {'type': 'InterPro', 'id': 'IPR041159', 'properties': {'entry name': 'FGFR_TM'}}, {'type': 'InterPro', 'id': 'IPR007110', 'properties': {'entry name': 'Ig-like_dom'}}, {'type': 'InterPro', 'id': 'IPR036179', 'properties': {'entry name': 'Ig-like_dom_sf'}}, {'type': 'InterPro', 'id': 'IPR013783', 'properties': {'entry name': 'Ig-like_fold'}}, {'type': 'InterPro', 'id': 'IPR013098', 'properties': {'entry name': 'Ig_I-set'}}, {'type': 'InterPro', 'id': 'IPR003599', 'properties': {'entry name': 'Ig_sub'}}, {'type': 'InterPro', 'id': 'IPR003598', 'properties': {'entry name': 'Ig_sub2'}}, {'type': 'InterPro', 'id': 'IPR011009', 'properties': {'entry name': 'Kinase-like_dom_sf'}}, {'type': 'InterPro', 'id': 'IPR000719', 'properties': {'entry name': 'Prot_kinase_dom'}}, {'type': 'InterPro', 'id': 'IPR017441', 'properties': {'entry name': 'Protein_kinase_ATP_BS'}}, {'type': 'InterPro', 'id': 'IPR001245', 'properties': {'entry name': 'Ser-Thr/Tyr_kinase_cat_dom'}}, {'type': 'InterPro', 'id': 'IPR008266', 'properties': {'entry name': 'Tyr_kinase_AS'}}, {'type': 'InterPro', 'id': 'IPR020635', 'properties': {'entry name': 'Tyr_kinase_cat_dom'}}, {'type': 'Pfam', 'id': 'PF18123', 'properties': {'match status': '1', 'entry name': 'FGFR3_TM'}}, {'type': 'Pfam', 'id': 'PF07679', 'properties': {'match status': '2', 'entry name': 'I-set'}}, {'type': 'Pfam', 'id': 'PF07714', 'properties': {'match status': '1', 'entry name': 'PK_Tyr_Ser-Thr'}}, {'type': 'PIRSF', 'id': 'PIRSF000628', 'properties': {'match status': '1', 'entry name': 'FGFR'}}, {'type': 'PRINTS', 'id': 'PR00109', 'properties': {'entry name': 'TYRKINASE'}}, {'type': 'SMART', 'id': 'SM00409', 'properties': {'match status': '3', 'entry name': 'IG'}}, {'type': 'SMART', 'id': 'SM00408', 'properties': {'match status': '3', 'entry name': 'IGc2'}}, {'type': 'SMART', 'id': 'SM00219', 'properties': {'match status': '1', 'entry name': 'TyrKc'}}, {'type': 'SUPFAM', 'id': 'SSF48726', 'properties': {'match status': '3', 'entry name': 'SSF48726'}}, {'type': 'SUPFAM', 'id': 'SSF56112', 'properties': {'match status': '1', 'entry name': 'SSF56112'}}, {'type': 'PROSITE', 'id': 'PS50835', 'properties': {'match status': '3', 'entry name': 'IG_LIKE'}}, {'type': 'PROSITE', 'id': 'PS00107', 'properties': {'match status': '1', 'entry name': 'PROTEIN_KINASE_ATP'}}, {'type': 'PROSITE', 'id': 'PS50011', 'properties': {'match status': '1', 'entry name': 'PROTEIN_KINASE_DOM'}}, {'type': 'PROSITE', 'id': 'PS00109', 'properties': {'match status': '1', 'entry name': 'PROTEIN_KINASE_TYR'}}], 'keywords': [{'value': '3D-structure'}, {'value': 'Alternative splicing'}, {'value': 'Apoptosis'}, {'value': 'ATP-binding'}, {'value': 'Cell membrane'}, {'value': 'Craniosynostosis'}, {'value': 'Cytoplasmic vesicle'}, {'value': 'Disease mutation'}, {'value': 'Disulfide bond'}, {'value': 'Ectodermal dysplasia'}, {'value': 'Glycoprotein'}, {'value': 'Golgi apparatus'}, {'value': 'Heparin-binding'}, {'value': 'Immunoglobulin domain'}, {'value': 'Kinase'}, {'value': 'Lacrimo-auriculo-dento-digital syndrome'}, {'value': 'Membrane'}, {'value': 'Mental retardation'}, {'value': 'Nucleotide-binding'}, {'value': 'Phosphoprotein'}, {'value': 'Polymorphism'}, {'value': 'Proto-oncogene'}, {'value': 'Receptor'}, {'value': 'Reference proteome'}, {'value': 'Repeat'}, {'value': 'Secreted'}, {'value': 'Signal'}, {'value': 'Transferase'}, {'value': 'Transmembrane'}, {'value': 'Transmembrane helix'}, {'value': 'Tyrosine-protein kinase'}, {'value': 'Ubl conjugation'}], 'references': [{'citation': {'type': 'journal article', 'publicationDate': '1990', 'title': 'Cloning and expression of two distinct high-affinity receptors cross-reacting with acidic and basic fibroblast growth factors.', 'authors': ['Dionne C.A.', 'Crumley G.R.', 'Bellot F.', 'Kaplow J.M.', 'Searfoss G.', 'Ruta M.', 'Burgess W.H.', 'Jaye M.', 'Schlessinger J.'], 'publication': {'journalName': 'EMBO J.'}, 'location': {'volume': '9', 'firstPage': '2685', 'lastPage': '2692'}, 'dbReferences': [{'type': 'PubMed', 'id': '1697263'}, {'type': 'DOI', 'id': '10.1002/j.1460-2075.1990.tb07454.x'}]}, 'source': {'tissue': [{'value': 'Neonatal brain stem'}]}, 'scope': ['NUCLEOTIDE SEQUENCE [MRNA] (ISOFORM 1)']}, {'citation': {'type': 'journal article', 'publicationDate': '1990', 'title': 'Related fibroblast growth factor receptor genes exist in the human genome.', 'authors': ['Houssaint E.', 'Blanquet P.R.', 'Champion-Arnaud P.', 'Gesnel M.-C.', 'Torriglia A.', 'Courtois Y.', 'Breathnach R.'], 'publication': {'journalName': 'Proc. Natl. Acad. Sci. U.S.A.'}, 'location': {'volume': '87', 'firstPage': '8180', 'lastPage': '8184'}, 'dbReferences': [{'type': 'PubMed', 'id': '2172978'}, {'type': 'DOI', 'id': '10.1073/pnas.87.20.8180'}]}, 'scope': ['NUCLEOTIDE SEQUENCE [MRNA] (ISOFORM 10)']}, {'citation': {'type': 'journal article', 'publicationDate': '1991', 'title': 'Two cDNAs encoding novel human FGF receptor.', 'authors': ['Seno M.', 'Sasada R.', 'Watanabe T.', 'Ishimaru K.', 'Igarashi K.'], 'publication': {'journalName': 'Biochim. Biophys. Acta'}, 'location': {'volume': '1089', 'firstPage': '244', 'lastPage': '246'}, 'dbReferences': [{'type': 'PubMed', 'id': '1647213'}, {'type': 'DOI', 'id': '10.1016/0167-4781(91)90015-e'}]}, 'scope': ['NUCLEOTIDE SEQUENCE [MRNA] (ISOFORM 11)']}, {'citation': {'type': 'journal article', 'publicationDate': '1990', 'title': 'K-sam, an amplified gene in stomach cancer, is a member of the heparin-binding growth factor receptor genes.', 'authors': ['Hattori Y.', 'Odagiri H.', 'Nakatani H.', 'Miyagawa K.', 'Naito K.', 'Sakamoto H.', 'Katoh O.', 'Yoshida T.', 'Sugimura T.', 'Terada M.'], 'publication': {'journalName': 'Proc. Natl. Acad. Sci. U.S.A.'}, 'location': {'volume': '87', 'firstPage': '5983', 'lastPage': '5987'}, 'dbReferences': [{'type': 'PubMed', 'id': '2377625'}, {'type': 'DOI', 'id': '10.1073/pnas.87.15.5983'}]}, 'source': {'tissue': [{'value': 'Stomach cancer'}]}, 'scope': ['NUCLEOTIDE SEQUENCE [MRNA] (ISOFORM 4)']}, {'citation': {'type': 'journal article', 'publicationDate': '1992', 'title': 'K-sam gene encodes secreted as well as transmembrane receptor tyrosine kinase.', 'authors': ['Katoh M.', 'Hattori Y.', 'Sasaki H.', 'Tanaka M.', 'Sugano K.', 'Yazaki Y.', 'Sugimura T.', 'Terada M.'], 'publication': {'journalName': 'Proc. Natl. Acad. Sci. U.S.A.'}, 'location': {'volume': '89', 'firstPage': '2960', 'lastPage': '2964'}, 'dbReferences': [{'type': 'PubMed', 'id': '1313574'}, {'type': 'DOI', 'id': '10.1073/pnas.89.7.2960'}]}, 'scope': ['NUCLEOTIDE SEQUENCE [MRNA] (ISOFORMS 5; 8; 9 AND 16)']}, {'citation': {'type': 'journal article', 'publicationDate': '1992', 'title': 'A novel form of fibroblast growth factor receptor 2. Alternative splicing of the third immunoglobulin-like domain confers ligand binding specificity.', 'authors': ['Dell K.R.', 'Williams L.T.'], 'publication': {'journalName': 'J. Biol. Chem.'}, 'location': {'volume': '267', 'firstPage': '21225', 'lastPage': '21229'}, 'dbReferences': [{'type': 'PubMed', 'id': '1400433'}]}, 'source': {'tissue': [{'value': 'Placenta'}]}, 'scope': ['NUCLEOTIDE SEQUENCE [MRNA] (ISOFORMS 3 AND 16)', 'DOMAIN', 'SUBUNIT']}, {'citation': {'type': 'journal article', 'publicationDate': '1992', 'title': 'Determination of ligand-binding specificity by alternative splicing: two distinct growth factor receptors encoded by a single gene.', 'authors': ['Miki T.', 'Bottaro D.P.', 'Fleming T.P.', 'Smith C.L.', 'Burgess W.H.', 'Chan A.M.-L.', 'Aaronson S.A.'], 'publication': {'journalName': 'Proc. Natl. Acad. Sci. U.S.A.'}, 'location': {'volume': '89', 'firstPage': '246', 'lastPage': '250'}, 'dbReferences': [{'type': 'PubMed', 'id': '1309608'}, {'type': 'DOI', 'id': '10.1073/pnas.89.1.246'}]}, 'source': {'tissue': [{'value': 'Mammary gland'}]}, 'scope': ['NUCLEOTIDE SEQUENCE [MRNA] (ISOFORMS 3; 13 AND 16)', 'SUBUNIT', 'DOMAIN', 'VARIANT ARG-613']}, {'citation': {'type': 'journal article', 'publicationDate': '1994', 'title': 'Hepatocyte growth factor (HGF), keratinocyte growth factor (KGF), and their receptors in human breast cells and tissues: alternative receptors.', 'authors': ['Wilson S.E.', 'Weng J.', 'Chwang E.L.', 'Gollahon L.', 'Leitch A.M.', 'Shay J.W.'], 'publication': {'journalName': 'Cell. Mol. Biol. Res.'}, 'location': {'volume': '40', 'firstPage': '337', 'lastPage': '350'}, 'dbReferences': [{'type': 'PubMed', 'id': '7866434'}]}, 'source': {'tissue': [{'value': 'Cornea'}, {'value': 'Mammary gland'}]}, 'scope': ['NUCLEOTIDE SEQUENCE [MRNA] (ISOFORM 13)']}, {'citation': {'type': 'journal article', 'publicationDate': '1994', 'authors': ['Wilson S.E.', 'Weng J.', 'Chwang E.L.', 'Gollahon L.', 'Leitch A.M.', 'Shay J.W.'], 'publication': {'journalName': 'Cell. Mol. Biol. Res.'}, 'location': {'volume': '40', 'firstPage': '707', 'lastPage': '707'}}, 'scope': ['ERRATUM OF PUBMED:7866434']}, {'citation': {'type': 'submission', 'publicationDate': 'APR-1996', 'authors': ['Steinberger D.', 'Mueller U.'], 'publication': {'submissionDatabase': 'EMBL/GenBank/DDBJ databases'}}, 'source': {'tissue': [{'value': 'Blood'}]}, 'scope': ['NUCLEOTIDE SEQUENCE [MRNA] (ISOFORM 1)', 'VARIANT CS SER-342']}, {'citation': {'type': 'journal article', 'publicationDate': '1999', 'title': 'Deletion of the carboxyl-terminal exons of K-sam/FGFR2 by short homology-mediated recombination, generating preferential expression of specific messenger RNAs.', 'authors': ['Ueda T.', 'Sasaki H.', 'Kuwahara Y.', 'Nezu M.', 'Shibuya T.', 'Sakamoto H.', 'Ishii H.', 'Yanagihara K.', 'Mafune K.', 'Makuuchi M.', 'Terada M.'], 'publication': {'journalName': 'Cancer Res.'}, 'location': {'volume': '59', 'firstPage': '6080', 'lastPage': '6086'}, 'dbReferences': [{'type': 'PubMed', 'id': '10626794'}]}, 'scope': ['NUCLEOTIDE SEQUENCE [MRNA]', 'VARIANT ARG-613']}, {'citation': {'type': 'journal article', 'publicationDate': '2001', 'title': 'Fibroblast growth factor receptor 2 (FGFR2): genomic sequence and variations.', 'authors': ['Ingersoll R.G.', 'Paznekas W.A.', 'Tran A.K.', 'Scott A.F.', 'Jiang G.', 'Jabs E.W.'], 'publication': {'journalName': 'Cytogenet. Cell Genet.'}, 'location': {'volume': '94', 'firstPage': '121', 'lastPage': '126'}, 'dbReferences': [{'type': 'PubMed', 'id': '11856867'}, {'type': 'DOI', 'id': '10.1159/000048802'}]}, 'scope': ['NUCLEOTIDE SEQUENCE [GENOMIC DNA] (ISOFORMS 5; 6; 7; 8 AND 12)']}, {'citation': {'type': 'submission', 'publicationDate': 'FEB-2002', 'title': 'Sequence and polymorphisms in fibroblast growth factor receptor 2 (FGFR2) gene in humans.', 'authors': ['Lind D.L.', 'Cox D.R.'], 'publication': {'submissionDatabase': 'EMBL/GenBank/DDBJ databases'}}, 'scope': ['NUCLEOTIDE SEQUENCE [GENOMIC DNA] (ISOFORM 3)']}, {'citation': {'type': 'submission', 'publicationDate': 'APR-2002', 'title': 'Identification of a novel variant of FGFR2.', 'authors': ['Jang J.'], 'publication': {'submissionDatabase': 'EMBL/GenBank/DDBJ databases'}}, 'scope': ['NUCLEOTIDE SEQUENCE [MRNA] (ISOFORM 17)']}, {'citation': {'type': 'submission', 'publicationDate': 'APR-2006', 'consortiums': ['NIEHS SNPs program'], 'publication': {'submissionDatabase': 'EMBL/GenBank/DDBJ databases'}}, 'scope': ['NUCLEOTIDE SEQUENCE [GENOMIC DNA]', 'VARIANTS PRO-6 AND THR-186']}, {'citation': {'type': 'journal article', 'publicationDate': '2004', 'title': 'Complete sequencing and characterization of 21,243 full-length human cDNAs.', 'authors': ['Ota T.', 'Suzuki Y.', 'Nishikawa T.', 'Otsuki T.', 'Sugiyama T.', 'Irie R.', 'Wakamatsu A.', 'Hayashi K.', 'Sato H.', 'Nagai K.', 'Kimura K.', 'Makita H.', 'Sekine M.', 'Obayashi M.', 'Nishi T.', 'Shibahara T.', 'Tanaka T.', 'Ishii S.', 'Yamamoto J.', 'Saito K.', 'Kawai Y.', 'Isono Y.', 'Nakamura Y.', 'Nagahari K.', 'Murakami K.', 'Yasuda T.', 'Iwayanagi T.', 'Wagatsuma M.', 'Shiratori A.', 'Sudo H.', 'Hosoiri T.', 'Kaku Y.', 'Kodaira H.', 'Kondo H.', 'Sugawara M.', 'Takahashi M.', 'Kanda K.', 'Yokoi T.', 'Furuya T.', 'Kikkawa E.', 'Omura Y.', 'Abe K.', 'Kamihara K.', 'Katsuta N.', 'Sato K.', 'Tanikawa M.', 'Yamazaki M.', 'Ninomiya K.', 'Ishibashi T.', 'Yamashita H.', 'Murakawa K.', 'Fujimori K.', 'Tanai H.', 'Kimata M.', 'Watanabe M.', 'Hiraoka S.', 'Chiba Y.', 'Ishida S.', 'Ono Y.', 'Takiguchi S.', 'Watanabe S.', 'Yosida M.', 'Hotuta T.', 'Kusano J.', 'Kanehori K.', 'Takahashi-Fujii A.', 'Hara H.', 'Tanase T.-O.', 'Nomura Y.', 'Togiya S.', 'Komai F.', 'Hara R.', 'Takeuchi K.', 'Arita M.', 'Imose N.', 'Musashino K.', 'Yuuki H.', 'Oshima A.', 'Sasaki N.', 'Aotsuka S.', 'Yoshikawa Y.', 'Matsunawa H.', 'Ichihara T.', 'Shiohata N.', 'Sano S.', 'Moriya S.', 'Momiyama H.', 'Satoh N.', 'Takami S.', 'Terashima Y.', 'Suzuki O.', 'Nakagawa S.', 'Senoh A.', 'Mizoguchi H.', 'Goto Y.', 'Shimizu F.', 'Wakebe H.', 'Hishigaki H.', 'Watanabe T.', 'Sugiyama A.', 'Takemoto M.', 'Kawakami B.', 'Yamazaki M.', 'Watanabe K.', 'Kumagai A.', 'Itakura S.', 'Fukuzumi Y.', 'Fujimori Y.', 'Komiyama M.', 'Tashiro H.', 'Tanigami A.', 'Fujiwara T.', 'Ono T.', 'Yamada K.', 'Fujii Y.', 'Ozaki K.', 'Hirao M.', 'Ohmori Y.', 'Kawabata A.', 'Hikiji T.', 'Kobatake N.', 'Inagaki H.', 'Ikema Y.', 'Okamoto S.', 'Okitani R.', 'Kawakami T.', 'Noguchi S.', 'Itoh T.', 'Shigeta K.', 'Senba T.', 'Matsumura K.', 'Nakajima Y.', 'Mizuno T.', 'Morinaga M.', 'Sasaki M.', 'Togashi T.', 'Oyama M.', 'Hata H.', 'Watanabe M.', 'Komatsu T.', 'Mizushima-Sugano J.', 'Satoh T.', 'Shirai Y.', 'Takahashi Y.', 'Nakagawa K.', 'Okumura K.', 'Nagase T.', 'Nomura N.', 'Kikuchi H.', 'Masuho Y.', 'Yamashita R.', 'Nakai K.', 'Yada T.', 'Nakamura Y.', 'Ohara O.', 'Isogai T.', 'Sugano S.'], 'publication': {'journalName': 'Nat. Genet.'}, 'location': {'volume': '36', 'firstPage': '40', 'lastPage': '45'}, 'dbReferences': [{'type': 'PubMed', 'id': '14702039'}, {'type': 'DOI', 'id': '10.1038/ng1285'}]}, 'source': {'tissue': [{'value': 'Cerebellum'}]}, 'scope': ['NUCLEOTIDE SEQUENCE [LARGE SCALE MRNA] (ISOFORM 15)']}, {'citation': {'type': 'journal article', 'publicationDate': '2004', 'title': 'The DNA sequence and comparative analysis of human chromosome 10.', 'authors': ['Deloukas P.', 'Earthrowl M.E.', 'Grafham D.V.', 'Rubenfield M.', 'French L.', 'Steward C.A.', 'Sims S.K.', 'Jones M.C.', 'Searle S.', 'Scott C.', 'Howe K.', 'Hunt S.E.', 'Andrews T.D.', 'Gilbert J.G.R.', 'Swarbreck D.', 'Ashurst J.L.', 'Taylor A.', 'Battles J.', 'Bird C.P.', 'Ainscough R.', 'Almeida J.P.', 'Ashwell R.I.S.', 'Ambrose K.D.', 'Babbage A.K.', 'Bagguley C.L.', 'Bailey J.', 'Banerjee R.', 'Bates K.', 'Beasley H.', 'Bray-Allen S.', 'Brown A.J.', 'Brown J.Y.', 'Burford D.C.', 'Burrill W.', 'Burton J.', 'Cahill P.', 'Camire D.', 'Carter N.P.', 'Chapman J.C.', 'Clark S.Y.', 'Clarke G.', 'Clee C.M.', 'Clegg S.', 'Corby N.', 'Coulson A.', 'Dhami P.', 'Dutta I.', 'Dunn M.', 'Faulkner L.', 'Frankish A.', 'Frankland J.A.', 'Garner P.', 'Garnett J.', 'Gribble S.', 'Griffiths C.', 'Grocock R.', 'Gustafson E.', 'Hammond S.', 'Harley J.L.', 'Hart E.', 'Heath P.D.', 'Ho T.P.', 'Hopkins B.', 'Horne J.', 'Howden P.J.', 'Huckle E.', 'Hynds C.', 'Johnson C.', 'Johnson D.', 'Kana A.', 'Kay M.', 'Kimberley A.M.', 'Kershaw J.K.', 'Kokkinaki M.', 'Laird G.K.', 'Lawlor S.', 'Lee H.M.', 'Leongamornlert D.A.', 'Laird G.', 'Lloyd C.', 'Lloyd D.M.', 'Loveland J.', 'Lovell J.', 'McLaren S.', 'McLay K.E.', 'McMurray A.', 'Mashreghi-Mohammadi M.', 'Matthews L.', 'Milne S.', 'Nickerson T.', 'Nguyen M.', 'Overton-Larty E.', 'Palmer S.A.', 'Pearce A.V.', 'Peck A.I.', 'Pelan S.', 'Phillimore B.', 'Porter K.', 'Rice C.M.', 'Rogosin A.', 'Ross M.T.', 'Sarafidou T.', 'Sehra H.K.', 'Shownkeen R.', 'Skuce C.D.', 'Smith M.', 'Standring L.', 'Sycamore N.', 'Tester J.', 'Thorpe A.', 'Torcasso W.', 'Tracey A.', 'Tromans A.', 'Tsolas J.', 'Wall M.', 'Walsh J.', 'Wang H.', 'Weinstock K.', 'West A.P.', 'Willey D.L.', 'Whitehead S.L.', 'Wilming L.', 'Wray P.W.', 'Young L.', 'Chen Y.', 'Lovering R.C.', 'Moschonas N.K.', 'Siebert R.', 'Fechtel K.', 'Bentley D.', 'Durbin R.M.', 'Hubbard T.', 'Doucette-Stamm L.', 'Beck S.', 'Smith D.R.', 'Rogers J.'], 'publication': {'journalName': 'Nature'}, 'location': {'volume': '429', 'firstPage': '375', 'lastPage': '381'}, 'dbReferences': [{'type': 'PubMed', 'id': '15164054'}, {'type': 'DOI', 'id': '10.1038/nature02462'}]}, 'scope': ['NUCLEOTIDE SEQUENCE [LARGE SCALE GENOMIC DNA]']}, {'citation': {'type': 'journal article', 'publicationDate': '2004', 'title': 'The status, quality, and expansion of the NIH full-length cDNA project: the Mammalian Gene Collection (MGC).', 'consortiums': ['The MGC Project Team'], 'publication': {'journalName': 'Genome Res.'}, 'location': {'volume': '14', 'firstPage': '2121', 'lastPage': '2127'}, 'dbReferences': [{'type': 'PubMed', 'id': '15489334'}, {'type': 'DOI', 'id': '10.1101/gr.2596504'}]}, 'source': {'tissue': [{'value': 'Brain'}]}, 'scope': ['NUCLEOTIDE SEQUENCE [LARGE SCALE MRNA] (ISOFORM 14)']}, {'citation': {'type': 'journal article', 'publicationDate': '2000', 'title': 'Paternal origin of FGFR2 mutations in sporadic cases of Crouzon syndrome and Pfeiffer syndrome.', 'authors': ['Glaser R.L.', 'Jiang W.', 'Boyadjiev S.A.', 'Tran A.K.', 'Zachary A.A.', 'Van Maldergem L.', 'Johnson D.', 'Walsh S.', 'Oldridge M.', 'Wall S.A.', 'Wilkie A.O.M.', 'Jabs E.W.'], 'publication': {'journalName': 'Am. J. Hum. Genet.'}, 'location': {'volume': '66', 'firstPage': '768', 'lastPage': '777'}, 'dbReferences': [{'type': 'PubMed', 'id': '10712195'}, {'type': 'DOI', 'id': '10.1086/302831'}]}, 'scope': ['NUCLEOTIDE SEQUENCE [GENOMIC DNA] OF 314-427']}, {'citation': {'type': 'journal article', 'publicationDate': '1999', 'title': 'Genomic organization of the human fibroblast growth factor receptor 2 (FGFR2) gene and comparative analysis of the human FGFR gene family.', 'authors': ['Zhang Y.', 'Gorry M.C.', 'Post J.C.', 'Ehrlich G.D.'], 'publication': {'journalName': 'Gene'}, 'location': {'volume': '230', 'firstPage': '69', 'lastPage': '79'}, 'dbReferences': [{'type': 'PubMed', 'id': '10196476'}, {'type': 'DOI', 'id': '10.1016/s0378-1119(99)00047-5'}]}, 'scope': ['NUCLEOTIDE SEQUENCE [GENOMIC DNA] OF 1-209; 212-767 AND 771-821 (ISOFORMS 5; 8 AND 12)']}, {'citation': {'type': 'journal article', 'publicationDate': '1995', 'title': 'Analysis of phenotypic features and FGFR2 mutations in Apert syndrome.', 'authors': ['Park W.-J.', 'Theda C.', 'Maestri N.E.', 'Meyers G.A.', 'Fryburg J.S.', 'Dufresne C.', 'Cohen M.M. Jr.', 'Jabs E.W.'], 'publication': {'journalName': 'Am. J. Hum. Genet.'}, 'location': {'volume': '57', 'firstPage': '321', 'lastPage': '328'}, 'dbReferences': [{'type': 'PubMed', 'id': '7668257'}]}, 'scope': ['NUCLEOTIDE SEQUENCE [GENOMIC DNA] OF 249-313', 'VARIANTS APRS TRP-252 AND ARG-253']}, {'citation': {'type': 'journal article', 'publicationDate': '1996', 'title': 'Nucleotide sequences at intron 6 and exon 7 junction of fibroblast growth factor receptor 2 and rapid mutational analysis in Apert syndrome.', 'authors': ['Wada C.', 'Ishigaki M.', 'Toyo-oka Y.', 'Yamabe H.', 'Ohnuki Y.', 'Takada F.', 'Yamazaki Y.', 'Ohtani H.'], 'publication': {'journalName': 'Rinsho Byori'}, 'location': {'volume': '44', 'firstPage': '435', 'lastPage': '438'}, 'dbReferences': [{'type': 'PubMed', 'id': '8676562'}]}, 'scope': ['NUCLEOTIDE SEQUENCE [GENOMIC DNA] OF 251-259']}, {'citation': {'type': 'journal article', 'publicationDate': '1996', 'title': 'Exclusive paternal origin of new mutations in Apert syndrome.', 'authors': ['Moloney D.M.', 'Slaney S.F.', 'Oldridge M.', 'Wall S.A.', 'Sahlin P.', 'Stenman G.', 'Wilkie A.O.M.'], 'publication': {'journalName': 'Nat. Genet.'}, 'location': {'volume': '13', 'firstPage': '48', 'lastPage': '53'}, 'dbReferences': [{'type': 'PubMed', 'id': '8673103'}, {'type': 'DOI', 'id': '10.1038/ng0596-48'}]}, 'scope': ['NUCLEOTIDE SEQUENCE [GENOMIC DNA] OF 251-318']}, {'citation': {'type': 'journal article', 'publicationDate': '1995', 'title': 'Crouzon syndrome: mutations in two spliceoforms of FGFR2 and a common point mutation shared with Jackson-Weiss syndrome.', 'authors': ['Gorry M.C.', 'Preston R.A.', 'White G.J.', 'Zhang Y.', 'Singhal V.K.', 'Losken H.W.', 'Parker M.G.', 'Nwokoro N.A.', 'Post J.C.', 'Ehrlich G.D.'], 'publication': {'journalName': 'Hum. Mol. Genet.'}, 'location': {'volume': '4', 'firstPage': '1387', 'lastPage': '1390'}, 'dbReferences': [{'type': 'PubMed', 'id': '7581378'}, {'type': 'DOI', 'id': '10.1093/hmg/4.8.1387'}]}, 'scope': ['NUCLEOTIDE SEQUENCE [GENOMIC DNA] OF 263-361', 'VARIANTS CS PRO-289; ARG-338; SER-342; TYR-342; GLY-344 AND CYS-354']}, {'citation': {'type': 'journal article', 'publicationDate': '1996', 'title': 'Asparagine-344 is a key residue for ligand binding in keratinocyte growth factor receptor.', 'authors': ['Gray T.E.', 'Eisenstein M.', 'Yayon A.', 'Givol D.'], 'publication': {'journalName': 'Biochemistry'}, 'location': {'volume': '35', 'firstPage': '15640', 'lastPage': '15645'}, 'dbReferences': [{'type': 'PubMed', 'id': '8961926'}, {'type': 'DOI', 'id': '10.1021/bi961942c'}]}, 'scope': ['FUNCTION (ISOFORM 3)', 'SUBUNIT', 'DOMAIN']}, {'citation': {'type': 'journal article', 'publicationDate': '1996', 'title': 'Receptor specificity of the fibroblast growth factor family.', 'authors': ['Ornitz D.M.', 'Xu J.', 'Colvin J.S.', 'McEwen D.G.', 'MacArthur C.A.', 'Coulier F.', 'Gao G.', 'Goldfarb M.'], 'publication': {'journalName': 'J. Biol. Chem.'}, 'location': {'volume': '271', 'firstPage': '15292', 'lastPage': '15297'}, 'dbReferences': [{'type': 'PubMed', 'id': '8663044'}, {'type': 'DOI', 'id': '10.1074/jbc.271.25.15292'}]}, 'scope': ['INTERACTION WITH FGF1; FGF2; FGF3; FGF4; FGF6; FGF7 AND FGF9', 'FUNCTION IN CELL PROLIFERATION']}, {'citation': {'type': 'journal article', 'publicationDate': '1998', 'title': 'Genetic heterogeneity of Saethre-Chotzen syndrome, due to TWIST and FGFR mutations.', 'authors': ['Paznekas W.A.', 'Cunningham M.L.', 'Howard T.D.', 'Korf B.R.', 'Lipson M.H.', 'Grix A.W.', 'Feingold M.', 'Goldberg R.', 'Borochowitz Z.', 'Aleck K.', 'Mulliken J.', 'Yin M.', 'Jabs E.W.'], 'publication': {'journalName': 'Am. J. Hum. Genet.'}, 'location': {'volume': '62', 'firstPage': '1370', 'lastPage': '1380'}, 'dbReferences': [{'type': 'PubMed', 'id': '9585583'}, {'type': 'DOI', 'id': '10.1086/301855'}]}, 'scope': ['INVOLVEMENT IN SCS', 'VARIANT SCS 269-VAL-VAL-270 DEL']}, {'citation': {'type': 'journal article', 'publicationDate': '2003', 'title': 'p21-activated protein kinase 4 (PAK4) interacts with the keratinocyte growth factor receptor and participates in keratinocyte growth factor-mediated inhibition of oxidant-induced cell death.', 'authors': ['Lu Y.', 'Pan Z.-Z.', 'Devaux Y.', 'Ray P.'], 'publication': {'journalName': 'J. Biol. Chem.'}, 'location': {'volume': '278', 'firstPage': '10374', 'lastPage': '10380'}, 'dbReferences': [{'type': 'PubMed', 'id': '12529371'}, {'type': 'DOI', 'id': '10.1074/jbc.m205875200'}]}, 'scope': ['FUNCTION IN PHOSPHORYLATION OF PAK4; REGULATION OF CELL PROLIFERATION AND APOPTOSIS', 'INTERACTION WITH GRB2 AND PAK4']}, {'citation': {'type': 'journal article', 'publicationDate': '2004', 'title': 'Cbl-mediated degradation of Lyn and Fyn induced by constitutive fibroblast growth factor receptor-2 activation supports osteoblast differentiation.', 'authors': ['Kaabeche K.', 'Lemonnier J.', 'Le Mee S.', 'Caverzasio J.', 'Marie P.J.'], 'publication': {'journalName': 'J. Biol. Chem.'}, 'location': {'volume': '279', 'firstPage': '36259', 'lastPage': '36267'}, 'dbReferences': [{'type': 'PubMed', 'id': '15190072'}, {'type': 'DOI', 'id': '10.1074/jbc.m402469200'}]}, 'scope': ['FUNCTION IN OSTEOBLAST DIFFERENTIATION AND IN PHOSPHORYLATION OF CBL', 'INTERACTION WITH CBL', 'UBIQUITINATION', 'CHARACTERIZATION OF VARIANT APRS TRP-252']}, {'citation': {'type': 'journal article', 'publicationDate': '2005', 'title': 'Tyrosine 769 of the keratinocyte growth factor receptor is required for receptor signaling but not endocytosis.', 'authors': ['Ceridono M.', 'Belleudi F.', 'Ceccarelli S.', 'Torrisi M.R.'], 'publication': {'journalName': 'Biochem. Biophys. Res. Commun.'}, 'location': {'volume': '327', 'firstPage': '523', 'lastPage': '532'}, 'dbReferences': [{'type': 'PubMed', 'id': '15629145'}, {'type': 'DOI', 'id': '10.1016/j.bbrc.2004.12.031'}]}, 'scope': ['FUNCTION IN CELL PROLIFERATION AND ACTIVATION OF SIGNALING PATHWAYS', 'MUTAGENESIS OF TYR-769', 'PHOSPHORYLATION AT TYR-769', 'INTERACTION WITH PLCG1']}, {'citation': {'type': 'journal article', 'publicationDate': '2006', 'title': 'Receptor specificity of the fibroblast growth factor family. The complete mammalian FGF family.', 'authors': ['Zhang X.', 'Ibrahimi O.A.', 'Olsen S.K.', 'Umemori H.', 'Mohammadi M.', 'Ornitz D.M.'], 'publication': {'journalName': 'J. Biol. Chem.'}, 'location': {'volume': '281', 'firstPage': '15694', 'lastPage': '15700'}, 'dbReferences': [{'type': 'PubMed', 'id': '16597617'}, {'type': 'DOI', 'id': '10.1074/jbc.m601252200'}]}, 'scope': ['INTERACTION WITH FGF1; FGF7; FGF8; FGF9; FGF10; FGF19; FGF21; FGF22 AND FGF23', 'FUNCTION IN STIMULATION OF CELL PROLIFERATION']}, {'citation': {'type': 'journal article', 'publicationDate': '2006', 'title': 'Intracellular retention, degradation, and signaling of glycosylation-deficient FGFR2 and craniosynostosis syndrome-associated FGFR2C278F.', 'authors': ['Hatch N.E.', 'Hudson M.', 'Seto M.L.', 'Cunningham M.L.', 'Bothwell M.'], 'publication': {'journalName': 'J. Biol. Chem.'}, 'location': {'volume': '281', 'firstPage': '27292', 'lastPage': '27305'}, 'dbReferences': [{'type': 'PubMed', 'id': '16844695'}, {'type': 'DOI', 'id': '10.1074/jbc.m600448200'}]}, 'scope': ['FUNCTION IN PHOSPHORYLATION OF PLCG1 (ISOFORM 1)', 'CATALYTIC ACTIVITY', 'AUTOPHOSPHORYLATION', 'GLYCOSYLATION', 'INTERACTION WITH PLCG1', 'SUBCELLULAR LOCATION', 'MUTAGENESIS OF ASN-265 AND 656-TYR-TYR-657', 'UBIQUITINATION', 'CHARACTERIZATION OF VARIANT PS PHE-278']}, {'citation': {'type': 'journal article', 'publicationDate': '2007', 'title': 'Tissue-specific expression of betaKlotho and fibroblast growth factor (FGF) receptor isoforms determines metabolic activity of FGF19 and FGF21.', 'authors': ['Kurosu H.', 'Choi M.', 'Ogawa Y.', 'Dickson A.S.', 'Goetz R.', 'Eliseenkova A.V.', 'Mohammadi M.', 'Rosenblatt K.P.', 'Kliewer S.A.', 'Kuro-o M.'], 'publication': {'journalName': 'J. Biol. Chem.'}, 'location': {'volume': '282', 'firstPage': '26687', 'lastPage': '26695'}, 'dbReferences': [{'type': 'PubMed', 'id': '17623664'}, {'type': 'DOI', 'id': '10.1074/jbc.m704165200'}]}, 'scope': ['INTERACTION WITH FGF19; FGF21 AND KLB', 'FUNCTION IN PHOSPHORYLATION OF FRS2 AND ACTIVATION OF MAP KINASES']}, {'citation': {'type': 'journal article', 'publicationDate': '2007', 'title': 'Fibroblast growth factor receptor-induced phosphorylation of STAT1 at the Golgi apparatus without translocation to the nucleus.', 'authors': ['Citores L.', 'Bai L.', 'Sorensen V.', 'Olsnes S.'], 'publication': {'journalName': 'J. Cell. Physiol.'}, 'location': {'volume': '212', 'firstPage': '148', 'lastPage': '156'}, 'dbReferences': [{'type': 'PubMed', 'id': '17311277'}, {'type': 'DOI', 'id': '10.1002/jcp.21014'}]}, 'scope': ['FUNCTION IN STAT1 PHOSPHORYLATION', 'GLYCOSYLATION', 'SUBCELLULAR LOCATION', 'PHOSPHORYLATION']}, {'citation': {'type': 'journal article', 'publicationDate': '2008', 'title': 'FGFR2-Cbl interaction in lipid rafts triggers attenuation of PI3K/Akt signaling and osteoblast survival.', 'authors': ['Dufour C.', 'Guenou H.', 'Kaabeche K.', 'Bouvard D.', 'Sanjay A.', 'Marie P.J.'], 'publication': {'journalName': 'Bone'}, 'location': {'volume': '42', 'firstPage': '1032', 'lastPage': '1039'}, 'dbReferences': [{'type': 'PubMed', 'id': '18374639'}, {'type': 'DOI', 'id': '10.1016/j.bone.2008.02.009'}]}, 'scope': ['FUNCTION', 'SUBCELLULAR LOCATION']}, {'citation': {'type': 'journal article', 'publicationDate': '2009', 'title': 'Novel phosphotyrosine targets of FGFR2IIIb signaling.', 'authors': ['Luo Y.', 'Yang C.', 'Jin C.', 'Xie R.', 'Wang F.', 'McKeehan W.L.'], 'publication': {'journalName': 'Cell. Signal.'}, 'location': {'volume': '21', 'firstPage': '1370', 'lastPage': '1378'}, 'dbReferences': [{'type': 'PubMed', 'id': '19410646'}, {'type': 'DOI', 'id': '10.1016/j.cellsig.2009.04.004'}]}, 'scope': ['FUNCTION AS FGF7 RECEPTOR AND IN PHOSPHORYLATION OF PLCG1 AND FRS2', 'CATALYTIC ACTIVITY', 'PHOSPHORYLATION AT TYR-466; TYR-586; TYR-588; TYR-656 AND TYR-657', 'IDENTIFICATION BY MASS SPECTROMETRY']}, {'citation': {'type': 'journal article', 'publicationDate': '2009', 'title': 'Aberrant receptor internalization and enhanced FRS2-dependent signaling contribute to the transforming activity of the fibroblast growth factor receptor 2 IIIb C3 isoform.', 'authors': ['Cha J.Y.', 'Maddileti S.', 'Mitin N.', 'Harden T.K.', 'Der C.J.'], 'publication': {'journalName': 'J. Biol. Chem.'}, 'location': {'volume': '284', 'firstPage': '6227', 'lastPage': '6240'}, 'dbReferences': [{'type': 'PubMed', 'id': '19103595'}, {'type': 'DOI', 'id': '10.1074/jbc.m803998200'}]}, 'scope': ['FUNCTION IN FIBROBLAST PROLIFERATION; ACTIVATION OF MAP KINASES AND PHOSPHORYLATION OF PLCG1 AND FRS2', 'INTERACTION WITH PLCG1 AND FRS2', 'SUBCELLULAR LOCATION', 'MUTAGENESIS OF TYR-769']}, {'citation': {'type': 'journal article', 'publicationDate': '2009', 'title': 'Large-scale proteomics analysis of the human kinome.', 'authors': ['Oppermann F.S.', 'Gnad F.', 'Olsen J.V.', 'Hornberger R.', 'Greff Z.', 'Keri G.', 'Mann M.', 'Daub H.'], 'publication': {'journalName': 'Mol. Cell. Proteomics'}, 'location': {'volume': '8', 'firstPage': '1751', 'lastPage': '1764'}, 'dbReferences': [{'type': 'PubMed', 'id': '19369195'}, {'type': 'DOI', 'id': '10.1074/mcp.m800588-mcp200'}]}, 'scope': ['IDENTIFICATION BY MASS SPECTROMETRY [LARGE SCALE ANALYSIS]']}, {'citation': {'type': 'journal article', 'publicationDate': '2011', 'title': 'The Casitas B lineage lymphoma (Cbl) mutant G306E enhances osteogenic differentiation in human mesenchymal stromal cells in part by decreased Cbl-mediated platelet-derived growth factor receptor alpha and fibroblast growth factor receptor 2 ubiquitination.', 'authors': ['Severe N.', 'Miraoui H.', 'Marie P.J.'], 'publication': {'journalName': 'J. Biol. Chem.'}, 'location': {'volume': '286', 'firstPage': '24443', 'lastPage': '24450'}, 'dbReferences': [{'type': 'PubMed', 'id': '21596750'}, {'type': 'DOI', 'id': '10.1074/jbc.m110.197525'}]}, 'scope': ['FUNCTION', 'UBIQUITINATION']}, {'citation': {'type': 'journal article', 'publicationDate': '2005', 'title': 'Cellular signaling by fibroblast growth factor receptors.', 'authors': ['Eswarakumar V.P.', 'Lax I.', 'Schlessinger J.'], 'publication': {'journalName': 'Cytokine Growth Factor Rev.'}, 'location': {'volume': '16', 'firstPage': '139', 'lastPage': '149'}, 'dbReferences': [{'type': 'PubMed', 'id': '15863030'}, {'type': 'DOI', 'id': '10.1016/j.cytogfr.2005.01.001'}]}, 'scope': ['REVIEW ON LIGAND SPECIFICITY', 'ALTERNATIVE SPLICING', 'SIGNALING']}, {'citation': {'type': 'journal article', 'publicationDate': '2009', 'title': 'FGFR2 abnormalities underlie a spectrum of bone, skin, and cancer pathologies.', 'authors': ['Katoh M.'], 'publication': {'journalName': 'J. Invest. Dermatol.'}, 'location': {'volume': '129', 'firstPage': '1861', 'lastPage': '1867'}, 'dbReferences': [{'type': 'PubMed', 'id': '19387476'}, {'type': 'DOI', 'id': '10.1038/jid.2009.97'}]}, 'scope': ['REVIEW ON LIGAND SPECIFICITY', 'ALTERNATIVE SPLICING', 'SIGNALING', 'ROLE IN DISEASE']}, {'citation': {'type': 'journal article', 'publicationDate': '2010', 'title': 'Fibroblast growth factor signalling: from development to cancer.', 'authors': ['Turner N.', 'Grose R.'], 'publication': {'journalName': 'Nat. Rev. Cancer'}, 'location': {'volume': '10', 'firstPage': '116', 'lastPage': '129'}, 'dbReferences': [{'type': 'PubMed', 'id': '20094046'}, {'type': 'DOI', 'id': '10.1038/nrc2780'}]}, 'scope': ['REVIEW ON FUNCTION IN FGF SIGNALING']}, {'citation': {'type': 'journal article', 'publicationDate': '2014', 'title': 'An enzyme assisted RP-RPLC approach for in-depth analysis of human liver phosphoproteome.', 'authors': ['Bian Y.', 'Song C.', 'Cheng K.', 'Dong M.', 'Wang F.', 'Huang J.', 'Sun D.', 'Wang L.', 'Ye M.', 'Zou H.'], 'publication': {'journalName': 'J. Proteomics'}, 'location': {'volume': '96', 'firstPage': '253', 'lastPage': '262'}, 'dbReferences': [{'type': 'PubMed', 'id': '24275569'}, {'type': 'DOI', 'id': '10.1016/j.jprot.2013.11.014'}]}, 'source': {'tissue': [{'value': 'Liver'}]}, 'scope': ['PHOSPHORYLATION [LARGE SCALE ANALYSIS] AT SER-780', 'IDENTIFICATION BY MASS SPECTROMETRY [LARGE SCALE ANALYSIS]']}, {'citation': {'type': 'journal article', 'publicationDate': '2000', 'title': 'Crystal structures of two FGF-FGFR complexes reveal the determinants of ligand-receptor specificity.', 'authors': ['Plotnikov A.N.', 'Hubbard S.R.', 'Schlessinger J.', 'Mohammadi M.'], 'publication': {'journalName': 'Cell'}, 'location': {'volume': '101', 'firstPage': '413', 'lastPage': '424'}, 'dbReferences': [{'type': 'PubMed', 'id': '10830168'}, {'type': 'DOI', 'id': '10.1016/s0092-8674(00)80851-x'}]}, 'scope': ['X-RAY CRYSTALLOGRAPHY (2.8 ANGSTROMS) OF 147-366 IN COMPLEX WITH FGF2']}, {'citation': {'type': 'journal article', 'publicationDate': '2000', 'title': 'Crystal structure of fibroblast growth factor receptor ectodomain bound to ligand and heparin.', 'authors': ['Pellegrini L.', 'Burke D.F.', 'von Delft F.', 'Mulloy B.', 'Blundell T.L.'], 'publication': {'journalName': 'Nature'}, 'location': {'volume': '407', 'firstPage': '1029', 'lastPage': '1034'}, 'dbReferences': [{'type': 'PubMed', 'id': '11069186'}, {'type': 'DOI', 'id': '10.1038/35039551'}]}, 'scope': ['X-RAY CRYSTALLOGRAPHY (2.4 ANGSTROMS) OF 148-366 IN COMPLEX WITH FGF1 AND HEPARIN', 'INTERACTION WITH FGF1 AND HEPARIN']}, {'citation': {'type': 'journal article', 'publicationDate': '2000', 'title': 'Structural interactions of fibroblast growth factor receptor with its ligands.', 'authors': ['Stauber D.J.', 'DiGabriele A.D.', 'Hendrickson W.A.'], 'publication': {'journalName': 'Proc. Natl. Acad. Sci. U.S.A.'}, 'location': {'volume': '97', 'firstPage': '49', 'lastPage': '54'}, 'dbReferences': [{'type': 'PubMed', 'id': '10618369'}, {'type': 'DOI', 'id': '10.1073/pnas.97.1.49'}]}, 'scope': ['X-RAY CRYSTALLOGRAPHY (2.4 ANGSTROMS) OF 147-362 IN COMPLEX WITH FGF1']}, {'citation': {'type': 'journal article', 'publicationDate': '2001', 'title': 'Structural basis for fibroblast growth factor receptor 2 activation in Apert syndrome.', 'authors': ['Ibrahimi O.A.', 'Eliseenkova A.V.', 'Plotnikov A.N.', 'Yu K.', 'Ornitz D.M.', 'Mohammadi M.'], 'publication': {'journalName': 'Proc. Natl. Acad. Sci. U.S.A.'}, 'location': {'volume': '98', 'firstPage': '7182', 'lastPage': '7187'}, 'dbReferences': [{'type': 'PubMed', 'id': '11390973'}, {'type': 'DOI', 'id': '10.1073/pnas.121183798'}]}, 'scope': ['X-RAY CRYSTALLOGRAPHY (2.7 ANGSTROMS) OF 147-366 OF VARIANTS APRS TRP-252 AND ARG-253 IN COMPLEX WITH FGF2']}, {'citation': {'type': 'journal article', 'publicationDate': '2003', 'title': 'Structural basis by which alternative splicing confers specificity in fibroblast growth factor receptors.', 'authors': ['Yeh B.K.', 'Igarashi M.', 'Eliseenkova A.V.', 'Plotnikov A.N.', 'Sher I.', 'Ron D.', 'Aaronson S.A.', 'Mohammadi M.'], 'publication': {'journalName': 'Proc. Natl. Acad. Sci. U.S.A.'}, 'location': {'volume': '100', 'firstPage': '2266', 'lastPage': '2271'}, 'dbReferences': [{'type': 'PubMed', 'id': '12591959'}, {'type': 'DOI', 'id': '10.1073/pnas.0436500100'}]}, 'scope': ['X-RAY CRYSTALLOGRAPHY (2.9 ANGSTROMS) OF 140-371 IN COMPLEX WITH FGF10']}, {'citation': {'type': 'journal article', 'publicationDate': '2006', 'title': 'Structural basis by which alternative splicing modulates the organizer activity of FGF8 in the brain.', 'authors': ['Olsen S.K.', 'Li J.Y.H.', 'Bromleigh C.', 'Eliseenkova A.V.', 'Ibrahimi O.A.', 'Lao Z.', 'Zhang F.', 'Linhardt R.J.', 'Joyner A.L.', 'Mohammadi M.'], 'publication': {'journalName': 'Genes Dev.'}, 'location': {'volume': '20', 'firstPage': '185', 'lastPage': '198'}, 'dbReferences': [{'type': 'PubMed', 'id': '16384934'}, {'type': 'DOI', 'id': '10.1101/gad.1365406'}]}, 'scope': ['X-RAY CRYSTALLOGRAPHY (2.28 ANGSTROMS) OF 149-368 IN COMPLEX WITH FGF8', 'FUNCTION AS FGF8 RECEPTOR', 'INTERACTION WITH FGF8', 'DISULFIDE BONDS']}, {'citation': {'type': 'journal article', 'publicationDate': '2007', 'title': 'A molecular brake in the kinase hinge region regulates the activity of receptor tyrosine kinases.', 'authors': ['Chen H.', 'Ma J.', 'Li W.', 'Eliseenkova A.V.', 'Xu C.', 'Neubert T.A.', 'Miller W.T.', 'Mohammadi M.'], 'publication': {'journalName': 'Mol. Cell'}, 'location': {'volume': '27', 'firstPage': '717', 'lastPage': '730'}, 'dbReferences': [{'type': 'PubMed', 'id': '17803937'}, {'type': 'DOI', 'id': '10.1016/j.molcel.2007.06.028'}]}, 'scope': ['X-RAY CRYSTALLOGRAPHY (1.80 ANGSTROMS) OF 458-778 IN COMPLEX WITH ATP ANALOG; PEPTIDE SUBSTRATE AND MAGNESIUM', 'ACTIVITY REGULATION', 'PHOSPHORYLATION AT TYR-586; TYR-656 AND TYR-657', 'MUTAGENESIS OF ASN-549 AND GLU-565', 'CHARACTERIZATION OF VARIANT FSPC GLU-526', 'CHARACTERIZATION OF VARIANT CS HIS-549', 'CHARACTERIZATION OF VARIANTS PS GLY-565 AND ARG-641', 'CHARACTERIZATION OF VARIANT CRANIOSYNOSTOSIS ASN-659']}, {'citation': {'type': 'journal article', 'publicationDate': '2007', 'title': 'Structural basis for reduced FGFR2 activity in LADD syndrome: Implications for FGFR autoinhibition and activation.', 'authors': ['Lew E.D.', 'Bae J.H.', 'Rohmann E.', 'Wollnik B.', 'Schlessinger J.'], 'publication': {'journalName': 'Proc. Natl. Acad. Sci. U.S.A.'}, 'location': {'volume': '104', 'firstPage': '19802', 'lastPage': '19807'}, 'dbReferences': [{'type': 'PubMed', 'id': '18056630'}, {'type': 'DOI', 'id': '10.1073/pnas.0709905104'}]}, 'scope': ['X-RAY CRYSTALLOGRAPHY (1.80 ANGSTROMS) OF 458-766 OF VARIANT LADDS THR-628 IN COMPLEX WITH ATP ANALOG', 'CATALYTIC ACTIVITY', 'SUBUNIT', 'AUTOPHOSPHORYLATION']}, {'citation': {'type': 'journal article', 'publicationDate': '2008', 'title': 'A crystallographic snapshot of tyrosine trans-phosphorylation in action.', 'authors': ['Chen H.', 'Xu C.F.', 'Ma J.', 'Eliseenkova A.V.', 'Li W.', 'Pollock P.M.', 'Pitteloud N.', 'Miller W.T.', 'Neubert T.A.', 'Mohammadi M.'], 'publication': {'journalName': 'Proc. Natl. Acad. Sci. U.S.A.'}, 'location': {'volume': '105', 'firstPage': '19660', 'lastPage': '19665'}, 'dbReferences': [{'type': 'PubMed', 'id': '19060208'}, {'type': 'DOI', 'id': '10.1073/pnas.0807752105'}]}, 'scope': ['X-RAY CRYSTALLOGRAPHY (2.00 ANGSTROMS) OF 458-778 IN COMPLEX WITH ATP', 'ACTIVE SITE', 'IDENTIFICATION BY MASS SPECTROMETRY', 'AUTOPHOSPHORYLATION', 'PHOSPHORYLATION AT TYR-466; TYR-586; TYR-588; TYR-656; TYR-657 AND TYR-769']}, {'citation': {'type': 'journal article', 'publicationDate': '2011', 'title': 'A novel mode of protein kinase inhibition exploiting hydrophobic motifs of autoinhibited kinases: discovery of ATP-independent inhibitors of fibroblast growth factor receptor.', 'authors': ['Eathiraj S.', 'Palma R.', 'Hirschi M.', 'Volckova E.', 'Nakuci E.', 'Castro J.', 'Chen C.R.', 'Chan T.C.', 'France D.S.', 'Ashwell M.A.'], 'publication': {'journalName': 'J. Biol. Chem.'}, 'location': {'volume': '286', 'firstPage': '20677', 'lastPage': '20687'}, 'dbReferences': [{'type': 'PubMed', 'id': '21454610'}, {'type': 'DOI', 'id': '10.1074/jbc.m110.213736'}]}, 'scope': ['X-RAY CRYSTALLOGRAPHY (2.10 ANGSTROMS) OF 458-768 IN COMPLEX WITH INHIBITOR', 'CATALYTIC ACTIVITY', 'AUTOPHOSPHORYLATION', 'ACTIVITY REGULATION']}, {'citation': {'type': 'journal article', 'publicationDate': '1994', 'title': 'Mutations in the fibroblast growth factor receptor 2 gene cause Crouzon syndrome.', 'authors': ['Reardon W.', 'Winter R.M.', 'Rutland P.', 'Pulleyn L.J.', 'Jones B.M.', 'Malcolm S.'], 'publication': {'journalName': 'Nat. Genet.'}, 'location': {'volume': '8', 'firstPage': '98', 'lastPage': '103'}, 'dbReferences': [{'type': 'PubMed', 'id': '7987400'}, {'type': 'DOI', 'id': '10.1038/ng0994-98'}]}, 'scope': ['VARIANTS CS HIS-340; ARG-342; SER-342; TYR-342 AND CYS-354']}, {'citation': {'type': 'journal article', 'publicationDate': '1994', 'title': 'Jackson-Weiss and Crouzon syndromes are allelic with mutations in fibroblast growth factor receptor 2.', 'authors': ['Jabs E.W.', 'Li X.', 'Scott A.F.', 'Meyers G.A.', 'Chen W.', 'Eccles M.', 'Mao J.', 'Charnas L.R.', 'Jackson C.E.', 'Jaye M.'], 'publication': {'journalName': 'Nat. Genet.'}, 'location': {'volume': '8', 'firstPage': '275', 'lastPage': '279'}, 'dbReferences': [{'type': 'PubMed', 'id': '7874170'}, {'type': 'DOI', 'id': '10.1038/ng1194-275'}]}, 'scope': ['VARIANTS CS CYS-328 AND CYS-347', 'VARIANT JWS GLY-344']}, {'citation': {'type': 'journal article', 'publicationDate': '1995', 'title': 'Mutations in the third immunoglobulin domain of the fibroblast growth factor receptor-2 gene in Crouzon syndrome.', 'authors': ['Oldridge M.', 'Wilkie A.O.M.', 'Slaney S.F.', 'Poole M.D.', 'Pulleyn L.J.', 'Rutland P.', 'Hockley A.D.', 'Wake M.J.C.', 'Goldin J.H.', 'Winter R.M.', 'Reardon W.', 'Malcolm S.'], 'publication': {'journalName': 'Hum. Mol. Genet.'}, 'location': {'volume': '4', 'firstPage': '1077', 'lastPage': '1082'}, 'dbReferences': [{'type': 'PubMed', 'id': '7655462'}, {'type': 'DOI', 'id': '10.1093/hmg/4.6.1077'}]}, 'scope': ['VARIANTS CS']}, {'citation': {'type': 'journal article', 'publicationDate': '1995', 'title': 'Novel FGFR2 mutations in Crouzon and Jackson-Weiss syndromes show allelic heterogeneity and phenotypic variability.', 'authors': ['Park W.-J.', 'Meyers G.A.', 'Li X.', 'Theda C.', 'Day D.', 'Orlow S.J.', 'Jones M.C.', 'Jabs E.W.'], 'publication': {'journalName': 'Hum. Mol. Genet.'}, 'location': {'volume': '4', 'firstPage': '1229', 'lastPage': '1233'}, 'dbReferences': [{'type': 'PubMed', 'id': '8528214'}, {'type': 'DOI', 'id': '10.1093/hmg/4.7.1229'}]}, 'scope': ['VARIANTS CS GLY-290; TRP-342 AND CYS-354', 'VARIANT JWS ARG-342']}, {'citation': {'type': 'journal article', 'publicationDate': '1995', 'title': 'FGFR2 mutations in Pfeiffer syndrome.', 'authors': ['Lajeunie E.', 'Wei M.H.', 'Bonaventure J.', 'Munnich A.', 'le Merrer M.', 'Renier D.'], 'publication': {'journalName': 'Nat. Genet.'}, 'location': {'volume': '9', 'firstPage': '108', 'lastPage': '108'}, 'dbReferences': [{'type': 'PubMed', 'id': '7719333'}, {'type': 'DOI', 'id': '10.1038/ng0295-108'}]}, 'scope': ['VARIANT PS ALA-321']}, {'citation': {'type': 'journal article', 'publicationDate': '1995', 'title': 'Apert syndrome results from localized mutations of FGFR2 and is allelic with Crouzon syndrome.', 'authors': ['Wilkie A.O.M.', 'Slaney S.F.', 'Oldridge M.', 'Poole M.D.', 'Ashworth G.J.', 'Hockley A.D.', 'Hayward R.D.', 'David D.J.', 'Pulleyn L.J.', 'Rutland P.', 'Malcolm S.', 'Winter R.M.', 'Reardon W.'], 'publication': {'journalName': 'Nat. Genet.'}, 'location': {'volume': '9', 'firstPage': '165', 'lastPage': '172'}, 'dbReferences': [{'type': 'PubMed', 'id': '7719344'}, {'type': 'DOI', 'id': '10.1038/ng0295-165'}]}, 'scope': ['VARIANTS APRS TRP-252 AND ARG-253']}, {'citation': {'type': 'journal article', 'publicationDate': '1995', 'title': 'Identical mutations in the FGFR2 gene cause both Pfeiffer and Crouzon syndrome phenotypes.', 'authors': ['Rutland P.', 'Pulleyn L.J.', 'Reardon W.', 'Baraister M.', 'Hayward R.', 'Jones B.M.', 'Malcolm S.', 'Winter R.M.', 'Oldridge M.', 'Slaney S.F.', 'Poole M.D.', 'Wilkie A.O.M.'], 'publication': {'journalName': 'Nat. Genet.'}, 'location': {'volume': '9', 'firstPage': '173', 'lastPage': '176'}, 'dbReferences': [{'type': 'PubMed', 'id': '7719345'}, {'type': 'DOI', 'id': '10.1038/ng0295-173'}]}, 'scope': ['VARIANTS PS PRO-341; ARG-342 AND TYR-342']}, {'citation': {'type': 'journal article', 'publicationDate': '1996', 'title': 'FGFR2 exon IIIa and IIIc mutations in Crouzon, Jackson-Weiss, and Pfeiffer syndromes: evidence for missense changes, insertions, and a deletion due to alternative RNA splicing.', 'authors': ['Meyers G.A.', 'Day D.', 'Goldberg R.', 'Daentl D.L.', 'Przylepa K.A.', 'Abrams L.J.', 'Graham J.M. Jr.', 'Feingold M.', 'Moeschler J.B.', 'Rawnsley E.', 'Scott A.F.', 'Jabs E.W.'], 'publication': {'journalName': 'Am. J. Hum. Genet.'}, 'location': {'volume': '58', 'firstPage': '491', 'lastPage': '498'}, 'dbReferences': [{'type': 'PubMed', 'id': '8644708'}]}, 'scope': ['VARIANTS CS GLY-268 INS; PHE-342 AND TYR-342', 'VARIANTS PS PHE-278; ARG-342; SER-342; PRO-344 AND PHE-359', 'VARIANT JWS PRO-289']}, {'citation': {'type': 'journal article', 'publicationDate': '1996', 'title': 'Spectrum of craniosynostosis phenotypes associated with novel mutations at the fibroblast growth factor receptor 2 locus.', 'authors': ['Pulleyn L.J.', 'Reardon W.', 'Wilkes D.', 'Rutland P.', 'Jones B.M.', 'Hayward R.', 'Hall C.M.', 'Brueton L.', 'Chun N.', 'Lammer E.', 'Malcolm S.', 'Winter R.M.'], 'publication': {'journalName': 'Eur. J. Hum. Genet.'}, 'location': {'volume': '4', 'firstPage': '283', 'lastPage': '291'}, 'dbReferences': [{'type': 'PubMed', 'id': '8946174'}, {'type': 'DOI', 'id': '10.1159/000472215'}]}, 'scope': ['VARIANTS CS CYS-105; GLU-338; CYS-351 AND ARG-384']}, {'citation': {'type': 'journal article', 'publicationDate': '1996', 'title': 'Crouzon syndrome: previously unrecognized deletion, duplication, and point mutation within FGFR2 gene.', 'authors': ['Steinberger D.', 'Mulliken J.B.', 'Mueller U.'], 'publication': {'journalName': 'Hum. Mutat.'}, 'location': {'volume': '8', 'firstPage': '386', 'lastPage': '390'}, 'dbReferences': [{'type': 'PubMed', 'id': '8956050'}, {'type': 'DOI', 'id': '10.1002/(sici)1098-1004(1996)8:4<386::aid-humu18>3.0.co;2-z'}]}, 'scope': ['VARIANTS CS ILE-331; ASN-ALA-337 INS AND 356-TRP--THR-358 DEL']}, {'citation': {'type': 'journal article', 'publicationDate': '1996', 'title': 'Fibroblast growth factor receptor 2 mutations in Beare-Stevenson cutis gyrata syndrome.', 'authors': ['Przylepa K.A.', 'Paznekas W.A.', 'Zhang M.', 'Golabi M.', 'Bias W.', 'Bamshad M.J.', 'Carey J.C.', 'Hall B.D.', 'Stevenson R.', 'Orlow S.J.', 'Cohen M.M. Jr.', 'Jabs E.W.'], 'publication': {'journalName': 'Nat. Genet.'}, 'location': {'volume': '13', 'firstPage': '492', 'lastPage': '494'}, 'dbReferences': [{'type': 'PubMed', 'id': '8696350'}, {'type': 'DOI', 'id': '10.1038/ng0896-492'}]}, 'scope': ['VARIANTS BSTVS CYS-372 AND CYS-375']}, {'citation': {'type': 'journal article', 'publicationDate': '1997', 'title': 'Trp290Cys mutation in exon IIIa of the fibroblast growth factor receptor 2 (FGFR2) gene is associated with Pfeiffer syndrome.', 'authors': ['Tartaglia M.', 'Valeri S.', 'Velardi F.', 'di Rocco C.', 'Battaglia P.A.'], 'publication': {'journalName': 'Hum. Genet.'}, 'location': {'volume': '99', 'firstPage': '602', 'lastPage': '606'}, 'dbReferences': [{'type': 'PubMed', 'id': '9150725'}, {'type': 'DOI', 'id': '10.1007/s004390050413'}]}, 'scope': ['VARIANT PS CYS-290']}, {'citation': {'type': 'journal article', 'publicationDate': '1997', 'title': 'Jackson-Weiss syndrome: identification of two novel FGFR2 missense mutations shared with Crouzon and Pfeiffer craniosynostotic disorders.', 'authors': ['Tartaglia M.', 'Di Rocco C.', 'Lajeunie E.', 'Valeri S.', 'Velardi F.', 'Battaglia P.A.'], 'publication': {'journalName': 'Hum. Genet.'}, 'location': {'volume': '101', 'firstPage': '47', 'lastPage': '50'}, 'dbReferences': [{'type': 'PubMed', 'id': '9385368'}, {'type': 'DOI', 'id': '10.1007/s004390050584'}]}, 'scope': ['VARIANT JWS SER-342']}, {'citation': {'type': 'journal article', 'publicationDate': '1997', 'title': 'Genotype-phenotype correlation for nucleotide substitutions in the IgII-IgIII linker of FGFR2.', 'authors': ['Oldridge M.', 'Lunt P.W.', 'Zackai E.H.', 'McDonald-Mcginn D.M.', 'Muenke M.', 'Moloney D.M.', 'Twigg S.R.F.', 'Heath J.K.', 'Howard T.D.', 'Hoganson G.', 'Gagnon D.M.', 'Jabs E.W.', 'Wilkie A.O.M.'], 'publication': {'journalName': 'Hum. Mol. Genet.'}, 'location': {'volume': '6', 'firstPage': '137', 'lastPage': '143'}, 'dbReferences': [{'type': 'PubMed', 'id': '9002682'}, {'type': 'DOI', 'id': '10.1093/hmg/6.1.137'}]}, 'scope': ['VARIANT LEU-252', 'VARIANT APRS PHE-252', 'VARIANT PS 252-PHE-SER-253']}, {'citation': {'type': 'journal article', 'publicationDate': '1997', 'title': 'A novel mutation (a886g) in exon 5 of FGFR2 in members of a family with Crouzon phenotype and plagiocephaly.', 'authors': ['Steinberger D.', 'Collmann H.', 'Schmalenberger B.', 'Mueller U.'], 'publication': {'journalName': 'J. Med. Genet.'}, 'location': {'volume': '34', 'firstPage': '420', 'lastPage': '422'}, 'dbReferences': [{'type': 'PubMed', 'id': '9152842'}, {'type': 'DOI', 'id': '10.1136/jmg.34.5.420'}]}, 'scope': ['VARIANT CS GLU-292']}, {'citation': {'type': 'journal article', 'publicationDate': '1998', 'title': 'Description of a new mutation and characterization of FGFR1, FGFR2, and FGFR3 mutations among Brazilian patients with syndromic craniosynostoses.', 'authors': ['Passos-Bueno M.R.', 'Sertie A.L.', 'Richieri-Costa A.', 'Alonso L.G.', 'Zatz M.', 'Alonso N.', 'Brunoni D.', 'Ribeiro S.F.M.'], 'publication': {'journalName': 'Am. J. Med. Genet.'}, 'location': {'volume': '78', 'firstPage': '237', 'lastPage': '241'}, 'dbReferences': [{'type': 'PubMed', 'id': '9677057'}, {'type': 'DOI', 'id': '10.1002/(sici)1096-8628(19980707)78:3<237::aid-ajmg5>3.0.co;2-m'}]}, 'scope': ['VARIANTS CS PHE-278; PRO-337; ARG-338; ARG-342; PHE-342 AND TYR-342', 'VARIANTS APRS TRP-252 AND ARG-253', 'VARIANT JWS PHE-278']}, {'citation': {'type': 'journal article', 'publicationDate': '1998', 'title': 'The mutations in FGFR2-associated craniosynostoses are clustered in five structural elements of immunoglobulin-like domain III of the receptor.', 'authors': ['Steinberger D.', 'Vriend G.', 'Mulliken J.B.', 'Mueller U.'], 'publication': {'journalName': 'Hum. Genet.'}, 'location': {'volume': '102', 'firstPage': '145', 'lastPage': '150'}, 'dbReferences': [{'type': 'PubMed', 'id': '9521581'}, {'type': 'DOI', 'id': '10.1007/s004390050668'}]}, 'scope': ['VARIANTS CS VAL-276 AND CYS-301', 'VARIANT CRANIOSYNOSTOSIS SER-314']}, {'citation': {'type': 'journal article', 'publicationDate': '1998', 'title': 'Two common mutations 934C to G and 937C to G of fibroblast growth factor receptor 2 (FGFR2) gene in Chinese patients with Apert syndrome.', 'authors': ['Tsai F.-J.', 'Hwu W.-L.', 'Lin S.-P.', 'Chang J.-G.', 'Wang T.-R.', 'Tsai C.-H.'], 'publication': {'journalName': 'Hum. Mutat. Suppl.'}, 'location': {'volume': '1', 'firstPage': 'S18', 'lastPage': 'S19'}, 'dbReferences': [{'type': 'PubMed', 'id': '9452027'}, {'type': 'DOI', 'id': '10.1002/humu.1380110106'}]}, 'scope': ['VARIANTS APRS TRP-252 AND ARG-253']}, {'citation': {'type': 'journal article', 'publicationDate': '1998', 'title': \"Pfeiffer's syndrome resulting from an S351C mutation in the fibroblast growth factor receptor-2 gene.\", 'authors': ['Mathijssen I.M.', 'Vaandrager J.M.', 'Hoogeboom A.J.', 'Hesseling-Janssen A.L.W.', 'van den Ouweland A.M.W.'], 'publication': {'journalName': 'J. Craniofac. Surg.'}, 'location': {'volume': '9', 'firstPage': '207', 'lastPage': '209'}, 'dbReferences': [{'type': 'PubMed', 'id': '9693549'}, {'type': 'DOI', 'id': '10.1097/00001665-199805000-00004'}]}, 'scope': ['VARIANT PS CYS-351']}, {'citation': {'type': 'journal article', 'publicationDate': '1998', 'title': 'Presence of the Apert canonical S252W FGFR2 mutation in a patient without severe syndactyly.', 'authors': ['Passos-Bueno M.R.', 'Richieri-Costa A.', 'Sertie A.L.', 'Kneppers A.'], 'publication': {'journalName': 'J. Med. Genet.'}, 'location': {'volume': '35', 'firstPage': '677', 'lastPage': '679'}, 'dbReferences': [{'type': 'PubMed', 'id': '9719378'}, {'type': 'DOI', 'id': '10.1136/jmg.35.8.677'}]}, 'scope': ['VARIANT PS TRP-252']}, {'citation': {'type': 'journal article', 'publicationDate': '1999', 'title': 'A novel FGFR2 gene mutation in Crouzon syndrome associated with apparent nonpenetrance.', 'authors': ['Everett E.T.', 'Britto D.A.', 'Ward R.E.', 'Hartsfield J.K. Jr.'], 'publication': {'journalName': 'Cleft Palate Craniofac. J.'}, 'location': {'volume': '36', 'firstPage': '533', 'lastPage': '541'}, 'dbReferences': [{'type': 'PubMed', 'id': '10574673'}, {'type': 'DOI', 'id': '10.1597/1545-1569_1999_036_0533_anfgmi_2.3.co_2'}]}, 'scope': ['VARIANT CS SER-362']}, {'citation': {'type': 'journal article', 'publicationDate': '1999', 'title': 'Analysis of the mutational spectrum of the FGFR2 gene in Pfeiffer syndrome.', 'authors': ['Cornejo-Roldan L.R.', 'Roessler E.', 'Muenke M.'], 'publication': {'journalName': 'Hum. Genet.'}, 'location': {'volume': '104', 'firstPage': '425', 'lastPage': '431'}, 'dbReferences': [{'type': 'PubMed', 'id': '10394936'}, {'type': 'DOI', 'id': '10.1007/s004390050979'}]}, 'scope': ['VARIANTS PS CYS-340 AND GLY-342']}, {'citation': {'type': 'journal article', 'publicationDate': '2000', 'title': 'Pfeiffer syndrome type 2 associated with a single amino acid deletion in the FGFR2 gene.', 'authors': ['Priolo M.', 'Lerone M.', 'Baffico M.', 'Baldi M.', 'Ravazzolo R.', 'Cama A.', 'Capra V.', 'Silengo M.'], 'publication': {'journalName': 'Clin. Genet.'}, 'location': {'volume': '58', 'firstPage': '81', 'lastPage': '83'}, 'dbReferences': [{'type': 'PubMed', 'id': '10945669'}, {'type': 'DOI', 'id': '10.1034/j.1399-0004.2000.580116.x'}]}, 'scope': ['VARIANT PS ASP-273 DEL']}, {'citation': {'type': 'journal article', 'publicationDate': '2000', 'title': 'Clustering of FGFR2 gene mutations in patients with Pfeiffer and Crouzon syndromes (FGFR2-associated craniosynostoses).', 'authors': ['Kress W.', 'Collmann H.', 'Buesse M.', 'Halliger-Keller B.', 'Mueller C.R.'], 'publication': {'journalName': 'Cytogenet. Cell Genet.'}, 'location': {'volume': '91', 'firstPage': '134', 'lastPage': '137'}, 'dbReferences': [{'type': 'PubMed', 'id': '11173845'}, {'type': 'DOI', 'id': '10.1159/000056833'}]}, 'scope': ['VARIANTS CS/PS ARG-342 AND TYR-342', 'VARIANTS CS LEU-263; VAL-276; PHE-278; TYR-278; SER-288; PRO-289; PRO-341; TRP-342; CYS-354; TYR-354 AND PHE-359', 'VARIANT PS SER-342']}, {'citation': {'type': 'journal article', 'publicationDate': '2000', 'title': 'A novel mutation, Ala315Ser, in FGFR2: a gene-environment interaction leading to craniosynostosis?', 'authors': ['Johnson D.', 'Wall S.A.', 'Mann S.', 'Wilkie A.O.M.'], 'publication': {'journalName': 'Eur. J. Hum. Genet.'}, 'location': {'volume': '8', 'firstPage': '571', 'lastPage': '577'}, 'dbReferences': [{'type': 'PubMed', 'id': '10951518'}, {'type': 'DOI', 'id': '10.1038/sj.ejhg.5200499'}]}, 'scope': ['VARIANT SER-315']}, {'citation': {'type': 'journal article', 'publicationDate': '2000', 'title': 'Evidence for digenic inheritance in some cases of Antley-Bixler syndrome?', 'authors': ['Reardon W.', 'Smith A.', 'Honour J.W.', 'Hindmarsh P.', 'Das D.', 'Rumsby G.', 'Nelson I.', 'Malcolm S.', 'Ades L.', 'Sillence D.', 'Kumar D.', 'DeLozier-Blanchet C.', 'McKee S.', 'Kelly T.', 'McKeehan W.L.', 'Baraitser M.', 'Winter R.M.'], 'publication': {'journalName': 'J. Med. Genet.'}, 'location': {'volume': '37', 'firstPage': '26', 'lastPage': '32'}, 'dbReferences': [{'type': 'PubMed', 'id': '10633130'}, {'type': 'DOI', 'id': '10.1136/jmg.37.1.26'}]}, 'scope': ['VARIANTS ABS2 ARG-342; SER-342 AND CYS-351']}, {'citation': {'type': 'journal article', 'publicationDate': '2001', 'title': 'Mutation analysis of Crouzon syndrome and identification of one novel mutation in Taiwanese patients.', 'authors': ['Tsai F.-J.', 'Yang C.-F.', 'Wu J.-Y.', 'Tsai C.-H.', 'Lee C.-C.'], 'publication': {'journalName': 'Pediatr. Int.'}, 'location': {'volume': '43', 'firstPage': '263', 'lastPage': '266'}, 'dbReferences': [{'type': 'PubMed', 'id': '11380921'}, {'type': 'DOI', 'id': '10.1046/j.1442-200x.2001.01392.x'}]}, 'scope': ['VARIANTS CS CYS-281; PRO-289; ARG-342 AND TYR-342']}, {'citation': {'type': 'journal article', 'publicationDate': '2002', 'title': 'Genomic screening of fibroblast growth-factor receptor 2 reveals a wide spectrum of mutations in patients with syndromic craniosynostosis.', 'authors': ['Kan S.-H.', 'Elanko N.', 'Johnson D.', 'Cornejo-Roldan L.R.', 'Cook J.', 'Reich E.W.', 'Tomkins S.', 'Verloes A.', 'Twigg S.R.F.', 'Rannan-Eliya S.', 'McDonald-McGinn D.M.', 'Zackai E.H.', 'Wall S.A.', 'Muenke M.', 'Wilkie A.O.M.'], 'publication': {'journalName': 'Am. J. Hum. Genet.'}, 'location': {'volume': '70', 'firstPage': '472', 'lastPage': '486'}, 'dbReferences': [{'type': 'PubMed', 'id': '11781872'}, {'type': 'DOI', 'id': '10.1086/338758'}]}, 'scope': ['VARIANTS CS CYS-105; PRO-267; VAL-276; CYS-281; PRO-289; ARG-338; HIS-340; PHE-342; TRP-342; CYS-347; CYS-354; HIS-549 AND GLY-678', 'VARIANTS PS PHE-172; 252-PHE-SER-253; CYS-290; CYS-340; PRO-341; ARG-342; SER-342; CYS-375; GLY-565; ARG-641 AND GLU-663', 'VARIANTS APRS TRP-252 AND ARG-253', 'VARIANTS CS/PS PHE-278 AND TYR-342', 'VARIANT CRANIOSYNOSTOSIS ASN-659', 'VARIANTS THR-186 AND SER-315']}, {'citation': {'type': 'journal article', 'publicationDate': '2002', 'title': 'Mutation in the FGFR2 gene in a Taiwanese patient with Beare-Stevenson cutis gyrata syndrome.', 'authors': ['Wang T.-J.', 'Huang C.-B.', 'Tsai F.-J.', 'Wu J.-Y.', 'Lai R.-B.', 'Hsiao M.'], 'publication': {'journalName': 'Clin. Genet.'}, 'location': {'volume': '61', 'firstPage': '218', 'lastPage': '221'}, 'dbReferences': [{'type': 'PubMed', 'id': '12000365'}, {'type': 'DOI', 'id': '10.1034/j.1399-0004.2002.610309.x'}]}, 'scope': ['VARIANT BSTVS CYS-375']}, {'citation': {'type': 'journal article', 'publicationDate': '2005', 'title': 'Familial scaphocephaly syndrome caused by a novel mutation in the FGFR2 tyrosine kinase domain.', 'authors': ['McGillivray G.', 'Savarirayan R.', 'Cox T.C.', 'Stojkoski C.', 'McNeil R.', 'Bankier A.', 'Bateman J.F.', 'Roscioli T.', 'Gardner R.J.M.', 'Lamande S.R.'], 'publication': {'journalName': 'J. Med. Genet.'}, 'location': {'volume': '42', 'firstPage': '656', 'lastPage': '662'}, 'dbReferences': [{'type': 'PubMed', 'id': '16061565'}, {'type': 'DOI', 'id': '10.1136/jmg.2004.027888'}]}, 'scope': ['VARIANT FSPC GLU-526']}, {'citation': {'type': 'journal article', 'publicationDate': '2006', 'title': 'Mutations in different components of FGF signaling in LADD syndrome.', 'authors': ['Rohmann E.', 'Brunner H.G.', 'Kayserili H.', 'Uyguner O.', 'Nuernberg G.', 'Lew E.D.', 'Dobbie A.', 'Eswarakumar V.P.', 'Uzumcu A.', 'Ulubil-Emeroglu M.', 'Leroy J.G.', 'Li Y.', 'Becker C.', 'Lehnerdt K.', 'Cremers C.W.R.J.', 'Yueksel-Apak M.', 'Nuernberg P.', 'Kubisch C.', 'Schlessinger J.', 'van Bokhoven H.', 'Wollnik B.'], 'publication': {'journalName': 'Nat. Genet.'}, 'location': {'volume': '38', 'firstPage': '414', 'lastPage': '417'}, 'dbReferences': [{'type': 'PubMed', 'id': '16501574'}, {'type': 'DOI', 'id': '10.1038/ng1757'}]}, 'scope': ['VARIANTS LADDS THR-628; THR-648 AND 649-ARG-ASP-650 DELINS SER']}, {'citation': {'type': 'journal article', 'publicationDate': '2006', 'title': 'The consensus coding sequences of human breast and colorectal cancers.', 'authors': ['Sjoeblom T.', 'Jones S.', 'Wood L.D.', 'Parsons D.W.', 'Lin J.', 'Barber T.D.', 'Mandelker D.', 'Leary R.J.', 'Ptak J.', 'Silliman N.', 'Szabo S.', 'Buckhaults P.', 'Farrell C.', 'Meeh P.', 'Markowitz S.D.', 'Willis J.', 'Dawson D.', 'Willson J.K.V.', 'Gazdar A.F.', 'Hartigan J.', 'Wu L.', 'Liu C.', 'Parmigiani G.', 'Park B.H.', 'Bachman K.E.', 'Papadopoulos N.', 'Vogelstein B.', 'Kinzler K.W.', 'Velculescu V.E.'], 'publication': {'journalName': 'Science'}, 'location': {'volume': '314', 'firstPage': '268', 'lastPage': '274'}, 'dbReferences': [{'type': 'PubMed', 'id': '16959974'}, {'type': 'DOI', 'id': '10.1126/science.1133427'}]}, 'scope': ['VARIANT [LARGE SCALE ANALYSIS] CYS-203']}, {'citation': {'type': 'journal article', 'publicationDate': '2007', 'title': 'Patterns of somatic mutation in human cancer genomes.', 'authors': ['Greenman C.', 'Stephens P.', 'Smith R.', 'Dalgliesh G.L.', 'Hunter C.', 'Bignell G.', 'Davies H.', 'Teague J.', 'Butler A.', 'Stevens C.', 'Edkins S.', \"O'Meara S.\", 'Vastrik I.', 'Schmidt E.E.', 'Avis T.', 'Barthorpe S.', 'Bhamra G.', 'Buck G.', 'Choudhury B.', 'Clements J.', 'Cole J.', 'Dicks E.', 'Forbes S.', 'Gray K.', 'Halliday K.', 'Harrison R.', 'Hills K.', 'Hinton J.', 'Jenkinson A.', 'Jones D.', 'Menzies A.', 'Mironenko T.', 'Perry J.', 'Raine K.', 'Richardson D.', 'Shepherd R.', 'Small A.', 'Tofts C.', 'Varian J.', 'Webb T.', 'West S.', 'Widaa S.', 'Yates A.', 'Cahill D.P.', 'Louis D.N.', 'Goldstraw P.', 'Nicholson A.G.', 'Brasseur F.', 'Looijenga L.', 'Weber B.L.', 'Chiew Y.-E.', 'DeFazio A.', 'Greaves M.F.', 'Green A.R.', 'Campbell P.', 'Birney E.', 'Easton D.F.', 'Chenevix-Trench G.', 'Tan M.-H.', 'Khoo S.K.', 'Teh B.T.', 'Yuen S.T.', 'Leung S.Y.', 'Wooster R.', 'Futreal P.A.', 'Stratton M.R.'], 'publication': {'journalName': 'Nature'}, 'location': {'volume': '446', 'firstPage': '153', 'lastPage': '158'}, 'dbReferences': [{'type': 'PubMed', 'id': '17344846'}, {'type': 'DOI', 'id': '10.1038/nature05610'}]}, 'scope': ['VARIANTS [LARGE SCALE ANALYSIS] LEU-57; THR-186; CYS-203; VAL-272; ASN-283; CYS-290 AND THR-612']}, {'citation': {'type': 'journal article', 'publicationDate': '2012', 'title': 'Bent bone dysplasia-FGFR2 type, a distinct skeletal disorder, has deficient canonical FGF signaling.', 'authors': ['Merrill A.E.', 'Sarukhanov A.', 'Krejci P.', 'Idoni B.', 'Camacho N.', 'Estrada K.D.', 'Lyons K.M.', 'Deixler H.', 'Robinson H.', 'Chitayat D.', 'Curry C.J.', 'Lachman R.S.', 'Wilcox W.R.', 'Krakow D.'], 'publication': {'journalName': 'Am. J. Hum. Genet.'}, 'location': {'volume': '90', 'firstPage': '550', 'lastPage': '557'}, 'dbReferences': [{'type': 'PubMed', 'id': '22387015'}, {'type': 'DOI', 'id': '10.1016/j.ajhg.2012.02.005'}]}, 'scope': ['VARIANTS BBDS ASP-381 AND ARG-391', 'CHARACTERIZATION OF VARIANT BBDS ARG-391']}, {'citation': {'type': 'journal article', 'publicationDate': '2015', 'title': 'A human laterality disorder caused by a homozygous deleterious mutation in MMP21.', 'authors': ['Perles Z.', 'Moon S.', 'Ta-Shma A.', 'Yaacov B.', 'Francescatto L.', 'Edvardson S.', 'Rein A.J.', 'Elpeleg O.', 'Katsanis N.'], 'publication': {'journalName': 'J. Med. Genet.'}, 'location': {'volume': '52', 'firstPage': '840', 'lastPage': '847'}, 'dbReferences': [{'type': 'PubMed', 'id': '26429889'}, {'type': 'DOI', 'id': '10.1136/jmedgenet-2015-103336'}]}, 'scope': ['VARIANT LEU-57']}], 'sequence': {'version': 1, 'length': 821, 'mass': 92025, 'modified': '1991-05-01', 'sequence': 'MVSWGRFICLVVVTMATLSLARPSFSLVEDTTLEPEEPPTKYQISQPEVYVAAPGESLEVRCLLKDAAVISWTKDGVHLGPNNRTVLIGEYLQIKGATPRDSGLYACTASRTVDSETWYFMVNVTDAISSGDDEDDTDGAEDFVSENSNNKRAPYWTNTEKMEKRLHAVPAANTVKFRCPAGGNPMPTMRWLKNGKEFKQEHRIGGYKVRNQHWSLIMESVVPSDKGNYTCVVENEYGSINHTYHLDVVERSPHRPILQAGLPANASTVVGGDVEFVCKVYSDAQPHIQWIKHVEKNGSKYGPDGLPYLKVLKAAGVNTTDKEIEVLYIRNVTFEDAGEYTCLAGNSIGISFHSAWLTVLPAPGREKEITASPDYLEIAIYCIGVFLIACMVVTVILCRMKNTTKKPDFSSQPAVHKLTKRIPLRRQVTVSAESSSSMNSNTPLVRITTRLSSTADTPMLAGVSEYELPEDPKWEFPRDKLTLGKPLGEGCFGQVVMAEAVGIDKDKPKEAVTVAVKMLKDDATEKDLSDLVSEMEMMKMIGKHKNIINLLGACTQDGPLYVIVEYASKGNLREYLRARRPPGMEYSYDINRVPEEQMTFKDLVSCTYQLARGMEYLASQKCIHRDLAARNVLVTENNVMKIADFGLARDINNIDYYKKTTNGRLPVKWMAPEALFDRVYTHQSDVWSFGVLMWEIFTLGGSPYPGIPVEELFKLLKEGHRMDKPANCTNELYMMMRDCWHAVPSQRPTFKQLVEDLDRILTLTTNEEYLDLSQPLEQYSPSYPDTRSSCSSGDDSVFSPDPMPYEPCLPQYPHINGSVKT'}}]\n"
          ],
          "name": "stdout"
        }
      ]
    },
    {
      "cell_type": "code",
      "metadata": {
        "id": "i8bY0lZc4D4P"
      },
      "source": [
        "# connect to uniprot using the request package and the following URL and save the content in a fasta file\n",
        "# you will get a string in json format. Look in the data structure for the 'accession' and the 'sequence' fields.\n",
        "# the fasta file format should be composed of 2 lines\n",
        "# >accession\n",
        "# sequence\n",
        "\n",
        "import requests, sys, json\n",
        "\n",
        "requestURL = \"https://www.ebi.ac.uk/proteins/api/proteins?offset=0&size=100&accession=P21802&format=json\""
      ],
      "execution_count": null,
      "outputs": []
    },
    {
      "cell_type": "markdown",
      "metadata": {
        "id": "1A4CbP2n_KmM"
      },
      "source": [
        "# Reading a file all at once or using a cursor"
      ]
    },
    {
      "cell_type": "code",
      "metadata": {
        "id": "eDNnyFcR-XQu",
        "colab": {
          "base_uri": "https://localhost:8080/"
        },
        "outputId": "66c06187-3b4b-43d1-90bb-f6881538bf72"
      },
      "source": [
        "fn = '/content/drive/MyDrive/Projects/Physalia-courses/Python/Notebook - Colab/another_simple_text_file.txt'\n",
        "\n",
        "with open(fn) as f:\n",
        "  whole_file = f.readlines() # lineS with an S!\n",
        "\n",
        "print(whole_file)"
      ],
      "execution_count": null,
      "outputs": [
        {
          "output_type": "stream",
          "text": [
            "['Lorem ipsum dolor sit amet, \\n', 'consectetur adipisci elit,\\n', 'sed do eiusmod tempor incidunt ut labore et dolore magna aliqua.\\n', 'Ut enim ad minim veniam,\\n', 'quis nostrum exercitationem ullamco laboriosam,\\n', 'nisi ut aliquid ex ea commodi consequatur.\\n', 'Duis aute irure reprehenderit in voluptate velit esse cillum dolore eu fugiat nulla pariatur.\\n', 'Excepteur sint obcaecat cupiditat non proident,\\n', 'sunt in culpa qui officia deserunt mollit anim id est laborum.\\n']\n"
          ],
          "name": "stdout"
        }
      ]
    },
    {
      "cell_type": "code",
      "metadata": {
        "colab": {
          "base_uri": "https://localhost:8080/"
        },
        "id": "Sbx3SGnw_YAb",
        "outputId": "7a6be5e8-32f4-45ad-cb6d-38199cb10e6b"
      },
      "source": [
        "fn = '/content/drive/MyDrive/Projects/Physalia-courses/Python/Notebook - Colab/another_simple_text_file.txt'\n",
        "\n",
        "position = 10\n",
        "with open(fn) as f:\n",
        "  f.seek(position)\n",
        "  l = f.readline()\n",
        "  print(l)"
      ],
      "execution_count": null,
      "outputs": [
        {
          "output_type": "stream",
          "text": [
            "m dolor sit amet, \n",
            "\n"
          ],
          "name": "stdout"
        }
      ]
    },
    {
      "cell_type": "code",
      "metadata": {
        "colab": {
          "base_uri": "https://localhost:8080/"
        },
        "id": "sYWZTy4gAT3c",
        "outputId": "b2f81b45-0e08-4812-fd69-409e8f5369e7"
      },
      "source": [
        "fn = '/content/drive/MyDrive/Projects/Physalia-courses/Python/Notebook - Colab/another_simple_text_file.txt'\n",
        "\n",
        "position = 0\n",
        "with open(fn) as f:\n",
        "  while True:\n",
        "    l = f.readline()\n",
        "    if 'magna' in l:\n",
        "      position = f.tell() # gives the position after the readline\n",
        "    if not l:\n",
        "      break\n",
        "\n",
        "print(position)"
      ],
      "execution_count": null,
      "outputs": [
        {
          "output_type": "stream",
          "text": [
            "121\n"
          ],
          "name": "stdout"
        }
      ]
    },
    {
      "cell_type": "code",
      "metadata": {
        "id": "O0Vsimrd0lim"
      },
      "source": [
        "fn = '/content/drive/MyDrive/Projects/Physalia-courses/Python/Notebook - Colab/another_simple_text_file.txt'\n",
        "\n",
        "position = 0\n",
        "with open(fn) as f:\n",
        "  while True:\n",
        "    current_position = f.tell()\n",
        "    l = f.readline()\n",
        "    if 'magna' in l:\n",
        "      position = current_position\n",
        "    if not l:\n",
        "      break\n",
        "\n",
        "print(position)"
      ],
      "execution_count": null,
      "outputs": []
    },
    {
      "cell_type": "code",
      "metadata": {
        "colab": {
          "base_uri": "https://localhost:8080/"
        },
        "id": "vmSIb1UsBqUz",
        "outputId": "79f5a709-a2ae-4752-d0a6-b54314210c6c"
      },
      "source": [
        "fn = '/content/drive/MyDrive/Projects/Physalia-courses/Python/Notebook - Colab/another_simple_text_file.txt'\n",
        "\n",
        "with open(fn) as f:\n",
        "  f.seek(position)\n",
        "  l = f.readline()\n",
        "  print(l)"
      ],
      "execution_count": null,
      "outputs": [
        {
          "output_type": "stream",
          "text": [
            "Ut enim ad minim veniam,\n",
            "\n"
          ],
          "name": "stdout"
        }
      ]
    },
    {
      "cell_type": "markdown",
      "metadata": {
        "id": "4SkyPlsiDPyp"
      },
      "source": [
        "# ZIP, UNZIP and PICKLE"
      ]
    },
    {
      "cell_type": "code",
      "metadata": {
        "id": "nKoLqWyUCvuw"
      },
      "source": [
        "# let's use our old friend the request package to retrieve and save a binary file (the zip file)\n",
        "import requests\n",
        "\n",
        "output_dir = '/content/drive/MyDrive/Projects/Physalia-courses/Python/Notebook - Colab/'\n",
        "zip_file = 'https://github.com/TheAlgorithms/Python/archive/master.zip'\n",
        "\n",
        "r = requests.get(zip_file)\n",
        "\n",
        "with open(os.path.join(output_dir, 'master.zip'), 'wb') as f:\n",
        "  f.write(r.content)"
      ],
      "execution_count": null,
      "outputs": []
    },
    {
      "cell_type": "code",
      "metadata": {
        "id": "kg8mjn3oFGM9"
      },
      "source": [
        "# now we can extract it's content\n",
        "import shutil\n",
        "\n",
        "shutil.unpack_archive(os.path.join(output_dir, 'master.zip'), output_dir)  "
      ],
      "execution_count": null,
      "outputs": []
    },
    {
      "cell_type": "code",
      "metadata": {
        "colab": {
          "base_uri": "https://localhost:8080/",
          "height": 35
        },
        "id": "lufANiq1HEZx",
        "outputId": "605c61c3-b2f4-4caf-f8e7-c220e972845d"
      },
      "source": [
        "# and how to create a zip archive?\n",
        "import shutil\n",
        "\n",
        "shutil.make_archive(os.path.join(output_dir, 'my_archive'), 'zip', '/content/drive/MyDrive/Projects/Physalia-courses/Python/Notebook - Colab/Python-master')"
      ],
      "execution_count": null,
      "outputs": [
        {
          "output_type": "execute_result",
          "data": {
            "application/vnd.google.colaboratory.intrinsic+json": {
              "type": "string"
            },
            "text/plain": [
              "'/content/drive/MyDrive/Projects/Physalia-courses/Python/Notebook - Colab/my_archive.zip.zip'"
            ]
          },
          "metadata": {
            "tags": []
          },
          "execution_count": 55
        }
      ]
    },
    {
      "cell_type": "code",
      "metadata": {
        "id": "L8ZNc9_kIv72"
      },
      "source": [
        "# zip and unzip are to store in a (compact) binary format files and directories, but what if you want to dump into a file\n",
        "# the result of an analysis, i.e. a data structure?\n",
        "# One way would be to write your data into a text file and then zip it, otherwise you can use pickle\n",
        "\n",
        "my_complex_data_structure = {\n",
        "    'people': [\n",
        "               {\n",
        "                   'name': 'Anne',\n",
        "                   'phone_number': '123456'\n",
        "               },\n",
        "               {\n",
        "                   'name': 'Frank',\n",
        "                   'phone_number': '533612'\n",
        "               },\n",
        "               {\n",
        "                   'name': 'Jacob',\n",
        "                   'phone_number': '222341'\n",
        "               }\n",
        "    ]\n",
        "}"
      ],
      "execution_count": null,
      "outputs": []
    },
    {
      "cell_type": "code",
      "metadata": {
        "id": "G5QDE2lVL4qV"
      },
      "source": [
        "# dump the data into a file using pickle\n",
        "\n",
        "import pickle\n",
        "\n",
        "output_dir = '/content/drive/MyDrive/Projects/Physalia-courses/Python/Notebook - Colab/'\n",
        "fn = 'my_complex_data_structure.bin'\n",
        "\n",
        "fh = open(os.path.join(output_dir, fn), 'wb')\n",
        "pickle.dump(my_complex_data_structure,  fh)\n",
        "fh.close()"
      ],
      "execution_count": null,
      "outputs": []
    },
    {
      "cell_type": "code",
      "metadata": {
        "id": "VxQJO1MmMMFs"
      },
      "source": [
        "# read the structure back from a file with pickle\n",
        "\n",
        "import pickle\n",
        "\n",
        "output_dir = '/content/drive/MyDrive/Projects/Physalia-courses/Python/Notebook - Colab/'\n",
        "fn = 'my_complex_data_structure.bin'\n",
        "\n",
        "fh = open(os.path.join(output_dir, fn), 'rb')\n",
        "ds = pickle.load(fh)\n",
        "fh.close()"
      ],
      "execution_count": null,
      "outputs": []
    },
    {
      "cell_type": "code",
      "metadata": {
        "colab": {
          "base_uri": "https://localhost:8080/"
        },
        "id": "BWbjWZCPNCuH",
        "outputId": "7fe18e99-d354-47ca-9552-10c564a4196a"
      },
      "source": [
        "ds"
      ],
      "execution_count": null,
      "outputs": [
        {
          "output_type": "execute_result",
          "data": {
            "text/plain": [
              "{'people': [{'name': 'Anne', 'phone_number': '123456'},\n",
              "  {'name': 'Frank', 'phone_number': '533612'},\n",
              "  {'name': 'Jacob', 'phone_number': '222341'}]}"
            ]
          },
          "metadata": {
            "tags": []
          },
          "execution_count": 65
        }
      ]
    },
    {
      "cell_type": "code",
      "metadata": {
        "colab": {
          "base_uri": "https://localhost:8080/"
        },
        "id": "VRmUwDgLNLoW",
        "outputId": "09c1f0e3-5510-4ce7-b56b-7a99171a539d"
      },
      "source": [
        "ds == my_complex_data_structure"
      ],
      "execution_count": null,
      "outputs": [
        {
          "output_type": "execute_result",
          "data": {
            "text/plain": [
              "True"
            ]
          },
          "metadata": {
            "tags": []
          },
          "execution_count": 66
        }
      ]
    },
    {
      "cell_type": "markdown",
      "metadata": {
        "id": "QFHt7DFAcz3T"
      },
      "source": [
        "# Examples and exercises"
      ]
    },
    {
      "cell_type": "code",
      "metadata": {
        "id": "PXZIoKXY1Cop",
        "colab": {
          "base_uri": "https://localhost:8080/"
        },
        "outputId": "e369988f-62bc-41a2-a800-c87105125497"
      },
      "source": [
        "# unzip an example file in a directory, read the file as a dictionary (hint, it's again a json formatted string) and save with pickle somewhere\n",
        "fn = '/content/drive/MyDrive/Projects/Physalia-courses/Python/Notebook - Colab/example.zip'\n"
      ],
      "execution_count": null,
      "outputs": [
        {
          "output_type": "stream",
          "text": [
            "{\"id\": \"0001\",\"type\": \"donut\",\"name\": \"Cake\",\"ppu\": 0.55,\"batters\":{\"batter\":[{ \"id\": \"1001\", \"type\": \"Regular\" },{ \"id\": \"1002\", \"type\": \"Chocolate\" },{ \"id\": \"1003\", \"type\": \"Blueberry\" },{ \"id\": \"1004\", \"type\": \"Devil's Food\" }]},\"topping\":[{ \"id\": \"5001\", \"type\": \"None\" },{ \"id\": \"5002\", \"type\": \"Glazed\" },{ \"id\": \"5005\", \"type\": \"Sugar\" },{ \"id\": \"5007\", \"type\": \"Powdered Sugar\" },{ \"id\": \"5006\", \"type\": \"Chocolate with Sprinkles\" },{ \"id\": \"5003\", \"type\": \"Chocolate\" },{ \"id\": \"5004\", \"type\": \"Maple\" }]}\n"
          ],
          "name": "stdout"
        }
      ]
    },
    {
      "cell_type": "markdown",
      "metadata": {
        "id": "Ny3A2J9Hc12h"
      },
      "source": [
        "# Functions (as a way to extend the language)"
      ]
    },
    {
      "cell_type": "code",
      "metadata": {
        "id": "eCbK6raaNQR6"
      },
      "source": [
        "def my_fun(a):\n",
        "    return a**2"
      ],
      "execution_count": null,
      "outputs": []
    },
    {
      "cell_type": "code",
      "metadata": {
        "colab": {
          "base_uri": "https://localhost:8080/"
        },
        "id": "AuEoeXYBjCa3",
        "outputId": "91412f58-beaa-4774-d65d-e9ffcdd15319"
      },
      "source": [
        "my_fun(2)"
      ],
      "execution_count": null,
      "outputs": [
        {
          "output_type": "execute_result",
          "data": {
            "text/plain": [
              "4"
            ]
          },
          "metadata": {
            "tags": []
          },
          "execution_count": 60
        }
      ]
    },
    {
      "cell_type": "code",
      "metadata": {
        "id": "D16ArfAveghL"
      },
      "source": [
        "def i_dont_return_anything(a):\n",
        "  a.append('a')"
      ],
      "execution_count": null,
      "outputs": []
    },
    {
      "cell_type": "code",
      "metadata": {
        "colab": {
          "base_uri": "https://localhost:8080/"
        },
        "id": "qwCI-p6LjFQY",
        "outputId": "14cdc6ad-b7ab-417b-9e51-874f4518d456"
      },
      "source": [
        "l = []\n",
        "print(l)\n",
        "i_dont_return_anything(l)\n",
        "print(l)"
      ],
      "execution_count": null,
      "outputs": [
        {
          "output_type": "stream",
          "text": [
            "[]\n",
            "['a']\n"
          ],
          "name": "stdout"
        }
      ]
    },
    {
      "cell_type": "code",
      "metadata": {
        "id": "zxivFFTzk7ue"
      },
      "source": [
        "def my_second_fun(a):\n",
        "  a += ' world!' # equivalent to a = a + ' world!'\n",
        "  print(a, id(a))"
      ],
      "execution_count": null,
      "outputs": []
    },
    {
      "cell_type": "code",
      "metadata": {
        "colab": {
          "base_uri": "https://localhost:8080/"
        },
        "id": "3nO4IRfqky7q",
        "outputId": "ab13b396-6ae2-44d2-8814-ba62f2faddda"
      },
      "source": [
        "x = 'hello'\n",
        "print(x, id(x))\n",
        "my_second_fun(x)\n",
        "print(x, id(x))"
      ],
      "execution_count": null,
      "outputs": [
        {
          "output_type": "stream",
          "text": [
            "hello 140011047320912\n",
            "hello world! 140011048278064\n",
            "hello 140011047320912\n"
          ],
          "name": "stdout"
        }
      ]
    },
    {
      "cell_type": "code",
      "metadata": {
        "colab": {
          "base_uri": "https://localhost:8080/"
        },
        "id": "eZ_BSWYJesrp",
        "outputId": "a6d24d8b-c365-4b15-f97a-184a2a6e1ae5"
      },
      "source": [
        "# lambda function - anonymous function\n",
        "f = lambda x : x**2\n",
        "\n",
        "f(2)"
      ],
      "execution_count": null,
      "outputs": [
        {
          "output_type": "execute_result",
          "data": {
            "text/plain": [
              "4"
            ]
          },
          "metadata": {
            "tags": []
          },
          "execution_count": 70
        }
      ]
    },
    {
      "cell_type": "code",
      "metadata": {
        "colab": {
          "base_uri": "https://localhost:8080/"
        },
        "id": "K0Bp94O6fDGt",
        "outputId": "12408f86-38ec-4cb9-f1c5-697bc70d437a"
      },
      "source": [
        "type(f), type(my_fun)"
      ],
      "execution_count": null,
      "outputs": [
        {
          "output_type": "execute_result",
          "data": {
            "text/plain": [
              "(function, function)"
            ]
          },
          "metadata": {
            "tags": []
          },
          "execution_count": 80
        }
      ]
    },
    {
      "cell_type": "code",
      "metadata": {
        "colab": {
          "base_uri": "https://localhost:8080/"
        },
        "id": "-iIaS1W0fGIF",
        "outputId": "ea947c50-643f-496c-d95d-cabbd5324586"
      },
      "source": [
        "[x**2 for x in range(10)]"
      ],
      "execution_count": null,
      "outputs": [
        {
          "output_type": "execute_result",
          "data": {
            "text/plain": [
              "[0, 1, 4, 9, 16, 25, 36, 49, 64, 81]"
            ]
          },
          "metadata": {
            "tags": []
          },
          "execution_count": 71
        }
      ]
    },
    {
      "cell_type": "code",
      "metadata": {
        "colab": {
          "base_uri": "https://localhost:8080/"
        },
        "id": "wKAJZOwHfTNQ",
        "outputId": "8e58c960-a7ea-439a-cb24-57574be7be18"
      },
      "source": [
        "list(map(f, range(10)))"
      ],
      "execution_count": null,
      "outputs": [
        {
          "output_type": "execute_result",
          "data": {
            "text/plain": [
              "[0, 1, 4, 9, 16, 25, 36, 49, 64, 81]"
            ]
          },
          "metadata": {
            "tags": []
          },
          "execution_count": 73
        }
      ]
    },
    {
      "cell_type": "code",
      "metadata": {
        "colab": {
          "base_uri": "https://localhost:8080/"
        },
        "id": "o08rgU4Rfl_m",
        "outputId": "c86c50cb-cee9-40a4-b17c-27c7f8e7ecb3"
      },
      "source": [
        "import random\n",
        "\n",
        "a = [(random.randint(0,10), random.randint(0,10)) for i in range(10)]\n",
        "print(a)"
      ],
      "execution_count": null,
      "outputs": [
        {
          "output_type": "stream",
          "text": [
            "[(0, 2), (4, 9), (7, 8), (0, 0), (8, 10), (7, 5), (7, 4), (9, 6), (7, 5), (9, 8)]\n"
          ],
          "name": "stdout"
        }
      ]
    },
    {
      "cell_type": "code",
      "metadata": {
        "colab": {
          "base_uri": "https://localhost:8080/"
        },
        "id": "fZuXmFpJfzxY",
        "outputId": "ec543ce5-4fe0-435a-ac70-593d5a6a265e"
      },
      "source": [
        "sorted(a)"
      ],
      "execution_count": null,
      "outputs": [
        {
          "output_type": "execute_result",
          "data": {
            "text/plain": [
              "[(0, 0),\n",
              " (0, 2),\n",
              " (4, 9),\n",
              " (7, 4),\n",
              " (7, 5),\n",
              " (7, 5),\n",
              " (7, 8),\n",
              " (8, 10),\n",
              " (9, 6),\n",
              " (9, 8)]"
            ]
          },
          "metadata": {
            "tags": []
          },
          "execution_count": 78
        }
      ]
    },
    {
      "cell_type": "code",
      "metadata": {
        "colab": {
          "base_uri": "https://localhost:8080/"
        },
        "id": "1cBrcoMpf2C3",
        "outputId": "626ea494-3a29-4753-df28-302289317100"
      },
      "source": [
        "sorted(a, key=lambda x:x[1])"
      ],
      "execution_count": null,
      "outputs": [
        {
          "output_type": "execute_result",
          "data": {
            "text/plain": [
              "[(0, 0),\n",
              " (0, 2),\n",
              " (7, 4),\n",
              " (7, 5),\n",
              " (7, 5),\n",
              " (9, 6),\n",
              " (7, 8),\n",
              " (9, 8),\n",
              " (4, 9),\n",
              " (8, 10)]"
            ]
          },
          "metadata": {
            "tags": []
          },
          "execution_count": 79
        }
      ]
    },
    {
      "cell_type": "markdown",
      "metadata": {
        "id": "dATvt6lKyMWf"
      },
      "source": [
        "# Function with varying arguments"
      ]
    },
    {
      "cell_type": "code",
      "metadata": {
        "id": "0Ex9BJJMf7ID"
      },
      "source": [
        "def my_sum(a, b):\n",
        "    return a + b"
      ],
      "execution_count": null,
      "outputs": []
    },
    {
      "cell_type": "code",
      "metadata": {
        "colab": {
          "base_uri": "https://localhost:8080/"
        },
        "id": "ff3QloamyRoD",
        "outputId": "e938bba4-c092-42b6-a492-bb5dca353543"
      },
      "source": [
        "my_sum(2,3)"
      ],
      "execution_count": null,
      "outputs": [
        {
          "output_type": "execute_result",
          "data": {
            "text/plain": [
              "5"
            ]
          },
          "metadata": {
            "tags": []
          },
          "execution_count": 81
        }
      ]
    },
    {
      "cell_type": "code",
      "metadata": {
        "id": "ge7b-uosySbb"
      },
      "source": [
        "# default values for an argument\n",
        "def my_sum(a, b=0):\n",
        "    return a + b"
      ],
      "execution_count": null,
      "outputs": []
    },
    {
      "cell_type": "code",
      "metadata": {
        "colab": {
          "base_uri": "https://localhost:8080/"
        },
        "id": "_7Kzkv0RydM9",
        "outputId": "0deee43a-8e5b-418a-b311-e939aaa0a17e"
      },
      "source": [
        "my_sum(2)"
      ],
      "execution_count": null,
      "outputs": [
        {
          "output_type": "execute_result",
          "data": {
            "text/plain": [
              "2"
            ]
          },
          "metadata": {
            "tags": []
          },
          "execution_count": 85
        }
      ]
    },
    {
      "cell_type": "code",
      "metadata": {
        "colab": {
          "base_uri": "https://localhost:8080/"
        },
        "id": "71QK8EeaydfU",
        "outputId": "def18859-1aca-4384-e96c-581b913eec7a"
      },
      "source": [
        "my_sum(2, 3)"
      ],
      "execution_count": null,
      "outputs": [
        {
          "output_type": "execute_result",
          "data": {
            "text/plain": [
              "5"
            ]
          },
          "metadata": {
            "tags": []
          },
          "execution_count": 86
        }
      ]
    },
    {
      "cell_type": "code",
      "metadata": {
        "id": "sAL2wegTyf4I"
      },
      "source": [
        "# unknown number of values\n",
        "def my_sum(*args):\n",
        "    # args works as a tuple\n",
        "    s = 0\n",
        "    for i in args:\n",
        "        s += i\n",
        "    return s"
      ],
      "execution_count": null,
      "outputs": []
    },
    {
      "cell_type": "code",
      "metadata": {
        "colab": {
          "base_uri": "https://localhost:8080/"
        },
        "id": "rXKv1OomypKU",
        "outputId": "a333055a-c157-4a60-9db2-ab515d431f56"
      },
      "source": [
        "my_sum(1,2,3)"
      ],
      "execution_count": null,
      "outputs": [
        {
          "output_type": "execute_result",
          "data": {
            "text/plain": [
              "6"
            ]
          },
          "metadata": {
            "tags": []
          },
          "execution_count": 93
        }
      ]
    },
    {
      "cell_type": "code",
      "metadata": {
        "colab": {
          "base_uri": "https://localhost:8080/"
        },
        "id": "7xk4vQ-uyvmj",
        "outputId": "f9168ac1-5f75-479d-82b0-d17d412d3539"
      },
      "source": [
        "my_sum(1,2,3,4,5)"
      ],
      "execution_count": null,
      "outputs": [
        {
          "output_type": "execute_result",
          "data": {
            "text/plain": [
              "15"
            ]
          },
          "metadata": {
            "tags": []
          },
          "execution_count": 94
        }
      ]
    },
    {
      "cell_type": "markdown",
      "metadata": {
        "id": "r6b7fqV90QfT"
      },
      "source": [
        "### A small detour: * the unpack operator"
      ]
    },
    {
      "cell_type": "code",
      "metadata": {
        "colab": {
          "base_uri": "https://localhost:8080/"
        },
        "id": "qEIsc_7i1rYR",
        "outputId": "d24488e8-bca1-46e0-d969-0493dd4f75d6"
      },
      "source": [
        "l = list(range(10))\n",
        "print(l, type(l))"
      ],
      "execution_count": null,
      "outputs": [
        {
          "output_type": "stream",
          "text": [
            "[0, 1, 2, 3, 4, 5, 6, 7, 8, 9] <class 'list'>\n"
          ],
          "name": "stdout"
        }
      ]
    },
    {
      "cell_type": "code",
      "metadata": {
        "colab": {
          "base_uri": "https://localhost:8080/"
        },
        "id": "-P6wq8hk4S8D",
        "outputId": "ec2bee76-1ab6-419e-9e27-832bfa664ddb"
      },
      "source": [
        "print(*l)"
      ],
      "execution_count": null,
      "outputs": [
        {
          "output_type": "stream",
          "text": [
            "0 1 2 3 4 5 6 7 8 9\n"
          ],
          "name": "stdout"
        }
      ]
    },
    {
      "cell_type": "code",
      "metadata": {
        "colab": {
          "base_uri": "https://localhost:8080/"
        },
        "id": "ztD3N0EdHMtJ",
        "outputId": "cb03896a-518f-492e-ccf1-95000dfdc554"
      },
      "source": [
        "print(1,2,3,4,5,6,7,8,9)"
      ],
      "execution_count": null,
      "outputs": [
        {
          "output_type": "stream",
          "text": [
            "1 2 3 4 5 6 7 8 9\n"
          ],
          "name": "stdout"
        }
      ]
    },
    {
      "cell_type": "code",
      "metadata": {
        "colab": {
          "base_uri": "https://localhost:8080/"
        },
        "id": "_cqyLgQZHZE6",
        "outputId": "390e92bf-8303-46b2-c331-f4ef7ddc29ad"
      },
      "source": [
        "print(l)"
      ],
      "execution_count": null,
      "outputs": [
        {
          "output_type": "stream",
          "text": [
            "[0, 1, 2, 3, 4, 5, 6, 7, 8, 9]\n"
          ],
          "name": "stdout"
        }
      ]
    },
    {
      "cell_type": "code",
      "metadata": {
        "colab": {
          "base_uri": "https://localhost:8080/"
        },
        "id": "EbfBIN9x4Vyw",
        "outputId": "18592c40-0281-459e-cf5a-2721198e14a1"
      },
      "source": [
        "a = [1,2,3,4,5]\n",
        "b = [6,7,8,9,0]\n",
        "\n",
        "print(a + b)"
      ],
      "execution_count": null,
      "outputs": [
        {
          "output_type": "stream",
          "text": [
            "[1, 2, 3, 4, 5, 6, 7, 8, 9, 0]\n"
          ],
          "name": "stdout"
        }
      ]
    },
    {
      "cell_type": "code",
      "metadata": {
        "colab": {
          "base_uri": "https://localhost:8080/"
        },
        "id": "eL4-ksvlHtMD",
        "outputId": "1c6cb252-68bc-472f-d6d0-d268d96f00c8"
      },
      "source": [
        "list(zip(a,b))"
      ],
      "execution_count": null,
      "outputs": [
        {
          "output_type": "execute_result",
          "data": {
            "text/plain": [
              "[(1, 6), (2, 7), (3, 8), (4, 9), (5, 0)]"
            ]
          },
          "metadata": {
            "tags": []
          },
          "execution_count": 102
        }
      ]
    },
    {
      "cell_type": "code",
      "metadata": {
        "colab": {
          "base_uri": "https://localhost:8080/"
        },
        "id": "n_rPIPK_4f_J",
        "outputId": "157e72c9-221d-4052-cc58-fa2d1d11c805"
      },
      "source": [
        "[x + y for x,y in zip(a,b)]"
      ],
      "execution_count": null,
      "outputs": [
        {
          "output_type": "execute_result",
          "data": {
            "text/plain": [
              "[7, 9, 11, 13, 5]"
            ]
          },
          "metadata": {
            "tags": []
          },
          "execution_count": 46
        }
      ]
    },
    {
      "cell_type": "code",
      "metadata": {
        "id": "sNC4cF1a3n66"
      },
      "source": [
        "matrix = [[2, 0, 1, 3], [3, 2, 1, 0], [8, 6, 1, 4], [1, 0, 6, 3]]"
      ],
      "execution_count": null,
      "outputs": []
    },
    {
      "cell_type": "code",
      "metadata": {
        "colab": {
          "base_uri": "https://localhost:8080/"
        },
        "id": "vIIlznvXIKyr",
        "outputId": "7a576d7d-a231-4ce5-9eef-6d1f303345c6"
      },
      "source": [
        "print(matrix)"
      ],
      "execution_count": null,
      "outputs": [
        {
          "output_type": "stream",
          "text": [
            "[[2, 0, 1, 3], [3, 2, 1, 0], [8, 6, 1, 4], [1, 0, 6, 3]]\n"
          ],
          "name": "stdout"
        }
      ]
    },
    {
      "cell_type": "code",
      "metadata": {
        "colab": {
          "base_uri": "https://localhost:8080/"
        },
        "id": "t2W-w3gv3kOB",
        "outputId": "4298e1a5-dd2f-41be-a02e-38ab5fef00ee"
      },
      "source": [
        "list(zip(*matrix)) # why does it work?"
      ],
      "execution_count": null,
      "outputs": [
        {
          "output_type": "execute_result",
          "data": {
            "text/plain": [
              "[(2, 3, 8, 1), (0, 2, 6, 0), (1, 1, 1, 6), (3, 0, 4, 3)]"
            ]
          },
          "metadata": {
            "tags": []
          },
          "execution_count": 105
        }
      ]
    },
    {
      "cell_type": "code",
      "metadata": {
        "id": "lnEtW5J0-7HY"
      },
      "source": [
        "def my_array_sum(**kwargs):\n",
        "    print(kwargs)"
      ],
      "execution_count": null,
      "outputs": []
    },
    {
      "cell_type": "code",
      "metadata": {
        "colab": {
          "base_uri": "https://localhost:8080/"
        },
        "id": "TawVU46-_XwZ",
        "outputId": "d1765d5b-c5b8-4d0f-fb70-78aa5323456a"
      },
      "source": [
        "c = [2,2,2,2,2]\n",
        "d = [5,5,5,5,5]\n",
        "\n",
        "my_array_sum(first=a, second=b, third=c, fourth=d)"
      ],
      "execution_count": null,
      "outputs": [
        {
          "output_type": "stream",
          "text": [
            "{'first': [1, 2, 3, 4, 5], 'second': [6, 7, 8, 9, 0], 'third': [2, 2, 2, 2, 2], 'fourth': [5, 5, 5, 5, 5]}\n"
          ],
          "name": "stdout"
        }
      ]
    },
    {
      "cell_type": "code",
      "metadata": {
        "id": "7Ewajd8R_g1X"
      },
      "source": [
        "def my_fun(mandatory_arg, default_arg=None, *args, **kwargs):\n",
        "    print(mandatory_arg)\n",
        "    print(default_arg)\n",
        "    print(args)\n",
        "    print(kwargs)"
      ],
      "execution_count": null,
      "outputs": []
    },
    {
      "cell_type": "code",
      "metadata": {
        "colab": {
          "base_uri": "https://localhost:8080/"
        },
        "id": "zIjOxz55_t23",
        "outputId": "8b69c2b4-adc8-464f-a219-e4c874be4485"
      },
      "source": [
        "my_fun('a', 1, 2, 3, 4, arg1='c', arg2='d')"
      ],
      "execution_count": null,
      "outputs": [
        {
          "output_type": "stream",
          "text": [
            "a\n",
            "1\n",
            "(2, 3, 4)\n",
            "{'arg1': 'c', 'arg2': 'd'}\n"
          ],
          "name": "stdout"
        }
      ]
    },
    {
      "cell_type": "markdown",
      "metadata": {
        "id": "TfE-8lJQAvGR"
      },
      "source": [
        "### Another detour: generator (and iterable and iterators)"
      ]
    },
    {
      "cell_type": "code",
      "metadata": {
        "id": "02JuyCWgBoLt"
      },
      "source": [
        "def my_gen():\n",
        "    n = 1\n",
        "    print('This is printed first')\n",
        "    # Generator function contains yield statements\n",
        "    yield n\n",
        "\n",
        "    n += 1\n",
        "    print('This is printed second')\n",
        "    yield n\n",
        "\n",
        "    n += 1\n",
        "    print('This is printed at last')\n",
        "    yield n"
      ],
      "execution_count": null,
      "outputs": []
    },
    {
      "cell_type": "code",
      "metadata": {
        "colab": {
          "base_uri": "https://localhost:8080/"
        },
        "id": "lH7ZKrxiCTuX",
        "outputId": "906561ad-95c7-4e20-ca85-ea40efb27f10"
      },
      "source": [
        "for i in my_gen():\n",
        "  print(i)"
      ],
      "execution_count": null,
      "outputs": [
        {
          "output_type": "stream",
          "text": [
            "This is printed first\n",
            "1\n",
            "This is printed second\n",
            "2\n",
            "This is printed at last\n",
            "3\n"
          ],
          "name": "stdout"
        }
      ]
    },
    {
      "cell_type": "code",
      "metadata": {
        "id": "qfDbt7GMCx6e"
      },
      "source": [
        "# memory efficient\n",
        "# infinite sequences\n",
        "def fibonacci(num):\n",
        "  a, b = 0, 1\n",
        "  for x in range(num):\n",
        "    a, b = b, b + a\n",
        "    yield b"
      ],
      "execution_count": null,
      "outputs": []
    },
    {
      "cell_type": "code",
      "metadata": {
        "colab": {
          "base_uri": "https://localhost:8080/"
        },
        "id": "p9ZF2p7IDiRg",
        "outputId": "c76452b7-2140-4c35-c967-81d8f6892b7c"
      },
      "source": [
        "for i in fibonacci(10):\n",
        "  print(i)"
      ],
      "execution_count": null,
      "outputs": [
        {
          "output_type": "stream",
          "text": [
            "1\n",
            "2\n",
            "3\n",
            "5\n",
            "8\n",
            "13\n",
            "21\n",
            "34\n",
            "55\n",
            "89\n"
          ],
          "name": "stdout"
        }
      ]
    },
    {
      "cell_type": "markdown",
      "metadata": {
        "id": "BV7Cc_MBBRro"
      },
      "source": [
        "![test.html](https://res.cloudinary.com/dyd911kmh/image/upload/f_auto,q_auto:best/v1540502316/Screen_Shot_2018-10-25_at_4.52.02_PM_ygflgk.png)"
      ]
    },
    {
      "cell_type": "markdown",
      "metadata": {
        "id": "GNnvkPm7M0hh"
      },
      "source": [
        "# Exercises"
      ]
    },
    {
      "cell_type": "code",
      "metadata": {
        "id": "cTEqAi5dM1s4"
      },
      "source": [
        "# write a function that takes a filename as argument and return a dictionary of the fasta\n",
        "fn = '/content/drive/MyDrive/Projects/Physalia-courses/Python/Notebook - Colab/example_seq.fasta'\n",
        "\n",
        "def read_fasta(filename):\n",
        "  d = {}\n",
        "  with open(filename) as f:\n",
        "    for l in f:\n",
        "      if l[0] == '>':\n",
        "        id = l[1:].strip()\n",
        "        d[id] = ''\n",
        "      else:\n",
        "        d[id] += l.strip()\n",
        "  return d"
      ],
      "execution_count": null,
      "outputs": []
    },
    {
      "cell_type": "code",
      "metadata": {
        "colab": {
          "base_uri": "https://localhost:8080/"
        },
        "id": "Wj5rTy-e_d45",
        "outputId": "2e004042-1877-413f-a78c-0dc3a3567ec4"
      },
      "source": [
        "my_fasta = read_fasta(fn)\n",
        "print(my_fasta)"
      ],
      "execution_count": null,
      "outputs": [
        {
          "output_type": "stream",
          "text": [
            "{'Seq1': 'LYLIFGAWAGMVGTALSLLIRAELGQPGTLLGDDQIYNVIVTAHAFVMIFFMVMPIMIGGFGNWLVPLMIGAPDMAFPRMNNMSFWLLPPSFLLLLASSTVEAGAGTGWTVYPPLAGNLAHAGASVDLAIFSLHLAGVSSILGAINFITTAINMKPPTLSQYQTPLFVWSVLITAVLLLLSLPVLAAGITMLLTDRNLNTTFFDPAGGGDPVLYQHLFWFFGHPEVYILIL', 'Seq2': 'VGTALXLLIRAELXQPGALLGDDQIYNVVVTAHAFVMIFFMVMPIMIGGFGNWLVPLMIGAPDMAFPRMNNMSFWLLPPSFLLLMASSTVEAGAGTGWTVYPPLAGNLAHAGASVDLAIFSLHLAGISSILGAINFITTAINMKPPALSQYQTPLFVWSVLITAVLLLLSLPVLAAGITMLLTDRNLNTTFFDPAGGGDPVLYQHLFWFFGHPEVYILIL'}\n"
          ],
          "name": "stdout"
        }
      ]
    },
    {
      "cell_type": "code",
      "metadata": {
        "id": "eS9tevnP_IJ7"
      },
      "source": [
        "# write another function that a dictionary representing fasta format (the return value of previous function)\n",
        "# and write one file per sequence, with the sequence id as filename and the single fasta sequence (together with the ID) as file content\n",
        "\n",
        "def write_fasta_files(d_fasta):\n",
        "  for k, v in d_fasta.items():\n",
        "    with open(os.path.join('/content/drive/MyDrive/Projects/Physalia-courses/Python/Notebook - Colab/', k + '.fasta'), 'w') as f:\n",
        "      f.write('>' + k + '\\n')\n",
        "      f.write(v + '\\n')\n",
        "\n",
        "write_fasta_files(my_fasta)\n"
      ],
      "execution_count": null,
      "outputs": []
    },
    {
      "cell_type": "code",
      "metadata": {
        "id": "4VLcw_a7_JZa"
      },
      "source": [
        "# write a function that read a file and get a list of ordered elements based on the field 'value'\n",
        "fn = '/content/drive/MyDrive/Projects/Physalia-courses/Python/Notebook - Colab/example_obj.txt'\n",
        "\n",
        "def read_and_sort(filename):\n",
        "  s = \"\"\n",
        "  with open(filename) as f:\n",
        "    for l in f:\n",
        "      s += l.strip()\n",
        "  s = json.loads(s)\n",
        "  return sorted(s, key=lambda x:x[\"value\"])\n"
      ],
      "execution_count": null,
      "outputs": []
    },
    {
      "cell_type": "code",
      "metadata": {
        "colab": {
          "base_uri": "https://localhost:8080/"
        },
        "id": "fIKKRgDiBzyS",
        "outputId": "d64c73cc-2178-4e63-8a74-9fefd1d4aadb"
      },
      "source": [
        "read_and_sort(fn)"
      ],
      "execution_count": null,
      "outputs": [
        {
          "output_type": "execute_result",
          "data": {
            "text/plain": [
              "[{'description': 'third item', 'id': 'id3', 'value': 4},\n",
              " {'description': 'fifth item', 'id': 'id5', 'value': 5},\n",
              " {'description': 'first item', 'id': 'id1', 'value': 10},\n",
              " {'description': 'sixth item', 'id': 'id6', 'value': 16},\n",
              " {'description': 'second item', 'id': 'id2', 'value': 21},\n",
              " {'description': 'fourth item', 'id': 'id4', 'value': 65}]"
            ]
          },
          "metadata": {
            "tags": []
          },
          "execution_count": 55
        }
      ]
    },
    {
      "cell_type": "code",
      "metadata": {
        "id": "fJHmJ0QBB2LP"
      },
      "source": [
        ""
      ],
      "execution_count": null,
      "outputs": []
    }
  ]
}