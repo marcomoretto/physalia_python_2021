{
 "cells": [
  {
   "cell_type": "markdown",
   "metadata": {
    "id": "oY7mMVOH9tLo"
   },
   "source": [
    "# Ex #1\n",
    "\n",
    "Define two geometric shape classes, `Rectangle` and `Square`. \n",
    "\n",
    "* `Square` and `Rectangle` should have a hierarchical relationship since one is a special case of the other.\n",
    "\n",
    "* Overwrite `__add__(self, other)` and `__sub__(self, other)` method of all classes in order to sum and substract similar objects.\n",
    "\n",
    "* Overwrite the `__str__(self)` method in order to have a nice string representation of the figure using _ and |. So, for example a `Rectangle` of height 2 and 3 length should be:\n",
    "\n",
    "```\n",
    " ____\n",
    "|    |\n",
    "|____|\n",
    "```\n",
    "\n"
   ]
  },
  {
   "cell_type": "code",
   "execution_count": null,
   "metadata": {},
   "outputs": [],
   "source": [
    "# Square and Rectangle should have a hierarchical relationship since one is a special case of the other.\n",
    "\n",
    "class Rectangle(PrettyPrint):\n",
    "    def __init__(self, length, height):\n",
    "        self.length = length\n",
    "        self.height = height\n",
    "\n",
    "class Square(Rectangle):\n",
    "    def __init__(self, side):\n",
    "        self.side = side\n",
    "        self.length = side\n",
    "        self.height = side"
   ]
  },
  {
   "cell_type": "code",
   "execution_count": null,
   "metadata": {},
   "outputs": [],
   "source": [
    "# Overwrite __add__(self, other) and __sub__(self, other) method of all classes in order to sum and substract similar objects.\n",
    "\n",
    "class Rectangle(PrettyPrint):\n",
    "    def __init__(self, length, height):\n",
    "        self.length = length\n",
    "        self.height = height\n",
    "        \n",
    "    def __add__(self, other):\n",
    "        new_h = self.height + other.height\n",
    "        new_l = self.length + other.length\n",
    "        if new_h == new_l:\n",
    "            return Square(new_h)\n",
    "        else:\n",
    "            return Rectangle(new_l, new_h)\n",
    "        \n",
    "    def __sub__(self, other):\n",
    "        new_h = self.height - other.height\n",
    "        new_l = self.length - other.length\n",
    "        if new_h > 0 and new_l > 0:\n",
    "            if new_h == new_l:\n",
    "                return Square(new_h)\n",
    "            else:\n",
    "                return Rectangle(new_l, new_h)\n",
    "        else:\n",
    "            raise Exception('You cannot have negative length or height')\n",
    "\n",
    "class Square(Rectangle):\n",
    "    def __init__(self, side):\n",
    "        self.side = side\n",
    "        self.length = side\n",
    "        self.height = side"
   ]
  },
  {
   "cell_type": "code",
   "execution_count": 32,
   "metadata": {},
   "outputs": [
    {
     "name": "stdout",
     "output_type": "stream",
     "text": [
      " __________ \n",
      "|          |\n",
      "|          |\n",
      "|          |\n",
      "|          |\n",
      "|__________|\n",
      "\n",
      " ____________________ \n",
      "|                    |\n",
      "|                    |\n",
      "|                    |\n",
      "|                    |\n",
      "|                    |\n",
      "|                    |\n",
      "|                    |\n",
      "|                    |\n",
      "|                    |\n",
      "|____________________|\n",
      "\n"
     ]
    },
    {
     "ename": "Exception",
     "evalue": "You cannot have negative length or height",
     "output_type": "error",
     "traceback": [
      "\u001b[0;31m---------------------------------------------------------------------------\u001b[0m",
      "\u001b[0;31mException\u001b[0m                                 Traceback (most recent call last)",
      "\u001b[0;32m<ipython-input-32-0024c353cafb>\u001b[0m in \u001b[0;36m<module>\u001b[0;34m\u001b[0m\n\u001b[1;32m     42\u001b[0m \u001b[0mprint\u001b[0m\u001b[0;34m(\u001b[0m\u001b[0ms\u001b[0m\u001b[0;34m)\u001b[0m\u001b[0;34m\u001b[0m\u001b[0;34m\u001b[0m\u001b[0m\n\u001b[1;32m     43\u001b[0m \u001b[0mprint\u001b[0m\u001b[0;34m(\u001b[0m\u001b[0ms\u001b[0m \u001b[0;34m+\u001b[0m \u001b[0mr\u001b[0m\u001b[0;34m)\u001b[0m\u001b[0;34m\u001b[0m\u001b[0;34m\u001b[0m\u001b[0m\n\u001b[0;32m---> 44\u001b[0;31m \u001b[0mprint\u001b[0m\u001b[0;34m(\u001b[0m\u001b[0ms\u001b[0m \u001b[0;34m-\u001b[0m \u001b[0ms\u001b[0m\u001b[0;34m)\u001b[0m\u001b[0;34m\u001b[0m\u001b[0;34m\u001b[0m\u001b[0m\n\u001b[0m",
      "\u001b[0;32m<ipython-input-32-0024c353cafb>\u001b[0m in \u001b[0;36m__sub__\u001b[0;34m(self, other)\u001b[0m\n\u001b[1;32m     30\u001b[0m                 \u001b[0;32mreturn\u001b[0m \u001b[0mRectangle\u001b[0m\u001b[0;34m(\u001b[0m\u001b[0mnew_l\u001b[0m\u001b[0;34m,\u001b[0m \u001b[0mnew_h\u001b[0m\u001b[0;34m)\u001b[0m\u001b[0;34m\u001b[0m\u001b[0;34m\u001b[0m\u001b[0m\n\u001b[1;32m     31\u001b[0m         \u001b[0;32melse\u001b[0m\u001b[0;34m:\u001b[0m\u001b[0;34m\u001b[0m\u001b[0;34m\u001b[0m\u001b[0m\n\u001b[0;32m---> 32\u001b[0;31m             \u001b[0;32mraise\u001b[0m \u001b[0mException\u001b[0m\u001b[0;34m(\u001b[0m\u001b[0;34m'You cannot have negative length or height'\u001b[0m\u001b[0;34m)\u001b[0m\u001b[0;34m\u001b[0m\u001b[0;34m\u001b[0m\u001b[0m\n\u001b[0m\u001b[1;32m     33\u001b[0m \u001b[0;34m\u001b[0m\u001b[0m\n\u001b[1;32m     34\u001b[0m \u001b[0;32mclass\u001b[0m \u001b[0mSquare\u001b[0m\u001b[0;34m(\u001b[0m\u001b[0mRectangle\u001b[0m\u001b[0;34m)\u001b[0m\u001b[0;34m:\u001b[0m\u001b[0;34m\u001b[0m\u001b[0;34m\u001b[0m\u001b[0m\n",
      "\u001b[0;31mException\u001b[0m: You cannot have negative length or height"
     ]
    }
   ],
   "source": [
    "# Overwrite the __str__(self) method in order to have a nice string representation of the figure using _ and |. So, for example a Rectangle of height 2 and 3 length should be:\n",
    "    \n",
    "class Rectangle():\n",
    "    def __init__(self, length, height):\n",
    "        self.length = length\n",
    "        self.height = height\n",
    "        \n",
    "    def __str__(self):\n",
    "        s = ' ' + self.length * 2 * '_' + ' \\n'\n",
    "        for i in range(self.height - 1):\n",
    "            s += '|' + self.length * 2 * ' ' + '|\\n'\n",
    "        s += '|' + self.length * 2 * '_' + '|\\n'\n",
    "        return s\n",
    "        \n",
    "    def __add__(self, other):\n",
    "        new_h = self.height + other.height\n",
    "        new_l = self.length + other.length\n",
    "        if new_h == new_l:\n",
    "            return Square(new_h)\n",
    "        else:\n",
    "            return Rectangle(new_l, new_h)\n",
    "        \n",
    "    def __sub__(self, other):\n",
    "        new_h = self.height - other.height\n",
    "        new_l = self.length - other.length\n",
    "        if new_h > 0 and new_l > 0:\n",
    "            if new_h == new_l:\n",
    "                return Square(new_h)\n",
    "            else:\n",
    "                return Rectangle(new_l, new_h)\n",
    "        else:\n",
    "            raise Exception('You cannot have negative length or height')\n",
    "\n",
    "class Square(Rectangle):\n",
    "    def __init__(self, side):\n",
    "        self.side = side\n",
    "        self.length = side\n",
    "        self.height = side\n",
    "        \n",
    "s = Square(5)\n",
    "r = Rectangle(5, 5)\n",
    "print(s)\n",
    "print(s + r)\n",
    "print(s - s)"
   ]
  },
  {
   "cell_type": "code",
   "execution_count": null,
   "metadata": {},
   "outputs": [],
   "source": []
  },
  {
   "cell_type": "markdown",
   "metadata": {
    "id": "kFeimbuWSc6m"
   },
   "source": [
    "# Ex # 2\n",
    "\n",
    "Unzip and read the CSV file in data.csv.zip. This is a list of songs from Spotify. Define a class to represent a song, with all the attributes you'll find in the CSV file.\n",
    "Create another class to represent a playlist that should (also) contains a list of songs.\n",
    "Implement the following methods for the playlist object:\n",
    "* `get_total_time()` get the total time of the songs\n",
    "* `sort_playlist(key)` sort the playlist inplace by the key (name, artist, ...)\n",
    "* overload the `__add__(self, other)` method to merge two playlists"
   ]
  },
  {
   "cell_type": "markdown",
   "metadata": {
    "id": "N3FaOz9uJ6Xy"
   },
   "source": [
    "# Ex #3\n",
    "\n",
    "Program the Poker card game. You should define at least 3 classes, one that represent a `Card`, one to represent the `Deck` and one that represent the `Game`.\n",
    "`Card` have a number 1 to 10 plus one J, one Q and one K. There are 4 suits, *heart*, *diamonds*, *clubs* and *spades*.\n",
    "The `Game` class should be responsible to create 2 players that will randomly draft 5 `Cards` each and check who is the winner.\n",
    "The winning rules can be found here https://www.cardplayer.com/rules-of-poker/hand-rankings\n",
    "You might find useful to use the `random.choice(list)` that return a random element from the list `list`."
   ]
  },
  {
   "cell_type": "code",
   "execution_count": null,
   "metadata": {
    "id": "LydPX7oqRdSW"
   },
   "outputs": [],
   "source": [
    "import random\n",
    "\n",
    "class Suit:\n",
    "  pass\n",
    "\n",
    "class Hearts(Suit):\n",
    "  def __repr__(self):\n",
    "    return self.__str__()\n",
    "\n",
    "  def __str__(self):\n",
    "    return 'H'\n",
    "\n",
    "class Diamonds(Suit):\n",
    "  def __repr__(self):\n",
    "    return self.__str__()\n",
    "\n",
    "  def __str__(self):\n",
    "    return 'D'\n",
    "\n",
    "class Clubs(Suit):\n",
    "  def __repr__(self):\n",
    "    return self.__str__()\n",
    "\n",
    "  def __str__(self):\n",
    "    return 'C'\n",
    "\n",
    "class Spades(Suit):\n",
    "  def __repr__(self):\n",
    "    return self.__str__()\n",
    "\n",
    "  def __str__(self):\n",
    "    return 'S'\n",
    "\n",
    "class Card:\n",
    "  def __init__(self, value, suit):\n",
    "    self.value = value\n",
    "    if not isinstance(suit, Suit):\n",
    "      raise Exception(\"suit should be a valid Suit object\")\n",
    "    self.suit = suit\n",
    "\n",
    "  def __repr__(self):\n",
    "    return self.__str__()\n",
    "\n",
    "  def __str__(self):\n",
    "    v = str(self.value)\n",
    "    if self.value == 11:\n",
    "      v = 'J'\n",
    "    elif self.value == 12:\n",
    "      v = 'Q'\n",
    "    elif self.value == 13:\n",
    "      v = 'K'\n",
    "    return v + ' ' + str(self.suit)\n",
    "\n",
    "class Deck:\n",
    "  def __init__(self):\n",
    "    self.cards = []\n",
    "    values = [n for n in range(1, 14)]\n",
    "    suits = [Hearts(), Diamonds(), Clubs(), Spades()]\n",
    "    for v in values:\n",
    "      for suit in suits:\n",
    "        card = Card(v, suit)\n",
    "        self.cards.append(card)\n",
    "        \n",
    "  def draft(self, number_of_cards=5):\n",
    "    draft = []\n",
    "    for i in range(number_of_cards):\n",
    "      c = random.choice(self.cards)\n",
    "      draft.append(c)\n",
    "      self.cards.remove(c)\n",
    "    return draft\n",
    "\n",
    "  def __len__(self):\n",
    "    return len(self.cards)\n",
    "\n",
    "class Hand:\n",
    "  def __init__(self, deck):\n",
    "    self.hand = deck.draft(5)\n",
    "\n",
    "  def __repr__(self):\n",
    "    return self.__str__()\n",
    "\n",
    "  def __str__(self):\n",
    "    return str(self.hand)\n",
    "\n",
    "  def get_rank(self):\n",
    "    values = [c.value for c in self.hand]\n",
    "    values\n",
    "    suits = [c.suit for c in self.hand]\n",
    "    unique_values = set(values)\n",
    "    if '1' in values and 'K' in values and 'Q' in values and 'J' in values and '10' in values:\n",
    "      return 10\n",
    "    if len(set(suits)) == 1 and len(unique_values) == 5 and sorted(values)[-1] - sorted(values)[0] == 4:\n",
    "      return 9\n",
    "    if len(unique_values) <= 2:\n",
    "      for uv in list(unique_values):\n",
    "        if values.count(uv) == 4:\n",
    "          return 8\n",
    "      return 7\n",
    "    if len(set(suits)) == 1:\n",
    "      return 6\n",
    "    if len(set(values)) == 5 and sorted(values)[-1] - sorted(values)[0] == 4:\n",
    "      return 5\n",
    "    if len(unique_values) <= 3:\n",
    "      for uv in list(unique_values):\n",
    "        if values.count(uv) == 3:\n",
    "          return 4\n",
    "      return 3\n",
    "    if len(unique_values) <= 4:\n",
    "      return 2\n",
    "    return 1\n",
    "\n",
    "  def __lt__(self, other):\n",
    "    return self.get_rank() < other.get_rank()"
   ]
  },
  {
   "cell_type": "code",
   "execution_count": null,
   "metadata": {
    "colab": {
     "base_uri": "https://localhost:8080/"
    },
    "id": "91p-D4JhPsTf",
    "outputId": "ed958f00-7ae6-4793-bd39-61b925bc023a"
   },
   "outputs": [],
   "source": [
    "deck = Deck()\n",
    "hand1 = Hand(deck)\n",
    "hand2 = Hand(deck)\n",
    "print(hand1)\n",
    "print(hand2)\n",
    "print(len(deck))"
   ]
  },
  {
   "cell_type": "code",
   "execution_count": null,
   "metadata": {
    "colab": {
     "base_uri": "https://localhost:8080/"
    },
    "id": "3lHHZYQ7SCEQ",
    "outputId": "275bc302-a0f5-4fbb-cfd2-7f7a2315d7bc"
   },
   "outputs": [],
   "source": [
    "print(hand1.get_rank())\n",
    "print(hand2.get_rank())"
   ]
  }
 ],
 "metadata": {
  "colab": {
   "name": "Lesson 4: Exercises",
   "provenance": []
  },
  "kernelspec": {
   "display_name": "Python 3",
   "language": "python",
   "name": "python3"
  },
  "language_info": {
   "codemirror_mode": {
    "name": "ipython",
    "version": 3
   },
   "file_extension": ".py",
   "mimetype": "text/x-python",
   "name": "python",
   "nbconvert_exporter": "python",
   "pygments_lexer": "ipython3",
   "version": "3.9.1"
  }
 },
 "nbformat": 4,
 "nbformat_minor": 4
}
