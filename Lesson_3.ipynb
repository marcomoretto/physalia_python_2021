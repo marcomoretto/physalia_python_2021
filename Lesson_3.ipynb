{
 "cells": [
  {
   "cell_type": "markdown",
   "metadata": {
    "id": "y-yHqWfp19j1"
   },
   "source": [
    "# Reading a text file"
   ]
  },
  {
   "cell_type": "code",
   "execution_count": 2,
   "metadata": {
    "colab": {
     "base_uri": "https://localhost:8080/"
    },
    "id": "Dnl0ukDR2Fit",
    "outputId": "c1daa8f6-06b2-4623-9983-efa3b47025f4"
   },
   "outputs": [
    {
     "name": "stdout",
     "output_type": "stream",
     "text": [
      "A quick brown fox jumps over the lazy dog <class 'str'>\n"
     ]
    }
   ],
   "source": [
    "fn = 'data/simple_text_file.txt'\n",
    "fh = open(fn, 'r')\n",
    "for l in fh:\n",
    "    print(l, type(l))\n",
    "fo.close()"
   ]
  },
  {
   "cell_type": "code",
   "execution_count": 3,
   "metadata": {
    "colab": {
     "base_uri": "https://localhost:8080/"
    },
    "id": "yUlPaH8e3MxV",
    "outputId": "a28de7c0-571d-4e64-e509-0232d01873b2"
   },
   "outputs": [
    {
     "name": "stdout",
     "output_type": "stream",
     "text": [
      "A quick brown fox jumps over the lazy dog\n",
      "I'm out of the with block!\n"
     ]
    }
   ],
   "source": [
    "fn = 'data/simple_text_file.txt'\n",
    "with open(fn) as fh:\n",
    "    for l in fh:\n",
    "        print(l) \n",
    "        \n",
    "# here\n",
    "print(\"I'm out of the with block!\")"
   ]
  },
  {
   "cell_type": "code",
   "execution_count": 6,
   "metadata": {
    "colab": {
     "base_uri": "https://localhost:8080/"
    },
    "id": "s6jgrQpS3fX1",
    "outputId": "558cf5d1-2173-42eb-a1c6-55cb46a40c74"
   },
   "outputs": [
    {
     "name": "stdout",
     "output_type": "stream",
     "text": [
      "['Lorem ipsum dolor sit amet', 'consectetur adipisci elit', 'sed do eiusmod tempor incidunt ut labore et dolore magna aliqua', 'Ut enim ad minim veniam', 'quis nostrum exercitationem ullamco laboriosam', 'nisi ut aliquid ex ea commodi consequatur', 'Duis aute irure reprehenderit in voluptate velit esse cillum dolore eu fugiat nulla pariatur', 'Excepteur sint obcaecat cupiditat non proident', 'sunt in culpa qui officia deserunt mollit anim id est laborum']\n"
     ]
    }
   ],
   "source": [
    "text = []\n",
    "\n",
    "fn = 'data/another_simple_text_file.txt'\n",
    "\n",
    "with open(fn) as fh:\n",
    "    for l in fh:\n",
    "        cleaned_line = l.strip()\n",
    "        cleaned_line = cleaned_line[:-1]\n",
    "        text.append(cleaned_line)\n",
    "\n",
    "print(text)"
   ]
  },
  {
   "cell_type": "markdown",
   "metadata": {
    "id": "ERXVopLJ4uqu"
   },
   "source": [
    "# Writing a text file"
   ]
  },
  {
   "cell_type": "code",
   "execution_count": 19,
   "metadata": {
    "id": "Yo0devDm4t_a"
   },
   "outputs": [],
   "source": [
    "sentence = 'Hello World!'\n",
    "\n",
    "with open('data/my_simple_text_file.txt', 'a') as fo:\n",
    "    l = [1, 2, 3]\n",
    "    str_l = [str(i) for i in l]\n",
    "    str_l = \"\\n\".join(str_l)\n",
    "    fo.write(str_l)"
   ]
  },
  {
   "cell_type": "code",
   "execution_count": 13,
   "metadata": {},
   "outputs": [
    {
     "data": {
      "text/plain": [
       "'1\\n2\\n3'"
      ]
     },
     "execution_count": 13,
     "metadata": {},
     "output_type": "execute_result"
    }
   ],
   "source": [
    "str_l"
   ]
  },
  {
   "cell_type": "markdown",
   "metadata": {
    "id": "bFIBSXa99cwe"
   },
   "source": [
    "# Files and directories"
   ]
  },
  {
   "cell_type": "code",
   "execution_count": 20,
   "metadata": {
    "colab": {
     "base_uri": "https://localhost:8080/"
    },
    "id": "rapkXcP97Fj2",
    "outputId": "397f050e-7394-433e-db24-d49ff1d083a7"
   },
   "outputs": [
    {
     "data": {
      "text/plain": [
       "['Lesson_3_Exercises.ipynb',\n",
       " '.jupyter',\n",
       " 'Lesson_2_Exercises_with_solutions.ipynb',\n",
       " 'Lesson_1.ipynb',\n",
       " 'jupyterhub_thing_explain.jpg',\n",
       " 'Lesson_2_Exercises.ipynb',\n",
       " 'Lesson_2.ipynb',\n",
       " '.local',\n",
       " 'Introduction.ipynb',\n",
       " 'variable_value.png',\n",
       " 'Lesson_3.ipynb',\n",
       " '.ipython',\n",
       " '.config',\n",
       " '.cache',\n",
       " '.ipynb_checkpoints',\n",
       " 'geohackweek_aws_setup.png',\n",
       " 'data']"
      ]
     },
     "execution_count": 20,
     "metadata": {},
     "output_type": "execute_result"
    }
   ],
   "source": [
    "from os import listdir\n",
    "\n",
    "dir = '/home/user30'\n",
    "listdir(dir) # gives all files and directory in a directory path"
   ]
  },
  {
   "cell_type": "code",
   "execution_count": 21,
   "metadata": {
    "colab": {
     "base_uri": "https://localhost:8080/"
    },
    "id": "0Oj3wlf77YI9",
    "outputId": "01233a1e-7d92-4d08-ea64-6b4f2ad872a3"
   },
   "outputs": [
    {
     "name": "stdout",
     "output_type": "stream",
     "text": [
      "book1  - FILE\n",
      "iris.csv  - FILE\n",
      "macrodata.csv  - FILE\n",
      "book1.idx  - FILE\n",
      "tips.csv  - FILE\n",
      "example_obj.txt  - FILE\n",
      "my_complex_data_structure.bin  - FILE\n",
      "example.txt  - FILE\n",
      "example.zip  - FILE\n",
      "gene_list.txt  - FILE\n",
      "data.csv.zip  - FILE\n",
      "iris2.csv  - FILE\n",
      "bible.txt  - FILE\n",
      "df2.csv  - FILE\n",
      "macrodata_long.csv  - FILE\n",
      "my_simple_text_file.txt  - FILE\n",
      "population.zip  - FILE\n",
      "Python-master  - DIRECTORY\n",
      "iris.xlsx  - FILE\n",
      "df2.xlsx  - FILE\n",
      "exception.fasta  - FILE\n",
      "iris.h5  - FILE\n",
      "my_archive.zip  - FILE\n",
      "master.zip  - FILE\n",
      "gene_list.fasta  - FILE\n",
      ".ipynb_checkpoints  - DIRECTORY\n",
      "bible.idx  - FILE\n",
      "another_simple_text_file.txt  - FILE\n",
      "simple_text_file.txt  - FILE\n",
      "example_seq.fasta  - FILE\n"
     ]
    }
   ],
   "source": [
    "# how can we tell if a path is a file or a directory?\n",
    "\n",
    "import os\n",
    "\n",
    "dir = 'data'\n",
    "for file_or_dir in os.listdir(dir):\n",
    "    full_file_or_dir = os.path.join(dir, file_or_dir) # data + \"/\" + file_or_dir\n",
    "    if os.path.isfile(full_file_or_dir):\n",
    "        print(file_or_dir, ' - FILE')\n",
    "    elif os.path.isdir(full_file_or_dir):\n",
    "        print(file_or_dir, ' - DIRECTORY')\n",
    "    else:\n",
    "        print(file_or_dir, ' - UNNOWN')"
   ]
  },
  {
   "cell_type": "code",
   "execution_count": null,
   "metadata": {
    "colab": {
     "base_uri": "https://localhost:8080/"
    },
    "id": "vlAmfCnS59wx",
    "outputId": "e9599af1-7489-418b-f219-2a1dc8847356"
   },
   "outputs": [],
   "source": [
    "# list all possible paths from a starting point\n",
    "from os import walk\n",
    "\n",
    "path = 'data/'\n",
    "for (dirpath, dirnames, filenames) in walk(path):\n",
    "    print(dirpath)\n",
    "    print(dirnames)\n",
    "    print(filenames)\n",
    "    print()"
   ]
  },
  {
   "cell_type": "code",
   "execution_count": 27,
   "metadata": {
    "colab": {
     "base_uri": "https://localhost:8080/"
    },
    "id": "ZUgSEvzG9GOm",
    "outputId": "99dfbfbe-0bab-410e-a40a-7cc8a619909f"
   },
   "outputs": [
    {
     "data": {
      "text/plain": [
       "['data/example_obj.txt',\n",
       " 'data/example.txt',\n",
       " 'data/gene_list.txt',\n",
       " 'data/bible.txt',\n",
       " 'data/my_simple_text_file.txt',\n",
       " 'data/another_simple_text_file.txt',\n",
       " 'data/simple_text_file.txt']"
      ]
     },
     "execution_count": 27,
     "metadata": {},
     "output_type": "execute_result"
    }
   ],
   "source": [
    "import glob\n",
    "\n",
    "dir = 'data/'\n",
    "glob.glob(dir + '*.txt')"
   ]
  },
  {
   "cell_type": "markdown",
   "metadata": {
    "id": "94JtHf929b8_"
   },
   "source": [
    "# Using REQUEST package to retrieve a remote file (or request some data)"
   ]
  },
  {
   "cell_type": "code",
   "execution_count": null,
   "metadata": {
    "id": "2ig_Pw5F4Wd4"
   },
   "outputs": [],
   "source": [
    "import requests\n",
    "\n",
    "r = requests.get('http://api.plos.org/search?q=title:DNA')\n",
    "print(r.text)"
   ]
  },
  {
   "cell_type": "code",
   "execution_count": 38,
   "metadata": {
    "id": "yD2X8xsv98yh"
   },
   "outputs": [],
   "source": [
    "import json\n",
    "\n",
    "j = json.loads(r.text) # r.json()"
   ]
  },
  {
   "cell_type": "code",
   "execution_count": null,
   "metadata": {},
   "outputs": [],
   "source": [
    "j['response']"
   ]
  },
  {
   "cell_type": "code",
   "execution_count": null,
   "metadata": {
    "colab": {
     "base_uri": "https://localhost:8080/"
    },
    "id": "b2lpMINe-IgU",
    "outputId": "79c74fd9-4f23-4753-ac9d-78d52e20ce34"
   },
   "outputs": [],
   "source": [
    "type(r.text), type(j)"
   ]
  },
  {
   "cell_type": "code",
   "execution_count": null,
   "metadata": {
    "colab": {
     "base_uri": "https://localhost:8080/"
    },
    "id": "WzV1Pgrq99bz",
    "outputId": "f1001b4e-54b6-4138-c357-8d1fae250e56"
   },
   "outputs": [],
   "source": [
    "print('\\n'.join([a['title_display'] for a in j['response']['docs']]))"
   ]
  },
  {
   "cell_type": "markdown",
   "metadata": {
    "id": "OAKbN8p2DMBA"
   },
   "source": [
    "# Examples and exercises\n"
   ]
  },
  {
   "cell_type": "code",
   "execution_count": 58,
   "metadata": {},
   "outputs": [],
   "source": [
    "fn = 'data/another_simple_text_file.txt'\n",
    "\n",
    "fn_out = 'data/another_simple_text_file_modified.txt'\n",
    "\n",
    "with open(fn) as fi:\n",
    "    with open(fn_out, 'w') as fo:\n",
    "        for line in fi:\n",
    "            words = line.split(' ')\n",
    "            words_mod = [w.replace('um', 'us') if w.endswith('um') else w for w in words]\n",
    "            line_mod = ' '.join(words_mod)\n",
    "            fo.write(line_mod)"
   ]
  },
  {
   "cell_type": "code",
   "execution_count": 52,
   "metadata": {},
   "outputs": [
    {
     "data": {
      "text/plain": [
       "[]"
      ]
     },
     "execution_count": 52,
     "metadata": {},
     "output_type": "execute_result"
    }
   ],
   "source": [
    "words_mod"
   ]
  },
  {
   "cell_type": "code",
   "execution_count": 43,
   "metadata": {
    "colab": {
     "base_uri": "https://localhost:8080/"
    },
    "id": "UOO6SutLy_fy",
    "outputId": "343e26eb-ced2-42ef-a63a-92f779944c74"
   },
   "outputs": [],
   "source": [
    "# copy the content of this file to another file (with different name), where every word that ends with 'um' should be substituted with 'us', i.e. ipsum -> ipsus\n",
    "fn = 'data/another_simple_text_file.txt'\n",
    "\n",
    "file_copy = 'data/another_simple_text_file_modified.txt'\n",
    "\n",
    "with open(fn) as fi:\n",
    "    with open(file_copy, 'w') as fo:\n",
    "        for l in fi:\n",
    "            words = l.split('\\n')\n",
    "            words_mod = [w.replace('um', 'us') for w in words if w.endswith('um')]\n",
    "            mod_l = '\\n'.join(words_mod)\n",
    "            fo.write(mod_l)"
   ]
  },
  {
   "cell_type": "code",
   "execution_count": 60,
   "metadata": {
    "id": "i8bY0lZc4D4P"
   },
   "outputs": [],
   "source": [
    "# connect to uniprot using the request package and the following URL and save the content in a fasta file\n",
    "# you will get a string in json format. Look in the data structure for the 'accession' and the 'sequence' fields.\n",
    "# the fasta file format should be composed of 2 lines\n",
    "# >accession\n",
    "# sequence\n",
    "\n",
    "import requests, sys, json\n",
    "\n",
    "requestURL = \"https://www.ebi.ac.uk/proteins/api/proteins?offset=0&size=100&accession=P21802&format=json\"\n",
    "\n",
    "r = requests.get(requestURL)\n",
    "j = json.loads(r.text)"
   ]
  },
  {
   "cell_type": "code",
   "execution_count": 72,
   "metadata": {},
   "outputs": [],
   "source": [
    "with open('data/uniprot_test.fasta', 'w') as fo:\n",
    "    for item in j:\n",
    "        fo.write('>' + item['accession'] + '\\n')\n",
    "        fo.write(item['sequence']['sequence'] + '\\n')"
   ]
  },
  {
   "cell_type": "markdown",
   "metadata": {
    "id": "1A4CbP2n_KmM"
   },
   "source": [
    "# Reading a file all at once or using a cursor"
   ]
  },
  {
   "cell_type": "code",
   "execution_count": 73,
   "metadata": {
    "colab": {
     "base_uri": "https://localhost:8080/"
    },
    "id": "eDNnyFcR-XQu",
    "outputId": "66c06187-3b4b-43d1-90bb-f6881538bf72"
   },
   "outputs": [
    {
     "name": "stdout",
     "output_type": "stream",
     "text": [
      "['Lorem ipsum dolor sit amet, \\n', 'consectetur adipisci elit,\\n', 'sed do eiusmod tempor incidunt ut labore et dolore magna aliqua.\\n', 'Ut enim ad minim veniam,\\n', 'quis nostrum exercitationem ullamco laboriosam,\\n', 'nisi ut aliquid ex ea commodi consequatur.\\n', 'Duis aute irure reprehenderit in voluptate velit esse cillum dolore eu fugiat nulla pariatur.\\n', 'Excepteur sint obcaecat cupiditat non proident,\\n', 'sunt in culpa qui officia deserunt mollit anim id est laborum.\\n']\n"
     ]
    }
   ],
   "source": [
    "fn = 'data/another_simple_text_file.txt'\n",
    "\n",
    "with open(fn) as f:\n",
    "    whole_file = f.readlines() # lineS with an S!\n",
    "\n",
    "print(whole_file)"
   ]
  },
  {
   "cell_type": "code",
   "execution_count": null,
   "metadata": {
    "colab": {
     "base_uri": "https://localhost:8080/"
    },
    "id": "Sbx3SGnw_YAb",
    "outputId": "7a6be5e8-32f4-45ad-cb6d-38199cb10e6b"
   },
   "outputs": [],
   "source": [
    "fn = 'data/another_simple_text_file.txt'\n",
    "\n",
    "position = 10\n",
    "with open(fn) as f:\n",
    "    f.seek(position)\n",
    "    l = f.readline()\n",
    "    print(l)"
   ]
  },
  {
   "cell_type": "code",
   "execution_count": null,
   "metadata": {
    "colab": {
     "base_uri": "https://localhost:8080/"
    },
    "id": "sYWZTy4gAT3c",
    "outputId": "b2f81b45-0e08-4812-fd69-409e8f5369e7"
   },
   "outputs": [],
   "source": [
    "fn = 'data/another_simple_text_file.txt'\n",
    "\n",
    "position = 0\n",
    "with open(fn) as f:\n",
    "    while True:\n",
    "        l = f.readline()\n",
    "        if 'magna' in l:\n",
    "            position = f.tell() # gives the position after the readline\n",
    "        if not l:\n",
    "            break\n",
    "\n",
    "print(position)"
   ]
  },
  {
   "cell_type": "code",
   "execution_count": null,
   "metadata": {
    "id": "O0Vsimrd0lim"
   },
   "outputs": [],
   "source": [
    "fn = 'data/another_simple_text_file.txt'\n",
    "\n",
    "position = 0\n",
    "with open(fn) as f:\n",
    "    while True:\n",
    "        current_position = f.tell()\n",
    "        l = f.readline()\n",
    "        if 'magna' in l:\n",
    "            position = current_position\n",
    "        if not l:\n",
    "            break\n",
    "\n",
    "print(position)"
   ]
  },
  {
   "cell_type": "code",
   "execution_count": null,
   "metadata": {
    "colab": {
     "base_uri": "https://localhost:8080/"
    },
    "id": "vmSIb1UsBqUz",
    "outputId": "79f5a709-a2ae-4752-d0a6-b54314210c6c"
   },
   "outputs": [],
   "source": [
    "fn = 'data/another_simple_text_file.txt'\n",
    "\n",
    "with open(fn) as f:\n",
    "    f.seek(position)\n",
    "    l = f.readline()\n",
    "    print(l)"
   ]
  },
  {
   "cell_type": "markdown",
   "metadata": {
    "id": "4SkyPlsiDPyp"
   },
   "source": [
    "# ZIP, UNZIP and PICKLE"
   ]
  },
  {
   "cell_type": "code",
   "execution_count": null,
   "metadata": {
    "id": "nKoLqWyUCvuw"
   },
   "outputs": [],
   "source": [
    "# let's use our old friend the request package to retrieve and save a binary file (the zip file)\n",
    "import requests\n",
    "\n",
    "output_dir = 'data/'\n",
    "zip_file = 'https://github.com/TheAlgorithms/Python/archive/master.zip'\n",
    "\n",
    "r = requests.get(zip_file)\n",
    "\n",
    "with open(os.path.join(output_dir, 'master.zip'), 'wb') as f:\n",
    "    f.write(r.content)"
   ]
  },
  {
   "cell_type": "code",
   "execution_count": null,
   "metadata": {
    "id": "kg8mjn3oFGM9"
   },
   "outputs": [],
   "source": [
    "# now we can extract it's content\n",
    "import shutil\n",
    "\n",
    "shutil.unpack_archive(os.path.join(output_dir, 'master.zip'), output_dir)  "
   ]
  },
  {
   "cell_type": "code",
   "execution_count": null,
   "metadata": {
    "colab": {
     "base_uri": "https://localhost:8080/",
     "height": 35
    },
    "id": "lufANiq1HEZx",
    "outputId": "605c61c3-b2f4-4caf-f8e7-c220e972845d"
   },
   "outputs": [],
   "source": [
    "# and how to create a zip archive?\n",
    "import shutil\n",
    "\n",
    "shutil.make_archive(os.path.join(output_dir, 'my_archive'), 'zip', 'data/Python-master')"
   ]
  },
  {
   "cell_type": "code",
   "execution_count": null,
   "metadata": {
    "id": "L8ZNc9_kIv72"
   },
   "outputs": [],
   "source": [
    "# zip and unzip are to store in a (compact) binary format files and directories, but what if you want to dump into a file\n",
    "# the result of an analysis, i.e. a data structure?\n",
    "# One way would be to write your data into a text file and then zip it, otherwise you can use pickle\n",
    "\n",
    "my_complex_data_structure = {\n",
    "    'people': [\n",
    "               {\n",
    "                   'name': 'Anne',\n",
    "                   'phone_number': '123456'\n",
    "               },\n",
    "               {\n",
    "                   'name': 'Frank',\n",
    "                   'phone_number': '533612'\n",
    "               },\n",
    "               {\n",
    "                   'name': 'Jacob',\n",
    "                   'phone_number': '222341'\n",
    "               }\n",
    "    ]\n",
    "}"
   ]
  },
  {
   "cell_type": "code",
   "execution_count": null,
   "metadata": {
    "id": "G5QDE2lVL4qV"
   },
   "outputs": [],
   "source": [
    "# dump the data into a file using pickle\n",
    "\n",
    "import pickle\n",
    "\n",
    "output_dir = 'data/'\n",
    "fn = 'my_complex_data_structure.bin'\n",
    "\n",
    "fh = open(os.path.join(output_dir, fn), 'wb')\n",
    "pickle.dump(my_complex_data_structure,  fh)\n",
    "fh.close()"
   ]
  },
  {
   "cell_type": "code",
   "execution_count": null,
   "metadata": {
    "id": "VxQJO1MmMMFs"
   },
   "outputs": [],
   "source": [
    "# read the structure back from a file with pickle\n",
    "\n",
    "import pickle\n",
    "\n",
    "output_dir = 'data/'\n",
    "fn = 'my_complex_data_structure.bin'\n",
    "\n",
    "fh = open(os.path.join(output_dir, fn), 'rb')\n",
    "ds = pickle.load(fh)\n",
    "fh.close()"
   ]
  },
  {
   "cell_type": "code",
   "execution_count": null,
   "metadata": {
    "colab": {
     "base_uri": "https://localhost:8080/"
    },
    "id": "BWbjWZCPNCuH",
    "outputId": "7fe18e99-d354-47ca-9552-10c564a4196a"
   },
   "outputs": [],
   "source": [
    "ds"
   ]
  },
  {
   "cell_type": "code",
   "execution_count": null,
   "metadata": {
    "colab": {
     "base_uri": "https://localhost:8080/"
    },
    "id": "VRmUwDgLNLoW",
    "outputId": "09c1f0e3-5510-4ce7-b56b-7a99171a539d"
   },
   "outputs": [],
   "source": [
    "ds == my_complex_data_structure"
   ]
  },
  {
   "cell_type": "markdown",
   "metadata": {
    "id": "QFHt7DFAcz3T"
   },
   "source": [
    "# Examples and exercises"
   ]
  },
  {
   "cell_type": "code",
   "execution_count": null,
   "metadata": {
    "colab": {
     "base_uri": "https://localhost:8080/"
    },
    "id": "PXZIoKXY1Cop",
    "outputId": "e369988f-62bc-41a2-a800-c87105125497"
   },
   "outputs": [],
   "source": [
    "# unzip an example file in a directory, read the file as a dictionary (hint, it's again a json formatted string) and save with pickle somewhere\n",
    "fn = 'data/example.zip'\n"
   ]
  },
  {
   "cell_type": "markdown",
   "metadata": {
    "id": "Ny3A2J9Hc12h"
   },
   "source": [
    "# Functions (as a way to extend the language)"
   ]
  },
  {
   "cell_type": "code",
   "execution_count": 74,
   "metadata": {
    "id": "eCbK6raaNQR6"
   },
   "outputs": [],
   "source": [
    "def my_fun(a):\n",
    "    return a**2"
   ]
  },
  {
   "cell_type": "code",
   "execution_count": 75,
   "metadata": {
    "colab": {
     "base_uri": "https://localhost:8080/"
    },
    "id": "AuEoeXYBjCa3",
    "outputId": "91412f58-beaa-4774-d65d-e9ffcdd15319"
   },
   "outputs": [
    {
     "data": {
      "text/plain": [
       "4"
      ]
     },
     "execution_count": 75,
     "metadata": {},
     "output_type": "execute_result"
    }
   ],
   "source": [
    "my_fun(2)"
   ]
  },
  {
   "cell_type": "code",
   "execution_count": 76,
   "metadata": {
    "id": "D16ArfAveghL"
   },
   "outputs": [],
   "source": [
    "def i_dont_return_anything(a):\n",
    "    a.append('a')"
   ]
  },
  {
   "cell_type": "code",
   "execution_count": 77,
   "metadata": {
    "colab": {
     "base_uri": "https://localhost:8080/"
    },
    "id": "qwCI-p6LjFQY",
    "outputId": "14cdc6ad-b7ab-417b-9e51-874f4518d456"
   },
   "outputs": [
    {
     "name": "stdout",
     "output_type": "stream",
     "text": [
      "[]\n",
      "['a']\n"
     ]
    }
   ],
   "source": [
    "l = []\n",
    "print(l)\n",
    "i_dont_return_anything(l)\n",
    "print(l)"
   ]
  },
  {
   "cell_type": "code",
   "execution_count": 78,
   "metadata": {
    "id": "zxivFFTzk7ue"
   },
   "outputs": [],
   "source": [
    "def my_second_fun(a):\n",
    "    a += ' world!' # equivalent to a = a + ' world!'\n",
    "    print(a, id(a))"
   ]
  },
  {
   "cell_type": "code",
   "execution_count": 84,
   "metadata": {},
   "outputs": [],
   "source": [
    "def my_third_fun(a):\n",
    "    a += ' world!' # equivalent to a = a + ' world!'\n",
    "    #return a"
   ]
  },
  {
   "cell_type": "code",
   "execution_count": 86,
   "metadata": {},
   "outputs": [
    {
     "name": "stdout",
     "output_type": "stream",
     "text": [
      "hello 140271724212336\n",
      "hello 140271724212336\n"
     ]
    }
   ],
   "source": [
    "x = 'hello'\n",
    "print(x, id(x))\n",
    "my_third_fun(x)\n",
    "print(x, id(x))"
   ]
  },
  {
   "cell_type": "code",
   "execution_count": 79,
   "metadata": {
    "colab": {
     "base_uri": "https://localhost:8080/"
    },
    "id": "3nO4IRfqky7q",
    "outputId": "ab13b396-6ae2-44d2-8814-ba62f2faddda"
   },
   "outputs": [
    {
     "name": "stdout",
     "output_type": "stream",
     "text": [
      "hello 140271751633264\n",
      "hello world! 140271751633648\n",
      "hello 140271751633264\n"
     ]
    }
   ],
   "source": [
    "x = 'hello'\n",
    "print(x, id(x))\n",
    "my_second_fun(x)\n",
    "print(x, id(x))"
   ]
  },
  {
   "cell_type": "code",
   "execution_count": 87,
   "metadata": {
    "colab": {
     "base_uri": "https://localhost:8080/"
    },
    "id": "eZ_BSWYJesrp",
    "outputId": "a6d24d8b-c365-4b15-f97a-184a2a6e1ae5"
   },
   "outputs": [
    {
     "data": {
      "text/plain": [
       "4"
      ]
     },
     "execution_count": 87,
     "metadata": {},
     "output_type": "execute_result"
    }
   ],
   "source": [
    "# lambda function - anonymous function\n",
    "f = lambda x : x**2\n",
    "\n",
    "f(2)"
   ]
  },
  {
   "cell_type": "code",
   "execution_count": 88,
   "metadata": {
    "colab": {
     "base_uri": "https://localhost:8080/"
    },
    "id": "K0Bp94O6fDGt",
    "outputId": "12408f86-38ec-4cb9-f1c5-697bc70d437a"
   },
   "outputs": [
    {
     "data": {
      "text/plain": [
       "(function, function)"
      ]
     },
     "execution_count": 88,
     "metadata": {},
     "output_type": "execute_result"
    }
   ],
   "source": [
    "type(f), type(my_fun)"
   ]
  },
  {
   "cell_type": "code",
   "execution_count": 89,
   "metadata": {
    "colab": {
     "base_uri": "https://localhost:8080/"
    },
    "id": "-iIaS1W0fGIF",
    "outputId": "ea947c50-643f-496c-d95d-cabbd5324586"
   },
   "outputs": [
    {
     "data": {
      "text/plain": [
       "[0, 1, 4, 9, 16, 25, 36, 49, 64, 81]"
      ]
     },
     "execution_count": 89,
     "metadata": {},
     "output_type": "execute_result"
    }
   ],
   "source": [
    "[x**2 for x in range(10)]"
   ]
  },
  {
   "cell_type": "code",
   "execution_count": 90,
   "metadata": {
    "colab": {
     "base_uri": "https://localhost:8080/"
    },
    "id": "wKAJZOwHfTNQ",
    "outputId": "8e58c960-a7ea-439a-cb24-57574be7be18"
   },
   "outputs": [
    {
     "data": {
      "text/plain": [
       "[0, 1, 4, 9, 16, 25, 36, 49, 64, 81]"
      ]
     },
     "execution_count": 90,
     "metadata": {},
     "output_type": "execute_result"
    }
   ],
   "source": [
    "list(map(f, range(10)))"
   ]
  },
  {
   "cell_type": "code",
   "execution_count": 95,
   "metadata": {
    "colab": {
     "base_uri": "https://localhost:8080/"
    },
    "id": "o08rgU4Rfl_m",
    "outputId": "c86c50cb-cee9-40a4-b17c-27c7f8e7ecb3"
   },
   "outputs": [
    {
     "name": "stdout",
     "output_type": "stream",
     "text": [
      "[(10, 8), (9, 3), (10, 4), (8, 2), (9, 7), (9, 6), (2, 2), (8, 1), (6, 10), (6, 10)]\n"
     ]
    }
   ],
   "source": [
    "import random\n",
    "\n",
    "a = [(random.randint(0,10), random.randint(0,10)) for i in range(10)]\n",
    "print(a)"
   ]
  },
  {
   "cell_type": "code",
   "execution_count": 96,
   "metadata": {
    "colab": {
     "base_uri": "https://localhost:8080/"
    },
    "id": "fZuXmFpJfzxY",
    "outputId": "ec543ce5-4fe0-435a-ac70-593d5a6a265e"
   },
   "outputs": [
    {
     "data": {
      "text/plain": [
       "[(2, 2),\n",
       " (6, 10),\n",
       " (6, 10),\n",
       " (8, 1),\n",
       " (8, 2),\n",
       " (9, 3),\n",
       " (9, 6),\n",
       " (9, 7),\n",
       " (10, 4),\n",
       " (10, 8)]"
      ]
     },
     "execution_count": 96,
     "metadata": {},
     "output_type": "execute_result"
    }
   ],
   "source": [
    "sorted(a)"
   ]
  },
  {
   "cell_type": "code",
   "execution_count": 97,
   "metadata": {
    "colab": {
     "base_uri": "https://localhost:8080/"
    },
    "id": "1cBrcoMpf2C3",
    "outputId": "626ea494-3a29-4753-df28-302289317100"
   },
   "outputs": [
    {
     "data": {
      "text/plain": [
       "[(8, 1),\n",
       " (8, 2),\n",
       " (2, 2),\n",
       " (9, 3),\n",
       " (10, 4),\n",
       " (9, 6),\n",
       " (9, 7),\n",
       " (10, 8),\n",
       " (6, 10),\n",
       " (6, 10)]"
      ]
     },
     "execution_count": 97,
     "metadata": {},
     "output_type": "execute_result"
    }
   ],
   "source": [
    "sorted(a, key=lambda x:x[1])"
   ]
  },
  {
   "cell_type": "code",
   "execution_count": 100,
   "metadata": {},
   "outputs": [],
   "source": [
    "def my_sum_1(x, y):\n",
    "    return x + y"
   ]
  },
  {
   "cell_type": "code",
   "execution_count": 104,
   "metadata": {},
   "outputs": [],
   "source": [
    "my_sum_2 = lambda x, y, z : x + y + z"
   ]
  },
  {
   "cell_type": "code",
   "execution_count": 105,
   "metadata": {},
   "outputs": [
    {
     "data": {
      "text/plain": [
       "5"
      ]
     },
     "execution_count": 105,
     "metadata": {},
     "output_type": "execute_result"
    }
   ],
   "source": [
    "my_sum_1(2, 3)"
   ]
  },
  {
   "cell_type": "code",
   "execution_count": 107,
   "metadata": {},
   "outputs": [
    {
     "data": {
      "text/plain": [
       "8"
      ]
     },
     "execution_count": 107,
     "metadata": {},
     "output_type": "execute_result"
    }
   ],
   "source": [
    "my_sum_2(2, 3, 3)"
   ]
  },
  {
   "cell_type": "markdown",
   "metadata": {
    "id": "dATvt6lKyMWf"
   },
   "source": [
    "# Function with varying arguments"
   ]
  },
  {
   "cell_type": "code",
   "execution_count": 115,
   "metadata": {
    "id": "0Ex9BJJMf7ID"
   },
   "outputs": [],
   "source": [
    "# my comment\n",
    "def my_sum(a, b):\n",
    "    '''\n",
    "    This is my function\n",
    "    '''\n",
    "    return a + b"
   ]
  },
  {
   "cell_type": "code",
   "execution_count": 111,
   "metadata": {
    "colab": {
     "base_uri": "https://localhost:8080/"
    },
    "id": "ff3QloamyRoD",
    "outputId": "e938bba4-c092-42b6-a492-bb5dca353543"
   },
   "outputs": [
    {
     "data": {
      "text/plain": [
       "5"
      ]
     },
     "execution_count": 111,
     "metadata": {},
     "output_type": "execute_result"
    }
   ],
   "source": [
    "my_sum(2,3)"
   ]
  },
  {
   "cell_type": "code",
   "execution_count": 112,
   "metadata": {
    "id": "ge7b-uosySbb"
   },
   "outputs": [],
   "source": [
    "# default values for an argument\n",
    "def my_sum(a, b=0):\n",
    "    return a + b"
   ]
  },
  {
   "cell_type": "code",
   "execution_count": 113,
   "metadata": {
    "colab": {
     "base_uri": "https://localhost:8080/"
    },
    "id": "_7Kzkv0RydM9",
    "outputId": "0deee43a-8e5b-418a-b311-e939aaa0a17e"
   },
   "outputs": [
    {
     "data": {
      "text/plain": [
       "2"
      ]
     },
     "execution_count": 113,
     "metadata": {},
     "output_type": "execute_result"
    }
   ],
   "source": [
    "my_sum(2)"
   ]
  },
  {
   "cell_type": "code",
   "execution_count": 114,
   "metadata": {
    "colab": {
     "base_uri": "https://localhost:8080/"
    },
    "id": "71QK8EeaydfU",
    "outputId": "def18859-1aca-4384-e96c-581b913eec7a"
   },
   "outputs": [
    {
     "data": {
      "text/plain": [
       "5"
      ]
     },
     "execution_count": 114,
     "metadata": {},
     "output_type": "execute_result"
    }
   ],
   "source": [
    "my_sum(2, 3)"
   ]
  },
  {
   "cell_type": "code",
   "execution_count": 122,
   "metadata": {
    "id": "sAL2wegTyf4I"
   },
   "outputs": [],
   "source": [
    "# unknown number of values\n",
    "def my_sum(*args):\n",
    "    # args works as a tuple\n",
    "    s = 0\n",
    "    for i in args:\n",
    "        s += i\n",
    "    return s"
   ]
  },
  {
   "cell_type": "code",
   "execution_count": 123,
   "metadata": {
    "colab": {
     "base_uri": "https://localhost:8080/"
    },
    "id": "rXKv1OomypKU",
    "outputId": "a333055a-c157-4a60-9db2-ab515d431f56"
   },
   "outputs": [
    {
     "data": {
      "text/plain": [
       "6"
      ]
     },
     "execution_count": 123,
     "metadata": {},
     "output_type": "execute_result"
    }
   ],
   "source": [
    "my_sum(1,2,3)"
   ]
  },
  {
   "cell_type": "code",
   "execution_count": 119,
   "metadata": {
    "colab": {
     "base_uri": "https://localhost:8080/"
    },
    "id": "7xk4vQ-uyvmj",
    "outputId": "f9168ac1-5f75-479d-82b0-d17d412d3539"
   },
   "outputs": [
    {
     "data": {
      "text/plain": [
       "15"
      ]
     },
     "execution_count": 119,
     "metadata": {},
     "output_type": "execute_result"
    }
   ],
   "source": [
    "my_sum(1,2,3,4,5)"
   ]
  },
  {
   "cell_type": "markdown",
   "metadata": {
    "id": "r6b7fqV90QfT"
   },
   "source": [
    "### A small detour: * the unpack operator"
   ]
  },
  {
   "cell_type": "code",
   "execution_count": null,
   "metadata": {
    "colab": {
     "base_uri": "https://localhost:8080/"
    },
    "id": "qEIsc_7i1rYR",
    "outputId": "d24488e8-bca1-46e0-d969-0493dd4f75d6"
   },
   "outputs": [],
   "source": [
    "l = list(range(10))\n",
    "print(l, type(l))"
   ]
  },
  {
   "cell_type": "code",
   "execution_count": null,
   "metadata": {
    "colab": {
     "base_uri": "https://localhost:8080/"
    },
    "id": "-P6wq8hk4S8D",
    "outputId": "ec2bee76-1ab6-419e-9e27-832bfa664ddb"
   },
   "outputs": [],
   "source": [
    "print(*l)"
   ]
  },
  {
   "cell_type": "code",
   "execution_count": null,
   "metadata": {
    "colab": {
     "base_uri": "https://localhost:8080/"
    },
    "id": "ztD3N0EdHMtJ",
    "outputId": "cb03896a-518f-492e-ccf1-95000dfdc554"
   },
   "outputs": [],
   "source": [
    "print(1,2,3,4,5,6,7,8,9)"
   ]
  },
  {
   "cell_type": "code",
   "execution_count": null,
   "metadata": {
    "colab": {
     "base_uri": "https://localhost:8080/"
    },
    "id": "_cqyLgQZHZE6",
    "outputId": "390e92bf-8303-46b2-c331-f4ef7ddc29ad"
   },
   "outputs": [],
   "source": [
    "print(l)"
   ]
  },
  {
   "cell_type": "code",
   "execution_count": null,
   "metadata": {
    "colab": {
     "base_uri": "https://localhost:8080/"
    },
    "id": "EbfBIN9x4Vyw",
    "outputId": "18592c40-0281-459e-cf5a-2721198e14a1"
   },
   "outputs": [],
   "source": [
    "a = [1,2,3,4,5]\n",
    "b = [6,7,8,9,0]\n",
    "\n",
    "print(a + b)"
   ]
  },
  {
   "cell_type": "code",
   "execution_count": null,
   "metadata": {
    "colab": {
     "base_uri": "https://localhost:8080/"
    },
    "id": "eL4-ksvlHtMD",
    "outputId": "1c6cb252-68bc-472f-d6d0-d268d96f00c8"
   },
   "outputs": [],
   "source": [
    "list(zip(a,b))"
   ]
  },
  {
   "cell_type": "code",
   "execution_count": null,
   "metadata": {
    "colab": {
     "base_uri": "https://localhost:8080/"
    },
    "id": "n_rPIPK_4f_J",
    "outputId": "157e72c9-221d-4052-cc58-fa2d1d11c805"
   },
   "outputs": [],
   "source": [
    "[x + y for x,y in zip(a,b)]"
   ]
  },
  {
   "cell_type": "code",
   "execution_count": null,
   "metadata": {
    "id": "sNC4cF1a3n66"
   },
   "outputs": [],
   "source": [
    "matrix = [[2, 0, 1, 3], [3, 2, 1, 0], [8, 6, 1, 4], [1, 0, 6, 3]]"
   ]
  },
  {
   "cell_type": "code",
   "execution_count": null,
   "metadata": {
    "colab": {
     "base_uri": "https://localhost:8080/"
    },
    "id": "vIIlznvXIKyr",
    "outputId": "7a576d7d-a231-4ce5-9eef-6d1f303345c6"
   },
   "outputs": [],
   "source": [
    "print(matrix)"
   ]
  },
  {
   "cell_type": "code",
   "execution_count": null,
   "metadata": {
    "colab": {
     "base_uri": "https://localhost:8080/"
    },
    "id": "t2W-w3gv3kOB",
    "outputId": "4298e1a5-dd2f-41be-a02e-38ab5fef00ee"
   },
   "outputs": [],
   "source": [
    "list(zip(*matrix)) # why does it work?"
   ]
  },
  {
   "cell_type": "code",
   "execution_count": null,
   "metadata": {
    "id": "lnEtW5J0-7HY"
   },
   "outputs": [],
   "source": [
    "def my_array_sum(**kwargs):\n",
    "    print(kwargs)"
   ]
  },
  {
   "cell_type": "code",
   "execution_count": null,
   "metadata": {
    "colab": {
     "base_uri": "https://localhost:8080/"
    },
    "id": "TawVU46-_XwZ",
    "outputId": "d1765d5b-c5b8-4d0f-fb70-78aa5323456a"
   },
   "outputs": [],
   "source": [
    "c = [2,2,2,2,2]\n",
    "d = [5,5,5,5,5]\n",
    "\n",
    "my_array_sum(first=a, second=b, third=c, fourth=d)"
   ]
  },
  {
   "cell_type": "code",
   "execution_count": null,
   "metadata": {
    "id": "7Ewajd8R_g1X"
   },
   "outputs": [],
   "source": [
    "def my_fun(mandatory_arg, default_arg=None, *args, **kwargs):\n",
    "    print(mandatory_arg)\n",
    "    print(default_arg)\n",
    "    print(args)\n",
    "    print(kwargs)"
   ]
  },
  {
   "cell_type": "code",
   "execution_count": null,
   "metadata": {
    "colab": {
     "base_uri": "https://localhost:8080/"
    },
    "id": "zIjOxz55_t23",
    "outputId": "8b69c2b4-adc8-464f-a219-e4c874be4485"
   },
   "outputs": [],
   "source": [
    "my_fun('a', 1, 2, 3, 4, arg1='c', arg2='d')"
   ]
  },
  {
   "cell_type": "markdown",
   "metadata": {
    "id": "TfE-8lJQAvGR"
   },
   "source": [
    "### Another detour: generator (and iterable and iterators)"
   ]
  },
  {
   "cell_type": "code",
   "execution_count": 124,
   "metadata": {
    "id": "02JuyCWgBoLt"
   },
   "outputs": [],
   "source": [
    "def my_gen():\n",
    "    n = 1\n",
    "    print('This is printed first')\n",
    "    # Generator function contains yield statements\n",
    "    yield n\n",
    "\n",
    "    n += 1\n",
    "    print('This is printed second')\n",
    "    yield n\n",
    "\n",
    "    n += 1\n",
    "    print('This is printed at last')\n",
    "    yield n"
   ]
  },
  {
   "cell_type": "code",
   "execution_count": 126,
   "metadata": {},
   "outputs": [
    {
     "data": {
      "text/plain": [
       "<generator object my_gen at 0x7f938e4bc4a0>"
      ]
     },
     "execution_count": 126,
     "metadata": {},
     "output_type": "execute_result"
    }
   ],
   "source": [
    "my_gen()"
   ]
  },
  {
   "cell_type": "code",
   "execution_count": 127,
   "metadata": {
    "colab": {
     "base_uri": "https://localhost:8080/"
    },
    "id": "lH7ZKrxiCTuX",
    "outputId": "906561ad-95c7-4e20-ca85-ea40efb27f10"
   },
   "outputs": [
    {
     "name": "stdout",
     "output_type": "stream",
     "text": [
      "This is printed first\n",
      "1\n",
      "This is printed second\n",
      "2\n",
      "This is printed at last\n",
      "3\n"
     ]
    }
   ],
   "source": [
    "for i in my_gen():\n",
    "    print(i)"
   ]
  },
  {
   "cell_type": "code",
   "execution_count": 138,
   "metadata": {
    "id": "qfDbt7GMCx6e"
   },
   "outputs": [],
   "source": [
    "# memory efficient\n",
    "# infinite sequences\n",
    "def fibonacci(num):\n",
    "    a, b = 0, 1\n",
    "    for x in range(num):\n",
    "        a, b = b, b + a\n",
    "        yield b"
   ]
  },
  {
   "cell_type": "code",
   "execution_count": 139,
   "metadata": {
    "colab": {
     "base_uri": "https://localhost:8080/"
    },
    "id": "p9ZF2p7IDiRg",
    "outputId": "c76452b7-2140-4c35-c967-81d8f6892b7c"
   },
   "outputs": [
    {
     "name": "stdout",
     "output_type": "stream",
     "text": [
      "1\n",
      "2\n",
      "3\n",
      "5\n",
      "8\n",
      "13\n",
      "21\n",
      "34\n",
      "55\n",
      "89\n"
     ]
    }
   ],
   "source": [
    "for i in fibonacci(10):\n",
    "    print(i)"
   ]
  },
  {
   "cell_type": "markdown",
   "metadata": {
    "id": "BV7Cc_MBBRro"
   },
   "source": [
    "![test.html](https://res.cloudinary.com/dyd911kmh/image/upload/f_auto,q_auto:best/v1540502316/Screen_Shot_2018-10-25_at_4.52.02_PM_ygflgk.png)"
   ]
  },
  {
   "cell_type": "markdown",
   "metadata": {
    "id": "GNnvkPm7M0hh"
   },
   "source": [
    "# Exercises"
   ]
  },
  {
   "cell_type": "code",
   "execution_count": null,
   "metadata": {
    "id": "cTEqAi5dM1s4"
   },
   "outputs": [],
   "source": [
    "# write a function that takes a filename as argument and return a dictionary of the fasta\n",
    "fn = '/content/drive/MyDrive/Projects/Physalia-courses/Python/Notebook - Colab/example_seq.fasta'\n",
    "\n"
   ]
  },
  {
   "cell_type": "code",
   "execution_count": null,
   "metadata": {
    "colab": {
     "base_uri": "https://localhost:8080/"
    },
    "id": "Wj5rTy-e_d45",
    "outputId": "2e004042-1877-413f-a78c-0dc3a3567ec4"
   },
   "outputs": [],
   "source": [
    "my_fasta = read_fasta(fn)\n",
    "print(my_fasta)"
   ]
  },
  {
   "cell_type": "code",
   "execution_count": null,
   "metadata": {
    "id": "eS9tevnP_IJ7"
   },
   "outputs": [],
   "source": [
    "# write another function that a dictionary representing fasta format (the return value of previous function)\n",
    "# and write one file per sequence, with the sequence id as filename and the single fasta sequence (together with the ID) as file content\n",
    "\n",
    "write_fasta_files(my_fasta)\n"
   ]
  },
  {
   "cell_type": "code",
   "execution_count": null,
   "metadata": {
    "id": "4VLcw_a7_JZa"
   },
   "outputs": [],
   "source": [
    "# write a function that read a file and get a list of ordered elements based on the field 'value'\n",
    "fn = 'data/example_obj.txt'\n"
   ]
  },
  {
   "cell_type": "code",
   "execution_count": null,
   "metadata": {
    "colab": {
     "base_uri": "https://localhost:8080/"
    },
    "id": "fIKKRgDiBzyS",
    "outputId": "d64c73cc-2178-4e63-8a74-9fefd1d4aadb"
   },
   "outputs": [],
   "source": [
    "read_and_sort(fn)"
   ]
  }
 ],
 "metadata": {
  "colab": {
   "collapsed_sections": [],
   "name": "Lesson 3: Input / Output and Functions",
   "provenance": [],
   "toc_visible": true
  },
  "kernelspec": {
   "display_name": "Python 3",
   "language": "python",
   "name": "python3"
  },
  "language_info": {
   "codemirror_mode": {
    "name": "ipython",
    "version": 3
   },
   "file_extension": ".py",
   "mimetype": "text/x-python",
   "name": "python",
   "nbconvert_exporter": "python",
   "pygments_lexer": "ipython3",
   "version": "3.9.1"
  }
 },
 "nbformat": 4,
 "nbformat_minor": 4
}
