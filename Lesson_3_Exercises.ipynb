{
 "cells": [
  {
   "cell_type": "markdown",
   "metadata": {
    "id": "hzwwMTOcFA1k"
   },
   "source": [
    "# Ex #1\n",
    "\n",
    "Given a file with a set of sequence IDs, create one or more function(s) that read that file and get the sequences from the EBI EMBL database. The result should be putted into a single FASTA file.\n",
    "\n",
    "Implement a distance function. Given two sequences consider the ratio between the number of mismatches and length of the shortest sequence as the distance value. i.e. consider ABCDE and BBCDFZZZ, the mismatches are A-B and E-F so the distance will be 2 / 5 = 0.4\n",
    "\n",
    "Use the previous function to calculate the distance between all sequences read in the first step and sort them accordingly to the distance measurement."
   ]
  },
  {
   "cell_type": "code",
   "execution_count": null,
   "metadata": {
    "id": "UCt3Nxc7PIJK"
   },
   "outputs": [],
   "source": [
    "fn = 'data/gene_list.txt'\n",
    "requestURL = \"https://www.ebi.ac.uk/Tools/dbfetch/dbfetch?db=ena_sequence;format=fasta;style=raw;id=\"\n",
    "\n",
    "import requests, json\n"
   ]
  },
  {
   "cell_type": "markdown",
   "metadata": {
    "id": "hFs33mwOE3nC"
   },
   "source": [
    "# Ex #2\n",
    "\n",
    "Read the `iris.csv` file (without using external packages) and put the data in a structure you are comfortable with.\n",
    "\n",
    "* how many species are there\n",
    "* what is the average value of each variable within species? i.e. what is the average sepal_length value in iris setosa, and virginica, etc?\n",
    "* sort flowers based on the total area of petal and sepal (i.e. petal area + sepal area) and print the first 10 sorted flowers\n",
    "* based on previous point, write a file equal to `iris.csv` but with an extra column, `total_area`"
   ]
  },
  {
   "cell_type": "code",
   "execution_count": null,
   "metadata": {},
   "outputs": [],
   "source": [
    "iris = 'data/iris.csv'\n"
   ]
  },
  {
   "cell_type": "markdown",
   "metadata": {
    "id": "v3xmrapkQ67V"
   },
   "source": [
    "# Ex #3\n",
    "\n",
    "Given a big text file, create a small index file and save it in binary format. Use this index file to quickly retrieve all the sentences with the word 'Mark'."
   ]
  },
  {
   "cell_type": "code",
   "execution_count": null,
   "metadata": {
    "id": "Jw-Gq29-A7kg"
   },
   "outputs": [],
   "source": [
    "book =  'data/book1.txt'\n",
    "index =  'data/book1.idx'\n",
    "\n",
    "import pickle\n",
    "\n"
   ]
  }
 ],
 "metadata": {
  "colab": {
   "name": "Lesson 3: Exercises",
   "provenance": [],
   "toc_visible": true
  },
  "kernelspec": {
   "display_name": "Python 3",
   "language": "python",
   "name": "python3"
  },
  "language_info": {
   "codemirror_mode": {
    "name": "ipython",
    "version": 3
   },
   "file_extension": ".py",
   "mimetype": "text/x-python",
   "name": "python",
   "nbconvert_exporter": "python",
   "pygments_lexer": "ipython3",
   "version": "3.9.1"
  }
 },
 "nbformat": 4,
 "nbformat_minor": 4
}
