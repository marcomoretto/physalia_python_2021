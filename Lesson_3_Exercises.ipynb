{
  "nbformat": 4,
  "nbformat_minor": 0,
  "metadata": {
    "colab": {
      "name": "Lesson 3: Exercises",
      "provenance": [],
      "toc_visible": true
    },
    "kernelspec": {
      "name": "python3",
      "display_name": "Python 3"
    }
  },
  "cells": [
    {
      "cell_type": "markdown",
      "metadata": {
        "id": "hzwwMTOcFA1k"
      },
      "source": [
        "# Ex #1\n",
        "\n",
        "Given a file with a set of sequence IDs, create one or more function(s) that read that file and get the sequences from the EBI EMBL database. The result should be putted into a single FASTA file.\n",
        "\n",
        "Implement a distance function. Given two sequences consider the ratio between the number of mismatches and length of the shortest sequence as the distance value. i.e. consider ABCDE and BBCDFZZZ, the mismatches are A-B and E-F so the distance will be 2 / 5 = 0.4\n",
        "\n",
        "Use the previous function to calculate the distance between all sequences read in the first step and sort them accordingly to the distance measurement."
      ]
    },
    {
      "cell_type": "code",
      "metadata": {
        "id": "55gPL9PPy4op"
      },
      "source": [
        "fn = '/content/drive/MyDrive/Projects/Physalia-courses/Python/Notebook - Colab/gene_list.txt'\n",
        "requestURL = \"https://www.ebi.ac.uk/Tools/dbfetch/dbfetch?db=ena_sequence;format=fasta;style=raw;id=\"\n",
        "\n",
        "import requests, json\n",
        "\n",
        "def get_sequence(id):\n",
        "  requestURL = \"https://www.ebi.ac.uk/Tools/dbfetch/dbfetch?db=ena_sequence;format=fasta;style=raw;id=\" + id\n",
        "  r = requests.get(requestURL)\n",
        "  seq = ''\n",
        "  for l in r.text.split('\\n'):\n",
        "    if l and l[0] == '>':\n",
        "      continue\n",
        "    seq += l.strip()\n",
        "  return seq\n",
        "\n",
        "def create_fasta(id_file, fasta_file):\n",
        "  with open(fasta_file, 'w') as f_output:\n",
        "    with open(id_file, 'r') as f_input:\n",
        "      for l in f_input:\n",
        "        seq = get_sequence(l.strip())\n",
        "        f_output.write('>' + l.strip() + '\\n')\n",
        "        f_output.write(seq + '\\n')\n",
        "\n",
        "def get_distance(s1, s2):\n",
        "  return sum([x != y for x, y in zip(s1, s2)]) / min(len(s1), len(s2))\n",
        "\n",
        "def get_all_distances(fasta):\n",
        "  d = {}\n",
        "  with open(fasta) as f:\n",
        "    for l in f:\n",
        "      if l[0] == '>':\n",
        "        id = l[1:].strip()\n",
        "        d[id] = ''\n",
        "      else:\n",
        "        d[id] += l.strip()\n",
        "  \n",
        "  distances = {}\n",
        "  ids = list(d.keys())\n",
        "  for i, id1 in enumerate(ids):\n",
        "    for j, id2 in enumerate(ids[i+1:]):\n",
        "      s1 = d[id1]\n",
        "      s2 = d[id2]\n",
        "      distances[(id1, id2)] = get_distance(s1, s2)\n",
        "  return distances\n"
      ],
      "execution_count": null,
      "outputs": []
    },
    {
      "cell_type": "code",
      "metadata": {
        "id": "ATFGzLko-SzX"
      },
      "source": [
        "fo =  '/content/drive/MyDrive/Projects/Physalia-courses/Python/Notebook - Colab/gene_list.fasta'\n",
        "\n",
        "create_fasta(fn, fo)\n",
        "d = get_all_distances(fo)"
      ],
      "execution_count": null,
      "outputs": []
    },
    {
      "cell_type": "code",
      "metadata": {
        "id": "UCt3Nxc7PIJK"
      },
      "source": [
        "sorted(d.items(), key=lambda x:x[1])"
      ],
      "execution_count": null,
      "outputs": []
    },
    {
      "cell_type": "markdown",
      "metadata": {
        "id": "hFs33mwOE3nC"
      },
      "source": [
        "# Ex #2\n",
        "\n",
        "Read the `iris.csv` file (without using external packages) and put the data in a structure you are comfortable with.\n",
        "\n",
        "* how many species are there\n",
        "* what is the average value of each variable within species? i.e. what is the average sepal_length value in iris setosa, and virginica, etc?\n",
        "* sort flowers based on the total area of petal and sepal (i.e. petal area + sepal area) and print the first 10 sorted flowers\n",
        "* based on previous point, write a file equal to `iris.csv` but with an extra column, `total_area`"
      ]
    },
    {
      "cell_type": "code",
      "metadata": {
        "id": "lS0QfDKy2-Mg"
      },
      "source": [
        "iris = '/content/drive/MyDrive/Projects/Physalia-courses/Python/Notebook - Colab/iris.csv'\n",
        "\n",
        "\n",
        "def read_iris_csv(filename):\n",
        "  d = {\n",
        "      'sepal_lenght': [],\n",
        "      'sepal_width': [],\n",
        "      'petal_length': [],\n",
        "      'petal_width': [],\n",
        "      'species': []\n",
        "  }\n",
        "  with open(filename) as f:\n",
        "    for i, l in enumerate(f):\n",
        "      if i <= 3:\n",
        "        continue\n",
        "      s = l.strip().split('\\t')\n",
        "      d['sepal_lenght'].append(float(s[0]))\n",
        "      d['sepal_width'].append(float(s[1]))\n",
        "      d['petal_length'].append(float(s[2]))\n",
        "      d['petal_width'].append(float(s[3]))\n",
        "      d['species'].append(s[4])\n",
        "  return d"
      ],
      "execution_count": null,
      "outputs": []
    },
    {
      "cell_type": "code",
      "metadata": {
        "id": "qMTVDV4q6mBX"
      },
      "source": [
        "d_iris = read_iris_csv(iris)"
      ],
      "execution_count": null,
      "outputs": []
    },
    {
      "cell_type": "code",
      "metadata": {
        "colab": {
          "base_uri": "https://localhost:8080/"
        },
        "id": "hzgEss6F62zT",
        "outputId": "94f11665-ceb2-4025-c73a-dd8441cf6618"
      },
      "source": [
        "print(len(set(d_iris['species'])))"
      ],
      "execution_count": null,
      "outputs": [
        {
          "output_type": "stream",
          "text": [
            "3\n"
          ],
          "name": "stdout"
        }
      ]
    },
    {
      "cell_type": "code",
      "metadata": {
        "colab": {
          "base_uri": "https://localhost:8080/"
        },
        "id": "LSSsVrdR65pH",
        "outputId": "fb9ebbc6-afba-45be-ded1-8cf438c104b9"
      },
      "source": [
        "for s in set(d_iris['species']):\n",
        "  start_idx = d_iris['species'].index(s)\n",
        "  last_idx = len(d_iris['species']) - 1 - d_iris['species'][::-1].index(s)\n",
        "  print('species:', s)\n",
        "  print('average sepal_lenght', sum(d_iris['sepal_lenght'][start_idx:last_idx + 1]) / (last_idx - start_idx + 1))\n",
        "  print('average sepal_width', sum(d_iris['sepal_width'][start_idx:last_idx + 1]) / (last_idx - start_idx + 1))\n",
        "  print('average petal_length', sum(d_iris['petal_length'][start_idx:last_idx + 1]) / (last_idx - start_idx + 1))\n",
        "  print('average petal_width', sum(d_iris['petal_width'][start_idx:last_idx + 1]) / (last_idx - start_idx + 1))\n",
        "  print('**************************************')"
      ],
      "execution_count": null,
      "outputs": [
        {
          "output_type": "stream",
          "text": [
            "species: setosa\n",
            "average sepal_lenght 5.005999999999999\n",
            "average sepal_width 3.4180000000000006\n",
            "average petal_length 1.464\n",
            "average petal_width 0.2439999999999999\n",
            "**************************************\n",
            "species: virginica\n",
            "average sepal_lenght 6.587999999999998\n",
            "average sepal_width 2.9739999999999998\n",
            "average petal_length 5.552\n",
            "average petal_width 2.026\n",
            "**************************************\n",
            "species: versicolor\n",
            "average sepal_lenght 5.936\n",
            "average sepal_width 2.7700000000000005\n",
            "average petal_length 4.26\n",
            "average petal_width 1.3259999999999998\n",
            "**************************************\n"
          ],
          "name": "stdout"
        }
      ]
    },
    {
      "cell_type": "code",
      "metadata": {
        "id": "DM3kC9DQAX-P"
      },
      "source": [
        "d_iris['area'] = []\n",
        "for idx in range(len(d_iris['species'])):\n",
        "  area = (d_iris['sepal_lenght'][idx] * d_iris['sepal_width'][idx]) + (d_iris['petal_length'][idx] * d_iris['petal_width'][idx])\n",
        "  d_iris['area'].append(area)"
      ],
      "execution_count": null,
      "outputs": []
    },
    {
      "cell_type": "code",
      "metadata": {
        "id": "Fuj6tUoc_oIZ"
      },
      "source": [
        "sorted_idx = [e[0] for e in sorted(enumerate(d_iris['area']), key=lambda x:x[1])]"
      ],
      "execution_count": null,
      "outputs": []
    },
    {
      "cell_type": "code",
      "metadata": {
        "colab": {
          "base_uri": "https://localhost:8080/"
        },
        "id": "QV07AkPOCDwG",
        "outputId": "ef17ad43-c30f-47fb-9099-2d5e80c25488"
      },
      "source": [
        "for i in sorted_idx[:10]:\n",
        "  print(d_iris['sepal_lenght'][i], d_iris['sepal_width'][i], d_iris['petal_length'][i], d_iris['petal_width'][i], d_iris['species'][i], d_iris['area'][i])"
      ],
      "execution_count": null,
      "outputs": [
        {
          "output_type": "stream",
          "text": [
            "4.5 2.3 1.3 0.3 setosa 10.74\n",
            "4.3 3.0 1.1 0.1 setosa 13.009999999999998\n",
            "4.4 2.9 1.4 0.2 setosa 13.04\n",
            "4.4 3.0 1.3 0.2 setosa 13.46\n",
            "5.0 2.0 3.5 1.0 versicolor 13.5\n",
            "4.4 3.2 1.3 0.2 setosa 14.340000000000002\n",
            "4.8 3.0 1.4 0.1 setosa 14.54\n",
            "4.6 3.1 1.5 0.2 setosa 14.56\n",
            "5.0 2.3 3.3 1.0 versicolor 14.8\n",
            "4.8 3.0 1.4 0.3 setosa 14.819999999999999\n"
          ],
          "name": "stdout"
        }
      ]
    },
    {
      "cell_type": "code",
      "metadata": {
        "id": "vOi5cwuZCtIR"
      },
      "source": [
        "with open('/content/drive/MyDrive/Projects/Physalia-courses/Python/Notebook - Colab/iris2.csv', 'w') as f:\n",
        "  f.write('\\t'.join(['sepal_lenght', 'sepal_width', 'petal_length', 'petal_width', 'species', 'area']) + '\\n')\n",
        "  for i in sorted_idx:\n",
        "    line = [str(d_iris['sepal_lenght'][i]), str(d_iris['sepal_width'][i]), str(d_iris['petal_length'][i]), str(d_iris['petal_width'][i]), str(d_iris['species'][i]), str(d_iris['area'][i])]\n",
        "    f.write('\\t'.join(line) + '\\n')"
      ],
      "execution_count": null,
      "outputs": []
    },
    {
      "cell_type": "markdown",
      "metadata": {
        "id": "v3xmrapkQ67V"
      },
      "source": [
        "# Ex #3\n",
        "\n",
        "Given a big text file, create a small index file and save it in binary format. Use this index file to quickly retrieve all the sentences with the word 'Mark'."
      ]
    },
    {
      "cell_type": "code",
      "metadata": {
        "id": "Jw-Gq29-A7kg"
      },
      "source": [
        "book =  '/content/drive/MyDrive/Projects/Physalia-courses/Python/Notebook - Colab/book1.txt'\n",
        "index =  '/content/drive/MyDrive/Projects/Physalia-courses/Python/Notebook - Colab/book1.idx'\n",
        "\n",
        "import pickle\n",
        "\n",
        "def create_index(input_text_file):\n",
        "  position = 0\n",
        "  index = {}\n",
        "  with open(input_text_file) as f:\n",
        "    while True:\n",
        "      pos = f.tell()\n",
        "      l = f.readline()\n",
        "      words = [w.lower() for w in l.strip().split(' ')]\n",
        "      for w in words:\n",
        "        if w not in index:\n",
        "          index[w] = []\n",
        "        index[w].append(pos)\n",
        "      if not l:\n",
        "        break\n",
        "  return index\n",
        "\n",
        "def save_index(idx, index_file):\n",
        "  with open(index_file, 'wb') as f:\n",
        "    pickle.dump(idx, f)\n",
        "\n",
        "def get_from_index(input_file, idx, w):\n",
        "  word = w.lower()\n",
        "  sentences = []\n",
        "  with open(input_file) as f:\n",
        "    for position in idx[word]:\n",
        "      f.seek(position)\n",
        "      sentences.append(f.readline())\n",
        "  return sentences"
      ],
      "execution_count": null,
      "outputs": []
    },
    {
      "cell_type": "code",
      "metadata": {
        "id": "IMZCZk9507jO"
      },
      "source": [
        "def lookup(input_file, word):\n",
        "  sentences = []\n",
        "  with open(input_file) as f:\n",
        "    for l in f:\n",
        "      if word in l:\n",
        "        sentences.append(l)\n",
        "  return sentences"
      ],
      "execution_count": null,
      "outputs": []
    },
    {
      "cell_type": "code",
      "metadata": {
        "id": "Ugu0IUgztfvG"
      },
      "source": [
        "idx = create_index(book)\n",
        "save_index(idx, index)"
      ],
      "execution_count": null,
      "outputs": []
    },
    {
      "cell_type": "code",
      "metadata": {
        "colab": {
          "base_uri": "https://localhost:8080/"
        },
        "id": "uipBvSSItiJk",
        "outputId": "b6a02965-45e3-4fac-854e-317ad72e4853"
      },
      "source": [
        "%timeit  get_from_index(book, idx, 'Mark')"
      ],
      "execution_count": null,
      "outputs": [
        {
          "output_type": "stream",
          "text": [
            "100 loops, best of 3: 2.65 ms per loop\n"
          ],
          "name": "stdout"
        }
      ]
    },
    {
      "cell_type": "code",
      "metadata": {
        "colab": {
          "base_uri": "https://localhost:8080/"
        },
        "id": "r-vqETpjttlS",
        "outputId": "b24d74a4-17f3-44d0-80f6-5cfe7b38deec"
      },
      "source": [
        "%timeit  lookup(book, 'Mark')"
      ],
      "execution_count": null,
      "outputs": [
        {
          "output_type": "stream",
          "text": [
            "100 loops, best of 3: 14 ms per loop\n"
          ],
          "name": "stdout"
        }
      ]
    },
    {
      "cell_type": "code",
      "metadata": {
        "id": "duaNJpN11PMP"
      },
      "source": [
        ""
      ],
      "execution_count": null,
      "outputs": []
    }
  ]
}