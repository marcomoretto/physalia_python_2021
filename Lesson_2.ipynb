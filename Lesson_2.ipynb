{
 "cells": [
  {
   "cell_type": "markdown",
   "metadata": {
    "id": "mWIkxjhBIEDf"
   },
   "source": [
    "# Some string methods.\n",
    "\n",
    "## We already talked a lot about strings, let's see some specific useful functions/methods (even though we still have to define what a function is)"
   ]
  },
  {
   "cell_type": "code",
   "execution_count": null,
   "metadata": {
    "colab": {
     "base_uri": "https://localhost:8080/"
    },
    "id": "K9mlJnhhEWyc",
    "outputId": "af13af3d-ef5d-40a2-8e64-df5f3d0c2b1d"
   },
   "outputs": [],
   "source": [
    "# the join method is a string method that takes a list as an argument. This is how it works\n",
    "separator = '||'\n",
    "words = ['apple', 'pear', 'orange']\n",
    "print(separator.join(words))"
   ]
  },
  {
   "cell_type": "code",
   "execution_count": null,
   "metadata": {
    "colab": {
     "base_uri": "https://localhost:8080/"
    },
    "id": "YT0QSRjoVIAY",
    "outputId": "8b7e22d9-22ba-4d0c-bc46-f05615df6677"
   },
   "outputs": [],
   "source": [
    "# the split method works on the other way, takes one string and return a list\n",
    "s = \"apple||pear||orange\"\n",
    "separator = '||'\n",
    "l = s.split(separator)\n",
    "print(l)"
   ]
  },
  {
   "cell_type": "code",
   "execution_count": null,
   "metadata": {
    "colab": {
     "base_uri": "https://localhost:8080/"
    },
    "id": "vEaSOtwlV4aV",
    "outputId": "c184d9db-cee0-4391-9bca-40e96f401628"
   },
   "outputs": [],
   "source": [
    "# find gives the index of the first occurence of the argument\n",
    "s = \"apple||pear||orange\"\n",
    "f = s.find('p')\n",
    "print(f)"
   ]
  },
  {
   "cell_type": "code",
   "execution_count": null,
   "metadata": {
    "colab": {
     "base_uri": "https://localhost:8080/"
    },
    "id": "x8p38q80WWEA",
    "outputId": "893dc363-1155-4fbd-d77a-06918bfe55ec"
   },
   "outputs": [],
   "source": [
    "# count gives the total number of occurences\n",
    "s = \"apple||pear||orange\"\n",
    "c = s.count('p')\n",
    "print(c)"
   ]
  },
  {
   "cell_type": "code",
   "execution_count": null,
   "metadata": {
    "colab": {
     "base_uri": "https://localhost:8080/"
    },
    "id": "O0HlSiOCWEjo",
    "outputId": "52a19f39-5f12-4c2f-b2eb-653fb3015ca7"
   },
   "outputs": [],
   "source": [
    "# replace returns a new string with an old term substituted with a new term\n",
    "old = 'pear'\n",
    "new = 'banana'\n",
    "s = \"apple||pear||orange\"\n",
    "r = s.replace(old, new)\n",
    "print(r)"
   ]
  },
  {
   "cell_type": "markdown",
   "metadata": {
    "id": "R4_EIAyC42sF"
   },
   "source": [
    "# Exercises"
   ]
  },
  {
   "cell_type": "code",
   "execution_count": null,
   "metadata": {
    "colab": {
     "base_uri": "https://localhost:8080/",
     "height": 106
    },
    "id": "Ly68WLvK441K",
    "outputId": "e1a97397-25ce-440d-ef8a-2064578f4d83"
   },
   "outputs": [],
   "source": [
    "\n",
    "# given the following list\n",
    "names = ['anne', 'chris', 'daniel', 'denise', 'jacob', 'lisa', 'maria']\n",
    "\n",
    "# what is the total length of all names items? \n",
    "\n",
    "# how many time the letter 'i' is present in the list?\n",
    "\n",
    "# print all the unique letters in names list\n",
    "\n",
    "# create a new list with 'christine' instead of 'chris' without using list assignment.\n",
    "\n",
    "# consider the following list\n",
    "numbers = [23456, 1233, 39390, 93862, 48725, 6345, 344934]\n",
    "\n",
    "# print the concatenated sorted list of strings\n",
    "# i.e. convert every item into a string, sort the resulting list and then concatenate it\n",
    "list_of_strings = list(map(str, numbers))\n",
    "sorted_list_of_strings = sorted(list_of_strings)\n",
    "''.join(sorted_list_of_strings)"
   ]
  },
  {
   "cell_type": "code",
   "execution_count": null,
   "metadata": {},
   "outputs": [],
   "source": [
    "list_of_strings"
   ]
  },
  {
   "cell_type": "code",
   "execution_count": null,
   "metadata": {},
   "outputs": [],
   "source": [
    "sorted_list_of_strings"
   ]
  },
  {
   "cell_type": "code",
   "execution_count": null,
   "metadata": {},
   "outputs": [],
   "source": [
    "sorted(numbers)"
   ]
  },
  {
   "cell_type": "code",
   "execution_count": null,
   "metadata": {},
   "outputs": [],
   "source": [
    "str(numbers[0]), str(numbers[1])"
   ]
  },
  {
   "cell_type": "code",
   "execution_count": null,
   "metadata": {},
   "outputs": [],
   "source": [
    "a = [10, 101, 111, 100000000]\n",
    "sorted(a)"
   ]
  },
  {
   "cell_type": "code",
   "execution_count": null,
   "metadata": {},
   "outputs": [],
   "source": [
    "sorted(map(str, a))"
   ]
  },
  {
   "cell_type": "code",
   "execution_count": null,
   "metadata": {},
   "outputs": [],
   "source": [
    "numbers"
   ]
  },
  {
   "cell_type": "code",
   "execution_count": null,
   "metadata": {},
   "outputs": [],
   "source": [
    "list(map(str, numbers))"
   ]
  },
  {
   "cell_type": "code",
   "execution_count": null,
   "metadata": {},
   "outputs": [],
   "source": [
    "separator = ''\n",
    "print(len(separator.join(names)))"
   ]
  },
  {
   "cell_type": "code",
   "execution_count": null,
   "metadata": {},
   "outputs": [],
   "source": [
    "len(names[0])+len(names[1])+len(names[2])+len(names[3])+len(names[4])+len(names[5])+len(names[6])"
   ]
  },
  {
   "cell_type": "code",
   "execution_count": null,
   "metadata": {},
   "outputs": [],
   "source": [
    "names_all = separator.join(names)\n",
    "print(names_all.count('i'))"
   ]
  },
  {
   "cell_type": "code",
   "execution_count": null,
   "metadata": {},
   "outputs": [],
   "source": [
    "names_all"
   ]
  },
  {
   "cell_type": "code",
   "execution_count": null,
   "metadata": {},
   "outputs": [],
   "source": [
    "names[0].count('i')+names[1].count('i')+names[2].count('i')+names[3].count('i')+names[4].count('i')+names[5].count('i')+names[6].count('i')"
   ]
  },
  {
   "cell_type": "code",
   "execution_count": null,
   "metadata": {},
   "outputs": [],
   "source": [
    "print(list(names_all))"
   ]
  },
  {
   "cell_type": "code",
   "execution_count": null,
   "metadata": {},
   "outputs": [],
   "source": [
    "print(set(names_all))"
   ]
  },
  {
   "cell_type": "code",
   "execution_count": null,
   "metadata": {},
   "outputs": [],
   "source": [
    "old = 'chris'\n",
    "new = 'christine'\n",
    "separator = ','\n",
    "names_all = separator.join(names)\n",
    "names_new = names_all.replace(old, new)\n",
    "names_newn = names_new.split(separator)\n",
    "print(names_newn)"
   ]
  },
  {
   "cell_type": "code",
   "execution_count": null,
   "metadata": {},
   "outputs": [],
   "source": [
    "names_all"
   ]
  },
  {
   "cell_type": "code",
   "execution_count": null,
   "metadata": {},
   "outputs": [],
   "source": [
    "names_new"
   ]
  },
  {
   "cell_type": "markdown",
   "metadata": {
    "id": "zITDKsoJEgOc"
   },
   "source": [
    "### Let's see a very useful function not only for `strings`, the `map` function"
   ]
  },
  {
   "cell_type": "code",
   "execution_count": null,
   "metadata": {
    "id": "VUtLjwMHztZk"
   },
   "outputs": [],
   "source": [
    "# let's start with the list of friends from previous examples\n",
    "names = ['anne', 'chris', 'daniel', 'denise', 'jacob', 'lisa', 'maria'] # this is equivalent to list(pb.keys())\n",
    "\n",
    "# and their numbers\n",
    "numbers = ['333123456', '344561233', '33367409390', '3339386722', '344896725', '3339386345', '3449344766']\n",
    "\n",
    "# this is the list of their family name\n",
    "family_name = ['davies', 'cornell', 'redcliff', 'le blanche', 'ericsson', 'stuard', 'jackson']\n",
    "\n",
    "# this is the list of their address\n",
    "address = ['Main Street, 2', 'South Blv, 42', '4th Street', 'Sunset Road, 6', 'Rose flower Lane, 11', 'East end Road, 77']"
   ]
  },
  {
   "cell_type": "code",
   "execution_count": null,
   "metadata": {
    "id": "o6Sok2I8D2MG"
   },
   "outputs": [],
   "source": [
    "# I want to update my phone book dictionaries adding the family name and the address\n",
    "\n",
    "pb_key = tuple(zip(names, family_name))\n",
    "pb_value = tuple(zip(list(numbers), address))"
   ]
  },
  {
   "cell_type": "code",
   "execution_count": null,
   "metadata": {
    "id": "UxhtnwM0EBiP"
   },
   "outputs": [],
   "source": [
    "pb_2 = dict(zip(pb_key, pb_value))"
   ]
  },
  {
   "cell_type": "code",
   "execution_count": null,
   "metadata": {
    "colab": {
     "base_uri": "https://localhost:8080/"
    },
    "id": "qfVT_u5TFVv4",
    "outputId": "f73ffa9b-f556-4cf3-f431-77274b48fd51"
   },
   "outputs": [],
   "source": [
    "pb_2"
   ]
  },
  {
   "cell_type": "code",
   "execution_count": null,
   "metadata": {
    "colab": {
     "base_uri": "https://localhost:8080/"
    },
    "id": "YoW-09aLFW_k",
    "outputId": "490a60f7-c32a-4bb3-982c-b28f00dc52f5"
   },
   "outputs": [],
   "source": [
    "# what is jacob ericsson number and address?\n",
    "pb_2[('jacob', 'ericsson')]"
   ]
  },
  {
   "cell_type": "code",
   "execution_count": null,
   "metadata": {
    "colab": {
     "base_uri": "https://localhost:8080/"
    },
    "id": "2iBRIQD-G-DU",
    "outputId": "03d711cd-bc3a-4546-cb61-ecd0cb174913"
   },
   "outputs": [],
   "source": [
    "# the join method is a string method that takes a list as an argument. This is how it works\n",
    "separator = '::'\n",
    "words = ['apple', 'pear', 'orange']\n",
    "print(separator.join(words))"
   ]
  },
  {
   "cell_type": "code",
   "execution_count": null,
   "metadata": {
    "id": "Qige1xnPFj5r"
   },
   "outputs": [],
   "source": [
    "# since I don't like the idea of using a tuple for name and family name, but I want both name and family name to be part of the same string\n",
    "# I'm going to use join to create one string (name and family name), for each person. Let's introduce the map function\n",
    "\n",
    "pb_key = list(map(' '.join, zip(names, family_name)))"
   ]
  },
  {
   "cell_type": "code",
   "execution_count": null,
   "metadata": {
    "id": "GHRzac7UGPGJ"
   },
   "outputs": [],
   "source": [
    "pb_2 = dict(zip(pb_key, pb_value))"
   ]
  },
  {
   "cell_type": "code",
   "execution_count": null,
   "metadata": {
    "colab": {
     "base_uri": "https://localhost:8080/"
    },
    "id": "icaXGVgqHyvj",
    "outputId": "c271399e-a3bf-4f05-9c7e-7e0a36228f2f"
   },
   "outputs": [],
   "source": [
    "pb_2['jacob ericsson']"
   ]
  },
  {
   "cell_type": "markdown",
   "metadata": {
    "id": "TmDHcz826qa4"
   },
   "source": [
    "# Control Structures\n",
    "\n",
    "With variable assignment and Control Structure you have essentially everything you need to build a real program (implement algorithms).\n",
    "\n",
    "Let's start with the `IF` statement\n",
    "\n",
    "The syntax is the following\n",
    "\n",
    "```\n",
    "if <condition>:\n",
    "  <True block of code>\n",
    "else:\n",
    "  <False block of code>\n",
    "```\n",
    "\n",
    "The `condition` is **always** considered a `boolean` value. If it is `True`, the **True block** gets executed otherwise (`False`) the **False block** gets executed."
   ]
  },
  {
   "cell_type": "code",
   "execution_count": null,
   "metadata": {
    "colab": {
     "base_uri": "https://localhost:8080/"
    },
    "id": "uLQjT3Pu7jqA",
    "outputId": "ad22326f-b2b7-4e8d-9f1e-52280d017572"
   },
   "outputs": [],
   "source": [
    "a = 5\n",
    "b = 1\n",
    "\n",
    "if a > b:\n",
    "  print('a is bigger than b')\n",
    "else:\n",
    "  print('b is bigger than a')"
   ]
  },
  {
   "cell_type": "markdown",
   "metadata": {
    "id": "b5_cBzil7zXS"
   },
   "source": [
    "`a > b` returns a `boolean` value, but we are not forced to have an expression that return a `boolean` value because **anything** in the *guard* (*condition*) will be **casted** (evaluated) as `boolean`."
   ]
  },
  {
   "cell_type": "code",
   "execution_count": null,
   "metadata": {
    "colab": {
     "base_uri": "https://localhost:8080/"
    },
    "id": "TxvBORjT7tOl",
    "outputId": "cc024cb2-9242-4dec-c3ac-d2841615b15a"
   },
   "outputs": [],
   "source": [
    "a = 'hello world'\n",
    "if a:\n",
    "  print(a)"
   ]
  },
  {
   "cell_type": "code",
   "execution_count": null,
   "metadata": {
    "colab": {
     "base_uri": "https://localhost:8080/"
    },
    "id": "GLMNXuzB8M9Z",
    "outputId": "0b8b33eb-5793-4893-988f-2f249821aa19"
   },
   "outputs": [],
   "source": [
    "a = []\n",
    "if a: # can you think of another way to do that?\n",
    "  print('a is not empty')\n",
    "else:\n",
    "  print('a is empty')\n",
    "\n",
    "a.append('1')\n",
    "if a:\n",
    "  print('a is not empty', a)\n",
    "else:\n",
    "  print('a is empty')\n"
   ]
  },
  {
   "cell_type": "markdown",
   "metadata": {
    "id": "odI9lSXN8iyx"
   },
   "source": [
    "# A small but important detour: code blocks and indentation in Python\n",
    "\n",
    "Most of the programming languages like **C**, **C++**, and **Java** use braces `{ }` to define a block of code. Python, however, uses **indentation**. The enforcement of **indentation** in Python makes the code look neat and clean. This results in Python programs that look similar and consistent.\n",
    "\n",
    "Now let's go back to control structures. \n",
    "\n",
    "We can also write more than one conditions mimicking what is know as **switch** statement in other programming languages."
   ]
  },
  {
   "cell_type": "code",
   "execution_count": null,
   "metadata": {
    "colab": {
     "base_uri": "https://localhost:8080/",
     "height": 34
    },
    "id": "ouJ0MMuY8aFA",
    "outputId": "890c409e-a507-47f7-81bc-409121f4b3a7"
   },
   "outputs": [],
   "source": [
    "season = 'winter'\n",
    "\n",
    "if season == 'spring':\n",
    "  print('blooming flowers')\n",
    "elif season == 'summer':\n",
    "  print('hot and sunny')\n",
    "elif season == 'autumn':\n",
    "  print('falling leaves')\n",
    "elif season == 'winter':\n",
    "  print('cold and snow')\n"
   ]
  },
  {
   "cell_type": "code",
   "execution_count": null,
   "metadata": {
    "colab": {
     "base_uri": "https://localhost:8080/",
     "height": 34
    },
    "id": "0QHZ1yxC_Cdd",
    "outputId": "9eaf9b8e-4093-40a5-f985-675bfeabeec5"
   },
   "outputs": [],
   "source": [
    "if season == 'spring':\n",
    "  print('blooming flowers')\n",
    "elif season == 'summer':\n",
    "  print('hot and sunny')\n",
    "else:\n",
    "  print('cold')"
   ]
  },
  {
   "cell_type": "code",
   "execution_count": null,
   "metadata": {
    "colab": {
     "base_uri": "https://localhost:8080/",
     "height": 34
    },
    "id": "dvIPaS1a-zkR",
    "outputId": "8fdadc0b-e74d-48c2-dab1-224ee81b607f"
   },
   "outputs": [],
   "source": [
    "if season == 'spring' or season == 'summer':\n",
    "  print('hot')\n",
    "else:\n",
    "  print('cold')"
   ]
  },
  {
   "cell_type": "markdown",
   "metadata": {
    "id": "T3oq_h5h_PZZ"
   },
   "source": [
    "# The FOR statement is by far, together with the IF statement, the control structures you are going to use the most. Let's see the syntax:\n",
    "\n",
    "```\n",
    "for <cycle variable> in <iterator or generator>:\n",
    "  <block of code>\n",
    "```"
   ]
  },
  {
   "cell_type": "code",
   "execution_count": 3,
   "metadata": {
    "colab": {
     "base_uri": "https://localhost:8080/"
    },
    "id": "S6CCkXNr_5y8",
    "outputId": "877e6468-17b1-4e3b-ce59-afb0f396b10f"
   },
   "outputs": [
    {
     "name": "stdout",
     "output_type": "stream",
     "text": [
      "a\n",
      "1\n",
      "2\n",
      "3.14\n",
      "True\n",
      "hello\n"
     ]
    }
   ],
   "source": [
    "lst_a = ['a', 1, 2, 3.14, True, 'hello']\n",
    "\n",
    "for e in lst_a: \n",
    "    print(e) \n",
    "  "
   ]
  },
  {
   "cell_type": "code",
   "execution_count": null,
   "metadata": {},
   "outputs": [],
   "source": [
    "for e in lst_a:\n",
    "    print('hello')"
   ]
  },
  {
   "cell_type": "code",
   "execution_count": 4,
   "metadata": {
    "colab": {
     "base_uri": "https://localhost:8080/",
     "height": 34
    },
    "id": "zCEge0u8AF_A",
    "outputId": "2c074fed-6d0c-46b2-df86-224ed6add0ad"
   },
   "outputs": [
    {
     "name": "stdout",
     "output_type": "stream",
     "text": [
      "range(0, 10)\n"
     ]
    }
   ],
   "source": [
    "# let's introduce the range function that takes an integer x and return a generator of length x with the first x number\n",
    "print(range(10))"
   ]
  },
  {
   "cell_type": "code",
   "execution_count": 7,
   "metadata": {
    "colab": {
     "base_uri": "https://localhost:8080/",
     "height": 34
    },
    "id": "qmqzEPh9A0si",
    "outputId": "d379ba6b-8176-409f-9f39-0f7a8cd2f4b2"
   },
   "outputs": [
    {
     "data": {
      "text/plain": [
       "[0, 1, 2, 3, 4, 5, 6, 7, 8, 9]"
      ]
     },
     "execution_count": 7,
     "metadata": {},
     "output_type": "execute_result"
    }
   ],
   "source": [
    "list(range(10))"
   ]
  },
  {
   "cell_type": "code",
   "execution_count": 8,
   "metadata": {
    "colab": {
     "base_uri": "https://localhost:8080/",
     "height": 194
    },
    "id": "vqOPihpVBCoe",
    "outputId": "701a4adf-fbd1-4f9c-8d9c-41b6bce01327"
   },
   "outputs": [
    {
     "name": "stdout",
     "output_type": "stream",
     "text": [
      "0  is even\n",
      "1  is odd\n",
      "2  is even\n",
      "3  is odd\n",
      "4  is even\n",
      "5  is odd\n",
      "6  is even\n",
      "7  is odd\n",
      "8  is even\n",
      "9  is odd\n"
     ]
    }
   ],
   "source": [
    "for i in range(10):\n",
    "    if i % 2:\n",
    "        print(i, ' is odd')\n",
    "    else:\n",
    "        print(i, ' is even')"
   ]
  },
  {
   "cell_type": "markdown",
   "metadata": {
    "id": "4kIBFElayXir"
   },
   "source": [
    "# Exercises"
   ]
  },
  {
   "cell_type": "code",
   "execution_count": 14,
   "metadata": {
    "colab": {
     "base_uri": "https://localhost:8080/"
    },
    "id": "FY0i3UJdycy6",
    "outputId": "b82f9bb3-e7e2-4e51-dc6e-f172b000219c"
   },
   "outputs": [],
   "source": [
    "# given the following list\n",
    "names = ['anne', 'chris', 'daniel', 'denise', 'jacob', 'lisa', 'maria']\n",
    "\n",
    "# print all names that starts with the letter 'd'\n",
    "\n",
    "# the string method capitalize() will return a string with the first capital letter, i.e. 'ciao'.capitalize() will get Ciao\n",
    "# create a new list where all names are capitalized\n",
    "\n",
    "# how many times is the letter 'i' present in the names list (use a for loop statement this time)? Can you think of a way to count all unique letters?\n",
    "\n",
    "# create a list of strings that represent even numbers from 100 to 150 included\n"
   ]
  },
  {
   "cell_type": "code",
   "execution_count": 24,
   "metadata": {},
   "outputs": [
    {
     "name": "stdout",
     "output_type": "stream",
     "text": [
      "daniel\n",
      "denise\n"
     ]
    }
   ],
   "source": [
    "# print all names that starts with the letter 'd'\n",
    "for i in names:\n",
    "    if i[0] ==\"d\":\n",
    "        print(i)"
   ]
  },
  {
   "cell_type": "code",
   "execution_count": 26,
   "metadata": {},
   "outputs": [
    {
     "name": "stdout",
     "output_type": "stream",
     "text": [
      "daniel\n",
      "denise\n"
     ]
    }
   ],
   "source": [
    "for i in names:\n",
    "    #if i[0] ==\"d\":\n",
    "    if i.startswith('d'):\n",
    "        print(i)"
   ]
  },
  {
   "cell_type": "code",
   "execution_count": 27,
   "metadata": {},
   "outputs": [
    {
     "name": "stdout",
     "output_type": "stream",
     "text": [
      "daniel\n",
      "denise\n",
      "Anne\n",
      "Chris\n",
      "Daniel\n",
      "Denise\n",
      "Jacob\n",
      "Lisa\n",
      "Maria\n",
      "['Anne', 'Chris', 'Daniel', 'Denise', 'Jacob', 'Lisa', 'Maria']\n"
     ]
    }
   ],
   "source": [
    "# print all names that starts with the letter 'd'\n",
    "for i in names:\n",
    "    if i[0] ==\"d\":\n",
    "        print(i)\n",
    "\n",
    "# create a new list where all names are capitalized\n",
    "new_list = list()\n",
    "for i in names:\n",
    "    capitalized_string = i.capitalize()\n",
    "    print(capitalized_string)\n",
    "    new_list.append(capitalized_string)\n",
    "print(new_list)\n"
   ]
  },
  {
   "cell_type": "code",
   "execution_count": 30,
   "metadata": {},
   "outputs": [
    {
     "name": "stdout",
     "output_type": "stream",
     "text": [
      "['Anne', 'Chris', 'Daniel', 'Denise', 'Jacob', 'Lisa', 'Maria']\n"
     ]
    }
   ],
   "source": [
    "s = []\n",
    "for i in range(len(names)):\n",
    "        s.append(names[i].capitalize())\n",
    "print(s)"
   ]
  },
  {
   "cell_type": "code",
   "execution_count": 32,
   "metadata": {},
   "outputs": [
    {
     "name": "stdout",
     "output_type": "stream",
     "text": [
      "5\n"
     ]
    }
   ],
   "source": [
    "# how many times is the letter 'i' present in the names list (use a loop statement this time)? Can you think of a way to count all unique letters?\n",
    "a = 0\n",
    "for i in names:\n",
    "    a = a + i.count('i')\n",
    "    # a += i.count('i')\n",
    "print(a)\n"
   ]
  },
  {
   "cell_type": "code",
   "execution_count": 33,
   "metadata": {},
   "outputs": [
    {
     "name": "stdout",
     "output_type": "stream",
     "text": [
      "[100, 102, 104, 106, 108, 110, 112, 114, 116, 118, 120, 122, 124, 126, 128, 130, 132, 134, 136, 138, 140, 142, 144, 146, 148, 150]\n"
     ]
    }
   ],
   "source": [
    "# create a list of strings that represent even numbers from 100 to 150 included\n",
    "n_even = []\n",
    "for i in range(100, 151):\n",
    "  if not i % 2:\n",
    "    n_even.append(i)\n",
    "print(n_even)"
   ]
  },
  {
   "cell_type": "code",
   "execution_count": 19,
   "metadata": {},
   "outputs": [
    {
     "name": "stdout",
     "output_type": "stream",
     "text": [
      "['Anne', 'Chris', 'Daniel', 'Denise', 'Jacob', 'Lisa', 'Maria']\n",
      "5\n"
     ]
    }
   ],
   "source": [
    "newnames = []\n",
    "for name in names:\n",
    "    newnames += [name.capitalize()]\n",
    "print(newnames)\n",
    "\n",
    "# how many times is the letter 'i' present in the names list (use a loop statement this time)? Can you think of a way to count all unique letters?\n",
    "count = 0\n",
    "for name in names:\n",
    "    for letter in name:\n",
    "        if letter == 'i':\n",
    "            count += 1\n",
    "print(count)"
   ]
  },
  {
   "cell_type": "code",
   "execution_count": 20,
   "metadata": {},
   "outputs": [
    {
     "name": "stdout",
     "output_type": "stream",
     "text": [
      "['100', '102', '104', '106', '108', '110', '112', '114', '116', '118', '120', '122', '124', '126', '128', '130', '132', '134', '136', '138', '140', '142', '144', '146', '148', '150']\n"
     ]
    }
   ],
   "source": [
    "# create a list of strings that represent even numbers from 100 to 150 included\n",
    "new_list1 = []\n",
    "for i in range(100,151):\n",
    "    if i % 2 == 0:\n",
    "        new_list1 += [str(i)]\n",
    "print(new_list1)"
   ]
  },
  {
   "cell_type": "code",
   "execution_count": 21,
   "metadata": {},
   "outputs": [
    {
     "name": "stdout",
     "output_type": "stream",
     "text": [
      "['Anne', 'Chris', 'Daniel', 'Denise', 'Jacob', 'Lisa', 'Maria']\n"
     ]
    }
   ],
   "source": [
    "s = []\n",
    "for i in range(len(names)):\n",
    "        s.append(names[i].capitalize())\n",
    "print(s)"
   ]
  },
  {
   "cell_type": "code",
   "execution_count": 34,
   "metadata": {
    "colab": {
     "base_uri": "https://localhost:8080/",
     "height": 34
    },
    "id": "N_u2npUmC4A5",
    "outputId": "6adfed8e-b463-4fa0-f329-2652b03f3f38"
   },
   "outputs": [
    {
     "name": "stdout",
     "output_type": "stream",
     "text": [
      "<enumerate object at 0x7f54e050ed80>\n"
     ]
    }
   ],
   "source": [
    "# let's introduce the enumerate function that takes an iterator and return a generator of tuple, the first element of the tuple is the index of the element in the iterator while the second is the element itself\n",
    "names = ['marco', 'chris', 'daniel', 'jacob', 'lisa', 'anne', 'denise']\n",
    "\n",
    "print(enumerate(names))"
   ]
  },
  {
   "cell_type": "code",
   "execution_count": 35,
   "metadata": {},
   "outputs": [
    {
     "data": {
      "text/plain": [
       "[(0, 'marco'),\n",
       " (1, 'chris'),\n",
       " (2, 'daniel'),\n",
       " (3, 'jacob'),\n",
       " (4, 'lisa'),\n",
       " (5, 'anne'),\n",
       " (6, 'denise')]"
      ]
     },
     "execution_count": 35,
     "metadata": {},
     "output_type": "execute_result"
    }
   ],
   "source": [
    "list(enumerate(names))"
   ]
  },
  {
   "cell_type": "code",
   "execution_count": 38,
   "metadata": {
    "colab": {
     "base_uri": "https://localhost:8080/",
     "height": 141
    },
    "id": "oJtoKKL5DOFG",
    "outputId": "a93f0e07-2e83-4d06-f7f8-25ef762cbd61"
   },
   "outputs": [
    {
     "name": "stdout",
     "output_type": "stream",
     "text": [
      "(0, 'marco') <class 'tuple'>\n",
      "(1, 'chris') <class 'tuple'>\n",
      "(2, 'daniel') <class 'tuple'>\n",
      "(3, 'jacob') <class 'tuple'>\n",
      "(4, 'lisa') <class 'tuple'>\n",
      "(5, 'anne') <class 'tuple'>\n",
      "(6, 'denise') <class 'tuple'>\n"
     ]
    }
   ],
   "source": [
    "for e in enumerate(names):\n",
    "    print(e, type(e))"
   ]
  },
  {
   "cell_type": "code",
   "execution_count": 41,
   "metadata": {},
   "outputs": [
    {
     "name": "stdout",
     "output_type": "stream",
     "text": [
      "0 marco\n",
      "1 chris\n",
      "2 daniel\n",
      "3 jacob\n",
      "4 lisa\n",
      "5 anne\n",
      "6 denise\n"
     ]
    }
   ],
   "source": [
    "for e in enumerate(names):\n",
    "    print(e[0], e[1])"
   ]
  },
  {
   "cell_type": "code",
   "execution_count": 45,
   "metadata": {},
   "outputs": [
    {
     "name": "stdout",
     "output_type": "stream",
     "text": [
      "0 marco\n",
      "1 chris\n",
      "2 daniel\n",
      "3 jacob\n",
      "4 lisa\n",
      "5 anne\n",
      "6 denise\n"
     ]
    }
   ],
   "source": [
    "for i in range(len(names)):\n",
    "    print(i, names[i])"
   ]
  },
  {
   "cell_type": "code",
   "execution_count": 42,
   "metadata": {
    "colab": {
     "base_uri": "https://localhost:8080/",
     "height": 141
    },
    "id": "9yOP7uVJDVqv",
    "outputId": "6365ee93-fe0e-4a7f-d70b-71d9d8234412"
   },
   "outputs": [
    {
     "name": "stdout",
     "output_type": "stream",
     "text": [
      "marco has index (position) 0\n",
      "chris has index (position) 1\n",
      "daniel has index (position) 2\n",
      "jacob has index (position) 3\n",
      "lisa has index (position) 4\n",
      "anne has index (position) 5\n",
      "denise has index (position) 6\n"
     ]
    }
   ],
   "source": [
    "# instead of using one cycle variable I can use two to identify the first and the second values of each tuple\n",
    "for i, e in enumerate(names):\n",
    "  print(e, 'has index (position)', i)"
   ]
  },
  {
   "cell_type": "code",
   "execution_count": 46,
   "metadata": {
    "colab": {
     "base_uri": "https://localhost:8080/",
     "height": 34
    },
    "id": "FBkNYVUbBMS8",
    "outputId": "bfc0588b-6ac4-4a1f-a36c-0e3a92b22b37"
   },
   "outputs": [
    {
     "data": {
      "text/plain": [
       "<zip at 0x7f54e050eac0>"
      ]
     },
     "execution_count": 46,
     "metadata": {},
     "output_type": "execute_result"
    }
   ],
   "source": [
    "names = ['marco', 'chris', 'daniel', 'jacob', 'lisa', 'anne', 'denise']\n",
    "numbers = ['333123456', '344561233', '33367409390', '3339386722', '344896725', '3339386345', '3449344766']\n",
    "\n",
    "zip(names, numbers)"
   ]
  },
  {
   "cell_type": "code",
   "execution_count": 47,
   "metadata": {
    "colab": {
     "base_uri": "https://localhost:8080/",
     "height": 141
    },
    "id": "TajNq4NECjGE",
    "outputId": "9876cc8d-5866-4f79-e083-e956a03270a0"
   },
   "outputs": [
    {
     "data": {
      "text/plain": [
       "[('marco', '333123456'),\n",
       " ('chris', '344561233'),\n",
       " ('daniel', '33367409390'),\n",
       " ('jacob', '3339386722'),\n",
       " ('lisa', '344896725'),\n",
       " ('anne', '3339386345'),\n",
       " ('denise', '3449344766')]"
      ]
     },
     "execution_count": 47,
     "metadata": {},
     "output_type": "execute_result"
    }
   ],
   "source": [
    "list(zip(names, numbers))"
   ]
  },
  {
   "cell_type": "code",
   "execution_count": 48,
   "metadata": {
    "colab": {
     "base_uri": "https://localhost:8080/",
     "height": 141
    },
    "id": "D-ya-TJLCmMd",
    "outputId": "f14fe2ef-2e41-49e5-8c19-824fb4a5f4cb"
   },
   "outputs": [
    {
     "name": "stdout",
     "output_type": "stream",
     "text": [
      "marco phone number is 333123456\n",
      "chris phone number is 344561233\n",
      "daniel phone number is 33367409390\n",
      "jacob phone number is 3339386722\n",
      "lisa phone number is 344896725\n",
      "anne phone number is 3339386345\n",
      "denise phone number is 3449344766\n"
     ]
    }
   ],
   "source": [
    "for i,j in zip(names, numbers):\n",
    "  print(i, 'phone number is', j)"
   ]
  },
  {
   "cell_type": "code",
   "execution_count": 50,
   "metadata": {
    "colab": {
     "base_uri": "https://localhost:8080/",
     "height": 141
    },
    "id": "rKN8hmw5CwS9",
    "outputId": "ef2c336a-a665-48c0-efc2-4b80de1689bb"
   },
   "outputs": [
    {
     "data": {
      "text/plain": [
       "{'marco': '333123456',\n",
       " 'chris': '344561233',\n",
       " 'daniel': '33367409390',\n",
       " 'jacob': '3339386722',\n",
       " 'lisa': '344896725',\n",
       " 'anne': '3339386345',\n",
       " 'denise': '3449344766'}"
      ]
     },
     "execution_count": 50,
     "metadata": {},
     "output_type": "execute_result"
    }
   ],
   "source": [
    "# the for statement is versitile and can be used for dictionaries as well using two cycle variable, one for the key and one for the value\n",
    "\n",
    "d = dict(zip(names, numbers))\n",
    "d"
   ]
  },
  {
   "cell_type": "code",
   "execution_count": 52,
   "metadata": {},
   "outputs": [
    {
     "data": {
      "text/plain": [
       "[('marco', '333123456'),\n",
       " ('chris', '344561233'),\n",
       " ('daniel', '33367409390'),\n",
       " ('jacob', '3339386722'),\n",
       " ('lisa', '344896725'),\n",
       " ('anne', '3339386345'),\n",
       " ('denise', '3449344766')]"
      ]
     },
     "execution_count": 52,
     "metadata": {},
     "output_type": "execute_result"
    }
   ],
   "source": [
    "list(d.items())"
   ]
  },
  {
   "cell_type": "code",
   "execution_count": 54,
   "metadata": {
    "colab": {
     "base_uri": "https://localhost:8080/",
     "height": 141
    },
    "id": "RABji4EpD3UM",
    "outputId": "17c59fad-ba8a-4bee-fcc6-cac537b9d658"
   },
   "outputs": [
    {
     "name": "stdout",
     "output_type": "stream",
     "text": [
      "marco phone number is 333123456\n",
      "chris phone number is 344561233\n",
      "daniel phone number is 33367409390\n",
      "jacob phone number is 3339386722\n",
      "lisa phone number is 344896725\n",
      "anne phone number is 3339386345\n",
      "denise phone number is 3449344766\n"
     ]
    }
   ],
   "source": [
    "for k, v in d.items():\n",
    "  print(k, 'phone number is', v)"
   ]
  },
  {
   "cell_type": "code",
   "execution_count": 55,
   "metadata": {},
   "outputs": [
    {
     "data": {
      "text/plain": [
       "{1, 2, 'a', 'b', 'c'}"
      ]
     },
     "execution_count": 55,
     "metadata": {},
     "output_type": "execute_result"
    }
   ],
   "source": [
    "list1 = ['a', 'a', 1, 1, 2, 2, 'b', 'c', 'c']\n",
    "set(list1)"
   ]
  },
  {
   "cell_type": "code",
   "execution_count": 60,
   "metadata": {},
   "outputs": [
    {
     "data": {
      "text/plain": [
       "['marco', 'chris', 'daniel', 'jacob', 'lisa', 'anne', 'denise']"
      ]
     },
     "execution_count": 60,
     "metadata": {},
     "output_type": "execute_result"
    }
   ],
   "source": [
    "names = ['marco', 'chris', 'daniel', 'jacob', 'lisa', 'anne', 'denise']\n",
    "names"
   ]
  },
  {
   "cell_type": "code",
   "execution_count": 62,
   "metadata": {},
   "outputs": [
    {
     "data": {
      "text/plain": [
       "'Ciao'"
      ]
     },
     "execution_count": 62,
     "metadata": {},
     "output_type": "execute_result"
    }
   ],
   "source": [
    "'ciao'.capitalize()"
   ]
  },
  {
   "cell_type": "code",
   "execution_count": 61,
   "metadata": {},
   "outputs": [
    {
     "ename": "NameError",
     "evalue": "name 'capitalize' is not defined",
     "output_type": "error",
     "traceback": [
      "\u001b[0;31m---------------------------------------------------------------------------\u001b[0m",
      "\u001b[0;31mNameError\u001b[0m                                 Traceback (most recent call last)",
      "\u001b[0;32m<ipython-input-61-9ecd1b112b3a>\u001b[0m in \u001b[0;36m<module>\u001b[0;34m\u001b[0m\n\u001b[0;32m----> 1\u001b[0;31m \u001b[0mmap\u001b[0m\u001b[0;34m(\u001b[0m\u001b[0mcapitalize\u001b[0m\u001b[0;34m,\u001b[0m \u001b[0mnames\u001b[0m\u001b[0;34m)\u001b[0m\u001b[0;34m\u001b[0m\u001b[0;34m\u001b[0m\u001b[0m\n\u001b[0m",
      "\u001b[0;31mNameError\u001b[0m: name 'capitalize' is not defined"
     ]
    }
   ],
   "source": [
    "map(capitalize, names)"
   ]
  },
  {
   "cell_type": "code",
   "execution_count": 59,
   "metadata": {},
   "outputs": [
    {
     "name": "stdout",
     "output_type": "stream",
     "text": [
      "['a', 1, 2, 'b', 'c']\n"
     ]
    }
   ],
   "source": [
    "list2 = []\n",
    "for i in tuple(list1):\n",
    "    if i not in list2:\n",
    "        list2.append(i)\n",
    "        \n",
    "print(list2)"
   ]
  },
  {
   "cell_type": "markdown",
   "metadata": {
    "id": "DPw-9VtlsPE4"
   },
   "source": [
    "# The `WHILE` statement, despite being the first and most powerful iteration statement, I think about it as a combination of `FOR` and `IF` and rarely use it (only for infinite loop).\n",
    "\n",
    "```\n",
    "while <condition>:\n",
    "    <block of code>\n",
    "```"
   ]
  },
  {
   "cell_type": "code",
   "execution_count": 3,
   "metadata": {
    "colab": {
     "base_uri": "https://localhost:8080/"
    },
    "id": "0iqMVzJZspzB",
    "outputId": "4ed35571-f190-41b2-b471-1294c8d49d66"
   },
   "outputs": [
    {
     "name": "stdout",
     "output_type": "stream",
     "text": [
      "0\n",
      "1\n",
      "2\n",
      "3\n",
      "4\n"
     ]
    }
   ],
   "source": [
    "a = 0\n",
    "\n",
    "while a < 5:\n",
    "    print(a)\n",
    "    a += 1 # without this line, the loop will never end"
   ]
  },
  {
   "cell_type": "code",
   "execution_count": 4,
   "metadata": {
    "colab": {
     "base_uri": "https://localhost:8080/"
    },
    "id": "aFd1ktLdtfWr",
    "outputId": "4fea4b13-e7df-4091-87e4-7c8ac449eb0c"
   },
   "outputs": [
    {
     "name": "stdout",
     "output_type": "stream",
     "text": [
      "1\n",
      "1\n",
      "2\n",
      "3\n",
      "5\n",
      "8\n",
      "13\n",
      "21\n",
      "34\n",
      "55\n"
     ]
    }
   ],
   "source": [
    "n = 10\n",
    "a, b = 0, 1\n",
    "# a = 0\n",
    "# b = 1\n",
    "while n > 0:\n",
    "    print(b)\n",
    "    n -= 1\n",
    "    a, b = b, a + b\n",
    "    # a = b\n",
    "    # b = a + b"
   ]
  },
  {
   "cell_type": "code",
   "execution_count": 5,
   "metadata": {
    "colab": {
     "base_uri": "https://localhost:8080/"
    },
    "id": "jmlvEzMMuZ_q",
    "outputId": "3bcca778-ea17-400c-d5b1-caac44428480"
   },
   "outputs": [
    {
     "name": "stdout",
     "output_type": "stream",
     "text": [
      "0 1\n",
      "1 1\n",
      "2 2\n",
      "3 3\n",
      "4 5\n",
      "5 8\n",
      "6 13\n",
      "7 21\n",
      "8 34\n",
      "9 55\n"
     ]
    }
   ],
   "source": [
    "n = 0\n",
    "a, b = 0, 1\n",
    "while True:\n",
    "  print(n, b)\n",
    "  n += 1\n",
    "  a, b = b, a + b\n",
    "  if n >= 10:\n",
    "    break"
   ]
  },
  {
   "cell_type": "code",
   "execution_count": 6,
   "metadata": {
    "colab": {
     "base_uri": "https://localhost:8080/"
    },
    "id": "THGiBiMgusjO",
    "outputId": "23d95792-4355-4325-a314-dceb04876388"
   },
   "outputs": [
    {
     "name": "stdout",
     "output_type": "stream",
     "text": [
      "0 1\n",
      "1 1\n",
      "2 2\n",
      "3 3\n",
      "4 5\n",
      "5 8\n",
      "6 13\n",
      "7 21\n",
      "8 34\n",
      "9 55\n"
     ]
    }
   ],
   "source": [
    "n = 0\n",
    "a, b = 0, 1\n",
    "while True:\n",
    "  print(n, b)\n",
    "  n += 1\n",
    "  a, b = b, a + b\n",
    "  if n >= 10:\n",
    "    break"
   ]
  },
  {
   "cell_type": "code",
   "execution_count": 7,
   "metadata": {
    "colab": {
     "base_uri": "https://localhost:8080/"
    },
    "id": "0K-6z0vuwHSz",
    "outputId": "1e82fac9-f9ef-4e2e-b214-dc1fc498b582"
   },
   "outputs": [
    {
     "data": {
      "text/plain": [
       "['a',\n",
       " 'b',\n",
       " 'c',\n",
       " 'd',\n",
       " 'e',\n",
       " 'f',\n",
       " 'g',\n",
       " 'h',\n",
       " 'i',\n",
       " 'j',\n",
       " 'k',\n",
       " 'l',\n",
       " 'm',\n",
       " 'n',\n",
       " 'o',\n",
       " 'p',\n",
       " 'q',\n",
       " 'r',\n",
       " 's',\n",
       " 't',\n",
       " 'u',\n",
       " 'v',\n",
       " 'w',\n",
       " 'x',\n",
       " 'y',\n",
       " 'z']"
      ]
     },
     "execution_count": 7,
     "metadata": {},
     "output_type": "execute_result"
    }
   ],
   "source": [
    "l = [chr(i) for i in range(97, 123)] # ignore this line of code\n",
    "l"
   ]
  },
  {
   "cell_type": "code",
   "execution_count": 8,
   "metadata": {
    "colab": {
     "base_uri": "https://localhost:8080/"
    },
    "id": "aYzYJIspwuby",
    "outputId": "4b6d46bc-3a6d-452e-c82b-0951d55a6fcc"
   },
   "outputs": [
    {
     "name": "stdout",
     "output_type": "stream",
     "text": [
      "a\n",
      "b\n",
      "c\n",
      "d\n",
      "e\n"
     ]
    }
   ],
   "source": [
    "for i in l:\n",
    "  if i == 'f':\n",
    "    break\n",
    "  print(i)\n"
   ]
  },
  {
   "cell_type": "code",
   "execution_count": 13,
   "metadata": {
    "colab": {
     "base_uri": "https://localhost:8080/"
    },
    "id": "ZH-U1UyPw2Yk",
    "outputId": "8db2b2f3-81cc-4afa-b6ed-2a85319bcc6d"
   },
   "outputs": [
    {
     "name": "stdout",
     "output_type": "stream",
     "text": [
      "a\n",
      "b\n",
      "c\n",
      "d\n",
      "e\n",
      "g\n",
      "h\n",
      "i\n",
      "j\n",
      "k\n",
      "l\n",
      "m\n",
      "n\n",
      "o\n",
      "p\n",
      "q\n",
      "r\n",
      "s\n",
      "t\n",
      "u\n",
      "v\n",
      "w\n",
      "x\n",
      "y\n",
      "z\n"
     ]
    }
   ],
   "source": [
    "for my_variable in l:\n",
    "    if my_variable == 'f':\n",
    "        continue\n",
    "    print(my_variable)"
   ]
  },
  {
   "cell_type": "code",
   "execution_count": 14,
   "metadata": {},
   "outputs": [
    {
     "data": {
      "text/plain": [
       "[0,\n",
       " 1,\n",
       " 2,\n",
       " 3,\n",
       " 4,\n",
       " 5,\n",
       " 6,\n",
       " 7,\n",
       " 8,\n",
       " 9,\n",
       " 10,\n",
       " 11,\n",
       " 12,\n",
       " 13,\n",
       " 14,\n",
       " 15,\n",
       " 16,\n",
       " 17,\n",
       " 18,\n",
       " 19,\n",
       " 20,\n",
       " 21,\n",
       " 22,\n",
       " 23,\n",
       " 24,\n",
       " 25]"
      ]
     },
     "execution_count": 14,
     "metadata": {},
     "output_type": "execute_result"
    }
   ],
   "source": [
    "idx = list(range(26))\n",
    "idx"
   ]
  },
  {
   "cell_type": "code",
   "execution_count": 15,
   "metadata": {
    "colab": {
     "base_uri": "https://localhost:8080/"
    },
    "id": "vAzSzcmww_dx",
    "outputId": "77eb9601-f910-4d63-b4b2-60fa909aa192"
   },
   "outputs": [
    {
     "name": "stdout",
     "output_type": "stream",
     "text": [
      "0 a\n",
      "1 b\n",
      "2 c\n",
      "3 d\n",
      "4 e\n",
      "5 f\n",
      "6 g\n",
      "7 h\n",
      "8 i\n",
      "9 j\n",
      "10 k\n",
      "11 l\n",
      "12 m\n",
      "13 n\n",
      "14 o\n",
      "15 p\n",
      "16 q\n",
      "17 r\n",
      "18 s\n",
      "19 t\n",
      "20 u\n",
      "21 v\n",
      "22 w\n",
      "23 x\n",
      "24 y\n",
      "25 z\n"
     ]
    }
   ],
   "source": [
    "# do you remember the zip function? We can loop on 2 variables\n",
    "idx = range(26)\n",
    "\n",
    "for i, j in zip(idx, l):\n",
    "    print(i, j) "
   ]
  },
  {
   "cell_type": "code",
   "execution_count": 17,
   "metadata": {
    "colab": {
     "base_uri": "https://localhost:8080/"
    },
    "id": "MtYYD_tXxbNr",
    "outputId": "f7c98721-bb58-4cdd-cf9f-75e699f3767c"
   },
   "outputs": [
    {
     "name": "stdout",
     "output_type": "stream",
     "text": [
      "0 a\n",
      "1 b\n",
      "2 c\n",
      "3 d\n",
      "4 e\n",
      "5 f\n",
      "6 g\n",
      "7 h\n",
      "8 i\n",
      "9 j\n",
      "10 k\n",
      "11 l\n",
      "12 m\n",
      "13 n\n",
      "14 o\n",
      "15 p\n",
      "16 q\n",
      "17 r\n",
      "18 s\n",
      "19 t\n",
      "20 u\n",
      "21 v\n",
      "22 w\n",
      "23 x\n",
      "24 y\n",
      "25 z\n"
     ]
    }
   ],
   "source": [
    "# we can obtain the same using enumerate\n",
    "for i, j in enumerate(l):\n",
    "    print(i, j)"
   ]
  },
  {
   "cell_type": "code",
   "execution_count": 18,
   "metadata": {
    "colab": {
     "base_uri": "https://localhost:8080/"
    },
    "id": "l5qvvbUqxl_x",
    "outputId": "e3739dab-8df2-4acd-a0c7-3f3de2fed276"
   },
   "outputs": [
    {
     "data": {
      "text/plain": [
       "True"
      ]
     },
     "execution_count": 18,
     "metadata": {},
     "output_type": "execute_result"
    }
   ],
   "source": [
    "list(enumerate(l)) == list(zip(range(len(l)), l))"
   ]
  },
  {
   "cell_type": "markdown",
   "metadata": {
    "id": "5J9RojibKlUb"
   },
   "source": [
    "# Exercises"
   ]
  },
  {
   "cell_type": "code",
   "execution_count": 21,
   "metadata": {
    "colab": {
     "base_uri": "https://localhost:8080/"
    },
    "id": "MEUm6-jEyhpd",
    "outputId": "b82e7dbf-c490-48ad-b77e-64cde500dfff"
   },
   "outputs": [],
   "source": [
    "# write the code for the fibonacci series using the for loop\n",
    "\n",
    "# print * instead of number for the previous algorithm, i.e.\n",
    "# *\n",
    "# *\n",
    "# **\n",
    "# ***\n",
    "# *****\n",
    "# ********\n",
    "\n",
    "# given the following list\n",
    "names = ['anne', 'chris', 'daniel', 'denise', 'jacob', 'lisa', 'maria', 'jack', 'rose', 'adele', 'max', 'sue']\n",
    "\n",
    "# create a list of all the possible couples\n",
    "\n",
    "# given the two following lists\n",
    "names = ['anne', 'chris', 'daniel', 'denise', 'jacob', 'lisa', 'maria', 'jack', 'rose', 'adele', 'max', 'sue']\n",
    "letters = ['a', 'b', 'c', 'd', 'e', 'f', 'g', 'h', 'i', 'j', 'k', 'l', 'm', 'n', 'o', 'p', 'q', 'r', 's', 't', 'u', 'v', 'w', 'x', 'y', 'z']\n",
    "\n",
    "# create a dictionary where the keys are letters and values are lists of names starting with that letter\n"
   ]
  },
  {
   "cell_type": "code",
   "execution_count": 50,
   "metadata": {},
   "outputs": [
    {
     "name": "stdout",
     "output_type": "stream",
     "text": [
      "{'a': ['anne', 'adele'], 'b': [], 'c': ['chris'], 'd': ['daniel', 'denise'], 'e': [], 'f': [], 'g': [], 'h': [], 'i': [], 'j': ['jacob', 'jack'], 'k': [], 'l': ['lisa'], 'm': ['maria', 'max'], 'n': [], 'o': [], 'p': [], 'q': [], 'r': ['rose'], 's': ['sue'], 't': [], 'u': [], 'v': [], 'w': [], 'x': [], 'y': [], 'z': []}\n"
     ]
    }
   ],
   "source": [
    "# given the two following lists\n",
    "names_d = {}\n",
    "names = ['anne', 'chris', 'daniel', 'denise', 'jacob', 'lisa', 'maria', 'jack', 'rose', 'adele', 'max', 'sue']\n",
    "letters = ['a', 'b', 'c', 'd', 'e', 'f', 'g', 'h', 'i', 'j', 'k', 'l', 'm', 'n', 'o', 'p', 'q', 'r', 's', 't', 'u', 'v', 'w', 'x', 'y', 'z']\n",
    "# create a dictionary where the keys are letters and values are lists of names starting with that letter\n",
    "for i in letters:\n",
    "    names_d[i] = list()\n",
    "    for h in names:\n",
    "        if h.startswith(i): # h[0] == i\n",
    "            names_d[i].append(h)\n",
    "print(names_d) "
   ]
  },
  {
   "cell_type": "code",
   "execution_count": 19,
   "metadata": {},
   "outputs": [
    {
     "name": "stdout",
     "output_type": "stream",
     "text": [
      "*\n",
      "**\n",
      "***\n",
      "*****\n",
      "********\n",
      "*************\n",
      "*********************\n",
      "**********************************\n",
      "*******************************************************\n",
      "*****************************************************************************************\n"
     ]
    }
   ],
   "source": [
    "# luis\n",
    "a, b = 0, 1\n",
    "for i in range(10):\n",
    "    a, b = b, a + b\n",
    "    ast = \"*\" * b\n",
    "    print(ast)"
   ]
  },
  {
   "cell_type": "code",
   "execution_count": 46,
   "metadata": {},
   "outputs": [
    {
     "name": "stdout",
     "output_type": "stream",
     "text": [
      "BREAK, anne anne\n",
      "chris anne\n",
      "BREAK, chris chris\n",
      "daniel anne\n",
      "daniel chris\n",
      "BREAK, daniel daniel\n",
      "denise anne\n",
      "denise chris\n",
      "denise daniel\n",
      "BREAK, denise denise\n",
      "jacob anne\n",
      "jacob chris\n",
      "jacob daniel\n",
      "jacob denise\n",
      "BREAK, jacob jacob\n",
      "lisa anne\n",
      "lisa chris\n",
      "lisa daniel\n",
      "lisa denise\n",
      "lisa jacob\n",
      "BREAK, lisa lisa\n",
      "maria anne\n",
      "maria chris\n",
      "maria daniel\n",
      "maria denise\n",
      "maria jacob\n",
      "maria lisa\n",
      "BREAK, maria maria\n",
      "jack anne\n",
      "jack chris\n",
      "jack daniel\n",
      "jack denise\n",
      "jack jacob\n",
      "jack lisa\n",
      "jack maria\n",
      "BREAK, jack jack\n",
      "rose anne\n",
      "rose chris\n",
      "rose daniel\n",
      "rose denise\n",
      "rose jacob\n",
      "rose lisa\n",
      "rose maria\n",
      "rose jack\n",
      "BREAK, rose rose\n",
      "adele anne\n",
      "adele chris\n",
      "adele daniel\n",
      "adele denise\n",
      "adele jacob\n",
      "adele lisa\n",
      "adele maria\n",
      "adele jack\n",
      "adele rose\n",
      "BREAK, adele adele\n",
      "max anne\n",
      "max chris\n",
      "max daniel\n",
      "max denise\n",
      "max jacob\n",
      "max lisa\n",
      "max maria\n",
      "max jack\n",
      "max rose\n",
      "max adele\n",
      "BREAK, max max\n",
      "sue anne\n",
      "sue chris\n",
      "sue daniel\n",
      "sue denise\n",
      "sue jacob\n",
      "sue lisa\n",
      "sue maria\n",
      "sue jack\n",
      "sue rose\n",
      "sue adele\n",
      "sue max\n",
      "BREAK, sue sue\n"
     ]
    }
   ],
   "source": [
    "# MG\n",
    "for i in names:\n",
    "    for j in names:\n",
    "        if i == j:\n",
    "            print('BREAK,', i, j)\n",
    "            break\n",
    "        print(i,j)"
   ]
  },
  {
   "cell_type": "code",
   "execution_count": 47,
   "metadata": {},
   "outputs": [
    {
     "name": "stdout",
     "output_type": "stream",
     "text": [
      "['anne', 'chris']\n",
      "['anne', 'daniel']\n",
      "['anne', 'denise']\n",
      "['anne', 'jacob']\n",
      "['anne', 'lisa']\n",
      "['anne', 'maria']\n",
      "['anne', 'jack']\n",
      "['anne', 'rose']\n",
      "['anne', 'adele']\n",
      "['anne', 'max']\n",
      "['anne', 'sue']\n",
      "['chris', 'daniel']\n",
      "['chris', 'denise']\n",
      "['chris', 'jacob']\n",
      "['chris', 'lisa']\n",
      "['chris', 'maria']\n",
      "['chris', 'jack']\n",
      "['chris', 'rose']\n",
      "['chris', 'adele']\n",
      "['chris', 'max']\n",
      "['chris', 'sue']\n",
      "['daniel', 'denise']\n",
      "['daniel', 'jacob']\n",
      "['daniel', 'lisa']\n",
      "['daniel', 'maria']\n",
      "['daniel', 'jack']\n",
      "['daniel', 'rose']\n",
      "['daniel', 'adele']\n",
      "['daniel', 'max']\n",
      "['daniel', 'sue']\n",
      "['denise', 'jacob']\n",
      "['denise', 'lisa']\n",
      "['denise', 'maria']\n",
      "['denise', 'jack']\n",
      "['denise', 'rose']\n",
      "['denise', 'adele']\n",
      "['denise', 'max']\n",
      "['denise', 'sue']\n",
      "['jacob', 'lisa']\n",
      "['jacob', 'maria']\n",
      "['jacob', 'jack']\n",
      "['jacob', 'rose']\n",
      "['jacob', 'adele']\n",
      "['jacob', 'max']\n",
      "['jacob', 'sue']\n",
      "['lisa', 'maria']\n",
      "['lisa', 'jack']\n",
      "['lisa', 'rose']\n",
      "['lisa', 'adele']\n",
      "['lisa', 'max']\n",
      "['lisa', 'sue']\n",
      "['maria', 'jack']\n",
      "['maria', 'rose']\n",
      "['maria', 'adele']\n",
      "['maria', 'max']\n",
      "['maria', 'sue']\n",
      "['jack', 'rose']\n",
      "['jack', 'adele']\n",
      "['jack', 'max']\n",
      "['jack', 'sue']\n",
      "['rose', 'adele']\n",
      "['rose', 'max']\n",
      "['rose', 'sue']\n",
      "['adele', 'max']\n",
      "['adele', 'sue']\n",
      "['max', 'sue']\n"
     ]
    }
   ],
   "source": [
    "for x in range(0,len(names)):\n",
    "    for y in range(x+1,len(names)):\n",
    "        print([names[x], names[y]])"
   ]
  },
  {
   "cell_type": "code",
   "execution_count": 28,
   "metadata": {},
   "outputs": [
    {
     "name": "stdout",
     "output_type": "stream",
     "text": [
      "[('anne', 'chris'), ('anne', 'daniel'), ('anne', 'denise'), ('anne', 'jacob'), ('anne', 'lisa'), ('anne', 'maria'), ('anne', 'jack'), ('anne', 'rose'), ('anne', 'adele'), ('anne', 'max'), ('anne', 'sue'), ('chris', 'daniel'), ('chris', 'denise'), ('chris', 'jacob'), ('chris', 'lisa'), ('chris', 'maria'), ('chris', 'jack'), ('chris', 'rose'), ('chris', 'adele'), ('chris', 'max'), ('chris', 'sue'), ('daniel', 'denise'), ('daniel', 'jacob'), ('daniel', 'lisa'), ('daniel', 'maria'), ('daniel', 'jack'), ('daniel', 'rose'), ('daniel', 'adele'), ('daniel', 'max'), ('daniel', 'sue'), ('denise', 'jacob'), ('denise', 'lisa'), ('denise', 'maria'), ('denise', 'jack'), ('denise', 'rose'), ('denise', 'adele'), ('denise', 'max'), ('denise', 'sue'), ('jacob', 'lisa'), ('jacob', 'maria'), ('jacob', 'jack'), ('jacob', 'rose'), ('jacob', 'adele'), ('jacob', 'max'), ('jacob', 'sue'), ('lisa', 'maria'), ('lisa', 'jack'), ('lisa', 'rose'), ('lisa', 'adele'), ('lisa', 'max'), ('lisa', 'sue'), ('maria', 'jack'), ('maria', 'rose'), ('maria', 'adele'), ('maria', 'max'), ('maria', 'sue'), ('jack', 'rose'), ('jack', 'adele'), ('jack', 'max'), ('jack', 'sue'), ('rose', 'adele'), ('rose', 'max'), ('rose', 'sue'), ('adele', 'max'), ('adele', 'sue'), ('max', 'sue')]\n",
      "[('anne', 'chris'), ('anne', 'daniel'), ('anne', 'denise'), ('anne', 'jacob'), ('anne', 'lisa'), ('anne', 'maria'), ('anne', 'jack'), ('anne', 'rose'), ('anne', 'adele'), ('anne', 'max'), ('anne', 'sue'), ('chris', 'daniel'), ('chris', 'denise'), ('chris', 'jacob'), ('chris', 'lisa'), ('chris', 'maria'), ('chris', 'jack'), ('chris', 'rose'), ('chris', 'adele'), ('chris', 'max'), ('chris', 'sue'), ('daniel', 'denise'), ('daniel', 'jacob'), ('daniel', 'lisa'), ('daniel', 'maria'), ('daniel', 'jack'), ('daniel', 'rose'), ('daniel', 'adele'), ('daniel', 'max'), ('daniel', 'sue'), ('denise', 'jacob'), ('denise', 'lisa'), ('denise', 'maria'), ('denise', 'jack'), ('denise', 'rose'), ('denise', 'adele'), ('denise', 'max'), ('denise', 'sue'), ('jacob', 'lisa'), ('jacob', 'maria'), ('jacob', 'jack'), ('jacob', 'rose'), ('jacob', 'adele'), ('jacob', 'max'), ('jacob', 'sue'), ('lisa', 'maria'), ('lisa', 'jack'), ('lisa', 'rose'), ('lisa', 'adele'), ('lisa', 'max'), ('lisa', 'sue'), ('maria', 'jack'), ('maria', 'rose'), ('maria', 'adele'), ('maria', 'max'), ('maria', 'sue'), ('jack', 'rose'), ('jack', 'adele'), ('jack', 'max'), ('jack', 'sue'), ('rose', 'adele'), ('rose', 'max'), ('rose', 'sue'), ('adele', 'max'), ('adele', 'sue'), ('max', 'sue')]\n",
      "{'a': ['anne', 'adele'], 'b': [], 'c': ['chris'], 'd': ['daniel', 'denise'], 'e': [], 'f': [], 'g': [], 'h': [], 'i': [], 'j': ['jacob', 'jack'], 'k': [], 'l': ['lisa'], 'm': ['maria', 'max'], 'n': [], 'o': [], 'p': [], 'q': [], 'r': ['rose'], 's': ['sue'], 't': [], 'u': [], 'v': [], 'w': [], 'x': [], 'y': [], 'z': []}\n"
     ]
    }
   ],
   "source": [
    "# marco\n",
    "couples = []\n",
    "for n1 in names:\n",
    "    for n2 in names:\n",
    "        if n1 == n2:\n",
    "            continue\n",
    "        if (n1, n2) in couples or (n2, n1) in couples:\n",
    "            continue\n",
    "        couples.append((n1, n2))\n",
    "print(couples)\n",
    "\n",
    "couples = []\n",
    "for i, n1 in enumerate(names):\n",
    "    for j, n2 in enumerate(names[i+1:]):\n",
    "        couples.append((n1, n2))\n",
    "print(couples)\n",
    "\n",
    "d = {}\n",
    "for l in letters:\n",
    "    d[l] = []\n",
    "for n in names:\n",
    "    d[n[0]].append(n)\n",
    "print(d)"
   ]
  },
  {
   "cell_type": "code",
   "execution_count": 51,
   "metadata": {
    "colab": {
     "base_uri": "https://localhost:8080/",
     "height": 34
    },
    "id": "eaWDzeiqEBr6",
    "outputId": "8f69d8cc-b24e-4afd-e033-cd1d14a4c47d"
   },
   "outputs": [
    {
     "name": "stdout",
     "output_type": "stream",
     "text": [
      "[0, 1, 4, 9, 16, 25, 36, 49, 64, 81]\n"
     ]
    }
   ],
   "source": [
    "# list comprehension is a faster way to create lists in Python\n",
    "\n",
    "a = []\n",
    "for i in range(10):\n",
    "    a.append(i**2)\n",
    "\n",
    "print(a)"
   ]
  },
  {
   "cell_type": "code",
   "execution_count": 55,
   "metadata": {
    "colab": {
     "base_uri": "https://localhost:8080/",
     "height": 34
    },
    "id": "W4Yfp9kuLN-i",
    "outputId": "d9a0785d-8d67-4b27-8d79-75e90427f2c3"
   },
   "outputs": [
    {
     "name": "stdout",
     "output_type": "stream",
     "text": [
      "[2, 3, 4, 5, 6, 7, 8, 9, 10, 11]\n"
     ]
    }
   ],
   "source": [
    "a = [i+2 for i in range(10)]\n",
    "print(a)"
   ]
  },
  {
   "cell_type": "code",
   "execution_count": 57,
   "metadata": {
    "colab": {
     "base_uri": "https://localhost:8080/",
     "height": 34
    },
    "id": "IMN26ez6LYjM",
    "outputId": "c7697537-19be-41cf-d5a2-1f8f67a86d44"
   },
   "outputs": [
    {
     "data": {
      "text/plain": [
       "('a', 'z')"
      ]
     },
     "execution_count": 57,
     "metadata": {},
     "output_type": "execute_result"
    }
   ],
   "source": [
    "# chr and ord are two functions that convert respectively a number ascii code into the corresponding character and vice-versa\n",
    "\n",
    "chr(97), chr(122)"
   ]
  },
  {
   "cell_type": "code",
   "execution_count": 58,
   "metadata": {},
   "outputs": [
    {
     "data": {
      "text/plain": [
       "['a',\n",
       " 'b',\n",
       " 'c',\n",
       " 'd',\n",
       " 'e',\n",
       " 'f',\n",
       " 'g',\n",
       " 'h',\n",
       " 'i',\n",
       " 'j',\n",
       " 'k',\n",
       " 'l',\n",
       " 'm',\n",
       " 'n',\n",
       " 'o',\n",
       " 'p',\n",
       " 'q',\n",
       " 'r',\n",
       " 's',\n",
       " 't',\n",
       " 'u',\n",
       " 'v',\n",
       " 'w',\n",
       " 'x',\n",
       " 'y',\n",
       " 'z']"
      ]
     },
     "execution_count": 58,
     "metadata": {},
     "output_type": "execute_result"
    }
   ],
   "source": [
    "[chr(i) for i in range(97, 123)]"
   ]
  },
  {
   "cell_type": "code",
   "execution_count": 59,
   "metadata": {
    "colab": {
     "base_uri": "https://localhost:8080/",
     "height": 34
    },
    "id": "tY6T5E2WLrn3",
    "outputId": "65d33002-41c3-41f6-82a9-4035e8cf8cd2"
   },
   "outputs": [
    {
     "data": {
      "text/plain": [
       "(97, 98)"
      ]
     },
     "execution_count": 59,
     "metadata": {},
     "output_type": "execute_result"
    }
   ],
   "source": [
    "ord('a'), ord('b')"
   ]
  },
  {
   "cell_type": "code",
   "execution_count": 60,
   "metadata": {
    "colab": {
     "base_uri": "https://localhost:8080/",
     "height": 34
    },
    "id": "xloYiYH9Lwcj",
    "outputId": "7d9c74af-e69e-47c3-a68b-83eab8ccea47"
   },
   "outputs": [
    {
     "name": "stdout",
     "output_type": "stream",
     "text": [
      "['a', 'b', 'c', 'd', 'e', 'f', 'g', 'h', 'i', 'j', 'k', 'l', 'm', 'n', 'o', 'p', 'q', 'r', 's', 't', 'u', 'v', 'w', 'x', 'y', 'z']\n"
     ]
    }
   ],
   "source": [
    "letters = []\n",
    "for i in range(97, 97 + 26):\n",
    "    letters.append(chr(i))\n",
    "\n",
    "print(letters)"
   ]
  },
  {
   "cell_type": "code",
   "execution_count": 61,
   "metadata": {
    "colab": {
     "base_uri": "https://localhost:8080/",
     "height": 34
    },
    "id": "jHbIXgf0MIlc",
    "outputId": "05572dd6-f5f1-447b-856f-cb1abe24e702"
   },
   "outputs": [
    {
     "name": "stdout",
     "output_type": "stream",
     "text": [
      "['a', 'b', 'c', 'd', 'e', 'f', 'g', 'h', 'i', 'j', 'k', 'l', 'm', 'n', 'o', 'p', 'q', 'r', 's', 't', 'u', 'v', 'w', 'x', 'y', 'z']\n"
     ]
    }
   ],
   "source": [
    "letters = [chr(i) for i in range(97, 97 + 26)]\n",
    "print(letters)"
   ]
  },
  {
   "cell_type": "code",
   "execution_count": 63,
   "metadata": {},
   "outputs": [
    {
     "data": {
      "text/plain": [
       "[0, 1, 2, 3, 4, 5, 6, 7, 8, 9]"
      ]
     },
     "execution_count": 63,
     "metadata": {},
     "output_type": "execute_result"
    }
   ],
   "source": [
    "[i for i in range(10)]\n"
   ]
  },
  {
   "cell_type": "code",
   "execution_count": 64,
   "metadata": {
    "colab": {
     "base_uri": "https://localhost:8080/",
     "height": 34
    },
    "id": "z-ltEhXIMP7G",
    "outputId": "bb677963-b2f9-4fa3-c1c5-de3d5632c5b8"
   },
   "outputs": [
    {
     "name": "stdout",
     "output_type": "stream",
     "text": [
      "[1, 3, 5, 7, 9]\n"
     ]
    }
   ],
   "source": [
    "odd_numbers = [i for i in range(10) if i % 2]\n",
    "print(odd_numbers)"
   ]
  },
  {
   "cell_type": "code",
   "execution_count": 65,
   "metadata": {
    "colab": {
     "base_uri": "https://localhost:8080/",
     "height": 478
    },
    "id": "iY0v9hSmMfiw",
    "outputId": "e10376be-fb8a-412e-ba15-55c5e81ad2a8"
   },
   "outputs": [
    {
     "data": {
      "text/plain": [
       "{'a': 97,\n",
       " 'b': 98,\n",
       " 'c': 99,\n",
       " 'd': 100,\n",
       " 'e': 101,\n",
       " 'f': 102,\n",
       " 'g': 103,\n",
       " 'h': 104,\n",
       " 'i': 105,\n",
       " 'j': 106,\n",
       " 'k': 107,\n",
       " 'l': 108,\n",
       " 'm': 109,\n",
       " 'n': 110,\n",
       " 'o': 111,\n",
       " 'p': 112,\n",
       " 'q': 113,\n",
       " 'r': 114,\n",
       " 's': 115,\n",
       " 't': 116,\n",
       " 'u': 117,\n",
       " 'v': 118,\n",
       " 'w': 119,\n",
       " 'x': 120,\n",
       " 'y': 121,\n",
       " 'z': 122}"
      ]
     },
     "execution_count": 65,
     "metadata": {},
     "output_type": "execute_result"
    }
   ],
   "source": [
    "{chr(i): i for i in range(97, 123)} # what is it?"
   ]
  },
  {
   "cell_type": "code",
   "execution_count": 66,
   "metadata": {
    "colab": {
     "base_uri": "https://localhost:8080/"
    },
    "id": "-XO1uBpbx1er",
    "outputId": "f4681a97-909e-4bc5-f0ba-7eafec44194f"
   },
   "outputs": [
    {
     "data": {
      "text/plain": [
       "[1, 3, 5, 7, 9]"
      ]
     },
     "execution_count": 66,
     "metadata": {},
     "output_type": "execute_result"
    }
   ],
   "source": [
    "# you can use if and else within the list comprehension but with a bit different syntax\n",
    "[x for x in range(10) if x % 2 == 1]"
   ]
  },
  {
   "cell_type": "code",
   "execution_count": 67,
   "metadata": {
    "colab": {
     "base_uri": "https://localhost:8080/"
    },
    "id": "FlofTGYRyBlc",
    "outputId": "43e4c565-ff24-4eb2-91a4-2dedc1c1b32c"
   },
   "outputs": [
    {
     "data": {
      "text/plain": [
       "['*', 1, '*', 3, '*', 5, '*', 7, '*', 9]"
      ]
     },
     "execution_count": 67,
     "metadata": {},
     "output_type": "execute_result"
    }
   ],
   "source": [
    "[x if x % 2 == 1 else '*' for x in range(10)]"
   ]
  },
  {
   "cell_type": "markdown",
   "metadata": {
    "id": "9_-CHv_nPxyy"
   },
   "source": [
    "# Exercises"
   ]
  },
  {
   "cell_type": "code",
   "execution_count": 74,
   "metadata": {
    "colab": {
     "base_uri": "https://localhost:8080/"
    },
    "id": "qwOotJaZwzhJ",
    "outputId": "906cc547-5d6a-42df-ba52-a96c4fd418b5"
   },
   "outputs": [],
   "source": [
    "# given the two following lists\n",
    "names = ['anne', 'chris', 'daniel', 'denise', 'jacob', 'lisa', 'maria', 'jack', 'rose', 'adele', 'max', 'sue']\n",
    "letters = ['a', 'b', 'c', 'd', 'e', 'f', 'g', 'h', 'i', 'j', 'k', 'l', 'm', 'n', 'o', 'p', 'q', 'r', 's', 't', 'u', 'v', 'w', 'x', 'y', 'z']\n",
    "\n",
    "# create a dictionary where keys are items' names and value is its length\n",
    "\n",
    "# create a dictionary where the keys are letters and values are lists of names starting with that letter, but this time with list/dict comprehension if possible\n",
    "\n",
    "# consider the following list\n",
    "idx = [2, 1, 11, 7, 0, 3, 4, 8, 5, 10, 9, 6]\n",
    "\n",
    "# reorder names using idx as the index order, that is anne should be moved to third position, index 2 instead of first position, index 0\n",
    "\n",
    "# create a dictionary with two keys 'even' and 'odd' an put as values the first 25 even and the first 25 odd numbers respectively\n"
   ]
  },
  {
   "cell_type": "code",
   "execution_count": 78,
   "metadata": {},
   "outputs": [],
   "source": [
    "d = {i:len(i) for i in names}"
   ]
  },
  {
   "cell_type": "code",
   "execution_count": 79,
   "metadata": {},
   "outputs": [],
   "source": [
    "dd = [{i:len(i)} for i in names]"
   ]
  },
  {
   "cell_type": "code",
   "execution_count": 71,
   "metadata": {},
   "outputs": [
    {
     "data": {
      "text/plain": [
       "[{'a', 'anne'},\n",
       " {'b': ''},\n",
       " {'c': ''},\n",
       " {'d', 'denise'},\n",
       " {'e': ''},\n",
       " {'f': ''},\n",
       " {'g': ''},\n",
       " {'h': ''},\n",
       " {'i': ''},\n",
       " {'j': ''},\n",
       " {'k': ''},\n",
       " {'l': ''}]"
      ]
     },
     "execution_count": 71,
     "metadata": {},
     "output_type": "execute_result"
    }
   ],
   "source": [
    "[{i,j} if j[0] == i else {i:''} for i,j in zip(letters, names)]"
   ]
  },
  {
   "cell_type": "code",
   "execution_count": 72,
   "metadata": {},
   "outputs": [
    {
     "data": {
      "text/plain": [
       "{'a': ['anne', 'adele'],\n",
       " 'b': [],\n",
       " 'c': ['chris'],\n",
       " 'd': ['daniel', 'denise'],\n",
       " 'e': [],\n",
       " 'f': [],\n",
       " 'g': [],\n",
       " 'h': [],\n",
       " 'i': [],\n",
       " 'j': ['jacob', 'jack'],\n",
       " 'k': [],\n",
       " 'l': ['lisa'],\n",
       " 'm': ['maria', 'max'],\n",
       " 'n': [],\n",
       " 'o': [],\n",
       " 'p': [],\n",
       " 'q': [],\n",
       " 'r': ['rose'],\n",
       " 's': ['sue'],\n",
       " 't': [],\n",
       " 'u': [],\n",
       " 'v': [],\n",
       " 'w': [],\n",
       " 'x': [],\n",
       " 'y': [],\n",
       " 'z': []}"
      ]
     },
     "execution_count": 72,
     "metadata": {},
     "output_type": "execute_result"
    }
   ],
   "source": [
    " { i: list(h for h in names if h[0] == i) for i in letters}"
   ]
  },
  {
   "cell_type": "code",
   "execution_count": 87,
   "metadata": {},
   "outputs": [
    {
     "data": {
      "text/plain": [
       "{'a': [],\n",
       " 'b': [],\n",
       " 'c': [],\n",
       " 'd': [],\n",
       " 'e': [],\n",
       " 'f': [],\n",
       " 'g': [],\n",
       " 'h': [],\n",
       " 'i': [],\n",
       " 'j': [],\n",
       " 'k': [],\n",
       " 'l': [],\n",
       " 'm': [],\n",
       " 'n': [],\n",
       " 'o': [],\n",
       " 'p': [],\n",
       " 'q': [],\n",
       " 'r': [],\n",
       " 's': [],\n",
       " 't': [],\n",
       " 'u': [],\n",
       " 'v': [],\n",
       " 'w': [],\n",
       " 'x': [],\n",
       " 'y': [],\n",
       " 'z': []}"
      ]
     },
     "execution_count": 87,
     "metadata": {},
     "output_type": "execute_result"
    }
   ],
   "source": [
    "d = {l: [] for l in letters for n in names}\n",
    "d"
   ]
  },
  {
   "cell_type": "code",
   "execution_count": 88,
   "metadata": {},
   "outputs": [
    {
     "name": "stdout",
     "output_type": "stream",
     "text": [
      "{'a': ['anne', 'adele'], 'b': [], 'c': ['chris'], 'd': ['daniel', 'denise'], 'e': [], 'f': [], 'g': [], 'h': [], 'i': [], 'j': ['jacob', 'jack'], 'k': [], 'l': ['lisa'], 'm': ['maria', 'max'], 'n': [], 'o': [], 'p': [], 'q': [], 'r': ['rose'], 's': ['sue'], 't': [], 'u': [], 'v': [], 'w': [], 'x': [], 'y': [], 'z': []}\n"
     ]
    }
   ],
   "source": [
    "for n in names:\n",
    "    key = n[0]\n",
    "    d[key].append(n)\n",
    "print(d)"
   ]
  },
  {
   "cell_type": "code",
   "execution_count": 89,
   "metadata": {},
   "outputs": [],
   "source": [
    "a = list(zip(idx, names))"
   ]
  },
  {
   "cell_type": "code",
   "execution_count": 90,
   "metadata": {},
   "outputs": [
    {
     "data": {
      "text/plain": [
       "[(2, 'anne'),\n",
       " (1, 'chris'),\n",
       " (11, 'daniel'),\n",
       " (7, 'denise'),\n",
       " (0, 'jacob'),\n",
       " (3, 'lisa'),\n",
       " (4, 'maria'),\n",
       " (8, 'jack'),\n",
       " (5, 'rose'),\n",
       " (10, 'adele'),\n",
       " (9, 'max'),\n",
       " (6, 'sue')]"
      ]
     },
     "execution_count": 90,
     "metadata": {},
     "output_type": "execute_result"
    }
   ],
   "source": [
    "a"
   ]
  },
  {
   "cell_type": "code",
   "execution_count": 91,
   "metadata": {},
   "outputs": [
    {
     "data": {
      "text/plain": [
       "[(0, 'jacob'),\n",
       " (1, 'chris'),\n",
       " (2, 'anne'),\n",
       " (3, 'lisa'),\n",
       " (4, 'maria'),\n",
       " (5, 'rose'),\n",
       " (6, 'sue'),\n",
       " (7, 'denise'),\n",
       " (8, 'jack'),\n",
       " (9, 'max'),\n",
       " (10, 'adele'),\n",
       " (11, 'daniel')]"
      ]
     },
     "execution_count": 91,
     "metadata": {},
     "output_type": "execute_result"
    }
   ],
   "source": [
    "sorted(a)"
   ]
  },
  {
   "cell_type": "code",
   "execution_count": 94,
   "metadata": {},
   "outputs": [
    {
     "data": {
      "text/plain": [
       "[(2, 'anne'),\n",
       " (1, 'chris'),\n",
       " (11, 'daniel'),\n",
       " (7, 'denise'),\n",
       " (0, 'jacob'),\n",
       " (3, 'lisa'),\n",
       " (4, 'maria'),\n",
       " (8, 'jack'),\n",
       " (5, 'rose'),\n",
       " (10, 'adele'),\n",
       " (9, 'max'),\n",
       " (6, 'sue')]"
      ]
     },
     "execution_count": 94,
     "metadata": {},
     "output_type": "execute_result"
    }
   ],
   "source": [
    "[i for i in zip(idx,names)]"
   ]
  },
  {
   "cell_type": "code",
   "execution_count": 97,
   "metadata": {},
   "outputs": [
    {
     "data": {
      "text/plain": [
       "['jacob',\n",
       " 'chris',\n",
       " 'anne',\n",
       " 'lisa',\n",
       " 'maria',\n",
       " 'rose',\n",
       " 'sue',\n",
       " 'denise',\n",
       " 'jack',\n",
       " 'max',\n",
       " 'adele',\n",
       " 'daniel']"
      ]
     },
     "execution_count": 97,
     "metadata": {},
     "output_type": "execute_result"
    }
   ],
   "source": [
    "sorted_names = sorted(list(zip(idx, names)))\n",
    "[i[1] for i in sorted_names]"
   ]
  },
  {
   "cell_type": "code",
   "execution_count": 76,
   "metadata": {},
   "outputs": [
    {
     "data": {
      "text/plain": [
       "[(0, 'jacob'),\n",
       " (1, 'chris'),\n",
       " (2, 'anne'),\n",
       " (3, 'lisa'),\n",
       " (4, 'maria'),\n",
       " (5, 'rose'),\n",
       " (6, 'sue'),\n",
       " (7, 'denise'),\n",
       " (8, 'jack'),\n",
       " (9, 'max'),\n",
       " (10, 'adele'),\n",
       " (11, 'daniel')]"
      ]
     },
     "execution_count": 76,
     "metadata": {},
     "output_type": "execute_result"
    }
   ],
   "source": [
    "sorted([i for i in zip(idx,names)])"
   ]
  },
  {
   "cell_type": "code",
   "execution_count": 99,
   "metadata": {},
   "outputs": [],
   "source": [
    "reordered = names.copy()"
   ]
  },
  {
   "cell_type": "code",
   "execution_count": 100,
   "metadata": {},
   "outputs": [
    {
     "data": {
      "text/plain": [
       "True"
      ]
     },
     "execution_count": 100,
     "metadata": {},
     "output_type": "execute_result"
    }
   ],
   "source": [
    "reordered == names"
   ]
  },
  {
   "cell_type": "code",
   "execution_count": 101,
   "metadata": {},
   "outputs": [
    {
     "data": {
      "text/plain": [
       "140689573554112"
      ]
     },
     "execution_count": 101,
     "metadata": {},
     "output_type": "execute_result"
    }
   ],
   "source": [
    "id(reordered)"
   ]
  },
  {
   "cell_type": "code",
   "execution_count": 102,
   "metadata": {},
   "outputs": [
    {
     "data": {
      "text/plain": [
       "140689573175936"
      ]
     },
     "execution_count": 102,
     "metadata": {},
     "output_type": "execute_result"
    }
   ],
   "source": [
    "id(names)"
   ]
  },
  {
   "cell_type": "code",
   "execution_count": 104,
   "metadata": {},
   "outputs": [
    {
     "data": {
      "text/plain": [
       "[(0, 2),\n",
       " (1, 1),\n",
       " (2, 11),\n",
       " (3, 7),\n",
       " (4, 0),\n",
       " (5, 3),\n",
       " (6, 4),\n",
       " (7, 8),\n",
       " (8, 5),\n",
       " (9, 10),\n",
       " (10, 9),\n",
       " (11, 6)]"
      ]
     },
     "execution_count": 104,
     "metadata": {},
     "output_type": "execute_result"
    }
   ],
   "source": [
    "list(enumerate(idx))"
   ]
  },
  {
   "cell_type": "code",
   "execution_count": null,
   "metadata": {},
   "outputs": [],
   "source": [
    "for i, j in enumerate(idx): # i current position, j is the new position\n",
    "  e = names[i]\n",
    "  reordered[j] = e\n",
    "print(reordered)"
   ]
  },
  {
   "cell_type": "code",
   "execution_count": null,
   "metadata": {},
   "outputs": [],
   "source": [
    "{'odd': [1,3,5], 'even': [0, 2, 4]}"
   ]
  },
  {
   "cell_type": "code",
   "execution_count": 108,
   "metadata": {},
   "outputs": [],
   "source": [
    "d = {'odd': [x for x in range(50) if x % 2 == 1], 'even': [x for x in range(1,51) if x % 2 == 0]}\n"
   ]
  },
  {
   "cell_type": "code",
   "execution_count": 109,
   "metadata": {},
   "outputs": [
    {
     "data": {
      "text/plain": [
       "{'odd': [1,\n",
       "  3,\n",
       "  5,\n",
       "  7,\n",
       "  9,\n",
       "  11,\n",
       "  13,\n",
       "  15,\n",
       "  17,\n",
       "  19,\n",
       "  21,\n",
       "  23,\n",
       "  25,\n",
       "  27,\n",
       "  29,\n",
       "  31,\n",
       "  33,\n",
       "  35,\n",
       "  37,\n",
       "  39,\n",
       "  41,\n",
       "  43,\n",
       "  45,\n",
       "  47,\n",
       "  49],\n",
       " 'even': [2,\n",
       "  4,\n",
       "  6,\n",
       "  8,\n",
       "  10,\n",
       "  12,\n",
       "  14,\n",
       "  16,\n",
       "  18,\n",
       "  20,\n",
       "  22,\n",
       "  24,\n",
       "  26,\n",
       "  28,\n",
       "  30,\n",
       "  32,\n",
       "  34,\n",
       "  36,\n",
       "  38,\n",
       "  40,\n",
       "  42,\n",
       "  44,\n",
       "  46,\n",
       "  48,\n",
       "  50]}"
      ]
     },
     "execution_count": 109,
     "metadata": {},
     "output_type": "execute_result"
    }
   ],
   "source": [
    "d"
   ]
  },
  {
   "cell_type": "code",
   "execution_count": 106,
   "metadata": {},
   "outputs": [
    {
     "name": "stdout",
     "output_type": "stream",
     "text": [
      "even\n",
      "odd\n",
      "even\n",
      "odd\n",
      "even\n",
      "odd\n",
      "even\n",
      "odd\n",
      "even\n",
      "odd\n",
      "even\n",
      "odd\n",
      "even\n",
      "odd\n",
      "even\n",
      "odd\n",
      "even\n",
      "odd\n",
      "even\n",
      "odd\n",
      "even\n",
      "odd\n",
      "even\n",
      "odd\n",
      "even\n",
      "odd\n",
      "even\n",
      "odd\n",
      "even\n",
      "odd\n",
      "even\n",
      "odd\n",
      "even\n",
      "odd\n",
      "even\n",
      "odd\n",
      "even\n",
      "odd\n",
      "even\n",
      "odd\n",
      "even\n",
      "odd\n",
      "even\n",
      "odd\n",
      "even\n",
      "odd\n",
      "even\n",
      "odd\n",
      "even\n",
      "odd\n",
      "even\n"
     ]
    }
   ],
   "source": [
    "d = { print('odd') if x % 2 else print('even'): x for x in range(51)}\n"
   ]
  },
  {
   "cell_type": "code",
   "execution_count": 107,
   "metadata": {},
   "outputs": [
    {
     "data": {
      "text/plain": [
       "{None: 50}"
      ]
     },
     "execution_count": 107,
     "metadata": {},
     "output_type": "execute_result"
    }
   ],
   "source": [
    "d"
   ]
  },
  {
   "cell_type": "markdown",
   "metadata": {},
   "source": [
    "## Marco's solutions"
   ]
  },
  {
   "cell_type": "code",
   "execution_count": null,
   "metadata": {},
   "outputs": [],
   "source": [
    "# given the two following lists\n",
    "names = ['anne', 'chris', 'daniel', 'denise', 'jacob', 'lisa', 'maria', 'jack', 'rose', 'adele', 'max', 'sue']\n",
    "letters = ['a', 'b', 'c', 'd', 'e', 'f', 'g', 'h', 'i', 'j', 'k', 'l', 'm', 'n', 'o', 'p', 'q', 'r', 's', 't', 'u', 'v', 'w', 'x', 'y', 'z']\n",
    "\n",
    "# create a dictionary where keys are items' names and value is its length\n",
    "d = {x:len(x) for x in names}\n",
    "print(d)\n",
    "\n",
    "# create a dictionary where the keys are letters and values are lists of names starting with that letter, but this time with list/dict comprehension if possible\n",
    "d = {l: [] for l in letters for n in names}\n",
    "for n in names:\n",
    "  d[n[0]].append(n)\n",
    "print(d)\n",
    "\n",
    "# consider the following list\n",
    "idx = [2, 1, 11, 7, 0, 3, 4, 8, 5, 10, 9, 6]\n",
    "\n",
    "# reorder names using idx as the index order, that is anne should be moved to third position, index 2 instead of first position, index 0\n",
    "reordered = names.copy()\n",
    "for i, e in zip(idx, names):\n",
    "  reordered[i] = e\n",
    "print(reordered)\n",
    "\n",
    "reordered = names.copy()\n",
    "for i, j in enumerate(idx): # i current position, j is the new position\n",
    "  e = names[i]\n",
    "  reordered[j] = e\n",
    "print(reordered)\n",
    "\n",
    "print([x[1] for x in sorted(zip(idx, names))])\n",
    "\n",
    "# create a dictionary with two keys 'even' and 'odd' an put as values the first 25 even and the first 50 odd numbers respectively\n",
    "d = {'odd': [x for x in range(50) if x % 2 == 1], 'even': [x for x in range(1,51) if x % 2 == 0]}\n",
    "print(d)"
   ]
  }
 ],
 "metadata": {
  "colab": {
   "collapsed_sections": [],
   "name": "Lesson 2: Control structures",
   "provenance": []
  },
  "kernelspec": {
   "display_name": "Python 3",
   "language": "python",
   "name": "python3"
  },
  "language_info": {
   "codemirror_mode": {
    "name": "ipython",
    "version": 3
   },
   "file_extension": ".py",
   "mimetype": "text/x-python",
   "name": "python",
   "nbconvert_exporter": "python",
   "pygments_lexer": "ipython3",
   "version": "3.9.1"
  }
 },
 "nbformat": 4,
 "nbformat_minor": 4
}
