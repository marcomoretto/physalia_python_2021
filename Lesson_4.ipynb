{
 "cells": [
  {
   "cell_type": "markdown",
   "metadata": {
    "id": "f1pFZZ6Sdvnk"
   },
   "source": [
    "# In Python everything is an Object"
   ]
  },
  {
   "cell_type": "markdown",
   "metadata": {
    "id": "FgQgy_51fMHj"
   },
   "source": [
    "By defining a new function you will extend the language functionalities (adding it to the set of functions already present in Python. Similarly by defining a new object you will extend the functionalities by adding a new data type."
   ]
  },
  {
   "cell_type": "code",
   "execution_count": null,
   "metadata": {
    "id": "ksoC8O9SdzWj"
   },
   "outputs": [],
   "source": [
    "print(isinstance('abc', object))\n",
    "print(isinstance(1.5, object))\n",
    "print(isinstance(print, object))"
   ]
  },
  {
   "cell_type": "code",
   "execution_count": null,
   "metadata": {
    "id": "ODJhtjDRftn3"
   },
   "outputs": [],
   "source": [
    "class Iris_Setosa():\n",
    "  pass"
   ]
  },
  {
   "cell_type": "code",
   "execution_count": null,
   "metadata": {
    "id": "xdoD_eT4f0cM"
   },
   "outputs": [],
   "source": [
    "i = Iris_Setosa()\n",
    "type(i)"
   ]
  },
  {
   "cell_type": "code",
   "execution_count": null,
   "metadata": {
    "id": "1q5AvQGuf6PB"
   },
   "outputs": [],
   "source": [
    "isinstance(i, Iris_Setosa)"
   ]
  },
  {
   "cell_type": "code",
   "execution_count": null,
   "metadata": {
    "id": "AlsEq21hf-sz"
   },
   "outputs": [],
   "source": [
    "isinstance(i, object)"
   ]
  },
  {
   "cell_type": "code",
   "execution_count": null,
   "metadata": {
    "id": "t0mJtZWJgCU9"
   },
   "outputs": [],
   "source": [
    "isinstance(i, str)"
   ]
  },
  {
   "cell_type": "markdown",
   "metadata": {
    "id": "mDSWCx1vgWnr"
   },
   "source": [
    "An **object** is simply a collection of data (variables) and methods (functions) that act on those data. Similarly, a **class** is a blueprint for that **object**. Every **object** inherit from the base class `object`.\n"
   ]
  },
  {
   "cell_type": "code",
   "execution_count": null,
   "metadata": {
    "id": "-n6jHsqlgy7i"
   },
   "outputs": [],
   "source": [
    "'abc'.upper() # upper is a method of the str object"
   ]
  },
  {
   "cell_type": "code",
   "execution_count": null,
   "metadata": {
    "id": "YFWlCDy0hTC8"
   },
   "outputs": [],
   "source": [
    "# the init method\n",
    "\n",
    "class Iris_Setosa:\n",
    "    def __init__(self, petal_width, sepal_width, petal_height, sepal_height): # self refers to the current instantiated object from this class\n",
    "        self.petal_width = petal_width\n",
    "        self.sepal_width = sepal_width\n",
    "        self.petal_height = petal_height\n",
    "        self.sepal_height = sepal_height"
   ]
  },
  {
   "cell_type": "code",
   "execution_count": null,
   "metadata": {
    "id": "OLjuCrYlhuSh"
   },
   "outputs": [],
   "source": [
    "i = Iris_Setosa(1, 2, 3, 4)"
   ]
  },
  {
   "cell_type": "code",
   "execution_count": null,
   "metadata": {
    "id": "WPw34EBuhxDi"
   },
   "outputs": [],
   "source": [
    "i.petal_width"
   ]
  },
  {
   "cell_type": "code",
   "execution_count": null,
   "metadata": {
    "id": "l8Llg2wOh2pf"
   },
   "outputs": [],
   "source": [
    "# let's define a more useful method\n",
    "\n",
    "class Iris_Setosa:\n",
    "    def __init__(self, petal_width, sepal_width, petal_height, sepal_height):\n",
    "        self.petal_width = petal_width\n",
    "        self.sepal_width = sepal_width\n",
    "        self.petal_height = petal_height\n",
    "        self.sepal_height = sepal_height\n",
    "    \n",
    "    def get_total_width(self):\n",
    "      '''\n",
    "      return the total sum of petal and sepal with\n",
    "      '''\n",
    "      return self.petal_width + self.sepal_width"
   ]
  },
  {
   "cell_type": "code",
   "execution_count": null,
   "metadata": {
    "id": "TyjO2ISNiUyV"
   },
   "outputs": [],
   "source": [
    "i = Iris_Setosa(1, 2, 3, 4)"
   ]
  },
  {
   "cell_type": "code",
   "execution_count": null,
   "metadata": {
    "id": "hYylJnM0iXjn"
   },
   "outputs": [],
   "source": [
    "i.get_total_width()"
   ]
  },
  {
   "cell_type": "code",
   "execution_count": null,
   "metadata": {
    "id": "X9_skyqbidgX"
   },
   "outputs": [],
   "source": [
    "print(i) # this is not really informative"
   ]
  },
  {
   "cell_type": "code",
   "execution_count": null,
   "metadata": {
    "id": "j9VgS6VcineT"
   },
   "outputs": [],
   "source": [
    "# overwrite the __str__ method\n",
    "\n",
    "class Iris_Setosa:\n",
    "  def __init__(self, petal_width, sepal_width, petal_height, sepal_height):\n",
    "    self.petal_width = petal_width\n",
    "    self.sepal_width = sepal_width\n",
    "    self.petal_height = petal_height\n",
    "    self.sepal_height = sepal_height\n",
    "    \n",
    "  def get_total_width(self):\n",
    "    '''\n",
    "    return the total sum of petal and sepal with\n",
    "    '''\n",
    "    return self.petal_width + self.sepal_width\n",
    "\n",
    "\n",
    "  def __str__(self):\n",
    "    return \"Iris Setosa:\" + \", \".join(['pw: '+ str(self.petal_width), 'sw: ' + str(self.sepal_width), 'ph: ' + str(self.petal_height), 'sh: ' +str(self.sepal_height)])"
   ]
  },
  {
   "cell_type": "code",
   "execution_count": null,
   "metadata": {
    "id": "KiEj6iusjIjw"
   },
   "outputs": [],
   "source": [
    "i = Iris_Setosa(1, 2, 3, 4)\n",
    "print(i)"
   ]
  },
  {
   "cell_type": "code",
   "execution_count": null,
   "metadata": {
    "id": "JyYRMhM0jJn9"
   },
   "outputs": [],
   "source": [
    "i = Iris_Setosa(1, 2, 3, 4)\n",
    "j = Iris_Setosa(5, 6, 7, 8)\n",
    "\n",
    "# can I sum these two objects?\n",
    "i + j"
   ]
  },
  {
   "cell_type": "markdown",
   "metadata": {
    "id": "Ez946MHmj5BL"
   },
   "source": [
    "### Let's decide about the meaning of summing two Iris_Setosa objects using the plus (+) operand. The sum of two Iris_Setosa objects will create a new Iris_Setosa object with average values between the initial given Iris_Setosa objects\n"
   ]
  },
  {
   "cell_type": "code",
   "execution_count": null,
   "metadata": {
    "id": "BVH9d-H3joA1"
   },
   "outputs": [],
   "source": [
    "class Iris_Setosa:\n",
    "  def __init__(self, petal_width, sepal_width, petal_height, sepal_height):\n",
    "    self.petal_width = petal_width\n",
    "    self.sepal_width = sepal_width\n",
    "    self.petal_height = petal_height\n",
    "    self.sepal_height = sepal_height\n",
    "    \n",
    "  def get_total_width(self):\n",
    "    '''\n",
    "    return the total sum of petal and sepal with\n",
    "    ''' \n",
    "    return self.petal_width + self.sepal_width\n",
    "\n",
    "\n",
    "  def __str__(self):\n",
    "    return \"Iris Setosa:\" + \", \".join(['pw: '+ str(self.petal_width), 'sw: ' + str(self.sepal_width), 'ph: ' + str(self.petal_height), 'sh: ' +str(self.sepal_height)])\n",
    "\n",
    "  def __repr__(self):\n",
    "    return self.__str__()\n",
    "\n",
    "  def __add__(self, other):\n",
    "    return Iris_Setosa((self.petal_width + other.petal_width) / 2.,\n",
    "                       (self.sepal_width + other.sepal_width) / 2.,\n",
    "                       (self.petal_height + other.petal_height) / 2.,\n",
    "                       (self.sepal_height + other.sepal_height) / 2.)"
   ]
  },
  {
   "cell_type": "code",
   "execution_count": null,
   "metadata": {
    "id": "qLwvzttrkqHF"
   },
   "outputs": [],
   "source": [
    "i = Iris_Setosa(1, 2, 3, 4)\n",
    "j = Iris_Setosa(5, 6, 7, 8)\n",
    "\n",
    "# can I sum these two objects?\n",
    "i + j"
   ]
  },
  {
   "cell_type": "code",
   "execution_count": null,
   "metadata": {
    "id": "wk8w3njsktrS"
   },
   "outputs": [],
   "source": [
    "import random\n",
    "\n",
    "iris_list = [Iris_Setosa(random.randint(0, 100),random.randint(0, 100), random.randint(0, 100), random.randint(0, 100)) for x in range(10)]\n",
    "\n",
    "print(iris_list)"
   ]
  },
  {
   "cell_type": "code",
   "execution_count": null,
   "metadata": {
    "id": "q4d2RmmnlfyW"
   },
   "outputs": [],
   "source": [
    "# can i sort a list of Iris_Setosa?\n",
    "sorted(iris_list)"
   ]
  },
  {
   "cell_type": "markdown",
   "metadata": {
    "id": "UUdiKFZBl6gM"
   },
   "source": [
    "### Let's decide about the meaning of ordering two (or more) Iris_Setosa objects, i.e. given 2 objects what does it mean that one is **bigger** than the other? In our case the definition would be: one Iris_Setosa is bigger than another one if the height of the sepal is bigger."
   ]
  },
  {
   "cell_type": "code",
   "execution_count": null,
   "metadata": {
    "id": "qFvi98EpltwL"
   },
   "outputs": [],
   "source": [
    "class Iris_Setosa:\n",
    "  def __init__(self, petal_width, sepal_width, petal_height, sepal_height):\n",
    "    self.petal_width = petal_width\n",
    "    self.sepal_width = sepal_width\n",
    "    self.petal_height = petal_height\n",
    "    self.sepal_height = sepal_height\n",
    "    \n",
    "  def get_total_width(self):\n",
    "    '''\n",
    "    return the total sum of petal and sepal with\n",
    "    '''\n",
    "    return self.petal_width + self.sepal_width\n",
    "\n",
    "\n",
    "  def __str__(self):\n",
    "    return \"Iris Setosa:\" + \", \".join(['pw: '+ str(self.petal_width), 'sw: ' + str(self.sepal_width), 'ph: ' + str(self.petal_height), 'sh: ' +str(self.sepal_height)])\n",
    "\n",
    "  def __repr__(self):\n",
    "    return self.__str__()\n",
    "\n",
    "  def __add__(self, other):\n",
    "    return Iris_Setosa((self.petal_width + other.petal_width) / 2.,\n",
    "                       (self.sepal_width + other.sepal_width) / 2.,\n",
    "                       (self.petal_height + other.petal_height) / 2.,\n",
    "                       (self.sepal_height + other.sepal_height) / 2.)\n",
    "    \n",
    "  def __lt__(self, other):\n",
    "    return self.sepal_height < other.sepal_height"
   ]
  },
  {
   "cell_type": "code",
   "execution_count": null,
   "metadata": {
    "id": "6zm2IO8Png4l"
   },
   "outputs": [],
   "source": [
    "import random\n",
    "\n",
    "iris_list = [Iris_Setosa(random.randint(0, 100),random.randint(0, 100), random.randint(0, 100), random.randint(0, 100)) for x in range(10)]\n",
    "\n",
    "print(iris_list)"
   ]
  },
  {
   "cell_type": "code",
   "execution_count": null,
   "metadata": {
    "id": "R-O_ZtJQmoZG"
   },
   "outputs": [],
   "source": [
    "print(*iris_list[:2])"
   ]
  },
  {
   "cell_type": "code",
   "execution_count": null,
   "metadata": {
    "id": "VEA1F2Fwm4sU"
   },
   "outputs": [],
   "source": [
    "iris_list[0] < iris_list[1]"
   ]
  },
  {
   "cell_type": "code",
   "execution_count": null,
   "metadata": {
    "id": "-0Ic6JzOnWMS"
   },
   "outputs": [],
   "source": [
    "sorted(iris_list)"
   ]
  },
  {
   "cell_type": "code",
   "execution_count": null,
   "metadata": {
    "id": "8cmRgqUGnpXE"
   },
   "outputs": [],
   "source": [
    "sorted(iris_list, key=lambda x: x.petal_width)"
   ]
  },
  {
   "cell_type": "markdown",
   "metadata": {
    "id": "iObBnAaxeDsY"
   },
   "source": [
    "### Python inheritance"
   ]
  },
  {
   "cell_type": "code",
   "execution_count": null,
   "metadata": {
    "id": "fQh_avbQnxNG"
   },
   "outputs": [],
   "source": [
    "class Iris_Versicolor:\n",
    "  def __init__(self, petal_width, sepal_width, petal_height, sepal_height):\n",
    "    self.petal_width = petal_width\n",
    "    self.sepal_width = sepal_width\n",
    "    self.petal_height = petal_height\n",
    "    self.sepal_height = sepal_height\n",
    "    \n",
    "  def get_total_width(self):\n",
    "    '''\n",
    "    return the total sum of petal and sepal with\n",
    "    '''\n",
    "    return self.petal_width + self.sepal_width\n",
    "\n",
    "\n",
    "  def __str__(self):\n",
    "    return \"Iris Versicolor:\" + \", \".join(['pw: '+ str(self.petal_width), 'sw: ' + str(self.sepal_width), 'ph: ' + str(self.petal_height), 'sh: ' +str(self.sepal_height)])\n",
    "\n",
    "  def __repr__(self):\n",
    "    return self.__str__()\n",
    "\n",
    "  def __add__(self, other):\n",
    "    return Iris_Versicolor((self.petal_width + other.petal_width) / 2.,\n",
    "                       (self.sepal_width + other.sepal_width) / 2.,\n",
    "                       (self.petal_height + other.petal_height) / 2.,\n",
    "                       (self.sepal_height + other.sepal_height) / 2.)\n",
    "    \n",
    "  def __lt__(self, other):\n",
    "    return self.sepal_height < other.sepal_height"
   ]
  },
  {
   "cell_type": "code",
   "execution_count": null,
   "metadata": {
    "id": "alt_NxFjehCY"
   },
   "outputs": [],
   "source": [
    "i = Iris_Setosa(1, 2, 3, 4)\n",
    "j = Iris_Versicolor(5, 6, 7, 8)\n",
    "\n",
    "print(i)\n",
    "print(j)"
   ]
  },
  {
   "cell_type": "code",
   "execution_count": null,
   "metadata": {
    "id": "Ka_DwhrNfS8W"
   },
   "outputs": [],
   "source": [
    "# Let's define the base class Iris\n",
    "\n",
    "class Iris:\n",
    "  def __init__(self, petal_width, sepal_width, petal_height, sepal_height):\n",
    "    self.petal_width = petal_width\n",
    "    self.sepal_width = sepal_width\n",
    "    self.petal_height = petal_height\n",
    "    self.sepal_height = sepal_height\n",
    "    \n",
    "  def get_total_width(self):\n",
    "    '''\n",
    "    return the total sum of petal and sepal with\n",
    "    '''\n",
    "    return self.petal_width + self.sepal_width\n",
    "\n",
    "\n",
    "  def __str__(self):\n",
    "    return \"Iris:\" + \", \".join(['pw: '+ str(self.petal_width), 'sw: ' + str(self.sepal_width), 'ph: ' + str(self.petal_height), 'sh: ' +str(self.sepal_height)])\n",
    "\n",
    "  def __repr__(self):\n",
    "    return self.__str__()\n",
    "\n",
    "  def __add__(self, other):\n",
    "    return Iris((self.petal_width + other.petal_width) / 2.,\n",
    "                       (self.sepal_width + other.sepal_width) / 2.,\n",
    "                       (self.petal_height + other.petal_height) / 2.,\n",
    "                       (self.sepal_height + other.sepal_height) / 2.)\n",
    "    \n",
    "  def __lt__(self, other):\n",
    "    return self.sepal_height < other.sepal_height\n",
    "\n",
    "  def __radd__(self, other):\n",
    "    return self + other"
   ]
  },
  {
   "cell_type": "code",
   "execution_count": null,
   "metadata": {
    "id": "kRyeJ6QGfe7H"
   },
   "outputs": [],
   "source": [
    "# Then the other two kind of Iris will inherit from the base class overwriting only the __str__ method\n",
    "\n",
    "class Iris_Setosa(Iris):\n",
    "  def __str__(self):\n",
    "    return \"Iris Setosa: \" + \", \".join(['pw: '+ str(self.petal_width), 'sw: ' + str(self.sepal_width), 'ph: ' + str(self.petal_height), 'sh: ' +str(self.sepal_height)])\n",
    "\n",
    "\n",
    "class Iris_Versicolor(Iris):\n",
    "  def __str__(self):\n",
    "    return \"Iris Versicolor: \" + \", \".join(['pw: '+ str(self.petal_width), 'sw: ' + str(self.sepal_width), 'ph: ' + str(self.petal_height), 'sh: ' +str(self.sepal_height)])"
   ]
  },
  {
   "cell_type": "code",
   "execution_count": null,
   "metadata": {
    "id": "oYZKKXUegWng"
   },
   "outputs": [],
   "source": [
    "i = Iris_Setosa(1, 2, 3, 4)\n",
    "j = Iris_Versicolor(5, 6, 7, 8)\n",
    "\n",
    "print(i)\n",
    "print(j)"
   ]
  },
  {
   "cell_type": "code",
   "execution_count": null,
   "metadata": {
    "id": "UrHBfWP_gaMN"
   },
   "outputs": [],
   "source": [
    "i + j"
   ]
  },
  {
   "cell_type": "code",
   "execution_count": null,
   "metadata": {
    "id": "ux4WOvSqgt2Y"
   },
   "outputs": [],
   "source": [
    "class FlowerPrettyPrint:\n",
    "    def __str__(self):\n",
    "        return  '''\n",
    "              ,         ,\n",
    "             /|   _,_   |\\\n",
    "             \n",
    "            | \\.'` \\ `'./ |\n",
    "            | /   /`>   \\ |\n",
    "            ; | / |o| \\ | ;\n",
    "             \\_\\ /.8.\\ /_/\n",
    "          _.-' .'/   \\'. '-._\n",
    "          \\__.'  |   | `;.__/\n",
    "            / |  | ; |  | \\\n",
    "            \n",
    "            |  \\ '._.'  | |\n",
    "             \\  \\ | |  /  /\n",
    "             |  | | | /  /\n",
    "             |  | | | |  |\n",
    "             \\  \\ | |/  /\n",
    "              \\  \\| /  /\n",
    "               `\\ \\ | /\n",
    "                 \\ `;/\n",
    "                 `| |                '''"
   ]
  },
  {
   "cell_type": "code",
   "execution_count": null,
   "metadata": {
    "id": "ZdCupXg8gwZR"
   },
   "outputs": [],
   "source": [
    "class Iris_Setosa(FlowerPrettyPrint, Iris, object):\n",
    "  pass"
   ]
  },
  {
   "cell_type": "code",
   "execution_count": null,
   "metadata": {
    "id": "-5wrSkqng578"
   },
   "outputs": [],
   "source": [
    "i = Iris_Setosa(1, 2, 3, 4)\n",
    "j = Iris_Versicolor(5, 6, 7, 8)\n",
    "\n",
    "print(i)\n",
    "print(j)"
   ]
  },
  {
   "cell_type": "code",
   "execution_count": null,
   "metadata": {
    "id": "XQF-ReqGg9Vb"
   },
   "outputs": [],
   "source": [
    "class Iris_Setosa(FlowerPrettyPrint, Iris):\n",
    "  def __str__(self):\n",
    "    fpp = FlowerPrettyPrint.__str__(self)\n",
    "    return fpp + \"\\nIris Setosa: \" + \", \".join(['pw: '+ str(self.petal_width), 'sw: ' + str(self.sepal_width), 'ph: ' + str(self.petal_height), 'sh: ' +str(self.sepal_height)])"
   ]
  },
  {
   "cell_type": "code",
   "execution_count": null,
   "metadata": {
    "id": "LsEN6MqOhdhz"
   },
   "outputs": [],
   "source": [
    "i = Iris_Setosa(1, 2, 3, 4)\n",
    "j = Iris_Versicolor(5, 6, 7, 8)\n",
    "\n",
    "print(i)\n",
    "print(j)"
   ]
  },
  {
   "cell_type": "markdown",
   "metadata": {
    "id": "Ia8VS3X9hyv-"
   },
   "source": [
    "# Exercises"
   ]
  },
  {
   "cell_type": "code",
   "execution_count": null,
   "metadata": {
    "id": "yeTdziFcNFyZ"
   },
   "outputs": [],
   "source": [
    "# create a class that represent a DNA FASTA sequence. It should have 2 fields, id and sequence\n",
    "# implement the reverse_complement() method that return a new object with the same id but with the reverse complemented sequence\n",
    "# (i.e. the sequence should be reversed and A to T and G to C substitutions) A -> T, T -> A, G -> C, C -> G\n",
    "# overload the __repr__(self) and __str__(self) method in order to nicely print it"
   ]
  },
  {
   "cell_type": "markdown",
   "metadata": {
    "id": "ReWBxc7wh1Cs"
   },
   "source": [
    "# Exceptions\n",
    "\n",
    "Exceptions are a way to handle programming error that might occur at runtime"
   ]
  },
  {
   "cell_type": "code",
   "execution_count": null,
   "metadata": {
    "id": "TcVr2WUOhf8j"
   },
   "outputs": [],
   "source": [
    "for i in sorted(range(6), reverse=True):\n",
    "    print(\"5 / {} = {}\".format(i, 5 / i))"
   ]
  },
  {
   "cell_type": "markdown",
   "metadata": {
    "id": "fOzBzprViNWO"
   },
   "source": [
    "### Syntax\n",
    "\n",
    "```\n",
    "try:\n",
    "\n",
    "    <expression> # code that might give an error (raise an exception)\n",
    "    \n",
    "except <exception_type> as <exception_name>:\n",
    "\n",
    "    <expression> # behaviour in case of exception\n",
    "\n",
    "```\n",
    "\n"
   ]
  },
  {
   "cell_type": "code",
   "execution_count": null,
   "metadata": {
    "id": "QmZ5Pqw8iEln"
   },
   "outputs": [],
   "source": [
    "try:\n",
    "  for i in sorted(range(6), reverse=True):\n",
    "    print(\"5 / {} = {}\".format(i, 5 / i))\n",
    "except ZeroDivisionError as e:\n",
    "  print(\"5 / 0 = undefined\")"
   ]
  },
  {
   "cell_type": "code",
   "execution_count": null,
   "metadata": {
    "id": "MJeS7mrtmms4"
   },
   "outputs": [],
   "source": [
    "try:\n",
    "  for i in sorted(range(6), reverse=True):\n",
    "    print(\"5 / {} = {}\".format(i, 5 / i))\n",
    "except Exception as e:\n",
    "  print(\"5 / 0 = undefined\", e)"
   ]
  },
  {
   "cell_type": "code",
   "execution_count": null,
   "metadata": {
    "id": "ShHC8cNx3bB9"
   },
   "outputs": [],
   "source": [
    "import traceback\n",
    "\n",
    "try:\n",
    "  for i in sorted(range(6), reverse=True):\n",
    "    print(\"5 / {} = {}\".format(i, 5 / i))\n",
    "except Exception as e:\n",
    "  print(\"5 / 0 = undefined\", e, traceback.print_exc())"
   ]
  },
  {
   "cell_type": "code",
   "execution_count": null,
   "metadata": {
    "id": "JBNJRT-qn-nn"
   },
   "outputs": [],
   "source": [
    "try:\n",
    "  for i in sorted(range(6), reverse=True):\n",
    "    print(\"5 / {} = {}\".format(i, 5 / i))\n",
    "except FileNotFoundError as e:\n",
    "  print(\"file not found\")\n",
    "except Exception as e:\n",
    "  print(\"general exception\")\n",
    "except ZeroDivisionError as e:\n",
    "  print(\"division by zero\", e)\n",
    "finally:\n",
    "  print(\"this will be always executed\")"
   ]
  },
  {
   "cell_type": "markdown",
   "metadata": {
    "id": "q2iQiW2woy5I"
   },
   "source": [
    "We saw how to handle errors when the code we execute raise an exception, but can we forse an exception to occur?"
   ]
  },
  {
   "cell_type": "code",
   "execution_count": null,
   "metadata": {
    "id": "cxJlKO-aodgI"
   },
   "outputs": [],
   "source": [
    "raise Exception(\"this is not supposed to happen\")"
   ]
  },
  {
   "cell_type": "code",
   "execution_count": null,
   "metadata": {
    "id": "0A94Z7iH5WGm"
   },
   "outputs": [],
   "source": [
    "def my_fun(*args):\n",
    "  cumulative = args[0]\n",
    "  for x in args[1:]:\n",
    "    cumulative += x\n",
    "  return cumulative"
   ]
  },
  {
   "cell_type": "code",
   "execution_count": null,
   "metadata": {
    "id": "exGLKUYM5r4z"
   },
   "outputs": [],
   "source": [
    "my_fun(1,2,3,4,5,7, '1','2','3','4','5')"
   ]
  },
  {
   "cell_type": "code",
   "execution_count": null,
   "metadata": {
    "id": "ONb-pMNk5110"
   },
   "outputs": [],
   "source": [
    "my_fun('1','2','3','4','5')"
   ]
  },
  {
   "cell_type": "code",
   "execution_count": null,
   "metadata": {
    "id": "fHilaRvdpFBR"
   },
   "outputs": [],
   "source": [
    "import functools\n",
    "\n",
    "def my_fun(*args):\n",
    "  if len(set([type(x) for x in args])) > 1:\n",
    "    raise Exception('Arguments must all be of the same type')\n",
    "  # do your stuff here\n",
    "  return functools.reduce(lambda x, y: x + y, args)\n"
   ]
  },
  {
   "cell_type": "code",
   "execution_count": null,
   "metadata": {
    "id": "NDgM9-uZqilN"
   },
   "outputs": [],
   "source": [
    "my_fun(1,2,3,4,5)"
   ]
  },
  {
   "cell_type": "code",
   "execution_count": null,
   "metadata": {
    "id": "oMXTldaJqlpq"
   },
   "outputs": [],
   "source": [
    "my_fun('1','2','3','4','5')"
   ]
  },
  {
   "cell_type": "code",
   "execution_count": null,
   "metadata": {
    "id": "fS-mB0aVq3nb"
   },
   "outputs": [],
   "source": [
    "my_fun(1, '1')"
   ]
  },
  {
   "cell_type": "code",
   "execution_count": null,
   "metadata": {
    "id": "ySyrvZip6gG0"
   },
   "outputs": [],
   "source": [
    "class SameTypeException(Exception):\n",
    "  def __str__(self):\n",
    "    return 'Arguments are of different type'"
   ]
  },
  {
   "cell_type": "code",
   "execution_count": null,
   "metadata": {
    "id": "qQGTqrcc7MaG"
   },
   "outputs": [],
   "source": [
    "import functools\n",
    "\n",
    "def my_fun(*args):\n",
    "  if len(set([type(x) for x in args])) > 1:\n",
    "    raise SameTypeException()\n",
    "  # do your stuff here\n",
    "  return functools.reduce(lambda x, y: x + y, args)"
   ]
  },
  {
   "cell_type": "markdown",
   "metadata": {
    "id": "g8bSoQP7cCel"
   },
   "source": [
    "# Exercises"
   ]
  },
  {
   "cell_type": "code",
   "execution_count": null,
   "metadata": {
    "id": "6O37kC50PZak"
   },
   "outputs": [],
   "source": [
    "# starting from previous exercises about the FASTA object, implement a new Exception called InvalidNucleotideException that should be raised every time \n",
    "# a letter different from A, T, G or C is used to create the FASTA object\n",
    "\n",
    "# now read the multifasta file and create a list of FASTA object\n",
    "# use try except to gently inform if one sequence is not a valid DNA sequence, skipping it but informing with a warning message\n",
    "\n",
    "fasta = 'data/exception.fasta'"
   ]
  },
  {
   "cell_type": "markdown",
   "metadata": {
    "id": "S6YkG9KRcHcC"
   },
   "source": [
    "# Python packages\n",
    "\n",
    "### [Python standard library](https://docs.python.org/3/library/) and [external packages](https://pypi.org/)"
   ]
  },
  {
   "cell_type": "code",
   "execution_count": null,
   "metadata": {
    "id": "idlV8xOmcBF0"
   },
   "outputs": [],
   "source": [
    "!pip install numpy"
   ]
  },
  {
   "cell_type": "code",
   "execution_count": 57,
   "metadata": {
    "id": "IjbnYrqydLx7"
   },
   "outputs": [
    {
     "data": {
      "text/plain": [
       "'1.19.5'"
      ]
     },
     "execution_count": 57,
     "metadata": {},
     "output_type": "execute_result"
    }
   ],
   "source": [
    "import numpy\n",
    "\n",
    "numpy.__version__"
   ]
  },
  {
   "cell_type": "code",
   "execution_count": 58,
   "metadata": {
    "id": "dNPXnkSydS35"
   },
   "outputs": [
    {
     "name": "stdout",
     "output_type": "stream",
     "text": [
      "Defaulting to user installation because normal site-packages is not writeable\n",
      "Collecting numpy==1.18\n",
      "  Downloading numpy-1.18.0.zip (5.4 MB)\n",
      "\u001b[K     |████████████████████████████████| 5.4 MB 9.2 MB/s eta 0:00:01\n",
      "\u001b[?25h  Installing build dependencies ... \u001b[?25ldone\n",
      "\u001b[?25h  Getting requirements to build wheel ... \u001b[?25ldone\n",
      "\u001b[?25h    Preparing wheel metadata ... \u001b[?25ldone\n",
      "\u001b[?25hBuilding wheels for collected packages: numpy\n",
      "  Building wheel for numpy (PEP 517) ... \u001b[?25ldone\n",
      "\u001b[?25h  Created wheel for numpy: filename=numpy-1.18.0-cp39-cp39-linux_x86_64.whl size=16831864 sha256=ce66e6c15f5463fb699a0e1c70522a8544a5cd1a215d3341c8d7a2e9b874d8df\n",
      "  Stored in directory: /home/marco/.cache/pip/wheels/32/11/2a/3b77bd53db68ee0fe15984dff74bc560151697f7b7ba0bcf4b\n",
      "Successfully built numpy\n",
      "Installing collected packages: numpy\n",
      "\u001b[33m  WARNING: The scripts f2py, f2py3 and f2py3.9 are installed in '/home/marco/.local/bin' which is not on PATH.\n",
      "  Consider adding this directory to PATH or, if you prefer to suppress this warning, use --no-warn-script-location.\u001b[0m\n",
      "Successfully installed numpy-1.18.0\n",
      "\u001b[33mWARNING: You are using pip version 20.3.3; however, version 21.0 is available.\n",
      "You should consider upgrading via the '/usr/local/bin/python -m pip install --upgrade pip' command.\u001b[0m\n"
     ]
    }
   ],
   "source": [
    "!pip install numpy==1.18"
   ]
  },
  {
   "cell_type": "code",
   "execution_count": 60,
   "metadata": {
    "id": "fetfdQZkdXLC"
   },
   "outputs": [
    {
     "data": {
      "text/plain": [
       "'1.19.5'"
      ]
     },
     "execution_count": 60,
     "metadata": {},
     "output_type": "execute_result"
    }
   ],
   "source": [
    "import numpy\n",
    "\n",
    "numpy.__version__"
   ]
  },
  {
   "cell_type": "markdown",
   "metadata": {
    "id": "vNPtpyqzVy5e"
   },
   "source": [
    "# Virtual Environment\n",
    "\n",
    "### Why a `virtual environment`?\n",
    "Because by default, every project on your system will use these same directories to store and retrieve site packages (third party libraries) and this can lead to incompatibilities for example if we need to use different versions of the same package.\n",
    "\n",
    "### What is a virtual environment?\n",
    "In a nutshell is a directory where all the packages (and the Python interpreter) will be installed. A Python virtual environments is to create an isolated environment for Python projects. This means that each project can have its own dependencies, regardless of what dependencies every other project has.\n"
   ]
  },
  {
   "cell_type": "markdown",
   "metadata": {
    "id": "Yl1OBI3rXMjP"
   },
   "source": [
    "# Anaconda\n",
    "[Anaconda](https://www.anaconda.com/) is a distribution of the Python programming languages for scientific computing, it includes a Python interpreter, a package manager (`conda`) and a virtual environment system."
   ]
  },
  {
   "cell_type": "markdown",
   "metadata": {
    "id": "RLD6NLK7G0P0"
   },
   "source": [
    "# Create your own package\n",
    "\n",
    "[How to write your own Python Package and publish it on PyPi](https://thucnc.medium.com/how-to-publish-your-own-python-package-to-pypi-4318868210f9)"
   ]
  },
  {
   "cell_type": "code",
   "execution_count": null,
   "metadata": {
    "id": "q5g7jz9vdckG"
   },
   "outputs": [],
   "source": []
  }
 ],
 "metadata": {
  "colab": {
   "collapsed_sections": [],
   "name": "Lesson 4: Objects",
   "provenance": [],
   "toc_visible": true
  },
  "kernelspec": {
   "display_name": "Python 3",
   "language": "python",
   "name": "python3"
  },
  "language_info": {
   "codemirror_mode": {
    "name": "ipython",
    "version": 3
   },
   "file_extension": ".py",
   "mimetype": "text/x-python",
   "name": "python",
   "nbconvert_exporter": "python",
   "pygments_lexer": "ipython3",
   "version": "3.9.1"
  }
 },
 "nbformat": 4,
 "nbformat_minor": 4
}
