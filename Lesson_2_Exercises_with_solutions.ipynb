{
 "cells": [
  {
   "cell_type": "markdown",
   "metadata": {
    "id": "dWboQTMeJ1mS"
   },
   "source": [
    "# Exercises\n",
    "\n",
    "Choose and try to provide a working solution for as many problems as you want/can. You can use everything we learned so far and even (I encourange you to do so) check on Google for possible solutions. Just be sure to understand the solution!"
   ]
  },
  {
   "cell_type": "markdown",
   "metadata": {
    "id": "GU4gL1kkK1sF"
   },
   "source": [
    "### Ex #1\n",
    "Consider the following text in the `s` multiline string (don't be scared is just a normal string)\n"
   ]
  },
  {
   "cell_type": "code",
   "execution_count": 4,
   "metadata": {
    "id": "-2JVN5An0mcp"
   },
   "outputs": [],
   "source": [
    "s = '''>id_sequence_101\n",
    "TGCAAATGGGTGGGTCAATGTTCCAAGGCCACCCCAAAGGGGCCCATGAGGAAAGGGCAAAACTAATGTGCTATAGCCTTAGGCCCTAAGGCCCGAGGGGAGTTGAGTTTTTCTACCCTGGGAAATTCATTGAGGCAGTAAGAGTGCCAGCCAAGCGGTGCCTCACCGCCACCAGAAGGCTCTAATAGTTTTTTGGGAATTTATTCCAAAATTAGGCCTAAAATTTTGATTT\n",
    ">id_sequence_17\n",
    "CATTGTGAGTTTTTAATTTAATTGCATTGTGTGTTTTTCATGTTGGATTTTAGAATTAATTTGTGTGCGGGGTTGAAATGGTTGTAGATTTGAATTGTGTTTTTTTAAATTTAAGGAAAAATGACACAGAGACCCCCAACGTTTGAATAAAGGACACAAAACCCCCTAAGGTTTCAAAAAAGACACTCAGACCCTCATTTGTTAACAGTAAATTATAAT\n",
    ">id_sequence_451\n",
    "AAACTTGGTCTTTCTGAAAATACTGAAAGAGGCATCGGTCTGTTATGGGGTCCTGATAGCACCGAGGAGTTCTTAAAAAAGTTTAGTCTAAAGGTGATATCATGATCCTACATTTTATCTTTTAAACCAATGGATTCATATTTATCTCTGTAAGTAGTGTTAAAACTTACTGAAGTTTAAAGTGGCAGTGGCAACCTCGTAGTTC\n",
    ">id_sequence_41\n",
    "TTGATTTTTGCTGCGTTAAGAGTTTTTAAAAAAATAATAATAATAATAACGAAAGAGATTGAACTGATCATTATGTACCCATTGATTACCGTTACGGCCAGCACAAATTTTAAGTCGAAGAGATTAACTAGACAAGCTCAAGATGTAACAGTTTGGCTTGATTTTAGAAGGTTTTATTTTTAAGAATACTCTAGAGTGATAAAATGTGAGTTCTTTAACAATTTCGTACTCTAGCGAGTAATAAAATGTGAGTTCTTTAACAATTTCGTATATAGAAGTCTCTAGCATATTGTAGATAGTAATCGGTCTAAAATATTCTAGGTATTACTAAAAATGAGATTTCTTTAAACCATGAAAATTCTCTAGATTAGAAAAGCCAGGCCCTCCCTATAGGCTTGGTTACTTGACATTTTATTCAAGCAATTCAAATTAAGCAATGCCAAGTATCAAATACCAAGCATCAAATACCAAGCATCAAGT\n",
    ">id_sequence_101\n",
    "TTGCCAAACAAGTTACCAAATATGTTACTAGAGAGAAATCTAGTACATGGTACCTACAAAATTAAATATCAAAGCGGACTGACACCAAACTGTAGCTAACATCTTCATTTCCATGGATAGCTGATATATTTCTCAATATGAACTCTCTTTCATATATCTCATACTTTCTAAATAGATGTTCTGTCTCAAATTGAATT\n",
    ">id_sequence_201\n",
    "ACAGAAAATATTCAAAAGTTTTGGAGGAAAGTTGGTCTGGTTGTTTGCTAGGTCATTCTGATTGTGCAACTTCAATAAGCACAAATGGTATGTCATTAACTTAGAAGAAATATACTTTAGATATCAACTACTTCACATATCCTCTCTTGCATCAATATAAGAGCAGGAATCATGCCAAGCCATAAGAGCCCAGATAACCTGACTC\n",
    ">id_sequence_131\n",
    "GGCTTAAATTCCATGCTCCTATCTCTAAAGAAGTTTTCAAGTTCCTCCATGAATGATGATTGCTCCTCTTCCGTTCCAGATTCACTGCCCTCGTCACTTCCATCCAAAAGAAATAACTGTGCTGAGTTGGACTTCTCATTCATTGGTAGTGTAGGTAACTCCGATTTGTTAACCTTATCTTTGATTTCTGTGTCATTTACATTCTTAAGCTCTGTGTCAGAAGGAGCTGCATTACG\n",
    ">id_sequence_21\n",
    "TTATTTTGTCTTTGTCGACGATCTGATTCCTTCCGATAAAAGATAAACCCTAACTTATTTCTTAACGATATCGATCTAATATCACCCCTTTTCCTTTCCGCAGCACTCTGCTTCTTTTTATTTATGTTTTTCCTTTTCCCGTCTTCTTTTTTTTAATAATTAAGAGGATTCTCTAATTCATTCTTGATAACGGGACGGTACAGGCACAAAAGCCAGGCGGACAGCTTCCGTATTGAACACGTGTTTTATTACT\n",
    ">id_sequence_10\n",
    "ACTGTAAAAATCCGAGGAATAGCTTTTTAGAATTTAATTTTAAAAATCAGTTTTATATTTAATACAATTTCACATATATTCTTACATACTTTACATAAACCCAAAGTTTTACTTAGTCAATTTAAAAATAAACTCAGAAAAGTTTAGATAATTATTCTTTTAATTTATTTTTTCTTCATGCACACTCTTCACCCCAAAACCTCTTCTTCTTCCTATTTTCCATTCCATCCAAACTTATCTAATCGTATAAAAATCATTA\n",
    ">id_sequence_112\n",
    "TGGTAGTATAACTCTCAAATATCAAGAGATAAGCCCCTTGAAGAAAATATAGCTTTTGTAAATATGTCTGGTATCAAAGGGTATTATCAGAACTCAAATTTTGTTGATTAGAGACAGCACGTGAATAGTGCACGCTATCATGAGAAAAAATAAAATATCTTCTTTTTTGGCTAAGAATAAGAAGCCAATAAAAATAAAAGTTCTTTAAACAAATCAATAGGAGTGGACCACGTCAGTTGTCCTTT\n",
    "'''"
   ]
  },
  {
   "cell_type": "markdown",
   "metadata": {
    "id": "kLWKr0oHLWiH"
   },
   "source": [
    "If you are used to FASTA format that is a set of DNA sequences in a FASTA-formatted string. If you never saw a FASTA formatted file before don't worry they are composed as follow:\n",
    "everything that starts with a  `>` till the end of line is considered an `ID` and everything from the following line up until the next end of line is considered a `sequence`.\n",
    "\n",
    "1) Write a program to read the FASTA format and put the result in a dictionary in the form `{'ID1': 'sequence1', 'ID2': 'sequence2', ... }`\n",
    "\n",
    "2) How many sequences are there? Which is the longest and the shortest? What is the average length?\n",
    "\n",
    "3) Which sequence contains the following 'CCATTCCATCCAAACTTATCT`?\n",
    "\n",
    "4) Extract the pieces from the nucleotide (aka letter) 30 to 40 and from 65 to 85 from each sequence, printing a valid FASTA formatted string\n",
    "\n",
    "5) Since every nucleotide (aka A, C, T, G) has a complementary nucleotide (T, G, A, C respectively). Write the reverse complement of each sequence."
   ]
  },
  {
   "cell_type": "code",
   "execution_count": 5,
   "metadata": {
    "id": "w8rl7o0N_851"
   },
   "outputs": [],
   "source": [
    "# 1. Write a program to read the FASTA format and put the result in a dictionary in the form {'ID1': 'sequence1', 'ID2': 'sequence2', ... }\n",
    "\n",
    "# Possible solution\n",
    "# 1.1 split the sequence in lines and process one line at the time\n",
    "# 1.2 check for every line, if the line is an ID (otherwise it will a SEQUENCE for sure)\n",
    "# 1.3 So, for every line do something. This something might be:\n",
    "# 1.3.1 if the line starts with a '>' symbol, that means it is an ID\n",
    "# 1.3.2 so if the line we are currently iterating over is an ID, use that as a key for our dictionary (that we initialized at the beginning)\n",
    "# 1.3.3 create an empty string as a value for our dictionary entry. This will hold the value for the complete SEQUENCE\n",
    "# 1.4 if the current line we are working on it's not an ID, that means it is a SEQUENCE\n",
    "# 1.4.1 if it is a sequence we need to put the line as a value for our dictionary on the corresponding ID\n",
    "# 1.4.2 how do we know the right ID? Well, since the FASTA is read sequentially one line after the other. If we are reading a SEQUENCE now, that means that we read an ID on the previous iteration\n",
    "# 1.4.2 and that means that the 'id' variable that we used to store the ID is still holding the correct value for the id that we need\n",
    "# 1.4.3 So we can use again the 'id' variable to access our dictionary and update the value with the current line (that is a SEQUENCE)"
   ]
  },
  {
   "cell_type": "code",
   "execution_count": 6,
   "metadata": {
    "colab": {
     "base_uri": "https://localhost:8080/"
    },
    "id": "nwa3Y7dhLV5a",
    "outputId": "e0a24eba-e621-4151-f9ea-1048e083a26d"
   },
   "outputs": [
    {
     "name": "stdout",
     "output_type": "stream",
     "text": [
      "{'id_sequence_101': 'TTGCCAAACAAGTTACCAAATATGTTACTAGAGAGAAATCTAGTACATGGTACCTACAAAATTAAATATCAAAGCGGACTGACACCAAACTGTAGCTAACATCTTCATTTCCATGGATAGCTGATATATTTCTCAATATGAACTCTCTTTCATATATCTCATACTTTCTAAATAGATGTTCTGTCTCAAATTGAATT', 'id_sequence_17': 'CATTGTGAGTTTTTAATTTAATTGCATTGTGTGTTTTTCATGTTGGATTTTAGAATTAATTTGTGTGCGGGGTTGAAATGGTTGTAGATTTGAATTGTGTTTTTTTAAATTTAAGGAAAAATGACACAGAGACCCCCAACGTTTGAATAAAGGACACAAAACCCCCTAAGGTTTCAAAAAAGACACTCAGACCCTCATTTGTTAACAGTAAATTATAAT', 'id_sequence_451': 'AAACTTGGTCTTTCTGAAAATACTGAAAGAGGCATCGGTCTGTTATGGGGTCCTGATAGCACCGAGGAGTTCTTAAAAAAGTTTAGTCTAAAGGTGATATCATGATCCTACATTTTATCTTTTAAACCAATGGATTCATATTTATCTCTGTAAGTAGTGTTAAAACTTACTGAAGTTTAAAGTGGCAGTGGCAACCTCGTAGTTC', 'id_sequence_41': 'TTGATTTTTGCTGCGTTAAGAGTTTTTAAAAAAATAATAATAATAATAACGAAAGAGATTGAACTGATCATTATGTACCCATTGATTACCGTTACGGCCAGCACAAATTTTAAGTCGAAGAGATTAACTAGACAAGCTCAAGATGTAACAGTTTGGCTTGATTTTAGAAGGTTTTATTTTTAAGAATACTCTAGAGTGATAAAATGTGAGTTCTTTAACAATTTCGTACTCTAGCGAGTAATAAAATGTGAGTTCTTTAACAATTTCGTATATAGAAGTCTCTAGCATATTGTAGATAGTAATCGGTCTAAAATATTCTAGGTATTACTAAAAATGAGATTTCTTTAAACCATGAAAATTCTCTAGATTAGAAAAGCCAGGCCCTCCCTATAGGCTTGGTTACTTGACATTTTATTCAAGCAATTCAAATTAAGCAATGCCAAGTATCAAATACCAAGCATCAAATACCAAGCATCAAGT', 'id_sequence_201': 'ACAGAAAATATTCAAAAGTTTTGGAGGAAAGTTGGTCTGGTTGTTTGCTAGGTCATTCTGATTGTGCAACTTCAATAAGCACAAATGGTATGTCATTAACTTAGAAGAAATATACTTTAGATATCAACTACTTCACATATCCTCTCTTGCATCAATATAAGAGCAGGAATCATGCCAAGCCATAAGAGCCCAGATAACCTGACTC', 'id_sequence_131': 'GGCTTAAATTCCATGCTCCTATCTCTAAAGAAGTTTTCAAGTTCCTCCATGAATGATGATTGCTCCTCTTCCGTTCCAGATTCACTGCCCTCGTCACTTCCATCCAAAAGAAATAACTGTGCTGAGTTGGACTTCTCATTCATTGGTAGTGTAGGTAACTCCGATTTGTTAACCTTATCTTTGATTTCTGTGTCATTTACATTCTTAAGCTCTGTGTCAGAAGGAGCTGCATTACG', 'id_sequence_21': 'TTATTTTGTCTTTGTCGACGATCTGATTCCTTCCGATAAAAGATAAACCCTAACTTATTTCTTAACGATATCGATCTAATATCACCCCTTTTCCTTTCCGCAGCACTCTGCTTCTTTTTATTTATGTTTTTCCTTTTCCCGTCTTCTTTTTTTTAATAATTAAGAGGATTCTCTAATTCATTCTTGATAACGGGACGGTACAGGCACAAAAGCCAGGCGGACAGCTTCCGTATTGAACACGTGTTTTATTACT', 'id_sequence_10': 'ACTGTAAAAATCCGAGGAATAGCTTTTTAGAATTTAATTTTAAAAATCAGTTTTATATTTAATACAATTTCACATATATTCTTACATACTTTACATAAACCCAAAGTTTTACTTAGTCAATTTAAAAATAAACTCAGAAAAGTTTAGATAATTATTCTTTTAATTTATTTTTTCTTCATGCACACTCTTCACCCCAAAACCTCTTCTTCTTCCTATTTTCCATTCCATCCAAACTTATCTAATCGTATAAAAATCATTA', 'id_sequence_112': 'TGGTAGTATAACTCTCAAATATCAAGAGATAAGCCCCTTGAAGAAAATATAGCTTTTGTAAATATGTCTGGTATCAAAGGGTATTATCAGAACTCAAATTTTGTTGATTAGAGACAGCACGTGAATAGTGCACGCTATCATGAGAAAAAATAAAATATCTTCTTTTTTGGCTAAGAATAAGAAGCCAATAAAAATAAAAGTTCTTTAAACAAATCAATAGGAGTGGACCACGTCAGTTGTCCTTT'}\n"
     ]
    }
   ],
   "source": [
    "# Try to comment this lines of code putting the descriptions taken from previous points\n",
    "d_fasta = {}\n",
    "for l in s.split('\\n'):\n",
    "  if len(l) and l[0] == '>':\n",
    "    id_seq = l[1:].strip()\n",
    "    d_fasta[id_seq] = ''\n",
    "  else:\n",
    "    d_fasta[id_seq] += l.strip()\n",
    "print(d_fasta)"
   ]
  },
  {
   "cell_type": "code",
   "execution_count": 7,
   "metadata": {
    "id": "RuNlC_8pC2DZ"
   },
   "outputs": [],
   "source": [
    "# Let's see how d_fasta dictionary changes with every iteration\n",
    "# 1 At the begging it is just empty because we said so\n",
    "d_fasta = {}\n",
    "\n",
    "# 2 Let's imagine we are inside the for loop for the first time\n",
    "# what is the value of 'l'?\n",
    "# which branch of the if statement will be executed?\n",
    "# what is the value of 'id'?\n",
    "\n",
    "# 3 If you answer the questions for point 2 you should be able to guess what is the value of d_fasta after the first iteration\n",
    "# Just for testing purpose we can force the iteration to break just after the first iteration in this way\n",
    "d_fasta = {}\n",
    "for l in s.split('\\n'):\n",
    "  if len(l) and l[0] == '>':\n",
    "    id = l[1:].strip()\n",
    "    d_fasta[id] = ''\n",
    "  else:\n",
    "    d_fasta[id] += l.strip()\n",
    "  break # <- this will kill the for loop just after the first iteration an then the print function will be called, so we can check what's inside d_fasta after just one iteration"
   ]
  },
  {
   "cell_type": "code",
   "execution_count": 8,
   "metadata": {
    "colab": {
     "base_uri": "https://localhost:8080/"
    },
    "id": "9SKG8NzmEJFW",
    "outputId": "c2055e9c-eb84-4048-84e4-4a2ee21f944c"
   },
   "outputs": [
    {
     "name": "stdout",
     "output_type": "stream",
     "text": [
      "{'id_sequence_101': ''}\n"
     ]
    }
   ],
   "source": [
    "print(d_fasta) # can you guess what is going to tell you before executing it?"
   ]
  },
  {
   "cell_type": "code",
   "execution_count": 9,
   "metadata": {
    "colab": {
     "base_uri": "https://localhost:8080/"
    },
    "id": "EZJMSqwbEQJN",
    "outputId": "6882c77b-5c70-46da-a65d-aee36633584e"
   },
   "outputs": [
    {
     "name": "stdout",
     "output_type": "stream",
     "text": [
      "id_sequence_101\n",
      "True\n"
     ]
    }
   ],
   "source": [
    "# Let's move on and try to imagine what will happen with the second iteration \n",
    "# d_fasta right now (after one iteration) contains {'id_sequence_101': ''}, so just one element with key 'id_sequence_101' and an empty string as a value\n",
    "\n",
    "# 1 What is the value of 'l' at the second iteration?\n",
    "# This time we have 'TGCAAATGGGTGGGTCAATGTTCC...' aka the SEQUENCE right? Second iteration means second line of our initial string!\n",
    "# Which branch of the if statement will be executed this time?\n",
    "# What is the value of 'id'?\n",
    "\n",
    "# You can try to print out their values\n",
    "print(id) # we stopped the execution right before the end of the first iteration right? So the value is still there!\n",
    "print(len(l) and l[0] == '>') # this is the if condition, is it going to be True or False this time?\n",
    "\n",
    "# 2 if you answer the previous point we should be able to guess what is the value of d_fasta after the second iteration\n",
    "# at the end of the first iteration d_fasta['id_sequence_101'] was an empty string, right? Now we are changing its value. What would be its value after the second iteration?\n",
    "# Again, just for testing purpose we can force the iteration to stop just after a specific iteration, but we need an extra variable (let's call it n_iterations) to keep track of the \n",
    "# iteration we want to stop over\n",
    "d_fasta = {}\n",
    "n_iterations = 0 # <- there are other ways to do the same thing of course, for now let's use this simple integer variable to keep track of the iteration number, let's start with zero!\n",
    "for l in s.split('\\n'):\n",
    "  n_iterations += 1 # <- I'm going to increment it right away so I won't forget to do it later, since technically we are already inside a loop so the first time this will be one, the second time (iteration) will be 2 and so on\n",
    "  if len(l) and l[0] == '>':\n",
    "    id = l[1:].strip()\n",
    "    d_fasta[id] = ''\n",
    "  else:\n",
    "    d_fasta[id] += l.strip()\n",
    "  \n",
    "  if n_iterations == 2: # Now instead of our simple break we need to check if we are stopping at the right iteration number. Do we want to look at our variable just after 2 iterations? Perfect! Let's check\n",
    "    break               # if we are already at the second iteration and if affermative then break out of the loop! Again this is only for test purpose!"
   ]
  },
  {
   "cell_type": "code",
   "execution_count": 10,
   "metadata": {
    "colab": {
     "base_uri": "https://localhost:8080/"
    },
    "id": "A6pBnYwqHd48",
    "outputId": "a15ab1fe-2902-4e3f-99c2-199ff5c65f98"
   },
   "outputs": [
    {
     "name": "stdout",
     "output_type": "stream",
     "text": [
      "{'id_sequence_101': 'TGCAAATGGGTGGGTCAATGTTCCAAGGCCACCCCAAAGGGGCCCATGAGGAAAGGGCAAAACTAATGTGCTATAGCCTTAGGCCCTAAGGCCCGAGGGGAGTTGAGTTTTTCTACCCTGGGAAATTCATTGAGGCAGTAAGAGTGCCAGCCAAGCGGTGCCTCACCGCCACCAGAAGGCTCTAATAGTTTTTTGGGAATTTATTCCAAAATTAGGCCTAAAATTTTGATTT'}\n"
     ]
    }
   ],
   "source": [
    "print(d_fasta) # can you guess what is going to tell you before executing it after 2 iterations?"
   ]
  },
  {
   "cell_type": "code",
   "execution_count": 11,
   "metadata": {
    "id": "Ckw1Tn01HyV3"
   },
   "outputs": [],
   "source": [
    "# What about the third iteration? Can you guess what is going to happen?\n",
    "# Could you modify the following code to stop (break) the iteration after the third iterations and look at what 'id', 'l' and 'd_fasta' variables look like?\n",
    "# This is simply a copy and paste of previous code\n",
    "d_fasta = {}\n",
    "n_iterations = 0 \n",
    "for l in s.split('\\n'):\n",
    "  n_iterations += 1 \n",
    "  if len(l) and l[0] == '>':\n",
    "    id = l[1:].strip()\n",
    "    d_fasta[id] = ''\n",
    "  else:\n",
    "    d_fasta[id] += l.strip()\n",
    "  \n",
    "  if n_iterations == 2: \n",
    "    break    "
   ]
  },
  {
   "cell_type": "code",
   "execution_count": 12,
   "metadata": {
    "colab": {
     "base_uri": "https://localhost:8080/"
    },
    "id": "-bPzXgKXIV5r",
    "outputId": "175795bc-91f8-4ddb-fb17-473d1d206f08"
   },
   "outputs": [
    {
     "name": "stdout",
     "output_type": "stream",
     "text": [
      "{'id_sequence_101': 'TTGCCAAACAAGTTACCAAATATGTTACTAGAGAGAAATCTAGTACATGGTACCTACAAAATTAAATATCAAAGCGGACTGACACCAAACTGTAGCTAACATCTTCATTTCCATGGATAGCTGATATATTTCTCAATATGAACTCTCTTTCATATATCTCATACTTTCTAAATAGATGTTCTGTCTCAAATTGAATT', 'id_sequence_17': 'CATTGTGAGTTTTTAATTTAATTGCATTGTGTGTTTTTCATGTTGGATTTTAGAATTAATTTGTGTGCGGGGTTGAAATGGTTGTAGATTTGAATTGTGTTTTTTTAAATTTAAGGAAAAATGACACAGAGACCCCCAACGTTTGAATAAAGGACACAAAACCCCCTAAGGTTTCAAAAAAGACACTCAGACCCTCATTTGTTAACAGTAAATTATAAT', 'id_sequence_451': 'AAACTTGGTCTTTCTGAAAATACTGAAAGAGGCATCGGTCTGTTATGGGGTCCTGATAGCACCGAGGAGTTCTTAAAAAAGTTTAGTCTAAAGGTGATATCATGATCCTACATTTTATCTTTTAAACCAATGGATTCATATTTATCTCTGTAAGTAGTGTTAAAACTTACTGAAGTTTAAAGTGGCAGTGGCAACCTCGTAGTTC', 'id_sequence_41': 'TTGATTTTTGCTGCGTTAAGAGTTTTTAAAAAAATAATAATAATAATAACGAAAGAGATTGAACTGATCATTATGTACCCATTGATTACCGTTACGGCCAGCACAAATTTTAAGTCGAAGAGATTAACTAGACAAGCTCAAGATGTAACAGTTTGGCTTGATTTTAGAAGGTTTTATTTTTAAGAATACTCTAGAGTGATAAAATGTGAGTTCTTTAACAATTTCGTACTCTAGCGAGTAATAAAATGTGAGTTCTTTAACAATTTCGTATATAGAAGTCTCTAGCATATTGTAGATAGTAATCGGTCTAAAATATTCTAGGTATTACTAAAAATGAGATTTCTTTAAACCATGAAAATTCTCTAGATTAGAAAAGCCAGGCCCTCCCTATAGGCTTGGTTACTTGACATTTTATTCAAGCAATTCAAATTAAGCAATGCCAAGTATCAAATACCAAGCATCAAATACCAAGCATCAAGT', 'id_sequence_201': 'ACAGAAAATATTCAAAAGTTTTGGAGGAAAGTTGGTCTGGTTGTTTGCTAGGTCATTCTGATTGTGCAACTTCAATAAGCACAAATGGTATGTCATTAACTTAGAAGAAATATACTTTAGATATCAACTACTTCACATATCCTCTCTTGCATCAATATAAGAGCAGGAATCATGCCAAGCCATAAGAGCCCAGATAACCTGACTC', 'id_sequence_131': 'GGCTTAAATTCCATGCTCCTATCTCTAAAGAAGTTTTCAAGTTCCTCCATGAATGATGATTGCTCCTCTTCCGTTCCAGATTCACTGCCCTCGTCACTTCCATCCAAAAGAAATAACTGTGCTGAGTTGGACTTCTCATTCATTGGTAGTGTAGGTAACTCCGATTTGTTAACCTTATCTTTGATTTCTGTGTCATTTACATTCTTAAGCTCTGTGTCAGAAGGAGCTGCATTACG', 'id_sequence_21': 'TTATTTTGTCTTTGTCGACGATCTGATTCCTTCCGATAAAAGATAAACCCTAACTTATTTCTTAACGATATCGATCTAATATCACCCCTTTTCCTTTCCGCAGCACTCTGCTTCTTTTTATTTATGTTTTTCCTTTTCCCGTCTTCTTTTTTTTAATAATTAAGAGGATTCTCTAATTCATTCTTGATAACGGGACGGTACAGGCACAAAAGCCAGGCGGACAGCTTCCGTATTGAACACGTGTTTTATTACT', 'id_sequence_10': 'ACTGTAAAAATCCGAGGAATAGCTTTTTAGAATTTAATTTTAAAAATCAGTTTTATATTTAATACAATTTCACATATATTCTTACATACTTTACATAAACCCAAAGTTTTACTTAGTCAATTTAAAAATAAACTCAGAAAAGTTTAGATAATTATTCTTTTAATTTATTTTTTCTTCATGCACACTCTTCACCCCAAAACCTCTTCTTCTTCCTATTTTCCATTCCATCCAAACTTATCTAATCGTATAAAAATCATTA', 'id_sequence_112': 'TGGTAGTATAACTCTCAAATATCAAGAGATAAGCCCCTTGAAGAAAATATAGCTTTTGTAAATATGTCTGGTATCAAAGGGTATTATCAGAACTCAAATTTTGTTGATTAGAGACAGCACGTGAATAGTGCACGCTATCATGAGAAAAAATAAAATATCTTCTTTTTTGGCTAAGAATAAGAAGCCAATAAAAATAAAAGTTCTTTAAACAAATCAATAGGAGTGGACCACGTCAGTTGTCCTTT'}\n"
     ]
    }
   ],
   "source": [
    "# Let's move on. We saw othe solutions for the same problem. Remember every problem that has a solution has an inifinite number of solutions.\n",
    "# The idea in this case is to exploit the fact that IDs only appear on lines 0, 2, 4 ... that is even numbered lines while SEQUENCE only appears on lines 1, 3, 5 ... so only odd numbered lines\n",
    "# Once we have all the IDs in a list and all the SEQUENCE in another list we can merge the two with the ZIP function and convert it to a dictionary\n",
    "\n",
    "\n",
    "# 1 split the string using the \\n (newline) as separator\n",
    "# 2 go over all the lines and retain only we even numbered ones in a newly created list\n",
    "# 3 go over all the lines and retain only we odd numbered ones in a newly created list\n",
    "# 4 merge together the two lists\n",
    "# 5 covert them in a dictionary\n",
    "\n",
    "\n",
    "# Can you put the comments above on the right line in the following code?\n",
    "splitted_lines = s.split('\\n')\n",
    "even_lines = [line[1:] for n_line, line in enumerate(splitted_lines) if line != '' and n_line % 2 == 0]\n",
    "odd_lines = [line for n_line, line in enumerate(splitted_lines) if line != '' and n_line % 2 == 1]\n",
    "d = dict(zip(even_lines, odd_lines))\n",
    "print(d)"
   ]
  },
  {
   "cell_type": "code",
   "execution_count": 13,
   "metadata": {
    "colab": {
     "base_uri": "https://localhost:8080/"
    },
    "id": "7KCyB_wTKDz0",
    "outputId": "fe86db3b-0ee7-48cc-8b85-21117a27a20c"
   },
   "outputs": [
    {
     "name": "stdout",
     "output_type": "stream",
     "text": [
      "['id_sequence_101', 'id_sequence_17', 'id_sequence_451', 'id_sequence_41', 'id_sequence_101', 'id_sequence_201', 'id_sequence_131', 'id_sequence_21', 'id_sequence_10', 'id_sequence_112']\n"
     ]
    }
   ],
   "source": [
    "# Python code can be concise but a lot of things happen all at once, let's take the creation of even_lines list for example and analyze it in small pieces\n",
    "even_lines = [line[1:] for n_line, line in enumerate(splitted_lines) if line != '' and n_line % 2 == 0]\n",
    "print(even_lines)"
   ]
  },
  {
   "cell_type": "code",
   "execution_count": 14,
   "metadata": {
    "colab": {
     "base_uri": "https://localhost:8080/"
    },
    "id": "uwJKHaLjLJXh",
    "outputId": "63fd9b8a-9c67-4743-eba6-1f1c44914df8"
   },
   "outputs": [
    {
     "name": "stdout",
     "output_type": "stream",
     "text": [
      "[(0, '>id_sequence_101'), (1, 'TGCAAATGGGTGGGTCAATGTTCCAAGGCCACCCCAAAGGGGCCCATGAGGAAAGGGCAAAACTAATGTGCTATAGCCTTAGGCCCTAAGGCCCGAGGGGAGTTGAGTTTTTCTACCCTGGGAAATTCATTGAGGCAGTAAGAGTGCCAGCCAAGCGGTGCCTCACCGCCACCAGAAGGCTCTAATAGTTTTTTGGGAATTTATTCCAAAATTAGGCCTAAAATTTTGATTT'), (2, '>id_sequence_17'), (3, 'CATTGTGAGTTTTTAATTTAATTGCATTGTGTGTTTTTCATGTTGGATTTTAGAATTAATTTGTGTGCGGGGTTGAAATGGTTGTAGATTTGAATTGTGTTTTTTTAAATTTAAGGAAAAATGACACAGAGACCCCCAACGTTTGAATAAAGGACACAAAACCCCCTAAGGTTTCAAAAAAGACACTCAGACCCTCATTTGTTAACAGTAAATTATAAT'), (4, '>id_sequence_451'), (5, 'AAACTTGGTCTTTCTGAAAATACTGAAAGAGGCATCGGTCTGTTATGGGGTCCTGATAGCACCGAGGAGTTCTTAAAAAAGTTTAGTCTAAAGGTGATATCATGATCCTACATTTTATCTTTTAAACCAATGGATTCATATTTATCTCTGTAAGTAGTGTTAAAACTTACTGAAGTTTAAAGTGGCAGTGGCAACCTCGTAGTTC'), (6, '>id_sequence_41'), (7, 'TTGATTTTTGCTGCGTTAAGAGTTTTTAAAAAAATAATAATAATAATAACGAAAGAGATTGAACTGATCATTATGTACCCATTGATTACCGTTACGGCCAGCACAAATTTTAAGTCGAAGAGATTAACTAGACAAGCTCAAGATGTAACAGTTTGGCTTGATTTTAGAAGGTTTTATTTTTAAGAATACTCTAGAGTGATAAAATGTGAGTTCTTTAACAATTTCGTACTCTAGCGAGTAATAAAATGTGAGTTCTTTAACAATTTCGTATATAGAAGTCTCTAGCATATTGTAGATAGTAATCGGTCTAAAATATTCTAGGTATTACTAAAAATGAGATTTCTTTAAACCATGAAAATTCTCTAGATTAGAAAAGCCAGGCCCTCCCTATAGGCTTGGTTACTTGACATTTTATTCAAGCAATTCAAATTAAGCAATGCCAAGTATCAAATACCAAGCATCAAATACCAAGCATCAAGT'), (8, '>id_sequence_101'), (9, 'TTGCCAAACAAGTTACCAAATATGTTACTAGAGAGAAATCTAGTACATGGTACCTACAAAATTAAATATCAAAGCGGACTGACACCAAACTGTAGCTAACATCTTCATTTCCATGGATAGCTGATATATTTCTCAATATGAACTCTCTTTCATATATCTCATACTTTCTAAATAGATGTTCTGTCTCAAATTGAATT'), (10, '>id_sequence_201'), (11, 'ACAGAAAATATTCAAAAGTTTTGGAGGAAAGTTGGTCTGGTTGTTTGCTAGGTCATTCTGATTGTGCAACTTCAATAAGCACAAATGGTATGTCATTAACTTAGAAGAAATATACTTTAGATATCAACTACTTCACATATCCTCTCTTGCATCAATATAAGAGCAGGAATCATGCCAAGCCATAAGAGCCCAGATAACCTGACTC'), (12, '>id_sequence_131'), (13, 'GGCTTAAATTCCATGCTCCTATCTCTAAAGAAGTTTTCAAGTTCCTCCATGAATGATGATTGCTCCTCTTCCGTTCCAGATTCACTGCCCTCGTCACTTCCATCCAAAAGAAATAACTGTGCTGAGTTGGACTTCTCATTCATTGGTAGTGTAGGTAACTCCGATTTGTTAACCTTATCTTTGATTTCTGTGTCATTTACATTCTTAAGCTCTGTGTCAGAAGGAGCTGCATTACG'), (14, '>id_sequence_21'), (15, 'TTATTTTGTCTTTGTCGACGATCTGATTCCTTCCGATAAAAGATAAACCCTAACTTATTTCTTAACGATATCGATCTAATATCACCCCTTTTCCTTTCCGCAGCACTCTGCTTCTTTTTATTTATGTTTTTCCTTTTCCCGTCTTCTTTTTTTTAATAATTAAGAGGATTCTCTAATTCATTCTTGATAACGGGACGGTACAGGCACAAAAGCCAGGCGGACAGCTTCCGTATTGAACACGTGTTTTATTACT'), (16, '>id_sequence_10'), (17, 'ACTGTAAAAATCCGAGGAATAGCTTTTTAGAATTTAATTTTAAAAATCAGTTTTATATTTAATACAATTTCACATATATTCTTACATACTTTACATAAACCCAAAGTTTTACTTAGTCAATTTAAAAATAAACTCAGAAAAGTTTAGATAATTATTCTTTTAATTTATTTTTTCTTCATGCACACTCTTCACCCCAAAACCTCTTCTTCTTCCTATTTTCCATTCCATCCAAACTTATCTAATCGTATAAAAATCATTA'), (18, '>id_sequence_112'), (19, 'TGGTAGTATAACTCTCAAATATCAAGAGATAAGCCCCTTGAAGAAAATATAGCTTTTGTAAATATGTCTGGTATCAAAGGGTATTATCAGAACTCAAATTTTGTTGATTAGAGACAGCACGTGAATAGTGCACGCTATCATGAGAAAAAATAAAATATCTTCTTTTTTGGCTAAGAATAAGAAGCCAATAAAAATAAAAGTTCTTTAAACAAATCAATAGGAGTGGACCACGTCAGTTGTCCTTT'), (20, '')]\n"
     ]
    }
   ],
   "source": [
    "# 1. The previous code is a list comprehension so we are creating a new list based on the iteration on something else. What are we iterating over to create our even_lines list?\n",
    "# 2. The for loop is using not only one but two newly defined variables, n_line and line. The first one will hold the line number while the second one hold the value of the line itself\n",
    "# 3. To achieve that we used the enumerate function. Do you remeber how it works? If not have a look at what is the result of the following code\n",
    "enumerated_lines = list(enumerate(splitted_lines))\n",
    "print(enumerated_lines)"
   ]
  },
  {
   "cell_type": "code",
   "execution_count": 15,
   "metadata": {
    "colab": {
     "base_uri": "https://localhost:8080/"
    },
    "id": "_ct03171L8Y9",
    "outputId": "4d374b41-537a-465d-8801-10934b77d48f"
   },
   "outputs": [
    {
     "name": "stdout",
     "output_type": "stream",
     "text": [
      "LINE NUMBER 0\n",
      "LINE >id_sequence_101\n"
     ]
    }
   ],
   "source": [
    "# enumerated_lines in the previous line is a list (because i forced it to be converted into a list) of tuples. Each tuple in the list has two items. The second one is the item of our original splitted_lines list\n",
    "# while the first one is its index number (remeber that Python is zero-based that is the first element has index 0, the second has index 1 and so on). So the first item of each tuple hold exactly what we need, the line number!\n",
    "# When we loop over nested structure we can use more variables at the same time, in fact we used n_line and line in the for loop since enumerate(splitted_lines) will give us a list of tuples\n",
    "for n_line, line in enumerate(splitted_lines):\n",
    "  print('LINE NUMBER', n_line)\n",
    "  print('LINE', line)\n",
    "  break # again let's just stop after the first iteration just to get an idea"
   ]
  },
  {
   "cell_type": "code",
   "execution_count": 16,
   "metadata": {
    "colab": {
     "base_uri": "https://localhost:8080/"
    },
    "id": "miUfInDCNGla",
    "outputId": "ace42954-0014-4aa9-a332-d55fc8571735"
   },
   "outputs": [
    {
     "name": "stdout",
     "output_type": "stream",
     "text": [
      "5 % 2 =  1 so 5 is odd\n",
      "4 %2 =  0 so 4 is even\n"
     ]
    }
   ],
   "source": [
    "# Now the fun part. How to tell if a line is an even or odd numbered one? Well let's use the % 2\n",
    "print('5 % 2 = ', 5 % 2, 'so 5 is odd') \n",
    "print('4 %2 = ',4 % 2, 'so 4 is even')"
   ]
  },
  {
   "cell_type": "code",
   "execution_count": 17,
   "metadata": {
    "id": "XHFkwxjfLJkr"
   },
   "outputs": [
    {
     "name": "stdout",
     "output_type": "stream",
     "text": [
      "['id_sequence_101', 'id_sequence_17', 'id_sequence_451', 'id_sequence_41', 'id_sequence_101', 'id_sequence_201', 'id_sequence_131', 'id_sequence_21', 'id_sequence_10', 'id_sequence_112']\n"
     ]
    }
   ],
   "source": [
    "# Now you should have all the elements to understand what is going on here\n",
    "even_lines = [line[1:] for n_line, line in enumerate(splitted_lines) if line != '' and n_line % 2 == 0]\n",
    "\n",
    "# Just a couple of questions\n",
    "# 1. Why did I put line[1:] as values for the newly created even_lines list instead of simply line?\n",
    "# 2. Now an hard one: remember that Python will interpret every condition to be boolean value (True, False) even if you use other data types (0 -> False, 1 -> True, empty string '' -> False)\n",
    "#    What happen if we use  if line and n_line % 2 == 0 instead of  if line != '' and n_line % 2 == 0\n",
    "#    That is we get rid of the != ''\n",
    "\n",
    "even_lines = [line[1:] for n_line, line in enumerate(splitted_lines) if line and n_line % 2 == 0]\n",
    "print(even_lines)\n",
    "\n",
    "# Why it didn't change?\n",
    "# 3. since n_line % 2 is going to give us back a number, can we also get rid of == 0 part?\n",
    "even_lines = [line[1:] for n_line, line in enumerate(splitted_lines) if line and not n_line % 2]\n",
    "\n"
   ]
  },
  {
   "cell_type": "code",
   "execution_count": 18,
   "metadata": {
    "colab": {
     "base_uri": "https://localhost:8080/"
    },
    "id": "vwuHO6yiPAED",
    "outputId": "3867eaf2-56e5-4864-fa81-4d2e64af587c"
   },
   "outputs": [
    {
     "name": "stdout",
     "output_type": "stream",
     "text": [
      "{'id_sequence_101': 'TTGCCAAACAAGTTACCAAATATGTTACTAGAGAGAAATCTAGTACATGGTACCTACAAAATTAAATATCAAAGCGGACTGACACCAAACTGTAGCTAACATCTTCATTTCCATGGATAGCTGATATATTTCTCAATATGAACTCTCTTTCATATATCTCATACTTTCTAAATAGATGTTCTGTCTCAAATTGAATT', 'id_sequence_17': 'CATTGTGAGTTTTTAATTTAATTGCATTGTGTGTTTTTCATGTTGGATTTTAGAATTAATTTGTGTGCGGGGTTGAAATGGTTGTAGATTTGAATTGTGTTTTTTTAAATTTAAGGAAAAATGACACAGAGACCCCCAACGTTTGAATAAAGGACACAAAACCCCCTAAGGTTTCAAAAAAGACACTCAGACCCTCATTTGTTAACAGTAAATTATAAT', 'id_sequence_451': 'AAACTTGGTCTTTCTGAAAATACTGAAAGAGGCATCGGTCTGTTATGGGGTCCTGATAGCACCGAGGAGTTCTTAAAAAAGTTTAGTCTAAAGGTGATATCATGATCCTACATTTTATCTTTTAAACCAATGGATTCATATTTATCTCTGTAAGTAGTGTTAAAACTTACTGAAGTTTAAAGTGGCAGTGGCAACCTCGTAGTTC', 'id_sequence_41': 'TTGATTTTTGCTGCGTTAAGAGTTTTTAAAAAAATAATAATAATAATAACGAAAGAGATTGAACTGATCATTATGTACCCATTGATTACCGTTACGGCCAGCACAAATTTTAAGTCGAAGAGATTAACTAGACAAGCTCAAGATGTAACAGTTTGGCTTGATTTTAGAAGGTTTTATTTTTAAGAATACTCTAGAGTGATAAAATGTGAGTTCTTTAACAATTTCGTACTCTAGCGAGTAATAAAATGTGAGTTCTTTAACAATTTCGTATATAGAAGTCTCTAGCATATTGTAGATAGTAATCGGTCTAAAATATTCTAGGTATTACTAAAAATGAGATTTCTTTAAACCATGAAAATTCTCTAGATTAGAAAAGCCAGGCCCTCCCTATAGGCTTGGTTACTTGACATTTTATTCAAGCAATTCAAATTAAGCAATGCCAAGTATCAAATACCAAGCATCAAATACCAAGCATCAAGT', 'id_sequence_201': 'ACAGAAAATATTCAAAAGTTTTGGAGGAAAGTTGGTCTGGTTGTTTGCTAGGTCATTCTGATTGTGCAACTTCAATAAGCACAAATGGTATGTCATTAACTTAGAAGAAATATACTTTAGATATCAACTACTTCACATATCCTCTCTTGCATCAATATAAGAGCAGGAATCATGCCAAGCCATAAGAGCCCAGATAACCTGACTC', 'id_sequence_131': 'GGCTTAAATTCCATGCTCCTATCTCTAAAGAAGTTTTCAAGTTCCTCCATGAATGATGATTGCTCCTCTTCCGTTCCAGATTCACTGCCCTCGTCACTTCCATCCAAAAGAAATAACTGTGCTGAGTTGGACTTCTCATTCATTGGTAGTGTAGGTAACTCCGATTTGTTAACCTTATCTTTGATTTCTGTGTCATTTACATTCTTAAGCTCTGTGTCAGAAGGAGCTGCATTACG', 'id_sequence_21': 'TTATTTTGTCTTTGTCGACGATCTGATTCCTTCCGATAAAAGATAAACCCTAACTTATTTCTTAACGATATCGATCTAATATCACCCCTTTTCCTTTCCGCAGCACTCTGCTTCTTTTTATTTATGTTTTTCCTTTTCCCGTCTTCTTTTTTTTAATAATTAAGAGGATTCTCTAATTCATTCTTGATAACGGGACGGTACAGGCACAAAAGCCAGGCGGACAGCTTCCGTATTGAACACGTGTTTTATTACT', 'id_sequence_10': 'ACTGTAAAAATCCGAGGAATAGCTTTTTAGAATTTAATTTTAAAAATCAGTTTTATATTTAATACAATTTCACATATATTCTTACATACTTTACATAAACCCAAAGTTTTACTTAGTCAATTTAAAAATAAACTCAGAAAAGTTTAGATAATTATTCTTTTAATTTATTTTTTCTTCATGCACACTCTTCACCCCAAAACCTCTTCTTCTTCCTATTTTCCATTCCATCCAAACTTATCTAATCGTATAAAAATCATTA', 'id_sequence_112': 'TGGTAGTATAACTCTCAAATATCAAGAGATAAGCCCCTTGAAGAAAATATAGCTTTTGTAAATATGTCTGGTATCAAAGGGTATTATCAGAACTCAAATTTTGTTGATTAGAGACAGCACGTGAATAGTGCACGCTATCATGAGAAAAAATAAAATATCTTCTTTTTTGGCTAAGAATAAGAAGCCAATAAAAATAAAAGTTCTTTAAACAAATCAATAGGAGTGGACCACGTCAGTTGTCCTTT'}\n"
     ]
    }
   ],
   "source": [
    "# The last part about the creation of the dictionary should be clear enough by now. We have two lists and we are putting together the first elements as a tuple, then the second elements as another tuples and so on\n",
    "# And in Python if you convert a list of couples, that can be another list or tuples as in our case, into a dictionary, then Python is smart enought to understand that you might want to use the first element as key \n",
    "# and the second as a value\n",
    "d = dict(zip(even_lines, odd_lines))\n",
    "print(d)\n"
   ]
  },
  {
   "cell_type": "code",
   "execution_count": 21,
   "metadata": {
    "colab": {
     "base_uri": "https://localhost:8080/"
    },
    "id": "8OOh5t4uPsqt",
    "outputId": "cad9b118-dafc-463d-e68f-b0a5af37fc6f"
   },
   "outputs": [
    {
     "name": "stdout",
     "output_type": "stream",
     "text": [
      "NUMBER OF SEQUENCES 9\n",
      "SUM 6\n",
      "[197, 219, 205, 480, 205, 236, 253, 259, 245]\n"
     ]
    }
   ],
   "source": [
    "# Move on the second request!\n",
    "# How many sequences are there? Which is the longest and the shortest? What is the average length?\n",
    "# The first one is pretty easy, we need our len() function to know how many elements we have. So\n",
    "\n",
    "print(\"NUMBER OF SEQUENCES\", len(d)) # <- this will do the job\n",
    "\n",
    "# Let's continue with the last request. What is the average length? Well we already have the number of sequences, we need to know the length of all the sequences and then sum them together!\n",
    "# A concise way would be to have a list of all the length and then use the sum function to get the total length\n",
    "my_list = [1, 2, 3]\n",
    "print(\"SUM\", sum(my_list)) # <- this will do 1 + 2 + 3\n",
    "\n",
    "# Maybe we can use again list comprehension to get a list with all the length\n",
    "all_sequence_length = [len(v) for k, v in d.items()]\n",
    "\n",
    "# What does all_sequence_length contains?\n",
    "print(all_sequence_length)"
   ]
  },
  {
   "cell_type": "code",
   "execution_count": 33,
   "metadata": {
    "colab": {
     "base_uri": "https://localhost:8080/"
    },
    "id": "4kJWj7LkRRxW",
    "outputId": "4a10786d-5aa7-4bc7-ccfa-b7ca9c5a6a2c"
   },
   "outputs": [
    {
     "name": "stdout",
     "output_type": "stream",
     "text": [
      "This is the key id_sequence_101\n",
      "This is the value TTGCCAAACAAGTTACCAAATATGTTACTAGAGAGAAATCTAGTACATGGTACCTACAAAATTAAATATCAAAGCGGACTGACACCAAACTGTAGCTAACATCTTCATTTCCATGGATAGCTGATATATTTCTCAATATGAACTCTCTTTCATATATCTCATACTTTCTAAATAGATGTTCTGTCTCAAATTGAATT\n"
     ]
    }
   ],
   "source": [
    "# all_sequence_length contains 9 times the number 1. One for each element of the d dictionary I'm iterating over!\n",
    "# Look at that list comprehension and how the iteration is done on a dictionary. Since it is composed by couples (key and value), I can use 2 variables to indicate the key and the value of each of the dictionary item!\n",
    "# Let's see it in a different way\n",
    "for k, v in d.items():\n",
    "  print('This is the key', k)\n",
    "  print('This is the value', v)\n",
    "  break # < - again let's break it after the first iteration just to get the idea of what is going on"
   ]
  },
  {
   "cell_type": "code",
   "execution_count": 22,
   "metadata": {
    "id": "CtokjB6LR8T7"
   },
   "outputs": [],
   "source": [
    "# Now, how could you modify the previous code for all_sequence_length in order to obtain a list of the length of all the sequences?\n",
    "all_sequence_length = [1 for k, v in d.items()]\n",
    "\n",
    "# You should remove that 1, and put something else to calculate the length of the sequence"
   ]
  },
  {
   "cell_type": "code",
   "execution_count": 24,
   "metadata": {
    "id": "Mi4_taF3SQfO"
   },
   "outputs": [
    {
     "data": {
      "text/plain": [
       "[197, 219, 205, 480, 205, 236, 253, 259, 245]"
      ]
     },
     "execution_count": 24,
     "metadata": {},
     "output_type": "execute_result"
    }
   ],
   "source": [
    "# SPOILER ALERT! This is the correct code\n",
    "all_sequence_length = [len(v) for k, v in d.items()]\n",
    "all_sequence_length"
   ]
  },
  {
   "cell_type": "code",
   "execution_count": 25,
   "metadata": {},
   "outputs": [
    {
     "data": {
      "text/plain": [
       "2299"
      ]
     },
     "execution_count": 25,
     "metadata": {},
     "output_type": "execute_result"
    }
   ],
   "source": [
    "sum(all_sequence_length)"
   ]
  },
  {
   "cell_type": "code",
   "execution_count": 26,
   "metadata": {
    "id": "eWRu5ZiESqLA"
   },
   "outputs": [
    {
     "data": {
      "text/plain": [
       "255.44444444444446"
      ]
     },
     "execution_count": 26,
     "metadata": {},
     "output_type": "execute_result"
    }
   ],
   "source": [
    "# Now that we have all the lenght and the number of sequence to get the average we need to sum up all the length and divide by the number of sequences\n",
    "avg_length = sum(all_sequence_length) / len(d) # <- try and put your code here\n",
    "avg_length"
   ]
  },
  {
   "cell_type": "code",
   "execution_count": 27,
   "metadata": {},
   "outputs": [
    {
     "data": {
      "text/plain": [
       "2299"
      ]
     },
     "execution_count": 27,
     "metadata": {},
     "output_type": "execute_result"
    }
   ],
   "source": [
    "sum(map(len, d.values())) ## equivalent to [len(v) for k, v in d.items()]"
   ]
  },
  {
   "cell_type": "code",
   "execution_count": 35,
   "metadata": {
    "colab": {
     "base_uri": "https://localhost:8080/"
    },
    "id": "8a5vvC81TEXs",
    "outputId": "218d1100-c07f-4083-c7ab-9f6cdca00b7a"
   },
   "outputs": [
    {
     "name": "stdout",
     "output_type": "stream",
     "text": [
      "shortest sequence id_sequence_101 197\n",
      "longest sequence id_sequence_41 480\n"
     ]
    }
   ],
   "source": [
    "# Now let's try to get out the shortest and the longest sequences\n",
    "\n",
    "# I can think of two ways of doing that.\n",
    "# 1. The first one is to go over each of the dictionary item\n",
    "# 2. Calulate each of the sequence length\n",
    "# 3. Use temporary variables to hold the value of the longest and shortest sequences and their ids\n",
    "\n",
    "# Let's define my temporary variables\n",
    "longest_sequence_id = ''\n",
    "longest_sequence_value = 0\n",
    "shortest_sequence_id = ''\n",
    "shortest_sequence_value = 999999999 # why am I initializing this with a big value instead of 0?\n",
    "\n",
    "for k, v in d.items(): # loop over all the sequences\n",
    "  current_sequence_length = len(v)\n",
    "  if current_sequence_length > longest_sequence_value:\n",
    "    longest_sequence_value = current_sequence_length # current_sequence_length is longer then longest_sequence_value, so I need to update it\n",
    "    longest_sequence_id = k\n",
    "  if current_sequence_length < shortest_sequence_value: # current_sequence_length is shorter then shortest_sequence_value, so I need to update it\n",
    "    shortest_sequence_value = current_sequence_length\n",
    "    shortest_sequence_id = k\n",
    "\n",
    "print('shortest sequence', shortest_sequence_id, shortest_sequence_value)\n",
    "print('longest sequence', longest_sequence_id, longest_sequence_value)"
   ]
  },
  {
   "cell_type": "code",
   "execution_count": null,
   "metadata": {
    "id": "x4jMDpLsVYwD"
   },
   "outputs": [],
   "source": [
    "# How can you print the actual longest and shortest sequence (I mean the nucleotide sequence not how long it is)\n",
    "\n",
    "# put your code here"
   ]
  },
  {
   "cell_type": "code",
   "execution_count": 31,
   "metadata": {
    "colab": {
     "base_uri": "https://localhost:8080/"
    },
    "id": "aOFbhGmqWCBt",
    "outputId": "88e4bc90-82cb-4c37-b83a-646495899c6b"
   },
   "outputs": [
    {
     "data": {
      "text/plain": [
       "[197, 205, 205, 219, 236, 245, 253, 259, 480]"
      ]
     },
     "execution_count": 31,
     "metadata": {},
     "output_type": "execute_result"
    }
   ],
   "source": [
    "# Another solution to get the shortest and the longest would be to have a list of all the length and sort them, the first element will be the shortest one while the last element will be the longest one\n",
    "# We already have the list of length, and we know how to sort it. The problem is we don't have the sequence ids!\n",
    "# So using the previous list all_sequence_length and sort it will do just part of the job. We need a way to also store the IDs somewhere to be retrieved after the sort!\n",
    "sorted(all_sequence_length)"
   ]
  },
  {
   "cell_type": "code",
   "execution_count": 32,
   "metadata": {
    "colab": {
     "base_uri": "https://localhost:8080/"
    },
    "id": "5RQW4EWLWsGg",
    "outputId": "3cec940f-fa1a-46bc-86e2-142d8de9b203"
   },
   "outputs": [
    {
     "name": "stdout",
     "output_type": "stream",
     "text": [
      "[(1, 'b'), (3, 'd'), (5, 'a'), (7, 'c')]\n"
     ]
    }
   ],
   "source": [
    "# The idea would be again to have couples of sequence length and sequence id and then sort this list of couples based on the sequence length alone\n",
    "temp_list = [(5, 'a'), (1, 'b'), (7, 'c'), (3, 'd')]\n",
    "print(sorted(temp_list))"
   ]
  },
  {
   "cell_type": "code",
   "execution_count": 34,
   "metadata": {
    "id": "tQIahfAFXJZm"
   },
   "outputs": [],
   "source": [
    "# If you try to sort a list of lists (or tuples or viceversa) Python will try to sort it using the first element of the substructure. So we just need to put the sequence length as first element together with the corresponding IDs\n",
    "# Let's extend previous code to calculate all sequences length with a list comprehension\n",
    "all_sequence_length = [len(v) for k, v in d.items()]\n",
    "\n",
    "all_sequence_length_and_id = [(len(v), k) for k, v in d.items()]"
   ]
  },
  {
   "cell_type": "code",
   "execution_count": 35,
   "metadata": {
    "colab": {
     "base_uri": "https://localhost:8080/"
    },
    "id": "elVLj8IWX1i4",
    "outputId": "1c08c336-017d-4336-fd7d-6bbcf0f4d800"
   },
   "outputs": [
    {
     "name": "stdout",
     "output_type": "stream",
     "text": [
      "[(197, 'id_sequence_101'), (219, 'id_sequence_17'), (205, 'id_sequence_451'), (480, 'id_sequence_41'), (205, 'id_sequence_201'), (236, 'id_sequence_131'), (253, 'id_sequence_21'), (259, 'id_sequence_10'), (245, 'id_sequence_112')]\n"
     ]
    }
   ],
   "source": [
    "print(all_sequence_length_and_id)"
   ]
  },
  {
   "cell_type": "code",
   "execution_count": 36,
   "metadata": {
    "id": "rtUzqaT3X6sW"
   },
   "outputs": [],
   "source": [
    "# Now we just need to sort it\n",
    "sorted_all_sequence_lenght_and_id = sorted(all_sequence_length_and_id)"
   ]
  },
  {
   "cell_type": "code",
   "execution_count": 37,
   "metadata": {
    "id": "vaUEK5aEYDSU"
   },
   "outputs": [
    {
     "data": {
      "text/plain": [
       "[(197, 'id_sequence_101'),\n",
       " (205, 'id_sequence_201'),\n",
       " (205, 'id_sequence_451'),\n",
       " (219, 'id_sequence_17'),\n",
       " (236, 'id_sequence_131'),\n",
       " (245, 'id_sequence_112'),\n",
       " (253, 'id_sequence_21'),\n",
       " (259, 'id_sequence_10'),\n",
       " (480, 'id_sequence_41')]"
      ]
     },
     "execution_count": 37,
     "metadata": {},
     "output_type": "execute_result"
    }
   ],
   "source": [
    "# Now can you get out the longest and the shortest?\n",
    "sorted_all_sequence_lenght_and_id\n",
    "# your code here!"
   ]
  },
  {
   "cell_type": "code",
   "execution_count": 38,
   "metadata": {
    "colab": {
     "base_uri": "https://localhost:8080/"
    },
    "id": "04-QFz6oRFh7",
    "outputId": "25a1e951-51f5-4ab4-8ab6-0468e76bcb25"
   },
   "outputs": [
    {
     "name": "stdout",
     "output_type": "stream",
     "text": [
      "Is temp_subsequence_1 in temp_big_sequence? True\n",
      "Is temp_subsequence_2 in temp_big_sequence? False\n"
     ]
    }
   ],
   "source": [
    "# Next question is about to find a substring to match one of our sequences. So if we find that substring we need to report the sequence ID\n",
    "\n",
    "temp_big_sequence = 'ATGCGACAGATATAAATGCCA'\n",
    "temp_subsequence_1 = 'GATAT'\n",
    "temp_subsequence_2 = 'TTTATG'\n",
    "\n",
    "# To check for the presence of a string into another string we can use the in operator. Just like you would do with lists!\n",
    "\n",
    "print('Is temp_subsequence_1 in temp_big_sequence?', temp_subsequence_1 in temp_big_sequence)\n",
    "print('Is temp_subsequence_2 in temp_big_sequence?', temp_subsequence_2 in temp_big_sequence)\n"
   ]
  },
  {
   "cell_type": "code",
   "execution_count": 41,
   "metadata": {
    "id": "uLjVN2EmZaEA"
   },
   "outputs": [
    {
     "name": "stdout",
     "output_type": "stream",
     "text": [
      "id_sequence_10\n"
     ]
    }
   ],
   "source": [
    "# Let's see the real case\n",
    "\n",
    "substring = 'CCATTCCATCCAAACTTATCT' # <- this is what we are looking for\n",
    "for k, v in d.items(): # let's loop on all our sequences\n",
    "  if substring in v: # instead of ??? write a test to check if substring is in the current sequence\n",
    "    print(k) # if that is the case what would you print to inform about the corresponding sequence ID that contains that substring?"
   ]
  },
  {
   "cell_type": "code",
   "execution_count": 44,
   "metadata": {
    "colab": {
     "base_uri": "https://localhost:8080/"
    },
    "id": "zUcoKbISbU6z",
    "outputId": "f7c91763-4960-48fa-fadc-a579cd49984e"
   },
   "outputs": [
    {
     "name": "stdout",
     "output_type": "stream",
     "text": [
      "lo Wo\n"
     ]
    }
   ],
   "source": [
    "# For the next step we have something similar. That is we need again to loop over our dictionary of sequences but this time we need to retrieve substrings based on numerical coordinates\n",
    "# We shall build a new sequence concatenating the substring and put them in a new dictionary\n",
    "# To get a substring (or a sublist) we can use slicing, remember?\n",
    "\n",
    "temp_string = 'Hello World!'\n",
    "print(temp_string[3:8])"
   ]
  },
  {
   "cell_type": "code",
   "execution_count": 43,
   "metadata": {
    "colab": {
     "base_uri": "https://localhost:8080/"
    },
    "id": "lyFjpdybRTC-",
    "outputId": "4cdf6449-a03d-4157-e806-ce3ea7b0e2ea"
   },
   "outputs": [
    {
     "data": {
      "text/plain": [
       "{'id_sequence_101': 'AGAGAGAAATCAATATCAAAGCGGACTGACAC',\n",
       " 'id_sequence_17': 'TGTGTTTTTCAGTGCGGGGTTGAAATGGTTGT',\n",
       " 'id_sequence_451': 'AGGCATCGGTCAGGAGTTCTTAAAAAAGTTTA',\n",
       " 'id_sequence_41': 'AAAAATAATAATGATCATTATGTACCCATTGA',\n",
       " 'id_sequence_201': 'AGTTGGTCTGGTGCAACTTCAATAAGCACAAA',\n",
       " 'id_sequence_131': 'GAAGTTTTCAACCTCTTCCGTTCCAGATTCAC',\n",
       " 'id_sequence_21': 'CTTCCGATAAAACGATATCGATCTAATATCAC',\n",
       " 'id_sequence_10': 'GAATTTAATTTCAATTTCACATATATTCTTAC',\n",
       " 'id_sequence_112': 'TAAGCCCCTTGTGTCTGGTATCAAAGGGTATT'}"
      ]
     },
     "execution_count": 43,
     "metadata": {},
     "output_type": "execute_result"
    }
   ],
   "source": [
    "d_fasta2 = {} # <- here it is our brand new dictionary that will contains our concatened substrings\n",
    "\n",
    "# these are the coordinates, start and end for the 2 chunks we want for all the sequences in our dictionary\n",
    "chuck_1_start = 29\n",
    "chunk_1_end = 40\n",
    "chunk_2_start = 64\n",
    "chunk_2_end = 85 \n",
    "\n",
    "for k, v in d.items(): # again the typical dictionary loop\n",
    "  chunk_1 = v[chuck_1_start:chunk_1_end] # get out the first chunk using the coordinates and the sequence\n",
    "  chunk_2 = v[chunk_2_start:chunk_2_end] # get our the second chunk\n",
    "  concatened_chunks = chunk_1 + chunk_2 # merge the two\n",
    "\n",
    "  d_fasta2[k] = concatened_chunks # put them in our new dictionary using the same ID as a key\n",
    "\n",
    "d_fasta2"
   ]
  },
  {
   "cell_type": "code",
   "execution_count": 45,
   "metadata": {
    "colab": {
     "base_uri": "https://localhost:8080/"
    },
    "id": "qJ4CeSHFR0R1",
    "outputId": "f7571cd4-af84-44c2-b2ac-530c98262e8e"
   },
   "outputs": [
    {
     "name": "stdout",
     "output_type": "stream",
     "text": [
      "!dlroW olleH\n"
     ]
    }
   ],
   "source": [
    "# Now the last request! Starting from our newly created dictionary d_fasta2. Calculate the reverse complement of each string\n",
    "# To get the reverse of a string (or a list) we can use either the reverse method or the list slice [::-1]\n",
    "\n",
    "print(temp_string[::-1])"
   ]
  },
  {
   "cell_type": "code",
   "execution_count": null,
   "metadata": {
    "id": "s3oToV0Tdf98"
   },
   "outputs": [],
   "source": [
    "# The complement of a DNA sequence is defined as the same starting sequence but T instead of A (and viceversa) and G istead of C (and viceversa)\n",
    "# But this is going to be a bit tricky, let's see why with a small toy example!"
   ]
  },
  {
   "cell_type": "code",
   "execution_count": 47,
   "metadata": {
    "colab": {
     "base_uri": "https://localhost:8080/"
    },
    "id": "mDDbBxQAd4HJ",
    "outputId": "f4c227d1-a27b-451c-ec34-2ac51b6491e6"
   },
   "outputs": [
    {
     "name": "stdout",
     "output_type": "stream",
     "text": [
      "TTTTTTGGGCCC\n"
     ]
    }
   ],
   "source": [
    "initial_seq = 'AAATTTGGGCCC' # Let me introduce you our toy sequence\n",
    "\n",
    "# Now we want to replace every A with T\n",
    "complement_seq = initial_seq.replace('A', 'T')\n",
    "print(complement_seq)"
   ]
  },
  {
   "cell_type": "code",
   "execution_count": 48,
   "metadata": {
    "colab": {
     "base_uri": "https://localhost:8080/"
    },
    "id": "dXuTa-_redwG",
    "outputId": "ef5eeaf3-81d8-4149-f3de-a67eb2ea9c34"
   },
   "outputs": [
    {
     "name": "stdout",
     "output_type": "stream",
     "text": [
      "AAATTTGGGGGG\n"
     ]
    }
   ],
   "source": [
    "# So far so good, let's do the same for all nucleotides and see the result!\n",
    "complement_seq = initial_seq.replace('A', 'T')\n",
    "complement_seq = initial_seq.replace('T', 'A')\n",
    "complement_seq = initial_seq.replace('G', 'C')\n",
    "complement_seq = initial_seq.replace('C', 'G')\n",
    "\n",
    "print(complement_seq) # Wait what? What's wrong?"
   ]
  },
  {
   "cell_type": "code",
   "execution_count": 49,
   "metadata": {
    "colab": {
     "base_uri": "https://localhost:8080/"
    },
    "id": "pmHHNwdveyD6",
    "outputId": "933137fa-aed9-431b-879a-28bcc3ba1622"
   },
   "outputs": [
    {
     "name": "stdout",
     "output_type": "stream",
     "text": [
      "AAAAAAGGGGGG\n"
     ]
    }
   ],
   "source": [
    "# Ahhhhh ok silly me! I forgot to apply the replacement to complement_seq. I was always modifying the initial_seq. So after the first replacement I should keep changing complement_seq instead of initial_seq\n",
    "complement_seq = initial_seq.replace('A', 'T')\n",
    "complement_seq = complement_seq.replace('T', 'A')\n",
    "complement_seq = complement_seq.replace('G', 'C')\n",
    "complement_seq = complement_seq.replace('C', 'G')\n",
    "\n",
    "print(complement_seq) # That doesn't look correct! Can you guess what is the problem?"
   ]
  },
  {
   "cell_type": "code",
   "execution_count": null,
   "metadata": {
    "id": "2Ofr8HeQfe0e"
   },
   "outputs": [],
   "source": [
    "# We need a way to temporary convert the A into something different than T in order to avoid that the following replacement will affect all of the Ts (same goes for G and C)\n",
    "# One way to do it is to use a sort of wildcard that is a character that we know and is different from A, T, G and C"
   ]
  },
  {
   "cell_type": "code",
   "execution_count": 50,
   "metadata": {
    "colab": {
     "base_uri": "https://localhost:8080/"
    },
    "id": "5068TVVygAzv",
    "outputId": "7edbb691-9fb6-484d-ede9-3eab9d481315"
   },
   "outputs": [
    {
     "name": "stdout",
     "output_type": "stream",
     "text": [
      "XXXAAAYYYGGG\n",
      "AAATTTGGGCCC\n",
      "TTTAAACCCGGG\n"
     ]
    }
   ],
   "source": [
    "complement_seq = initial_seq.replace('A', 'X') # use X as a temporary wildcard\n",
    "complement_seq = complement_seq.replace('T', 'A')\n",
    "complement_seq = complement_seq.replace('G', 'Y') # use Y as a temporary wildcard\n",
    "complement_seq = complement_seq.replace('C', 'G')\n",
    "print(complement_seq)\n",
    "# now we can covert our wildcards back to the real nucleotide value we want and we avoided unwanted replacement\n",
    "complement_seq = complement_seq.replace('X', 'T')\n",
    "complement_seq = complement_seq.replace('Y', 'C')\n",
    "print(initial_seq)\n",
    "print(complement_seq)"
   ]
  },
  {
   "cell_type": "code",
   "execution_count": null,
   "metadata": {
    "id": "HWeNRukgd3Kq"
   },
   "outputs": [],
   "source": [
    "for k, v in d_fasta2.items():\n",
    "  ??? # can you apply the same trick here to get the reverse complement?\n"
   ]
  },
  {
   "cell_type": "markdown",
   "metadata": {
    "id": "VZ0G0kPbTO7n"
   },
   "source": [
    "# Ex # 2\n",
    "Consider the following 3 `dict` as 3 samples containing the measurements for 18 variables each"
   ]
  },
  {
   "cell_type": "code",
   "execution_count": 52,
   "metadata": {
    "id": "UU_YPumsTAIg"
   },
   "outputs": [],
   "source": [
    "sample_a = {'var_1': 30, 'var_2': 60, 'var_3': 56, 'var_4': 97, 'var_5': 66, 'var_6': 40, 'var_7': 23, 'var_8': 16, 'var_9': 90, 'var_10': 22, 'var_11': 40, 'var_12': 10, 'var_13': 18, 'var_14': 37, 'var_15': 5, 'var_16': 66, 'var_17': 60, 'var_18': 36}\n",
    "sample_b = {'var_1': 96, 'var_2': 91, 'var_3': 9, 'var_4': 34, 'var_5': 19, 'var_6': 61, 'var_7': 11, 'var_8': 52, 'var_9': 72, 'var_10': 44, 'var_11': 57, 'var_12': 21, 'var_13': 95, 'var_14': 34, 'var_15': 4, 'var_16': 80, 'var_17': 83, 'var_18': 75}\n",
    "sample_c = {'var_1': 85, 'var_2': 61, 'var_3': 99, 'var_4': 98, 'var_5': 99, 'var_6': 51, 'var_7': 34, 'var_8': 76, 'var_9': 87, 'var_10': 94, 'var_11': 66, 'var_12': 64, 'var_13': 69, 'var_14': 68, 'var_15': 4, 'var_16': 74, 'var_17': 57, 'var_18': 31}"
   ]
  },
  {
   "cell_type": "markdown",
   "metadata": {
    "id": "9li9ARRKkHnS"
   },
   "source": [
    "1. Calculate the average value of each variable between samples;\n",
    "2. Calculate the standard deviation of each variable between samples (check on Google if you don't remember how to calculate standard deviation). You can use `import math` and `math.sqrt` or power of 0.5 to get the square root of a number.\n",
    "3. Compare all the possible couples calculating the difference between variables, i.e. sample_a - sample_b, sample_a - sample_c, etc.\n",
    "4. Starting from the previous point consider only the couples in which variable difference has an absolute value of at least 20. How many of these variables are in common between all couples? How many there are in total? How many are common to just 2 of the couples? Hint: think about that as a Venn diagram. You might want to use the functions set.union(a, b), set.intersection(a, b) and set.difference(a, b) calculate union, intersection and difference between sets.\n",
    "The absolute value can be calculated using the `abs(n)` function where `n` is the number for which we want the absolute value, so `abs(-5)` will return `5`.\n",
    "5. Normalize each variable value by substracting the mean value for that variable and dividing it by its standard deviation.\n"
   ]
  },
  {
   "cell_type": "code",
   "execution_count": 57,
   "metadata": {},
   "outputs": [
    {
     "name": "stdout",
     "output_type": "stream",
     "text": [
      "{'var_1': 70.33333333333333, 'var_2': 70.66666666666667, 'var_3': 54.666666666666664, 'var_4': 76.33333333333333, 'var_5': 61.333333333333336, 'var_6': 50.666666666666664, 'var_7': 22.666666666666668, 'var_8': 48.0, 'var_9': 83.0, 'var_10': 53.333333333333336, 'var_11': 54.333333333333336, 'var_12': 31.666666666666668, 'var_13': 60.666666666666664, 'var_14': 46.333333333333336, 'var_15': 4.333333333333333, 'var_16': 73.33333333333333, 'var_17': 66.66666666666667, 'var_18': 47.333333333333336}\n"
     ]
    }
   ],
   "source": [
    "# Calculate the average value of each variable between samples\n",
    "avg = {}\n",
    "\n",
    "keys = list(sample_a.keys())\n",
    "for k in keys:\n",
    "    avg[k] = (sample_a[k] + sample_b[k] + sample_c[k]) / 3\n",
    "print(avg)"
   ]
  },
  {
   "cell_type": "code",
   "execution_count": 58,
   "metadata": {},
   "outputs": [
    {
     "name": "stdout",
     "output_type": "stream",
     "text": [
      "{'var_1': 28.871362204709975, 'var_2': 14.38363267359428, 'var_3': 36.75444039689475, 'var_4': 29.93697082575694, 'var_5': 32.826141344293816, 'var_6': 8.576453553512405, 'var_7': 9.392668535736915, 'var_8': 24.657656011875904, 'var_9': 7.874007874011811, 'var_10': 30.12566274052001, 'var_11': 10.780641085864152, 'var_12': 23.299976156401723, 'var_13': 31.982634176829286, 'var_14': 15.369522511198006, 'var_15': 0.4714045207910317, 'var_16': 5.734883511361751, 'var_17': 11.61416759345623, 'var_18': 19.669491322575904}\n"
     ]
    }
   ],
   "source": [
    "import math\n",
    "\n",
    "# Calculate the standard deviation \n",
    "std = {}\n",
    "\n",
    "keys = list(sample_a.keys())\n",
    "for k in keys:\n",
    "    std[k] = math.sqrt(((sample_a[k] - avg[k])**2 + (sample_b[k] - avg[k])**2 + (sample_c[k] - avg[k])**2) / 3 )\n",
    "    \n",
    "print(std)"
   ]
  },
  {
   "cell_type": "code",
   "execution_count": 59,
   "metadata": {},
   "outputs": [
    {
     "name": "stdout",
     "output_type": "stream",
     "text": [
      "{'var_1': -66, 'var_2': -31, 'var_3': 47, 'var_4': 63, 'var_5': 47, 'var_6': -21, 'var_7': 12, 'var_8': -36, 'var_9': 18, 'var_10': -22, 'var_11': -17, 'var_12': -11, 'var_13': -77, 'var_14': 3, 'var_15': 1, 'var_16': -14, 'var_17': -23, 'var_18': -39}\n"
     ]
    }
   ],
   "source": [
    "# Compare all the possible couples\n",
    "a_b = {}\n",
    "a_c = {}\n",
    "b_c = {}\n",
    "\n",
    "keys = list(sample_a.keys())\n",
    "\n",
    "for k in keys:\n",
    "    a_b[k] = sample_a[k] - sample_b[k]\n",
    "    a_c[k] = sample_a[k] - sample_c[k]\n",
    "    b_c[k] = sample_b[k] - sample_c[k]\n",
    "    \n",
    "print(a_b)"
   ]
  },
  {
   "cell_type": "code",
   "execution_count": null,
   "metadata": {},
   "outputs": [],
   "source": [
    "# Starting from the previous point consider only the couples in which variable difference has an absolute value of at least 20."
   ]
  },
  {
   "cell_type": "code",
   "execution_count": 60,
   "metadata": {},
   "outputs": [
    {
     "name": "stdout",
     "output_type": "stream",
     "text": [
      "{'c', 'e', 'd', 'b', 'a', 'f'}\n",
      "{'b', 'd'}\n",
      "{'a', 'c'}\n"
     ]
    }
   ],
   "source": [
    "# given 2 sets\n",
    "set_a = set(['a', 'b', 'c', 'd'])\n",
    "set_b = set(['e', 'a', 'f', 'c'])\n",
    "\n",
    "print(set.union(set_a, set_b))\n",
    "print(set.difference(set_a, set_b))\n",
    "print(set.intersection(set_a, set_b))"
   ]
  },
  {
   "cell_type": "code",
   "execution_count": 63,
   "metadata": {},
   "outputs": [
    {
     "name": "stdout",
     "output_type": "stream",
     "text": [
      "{'var_5', 'var_18', 'var_8', 'var_10', 'var_13', 'var_4', 'var_6', 'var_17', 'var_1', 'var_3', 'var_2'}\n",
      "{'var_5', 'var_14', 'var_10', 'var_13', 'var_11', 'var_12', 'var_1', 'var_3', 'var_8'}\n",
      "{'var_5', 'var_14', 'var_18', 'var_8', 'var_10', 'var_13', 'var_4', 'var_12', 'var_17', 'var_7', 'var_3', 'var_2'}\n"
     ]
    }
   ],
   "source": [
    "set_a = set([k for k, v in a_b.items() if abs(v) >= 20])\n",
    "set_b = set([k for k, v in a_c.items() if abs(v) >= 20])\n",
    "set_c = set([k for k, v in b_c.items() if abs(v) >= 20])\n",
    "\n",
    "print(set_a)\n",
    "print(set_b)\n",
    "print(set_c)"
   ]
  },
  {
   "cell_type": "code",
   "execution_count": 66,
   "metadata": {},
   "outputs": [
    {
     "name": "stdout",
     "output_type": "stream",
     "text": [
      "15 5\n",
      "1 1 1\n",
      "1 4 2\n"
     ]
    }
   ],
   "source": [
    "all = set.union(set_a, set_b, set_c)\n",
    "\n",
    "unique_a_b_c = set.intersection(set_a, set_b, set_c)\n",
    "unique_a = set.difference(set_a, set.union(set_b, set_c))\n",
    "unique_b = set.difference(set_b, set.union(set_a, set_c))\n",
    "unique_c = set.difference(set_c, set.union(set_b, set_a))\n",
    "unique_a_b = set.intersection(set_a, set_b).difference(set_c)\n",
    "unique_a_c = set.intersection(set_a, set_c).difference(set_b)\n",
    "unique_b_c = set.intersection(set_b, set_c).difference(set_a)\n",
    "\n",
    "print(len(all), len(unique_a_b_c))\n",
    "print(len(unique_a), len(unique_b), len(unique_c))\n",
    "print(len(unique_a_b), len(unique_a_c), len(unique_b_c))"
   ]
  },
  {
   "cell_type": "code",
   "execution_count": 69,
   "metadata": {},
   "outputs": [
    {
     "name": "stdout",
     "output_type": "stream",
     "text": [
      "{'var_1': -1.3970013970020954, 'var_2': -0.7415836394549148, 'var_3': 0.03627679591731681, 'var_4': 0.6903392726990816, 'var_5': 0.14216311986598673, 'var_6': -1.2437153189383545, 'var_7': 0.03548867204938368, 'var_8': -1.2977713690461004, 'var_9': 0.8890008890013334, 'var_10': -1.0400877684655538, 'var_11': -1.3295436903216789, 'var_12': -0.9299008085342483, 'var_13': -1.3340573021836246, 'var_14': -0.6072624134245684, 'var_15': 1.4142135623730956, 'var_16': -1.2787240261820112, 'var_17': -0.5740115779302919, 'var_18': -0.5761884304717815}\n"
     ]
    }
   ],
   "source": [
    "z_sample_a = {}\n",
    "z_sample_b = {}\n",
    "z_sample_c = {}\n",
    "\n",
    "keys = list(sample_a.keys())\n",
    "\n",
    "for k in keys:\n",
    "    z_sample_a[k] = (sample_a[k] - avg[k]) / std[k]\n",
    "    z_sample_b[k] = (sample_b[k] - avg[k]) / std[k]\n",
    "    z_sample_c[k] = (sample_c[k] - avg[k]) / std[k]\n",
    "    \n",
    "print(z_sample_a)"
   ]
  },
  {
   "cell_type": "markdown",
   "metadata": {},
   "source": [
    "### SOLUTIONS"
   ]
  },
  {
   "cell_type": "code",
   "execution_count": null,
   "metadata": {
    "colab": {
     "base_uri": "https://localhost:8080/"
    },
    "id": "3Alz17zQjoxg",
    "outputId": "9ff1f0aa-4b3d-4f9a-86de-842b8bb27747"
   },
   "outputs": [
    {
     "name": "stdout",
     "output_type": "stream",
     "text": [
      "{'var_1': 70.33333333333333, 'var_2': 70.66666666666667, 'var_3': 54.666666666666664, 'var_4': 76.33333333333333, 'var_5': 61.333333333333336, 'var_6': 50.666666666666664, 'var_7': 22.666666666666668, 'var_8': 48.0, 'var_9': 83.0, 'var_10': 53.333333333333336, 'var_11': 54.333333333333336, 'var_12': 31.666666666666668, 'var_13': 60.666666666666664, 'var_14': 46.333333333333336, 'var_15': 4.333333333333333, 'var_16': 73.33333333333333, 'var_17': 66.66666666666667, 'var_18': 47.333333333333336}\n"
     ]
    }
   ],
   "source": [
    "avg = {}\n",
    "for k, v in sample_a.items():\n",
    "  avg[k] = (v + sample_b[k] + sample_c[k]) / 3\n",
    "print(avg)"
   ]
  },
  {
   "cell_type": "code",
   "execution_count": null,
   "metadata": {
    "colab": {
     "base_uri": "https://localhost:8080/"
    },
    "id": "kK6KKZG5luES",
    "outputId": "cbdecbb1-6034-45fd-dfbb-6898b444cf6a"
   },
   "outputs": [
    {
     "name": "stdout",
     "output_type": "stream",
     "text": [
      "{'var_1': 28.871362204709975, 'var_2': 14.38363267359428, 'var_3': 36.75444039689475, 'var_4': 29.93697082575694, 'var_5': 32.826141344293816, 'var_6': 8.576453553512405, 'var_7': 9.392668535736915, 'var_8': 24.657656011875904, 'var_9': 7.874007874011811, 'var_10': 30.12566274052001, 'var_11': 10.780641085864152, 'var_12': 23.299976156401723, 'var_13': 31.982634176829286, 'var_14': 15.369522511198006, 'var_15': 0.4714045207910317, 'var_16': 5.734883511361751, 'var_17': 11.61416759345623, 'var_18': 19.669491322575904}\n"
     ]
    }
   ],
   "source": [
    "import math\n",
    "\n",
    "# math.sqrt(4) will give 2. Same thing as 4**0.5 will also return 2\n",
    "\n",
    "std = {}\n",
    "for k, v in sample_a.items():\n",
    "  std[k] = math.sqrt(((v - avg[k])**2 + (sample_b[k] - avg[k])**2 + (sample_c[k] - avg[k])**2) / 3 )\n",
    "print(std)"
   ]
  },
  {
   "cell_type": "code",
   "execution_count": null,
   "metadata": {
    "colab": {
     "base_uri": "https://localhost:8080/"
    },
    "id": "RyqoU2Tcm6eN",
    "outputId": "4650b913-cba9-4b02-f5c8-53158303fd49"
   },
   "outputs": [
    {
     "name": "stdout",
     "output_type": "stream",
     "text": [
      "{'var_1': -66, 'var_2': -31, 'var_3': 47, 'var_4': 63, 'var_5': 47, 'var_6': -21, 'var_7': 12, 'var_8': -36, 'var_9': 18, 'var_10': -22, 'var_11': -17, 'var_12': -11, 'var_13': -77, 'var_14': 3, 'var_15': 1, 'var_16': -14, 'var_17': -23, 'var_18': -39}\n"
     ]
    }
   ],
   "source": [
    "a_b = {}\n",
    "a_c = {}\n",
    "b_c = {}\n",
    "\n",
    "for k, v in sample_a.items():\n",
    "  a_b[k] = v - sample_b[k]\n",
    "  a_c[k] = v - sample_c[k]\n",
    "  b_c[k] = sample_b[k] - sample_c[k]\n",
    "\n",
    "print(a_b)"
   ]
  },
  {
   "cell_type": "code",
   "execution_count": null,
   "metadata": {
    "colab": {
     "base_uri": "https://localhost:8080/"
    },
    "id": "5mABEM83nO87",
    "outputId": "c674342a-30f6-425d-cbfc-c5fb4d693ea1"
   },
   "outputs": [
    {
     "name": "stdout",
     "output_type": "stream",
     "text": [
      "{'f', 'a', 'c', 'b', 'e', 'd'}\n",
      "{'b', 'd'}\n",
      "{'c', 'a'}\n"
     ]
    }
   ],
   "source": [
    "# given 2 sets\n",
    "set_a = set(['a', 'b', 'c', 'd'])\n",
    "set_b = set(['e', 'a', 'f', 'c'])\n",
    "\n",
    "print(set.union(set_a, set_b))\n",
    "print(set.difference(set_a, set_b))\n",
    "print(set.intersection(set_a, set_b))"
   ]
  },
  {
   "cell_type": "code",
   "execution_count": 65,
   "metadata": {
    "colab": {
     "base_uri": "https://localhost:8080/"
    },
    "id": "SiWmC0JIq18e",
    "outputId": "5b47c5ea-6ffc-4848-b051-b35512afc51a"
   },
   "outputs": [
    {
     "name": "stdout",
     "output_type": "stream",
     "text": [
      "15 5\n",
      "1 1 1\n",
      "1 4 2\n"
     ]
    }
   ],
   "source": [
    "# common to all a_b, a_c and b_c\n",
    "import math\n",
    "\n",
    "set_a = set([k for k, v in a_b.items() if abs(v) >= 20])\n",
    "set_b = set([k for k, v in a_c.items() if abs(v) >= 20])\n",
    "set_c = set([k for k, v in b_c.items() if abs(v) >= 20])\n",
    "\n",
    "all = set.union(set_a, set_b, set_c)\n",
    "unique_a_b_c = set.intersection(set_a, set_b, set_c)\n",
    "unique_a = set.difference(set_a, set.union(set_b, set_c))\n",
    "unique_b = set.difference(set_b, set.union(set_a, set_c))\n",
    "unique_c = set.difference(set_c, set.union(set_b, set_a))\n",
    "unique_a_b = set.intersection(set_a, set_b).difference(set_c)\n",
    "unique_a_c = set.intersection(set_a, set_c).difference(set_b)\n",
    "unique_b_c = set.intersection(set_b, set_c).difference(set_a)\n",
    "\n",
    "print(len(all), len(unique_a_b_c))\n",
    "print(len(unique_a), len(unique_b), len(unique_c))\n",
    "print(len(unique_a_b), len(unique_a_c), len(unique_b_c))"
   ]
  },
  {
   "cell_type": "code",
   "execution_count": null,
   "metadata": {
    "id": "fN8OiUELrzrk"
   },
   "outputs": [],
   "source": [
    "z_sample_a = {}\n",
    "z_sample_b = {}\n",
    "z_sample_c = {}\n",
    "\n",
    "for k, v in sample_a.items():\n",
    "  z_sample_a[k] = (v - avg[k]) / std[k]\n",
    "  z_sample_b[k] = (sample_b[k] - avg[k]) / std[k]\n",
    "  z_sample_c[k] = (sample_c[k] - avg[k]) / std[k]"
   ]
  },
  {
   "cell_type": "code",
   "execution_count": null,
   "metadata": {
    "colab": {
     "base_uri": "https://localhost:8080/"
    },
    "id": "Iuinc76uvDvI",
    "outputId": "3e3ca17a-055a-479a-f7de-127f59ba7b56"
   },
   "outputs": [
    {
     "data": {
      "text/plain": [
       "{'var_1': 30,\n",
       " 'var_10': 22,\n",
       " 'var_11': 40,\n",
       " 'var_12': 10,\n",
       " 'var_13': 18,\n",
       " 'var_14': 37,\n",
       " 'var_15': 5,\n",
       " 'var_16': 66,\n",
       " 'var_17': 60,\n",
       " 'var_18': 36,\n",
       " 'var_2': 60,\n",
       " 'var_3': 56,\n",
       " 'var_4': 97,\n",
       " 'var_5': 66,\n",
       " 'var_6': 40,\n",
       " 'var_7': 23,\n",
       " 'var_8': 16,\n",
       " 'var_9': 90}"
      ]
     },
     "execution_count": 47,
     "metadata": {
      "tags": []
     },
     "output_type": "execute_result"
    }
   ],
   "source": [
    "sample_a"
   ]
  },
  {
   "cell_type": "code",
   "execution_count": null,
   "metadata": {
    "colab": {
     "base_uri": "https://localhost:8080/"
    },
    "id": "Ba99FKp3vE8l",
    "outputId": "4ea577a5-979c-4e60-942f-ae5a19e336bf"
   },
   "outputs": [
    {
     "data": {
      "text/plain": [
       "{'var_1': -1.3970013970020954,\n",
       " 'var_10': -1.0400877684655538,\n",
       " 'var_11': -1.3295436903216789,\n",
       " 'var_12': -0.9299008085342483,\n",
       " 'var_13': -1.3340573021836246,\n",
       " 'var_14': -0.6072624134245684,\n",
       " 'var_15': 1.4142135623730956,\n",
       " 'var_16': -1.2787240261820112,\n",
       " 'var_17': -0.5740115779302919,\n",
       " 'var_18': -0.5761884304717815,\n",
       " 'var_2': -0.7415836394549148,\n",
       " 'var_3': 0.03627679591731681,\n",
       " 'var_4': 0.6903392726990816,\n",
       " 'var_5': 0.14216311986598673,\n",
       " 'var_6': -1.2437153189383545,\n",
       " 'var_7': 0.03548867204938368,\n",
       " 'var_8': -1.2977713690461004,\n",
       " 'var_9': 0.8890008890013334}"
      ]
     },
     "execution_count": 46,
     "metadata": {
      "tags": []
     },
     "output_type": "execute_result"
    }
   ],
   "source": [
    "z_sample_a"
   ]
  }
 ],
 "metadata": {
  "colab": {
   "collapsed_sections": [],
   "name": "Lesson 2: Exercises",
   "provenance": []
  },
  "kernelspec": {
   "display_name": "Python 3",
   "language": "python",
   "name": "python3"
  },
  "language_info": {
   "codemirror_mode": {
    "name": "ipython",
    "version": 3
   },
   "file_extension": ".py",
   "mimetype": "text/x-python",
   "name": "python",
   "nbconvert_exporter": "python",
   "pygments_lexer": "ipython3",
   "version": "3.9.1"
  }
 },
 "nbformat": 4,
 "nbformat_minor": 4
}
