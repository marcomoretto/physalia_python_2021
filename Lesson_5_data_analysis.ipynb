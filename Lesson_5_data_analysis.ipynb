{
  "nbformat": 4,
  "nbformat_minor": 0,
  "metadata": {
    "colab": {
      "name": "Lesson 5 : data analysis",
      "provenance": [],
      "collapsed_sections": [],
      "toc_visible": true
    },
    "kernelspec": {
      "display_name": "Python 3",
      "name": "python3"
    }
  },
  "cells": [
    {
      "cell_type": "markdown",
      "metadata": {
        "id": "WqI-Mm8fYouq"
      },
      "source": [
        "# Data Analysis with Python"
      ]
    },
    {
      "cell_type": "markdown",
      "metadata": {
        "id": "5OYXALi2bFCY"
      },
      "source": [
        "### `Numpy`\n",
        "`NumPy`, short for Numerical Python, has long been a cornerstone of numerical computing in Python. It provides the data structures, algorithms, and library glue needed for most scientific applications involving numerical data in Python"
      ]
    },
    {
      "cell_type": "markdown",
      "metadata": {
        "id": "x1OyWDgEbY4S"
      },
      "source": [
        "### `pandas`\n",
        "\n",
        "`pandas` provides high-level data structures and functions designed to make working with structured or tabular data fast, easy, and expressive. The primary objects in `pandas` is the `DataFrame`, a tabular, column-oriented data structure with both row and column labels.\n",
        "`pandas` blends the high-performance, array-computing ideas of `NumPy` with the flexible data manipulation capabilities of spreadsheets and relational databases."
      ]
    },
    {
      "cell_type": "markdown",
      "metadata": {
        "id": "jhbob8j8bq1p"
      },
      "source": [
        "### `matplotlib`\n",
        "\n",
        "`matplotlib` is the most popular Python library for producing plots and other two-dimensional data visualizations. "
      ]
    },
    {
      "cell_type": "code",
      "metadata": {
        "id": "5N6rnTt2WRAU"
      },
      "source": [
        "!pip install tables==3.5.1"
      ],
      "execution_count": null,
      "outputs": []
    },
    {
      "cell_type": "markdown",
      "metadata": {
        "id": "odDVivQlHHwU"
      },
      "source": [
        "# NumPy"
      ]
    },
    {
      "cell_type": "code",
      "metadata": {
        "id": "K4T6yuKkYlZd"
      },
      "source": [
        "import numpy as np\n",
        "\n",
        "my_arr = np.arange(1000000)\n",
        "my_list = list(range(1000000))"
      ],
      "execution_count": null,
      "outputs": []
    },
    {
      "cell_type": "code",
      "metadata": {
        "id": "jv7twrtGYsrM"
      },
      "source": [
        "%time for _ in range(10): my_arr2 = my_arr * 2"
      ],
      "execution_count": null,
      "outputs": []
    },
    {
      "cell_type": "code",
      "metadata": {
        "id": "9656phESeRPh"
      },
      "source": [
        "%time for _ in range(10): my_list2 = [x * 2 for x in my_list]"
      ],
      "execution_count": null,
      "outputs": []
    },
    {
      "cell_type": "markdown",
      "metadata": {
        "id": "Q9Ip1bsTeu5K"
      },
      "source": [
        " The basic object is an N-dimensional array object, or `ndarray`. An `ndarray` is a generic multidimensional container for homogeneous data."
      ]
    },
    {
      "cell_type": "code",
      "metadata": {
        "id": "AydkpR82eVHs"
      },
      "source": [
        "data = np.random.randn(2, 3)\n",
        "data"
      ],
      "execution_count": null,
      "outputs": []
    },
    {
      "cell_type": "code",
      "metadata": {
        "id": "mRoV_d3iejii"
      },
      "source": [
        "data * 10"
      ],
      "execution_count": null,
      "outputs": []
    },
    {
      "cell_type": "code",
      "metadata": {
        "id": "sS3V5AXMe4hK"
      },
      "source": [
        "data + data"
      ],
      "execution_count": null,
      "outputs": []
    },
    {
      "cell_type": "code",
      "metadata": {
        "id": "hQGsz3VVe5cM"
      },
      "source": [
        "data.shape"
      ],
      "execution_count": null,
      "outputs": []
    },
    {
      "cell_type": "code",
      "metadata": {
        "id": "8XNuTp3He_yc"
      },
      "source": [
        "data.dtype"
      ],
      "execution_count": null,
      "outputs": []
    },
    {
      "cell_type": "code",
      "metadata": {
        "id": "9xBIgKcOfA20"
      },
      "source": [
        "# create a ndarray from any iterator\n",
        "a =  np.array([1,2,3,4])\n",
        "a"
      ],
      "execution_count": null,
      "outputs": []
    },
    {
      "cell_type": "code",
      "metadata": {
        "id": "ctVuaErVyUv9"
      },
      "source": [
        "type(a)"
      ],
      "execution_count": null,
      "outputs": []
    },
    {
      "cell_type": "code",
      "metadata": {
        "id": "fIYxVju2h3TV"
      },
      "source": [
        "a2 = [[1, 2, 3, 4], [5, 6, 7, 8]]\n",
        "a2 = np.array(a2)\n",
        "a2\n"
      ],
      "execution_count": null,
      "outputs": []
    },
    {
      "cell_type": "code",
      "metadata": {
        "id": "q7pO4X1FiHbg"
      },
      "source": [
        "# create arrays full of zeros\n",
        "np.zeros(10)"
      ],
      "execution_count": null,
      "outputs": []
    },
    {
      "cell_type": "code",
      "metadata": {
        "id": "0v67GuhkiRtW"
      },
      "source": [
        "np.zeros((5, 2))"
      ],
      "execution_count": null,
      "outputs": []
    },
    {
      "cell_type": "code",
      "metadata": {
        "id": "Ms1lx3pYibew"
      },
      "source": [
        "# arange is the array version of range in Python\n",
        "np.arange(15)"
      ],
      "execution_count": null,
      "outputs": []
    },
    {
      "cell_type": "code",
      "metadata": {
        "id": "6iJSOUbfi8HF"
      },
      "source": [
        "# arithmetic\n",
        "a1 = np.random.randn(2, 3)\n",
        "a2 = np.random.randn(2, 3)\n",
        "\n",
        "print(a1)\n",
        "print('****************')\n",
        "print(a2)"
      ],
      "execution_count": null,
      "outputs": []
    },
    {
      "cell_type": "code",
      "metadata": {
        "id": "RkoU1Io5jjtK"
      },
      "source": [
        "a1 + a2"
      ],
      "execution_count": null,
      "outputs": []
    },
    {
      "cell_type": "code",
      "metadata": {
        "id": "LRYtYFv_jn--"
      },
      "source": [
        "a1 - a2"
      ],
      "execution_count": null,
      "outputs": []
    },
    {
      "cell_type": "code",
      "metadata": {
        "id": "h0oAZ1NojqMf"
      },
      "source": [
        "a1 ** 0.5"
      ],
      "execution_count": null,
      "outputs": []
    },
    {
      "cell_type": "code",
      "metadata": {
        "id": "lPCz2R5IjsAe"
      },
      "source": [
        "a1 > a2"
      ],
      "execution_count": null,
      "outputs": []
    },
    {
      "cell_type": "code",
      "metadata": {
        "id": "Q8c1xPjYj5aw"
      },
      "source": [
        "# indexing and slicing\n",
        "a1 = np.arange(15, 25)\n",
        "\n",
        "a1[5]"
      ],
      "execution_count": null,
      "outputs": []
    },
    {
      "cell_type": "code",
      "metadata": {
        "id": "SJxBmkgEkHHw"
      },
      "source": [
        "a1[:3]"
      ],
      "execution_count": null,
      "outputs": []
    },
    {
      "cell_type": "code",
      "metadata": {
        "id": "s3zV_dGXkIp7"
      },
      "source": [
        "a1 = np.arange(12).reshape(3,4)\n",
        "a1"
      ],
      "execution_count": null,
      "outputs": []
    },
    {
      "cell_type": "code",
      "metadata": {
        "id": "ryjwzUfakxYa"
      },
      "source": [
        "a1[1]"
      ],
      "execution_count": null,
      "outputs": []
    },
    {
      "cell_type": "code",
      "metadata": {
        "id": "OxjU4rQ7lXAH"
      },
      "source": [
        "a1[1,2]"
      ],
      "execution_count": null,
      "outputs": []
    },
    {
      "cell_type": "code",
      "metadata": {
        "id": "7rT1WITrlZk7"
      },
      "source": [
        "a1[:,1]"
      ],
      "execution_count": null,
      "outputs": []
    },
    {
      "cell_type": "code",
      "metadata": {
        "id": "90WhFWE-liSt"
      },
      "source": [
        "a1[1:,1:-1]"
      ],
      "execution_count": null,
      "outputs": []
    },
    {
      "cell_type": "code",
      "metadata": {
        "id": "myt0p8zblnle"
      },
      "source": [
        "a2 = np.arange(12).reshape(2, 2, 3)"
      ],
      "execution_count": null,
      "outputs": []
    },
    {
      "cell_type": "code",
      "metadata": {
        "id": "lzxlcmOamRYw"
      },
      "source": [
        "a2.ndim == len(a2.shape)"
      ],
      "execution_count": null,
      "outputs": []
    },
    {
      "cell_type": "code",
      "metadata": {
        "id": "OUPNFzxEmSIF"
      },
      "source": [
        "a2"
      ],
      "execution_count": null,
      "outputs": []
    },
    {
      "cell_type": "code",
      "metadata": {
        "id": "8RXB9sfdmrIu"
      },
      "source": [
        "a2[:,:,0]"
      ],
      "execution_count": null,
      "outputs": []
    },
    {
      "cell_type": "code",
      "metadata": {
        "id": "yHngT158nCCF"
      },
      "source": [
        "# boolean indexing\n",
        "names = np.array(['Bob', 'Joe', 'Will', 'Bob', 'Will', 'Joe', 'Joe'])\n",
        "data = np.random.randn(7, 4)\n",
        "\n",
        "data"
      ],
      "execution_count": null,
      "outputs": []
    },
    {
      "cell_type": "code",
      "metadata": {
        "id": "n914dpMFobuW"
      },
      "source": [
        "names == 'Bob'"
      ],
      "execution_count": null,
      "outputs": []
    },
    {
      "cell_type": "code",
      "metadata": {
        "id": "SUu4tF0cod_e"
      },
      "source": [
        "data[names == 'Bob']"
      ],
      "execution_count": null,
      "outputs": []
    },
    {
      "cell_type": "code",
      "metadata": {
        "id": "ssgeobAMogwj"
      },
      "source": [
        "data[names != 'Bob']"
      ],
      "execution_count": null,
      "outputs": []
    },
    {
      "cell_type": "code",
      "metadata": {
        "id": "AUaVCxJ4o3Mz"
      },
      "source": [
        "data[~(names == 'Bob')]"
      ],
      "execution_count": null,
      "outputs": []
    },
    {
      "cell_type": "code",
      "metadata": {
        "id": "1vA1mTpgpCtV"
      },
      "source": [
        "data[names == 'Bob', :2]"
      ],
      "execution_count": null,
      "outputs": []
    },
    {
      "cell_type": "code",
      "metadata": {
        "id": "VOGV9kAZpH2J"
      },
      "source": [
        "d = data[(names == 'Bob') | (names == 'Will')]\n",
        "d"
      ],
      "execution_count": null,
      "outputs": []
    },
    {
      "cell_type": "code",
      "metadata": {
        "id": "oo8RswgIIh_3"
      },
      "source": [
        "d[d < 0]"
      ],
      "execution_count": null,
      "outputs": []
    },
    {
      "cell_type": "code",
      "metadata": {
        "id": "JiSPD2W8pt_o"
      },
      "source": [
        "d[d < 0] = 0\n",
        "d"
      ],
      "execution_count": null,
      "outputs": []
    },
    {
      "cell_type": "markdown",
      "metadata": {
        "id": "VIgtHunA2HZU"
      },
      "source": [
        "# Exercises"
      ]
    },
    {
      "cell_type": "code",
      "metadata": {
        "id": "odbDPHLPp70S"
      },
      "source": [
        "# fancy indexing\n",
        "a1 = np.random.rand(12).reshape(3,4)\n",
        "a1"
      ],
      "execution_count": null,
      "outputs": []
    },
    {
      "cell_type": "code",
      "metadata": {
        "id": "yVAq-NTKwKuz"
      },
      "source": [
        "a1[[0,1], [2,3]]"
      ],
      "execution_count": null,
      "outputs": []
    },
    {
      "cell_type": "code",
      "metadata": {
        "id": "KaYV9vUOwNE_"
      },
      "source": [
        "# Transpose an array\n",
        "a1.T"
      ],
      "execution_count": null,
      "outputs": []
    },
    {
      "cell_type": "code",
      "metadata": {
        "id": "im-LXtfvxh5K"
      },
      "source": [
        "np.dot(a1, a1.T)"
      ],
      "execution_count": null,
      "outputs": []
    },
    {
      "cell_type": "code",
      "metadata": {
        "id": "JbqbBcaEyRQT"
      },
      "source": [
        "# basic statistics\n",
        "a1 = np.random.rand(12)\n",
        "a1"
      ],
      "execution_count": null,
      "outputs": []
    },
    {
      "cell_type": "code",
      "metadata": {
        "id": "hfo3UtmblTT5"
      },
      "source": [
        "a1.mean(), a1.std()"
      ],
      "execution_count": null,
      "outputs": []
    },
    {
      "cell_type": "code",
      "metadata": {
        "id": "3F-0wxjjlZVV"
      },
      "source": [
        "a1.cumsum()"
      ],
      "execution_count": null,
      "outputs": []
    },
    {
      "cell_type": "code",
      "metadata": {
        "id": "KFwkaxtb5VaU"
      },
      "source": [
        "a1.sum()"
      ],
      "execution_count": null,
      "outputs": []
    },
    {
      "cell_type": "code",
      "metadata": {
        "id": "htN-s949lg01"
      },
      "source": [
        "a2 = a1.reshape(4, 3)\n",
        "a2"
      ],
      "execution_count": null,
      "outputs": []
    },
    {
      "cell_type": "code",
      "metadata": {
        "id": "9VcMR9zxloVa"
      },
      "source": [
        "a2.mean(axis=0), a2.mean(axis=1)"
      ],
      "execution_count": null,
      "outputs": []
    },
    {
      "cell_type": "code",
      "metadata": {
        "id": "Y2YkYQImlMoo"
      },
      "source": [
        "# random number generators\n",
        "samples = np.random.normal(size=(4, 4))\n",
        "\n",
        "samples"
      ],
      "execution_count": null,
      "outputs": []
    },
    {
      "cell_type": "code",
      "metadata": {
        "id": "qr0b9DgBqal2"
      },
      "source": [
        "samples = np.random.beta(2, 5, size=(4, 4))\n",
        "samples"
      ],
      "execution_count": null,
      "outputs": []
    },
    {
      "cell_type": "code",
      "metadata": {
        "id": "s4eUdeb2lQjx"
      },
      "source": [
        "# i/o\n",
        "a1 = np.arange(15).reshape(3, 5)\n",
        "a2 = np.arange(15).reshape(3, 5)"
      ],
      "execution_count": null,
      "outputs": []
    },
    {
      "cell_type": "code",
      "metadata": {
        "id": "Ifok0lB0rLOe"
      },
      "source": [
        "np.save('a1.np', a1)"
      ],
      "execution_count": null,
      "outputs": []
    },
    {
      "cell_type": "code",
      "metadata": {
        "id": "t7JFdP_WrSa9"
      },
      "source": [
        "a3 = np.load('a1.np.npy')"
      ],
      "execution_count": null,
      "outputs": []
    },
    {
      "cell_type": "code",
      "metadata": {
        "id": "Vg8HF1QLrZvu"
      },
      "source": [
        "a3"
      ],
      "execution_count": null,
      "outputs": []
    },
    {
      "cell_type": "code",
      "metadata": {
        "id": "CUWibZU9raZ5"
      },
      "source": [
        "a1"
      ],
      "execution_count": null,
      "outputs": []
    },
    {
      "cell_type": "code",
      "metadata": {
        "id": "phmcufIVrbRJ"
      },
      "source": [
        "np.savez('a.npz', a1=a1, a2=a2, a3=a3)"
      ],
      "execution_count": null,
      "outputs": []
    },
    {
      "cell_type": "code",
      "metadata": {
        "id": "hWhqGNu4rjaL"
      },
      "source": [
        "a = np.load('a.npz')"
      ],
      "execution_count": null,
      "outputs": []
    },
    {
      "cell_type": "code",
      "metadata": {
        "id": "evqtnto9ruLL"
      },
      "source": [
        "a['a1']"
      ],
      "execution_count": null,
      "outputs": []
    },
    {
      "cell_type": "markdown",
      "metadata": {
        "id": "oZ4wOysGHMcF"
      },
      "source": [
        "# Pandas"
      ]
    },
    {
      "cell_type": "code",
      "metadata": {
        "id": "gn6axpn_t40n"
      },
      "source": [
        "# let's start with Series\n",
        "\n",
        "import pandas as pd\n",
        "\n",
        "s = pd.Series([5,6,7,8])\n",
        "s"
      ],
      "execution_count": null,
      "outputs": []
    },
    {
      "cell_type": "code",
      "metadata": {
        "id": "Q2SGQKf1HVMz"
      },
      "source": [
        "s = pd.Series([5,6,7,8], index=['a', 'b', 'c', 'd'])\n",
        "s"
      ],
      "execution_count": null,
      "outputs": []
    },
    {
      "cell_type": "code",
      "metadata": {
        "id": "2sU7-i4qHkQF"
      },
      "source": [
        "s['a']"
      ],
      "execution_count": null,
      "outputs": []
    },
    {
      "cell_type": "code",
      "metadata": {
        "id": "NWF25YNDHleR"
      },
      "source": [
        "d = {'a': 5, 'b':6, 'c':7, 'd':8}\n",
        "d"
      ],
      "execution_count": null,
      "outputs": []
    },
    {
      "cell_type": "code",
      "metadata": {
        "id": "MKh1zGzpHx7M"
      },
      "source": [
        "s = pd.Series(d)\n",
        "s"
      ],
      "execution_count": null,
      "outputs": []
    },
    {
      "cell_type": "code",
      "metadata": {
        "id": "V-pSy1mXHzr-"
      },
      "source": [
        "s[['a', 'd']]"
      ],
      "execution_count": null,
      "outputs": []
    },
    {
      "cell_type": "code",
      "metadata": {
        "id": "_xJnyUSBH4VW"
      },
      "source": [
        "s[s > 6]"
      ],
      "execution_count": null,
      "outputs": []
    },
    {
      "cell_type": "code",
      "metadata": {
        "id": "JU8K7bXWH9iU"
      },
      "source": [
        "# A DataFrame can be tought as a dictionary of Series sharing an index\n",
        "\n",
        "data = {'state': ['Ohio', 'Ohio', 'Ohio', 'Nevada', 'Nevada', 'Nevada'],\n",
        "'year': [2000, 2001, 2002, 2001, 2002, 2003],\n",
        "'pop': [1.5, 1.7, 3.6, 2.4, 2.9, 3.2]}\n",
        "\n",
        "data\n"
      ],
      "execution_count": null,
      "outputs": []
    },
    {
      "cell_type": "code",
      "metadata": {
        "id": "eNQWb2PaIPrx"
      },
      "source": [
        "df = pd.DataFrame(data)\n",
        "df"
      ],
      "execution_count": null,
      "outputs": []
    },
    {
      "cell_type": "code",
      "metadata": {
        "id": "BuA5GHiiISny"
      },
      "source": [
        "# let's specify a different index\n",
        "# index are immutable and can hold duplicated values. They also behave like a list\n",
        "df = pd.DataFrame(data, index=['first', 'second', 'third', 'fourth', 'fifth', 'sixth'])\n",
        "df"
      ],
      "execution_count": null,
      "outputs": []
    },
    {
      "cell_type": "code",
      "metadata": {
        "id": "tl8Tr0BnIwTo"
      },
      "source": [
        "df['year']"
      ],
      "execution_count": null,
      "outputs": []
    },
    {
      "cell_type": "code",
      "metadata": {
        "id": "qvxiAP-3I8mi"
      },
      "source": [
        "df.year"
      ],
      "execution_count": null,
      "outputs": []
    },
    {
      "cell_type": "code",
      "metadata": {
        "id": "a1N2N6vlI9l5"
      },
      "source": [
        "df.loc['third']"
      ],
      "execution_count": null,
      "outputs": []
    },
    {
      "cell_type": "code",
      "metadata": {
        "id": "sLoE-V_8I_m9"
      },
      "source": [
        "df.head()"
      ],
      "execution_count": null,
      "outputs": []
    },
    {
      "cell_type": "code",
      "metadata": {
        "id": "4DAzB2LhJaad"
      },
      "source": [
        "df['debt'] = np.nan"
      ],
      "execution_count": null,
      "outputs": []
    },
    {
      "cell_type": "code",
      "metadata": {
        "id": "x4GiZBKeJo3b"
      },
      "source": [
        "df"
      ],
      "execution_count": null,
      "outputs": []
    },
    {
      "cell_type": "code",
      "metadata": {
        "id": "DBQrm1aIJpdM"
      },
      "source": [
        "val = pd.Series([-1.2, -1.5, -1.7], index=['second', 'fourth', 'fifth'])\n",
        "df['debt'] = val\n",
        "df"
      ],
      "execution_count": null,
      "outputs": []
    },
    {
      "cell_type": "code",
      "metadata": {
        "id": "I8giJJX-KDy_"
      },
      "source": [
        "df['eastern'] = df.state == 'Ohio'\n",
        "df"
      ],
      "execution_count": null,
      "outputs": []
    },
    {
      "cell_type": "code",
      "metadata": {
        "id": "7sXCOjfOKXGi"
      },
      "source": [
        "del df['eastern']\n",
        "df"
      ],
      "execution_count": null,
      "outputs": []
    },
    {
      "cell_type": "code",
      "metadata": {
        "id": "DDRZDBP2K--q"
      },
      "source": [
        "df.values"
      ],
      "execution_count": null,
      "outputs": []
    },
    {
      "cell_type": "code",
      "metadata": {
        "id": "bEoozMrazcVP"
      },
      "source": [
        "df.T"
      ],
      "execution_count": null,
      "outputs": []
    },
    {
      "cell_type": "code",
      "metadata": {
        "id": "g5wRhxkHS6ti"
      },
      "source": [
        "df"
      ],
      "execution_count": null,
      "outputs": []
    },
    {
      "cell_type": "code",
      "metadata": {
        "id": "il012kppzrqe"
      },
      "source": [
        "df1 = df.set_index('year')\n",
        "df1"
      ],
      "execution_count": null,
      "outputs": []
    },
    {
      "cell_type": "code",
      "metadata": {
        "id": "sWWyy0AW0VqP"
      },
      "source": [
        "idx = list(df.index)\n",
        "np.random.shuffle(idx)\n",
        "print(list(df.index))\n",
        "print(idx)"
      ],
      "execution_count": null,
      "outputs": []
    },
    {
      "cell_type": "code",
      "metadata": {
        "id": "MAgvSo4yCgu5"
      },
      "source": [
        "df.reindex(idx)"
      ],
      "execution_count": null,
      "outputs": []
    },
    {
      "cell_type": "code",
      "metadata": {
        "id": "iKYEbD9V0_hZ"
      },
      "source": [
        "idx.append('seventh')\n",
        "df.reindex(idx)"
      ],
      "execution_count": null,
      "outputs": []
    },
    {
      "cell_type": "code",
      "metadata": {
        "id": "eDqemwq81EYV"
      },
      "source": [
        "df.reindex(idx)"
      ],
      "execution_count": null,
      "outputs": []
    },
    {
      "cell_type": "code",
      "metadata": {
        "id": "CjZ5DUND83YL"
      },
      "source": [
        "# drop columns or rows\n",
        "df.drop(['state'], axis=1)"
      ],
      "execution_count": null,
      "outputs": []
    },
    {
      "cell_type": "code",
      "metadata": {
        "id": "MoquNDoS9LwY"
      },
      "source": [
        "df.drop(['first', 'sixth'], axis=0)"
      ],
      "execution_count": null,
      "outputs": []
    },
    {
      "cell_type": "code",
      "metadata": {
        "id": "Zh2aJ5619Tyu"
      },
      "source": [
        "df.drop(df.index[[0, 1]], axis=0)"
      ],
      "execution_count": null,
      "outputs": []
    },
    {
      "cell_type": "code",
      "metadata": {
        "id": "mF1XF_1t9kx3"
      },
      "source": [
        "# selection and slicing\n",
        "df[:2] # for convenience it works on rows"
      ],
      "execution_count": null,
      "outputs": []
    },
    {
      "cell_type": "code",
      "metadata": {
        "id": "8cLRsSf39_R1"
      },
      "source": [
        "df.iloc[:2]"
      ],
      "execution_count": null,
      "outputs": []
    },
    {
      "cell_type": "code",
      "metadata": {
        "id": "YZSCbvBY-exu"
      },
      "source": [
        "df[['state', 'year']]"
      ],
      "execution_count": null,
      "outputs": []
    },
    {
      "cell_type": "code",
      "metadata": {
        "id": "HHnigW8q-xEC"
      },
      "source": [
        "df[df['state'] == 'Ohio']"
      ],
      "execution_count": null,
      "outputs": []
    },
    {
      "cell_type": "code",
      "metadata": {
        "id": "JV1TX3pk_DR9"
      },
      "source": [
        "samples = ['sample_' + str(x) for x in range(1,6)]\n",
        "variables = [chr(x) for x in range(97, 102)]\n",
        "\n",
        "df2 = pd.DataFrame(np.random.rand(5,5), index=samples, columns=variables)"
      ],
      "execution_count": null,
      "outputs": []
    },
    {
      "cell_type": "code",
      "metadata": {
        "id": "wplAfnZFExBS"
      },
      "source": [
        "df2"
      ],
      "execution_count": null,
      "outputs": []
    },
    {
      "cell_type": "code",
      "metadata": {
        "id": "AsjryEUkE_GI"
      },
      "source": [
        "df2 > 0.5"
      ],
      "execution_count": null,
      "outputs": []
    },
    {
      "cell_type": "code",
      "metadata": {
        "id": "qk-YsDitWDb7"
      },
      "source": [
        "df2[df2 > 0.5]"
      ],
      "execution_count": null,
      "outputs": []
    },
    {
      "cell_type": "code",
      "metadata": {
        "id": "4r6MvS_gGjhE"
      },
      "source": [
        "df2[df2 > 0.5] = 1\n",
        "df2"
      ],
      "execution_count": null,
      "outputs": []
    },
    {
      "cell_type": "code",
      "metadata": {
        "id": "Ab6dZA_SGmgM"
      },
      "source": [
        "df"
      ],
      "execution_count": null,
      "outputs": []
    },
    {
      "cell_type": "code",
      "metadata": {
        "id": "hrFQI1qaHf2v"
      },
      "source": [
        "df.loc[['second', 'fourth'], ['year', 'debt']]"
      ],
      "execution_count": null,
      "outputs": []
    },
    {
      "cell_type": "code",
      "metadata": {
        "id": "PFSkaAVSH4ZS"
      },
      "source": [
        "df.iloc[[1,3], [1,3]]"
      ],
      "execution_count": null,
      "outputs": []
    },
    {
      "cell_type": "markdown",
      "metadata": {
        "id": "Kusvw_4nt3b3"
      },
      "source": [
        "# Exercises"
      ]
    },
    {
      "cell_type": "code",
      "metadata": {
        "id": "pS-Z6_67Elu9"
      },
      "source": [
        "# create 2 numpy arrays, the first one composed by numbers from 1 to 15 and the second of 15 random numbers\n",
        "\n",
        "# reshape the 2 arrays in order to have 3 rows and 5 columns the first one and 5 rows and 3 columns the second one\n",
        "\n",
        "# calculate the dot product between them\n",
        "\n",
        "# what is the value in the middle of the matrix?\n",
        "\n",
        "# calculate the dot product of the random matrix with its own transpose matrix\n",
        "\n",
        "# what is the difference between the rowwise mean and the columnwise mean?\n",
        "\n",
        "# create a dataframe with 5 rows and 5 columns of random numbers sampled from a normal distribution with mean 0 and std 1\n",
        "\n",
        "# change the column names and set it to be ['a', 'b', 'c', 'd', 'e']\n",
        "\n",
        "# change every negative number into 0\n",
        "\n",
        "# add an extra columns with the mean of each row and call it mean\n",
        "\n",
        "# select the for elements correspoding to index 1, 2 and columns a, c and d\n",
        "\n",
        "# change the column order of this last seletion to d, c, a\n"
      ],
      "execution_count": null,
      "outputs": []
    },
    {
      "cell_type": "code",
      "metadata": {
        "id": "0bsTrpRzRT7A"
      },
      "source": [
        "import numpy as np\n",
        "\n",
        "a = np.arange(1, 16)\n",
        "b = np.random.random(15)"
      ],
      "execution_count": null,
      "outputs": []
    },
    {
      "cell_type": "code",
      "metadata": {
        "id": "-P7dDm-KRcUs"
      },
      "source": [
        "a"
      ],
      "execution_count": null,
      "outputs": []
    },
    {
      "cell_type": "code",
      "metadata": {
        "id": "_rqO3_QERdg2"
      },
      "source": [
        "b"
      ],
      "execution_count": null,
      "outputs": []
    },
    {
      "cell_type": "code",
      "metadata": {
        "id": "UG8dNnH2Rfa2"
      },
      "source": [
        "a = a.reshape(3, 5)\n",
        "b = b.reshape(5, 3)\n",
        "\n",
        "c = np.dot(a, b)\n",
        "c[1, 1]"
      ],
      "execution_count": null,
      "outputs": []
    },
    {
      "cell_type": "code",
      "metadata": {
        "id": "7WK4_oRiR8h8"
      },
      "source": [
        "d = np.dot(b, b.T)\n",
        "d.sum(axis=1) - d.sum(axis=0)"
      ],
      "execution_count": null,
      "outputs": []
    },
    {
      "cell_type": "code",
      "metadata": {
        "id": "c_AUUFGmF9Y1"
      },
      "source": [
        "import pandas as pd\n",
        "import numpy as np\n",
        "\n",
        "df = pd.DataFrame(np.random.normal(0, 1, size=25).reshape(5, 5))"
      ],
      "execution_count": null,
      "outputs": []
    },
    {
      "cell_type": "code",
      "metadata": {
        "id": "ED9Ap6dLIDqH"
      },
      "source": [
        "df.columns = ['a', 'b', 'c', 'd', 'e']"
      ],
      "execution_count": null,
      "outputs": []
    },
    {
      "cell_type": "code",
      "metadata": {
        "id": "rB6U0CH6GS4X"
      },
      "source": [
        "df[df < 0] = 0"
      ],
      "execution_count": null,
      "outputs": []
    },
    {
      "cell_type": "code",
      "metadata": {
        "id": "b3secihqHJ7M"
      },
      "source": [
        "df['mean'] = np.mean(df, axis=1)"
      ],
      "execution_count": null,
      "outputs": []
    },
    {
      "cell_type": "code",
      "metadata": {
        "id": "Z0GC_S5sPxj-"
      },
      "source": [
        "df1 = df.loc[[2,3], ['d', 'c', 'a']]"
      ],
      "execution_count": null,
      "outputs": []
    },
    {
      "cell_type": "code",
      "metadata": {
        "id": "gufnHgYPM4Uh"
      },
      "source": [
        "df1.columns = ['a', 'b', 'c']"
      ],
      "execution_count": null,
      "outputs": []
    },
    {
      "cell_type": "code",
      "metadata": {
        "id": "cdkyjv3mQhpK"
      },
      "source": [
        "df1"
      ],
      "execution_count": null,
      "outputs": []
    },
    {
      "cell_type": "code",
      "metadata": {
        "id": "zmh-rTKlIBxV"
      },
      "source": [
        "# arithmetics\n",
        "df1 = pd.DataFrame(np.arange(12.).reshape((3, 4)), columns=list('abcd'))\n",
        "df2 = pd.DataFrame(np.arange(20.).reshape((4, 5)), columns=list('abcde'))\n",
        "\n",
        "df1.loc[1, 'b'] = np.nan\n",
        "\n",
        "df1"
      ],
      "execution_count": null,
      "outputs": []
    },
    {
      "cell_type": "code",
      "metadata": {
        "id": "W3uXW4lSJm9Z"
      },
      "source": [
        "df2"
      ],
      "execution_count": null,
      "outputs": []
    },
    {
      "cell_type": "code",
      "metadata": {
        "id": "ue9iatsnJndT"
      },
      "source": [
        "df1 + df2"
      ],
      "execution_count": null,
      "outputs": []
    },
    {
      "cell_type": "code",
      "metadata": {
        "id": "bppUyhsqJo2M"
      },
      "source": [
        "df1.add(df2, fill_value=0)"
      ],
      "execution_count": null,
      "outputs": []
    },
    {
      "cell_type": "code",
      "metadata": {
        "id": "-38Pex7iL_5i"
      },
      "source": [
        "1 / df1"
      ],
      "execution_count": null,
      "outputs": []
    },
    {
      "cell_type": "code",
      "metadata": {
        "id": "VdK_pyrsMayD"
      },
      "source": [
        "df1.rdiv(1)"
      ],
      "execution_count": null,
      "outputs": []
    },
    {
      "cell_type": "code",
      "metadata": {
        "id": "jzpKBgaTud98"
      },
      "source": [
        "df1"
      ],
      "execution_count": null,
      "outputs": []
    },
    {
      "cell_type": "code",
      "metadata": {
        "id": "4BHGJeKhYhZz"
      },
      "source": [
        "# fillna and dropna\n",
        "df1.fillna(df1.mean())"
      ],
      "execution_count": null,
      "outputs": []
    },
    {
      "cell_type": "code",
      "metadata": {
        "id": "wexI219AY83L"
      },
      "source": [
        "df1.dropna(axis=1)"
      ],
      "execution_count": null,
      "outputs": []
    },
    {
      "cell_type": "code",
      "metadata": {
        "id": "s0HypQw8Mefw"
      },
      "source": [
        "# apply functions\n",
        "# NumPy ufuncs (element-wise array methods) also work with pandas objects\n",
        "np.mean(df1, axis=1)"
      ],
      "execution_count": null,
      "outputs": []
    },
    {
      "cell_type": "code",
      "metadata": {
        "id": "7HaymOxRs9cA"
      },
      "source": [
        "# you can define your own functions to be applied along one axis\n",
        "df1.apply(lambda x : x.max() - x.min(), axis=1)"
      ],
      "execution_count": null,
      "outputs": []
    },
    {
      "cell_type": "code",
      "metadata": {
        "id": "T98KwW14uQtk"
      },
      "source": [
        "df1.apply(lambda x : pd.Series([x.max(), x.min()], index=['max', 'min']), axis=1)"
      ],
      "execution_count": null,
      "outputs": []
    },
    {
      "cell_type": "code",
      "metadata": {
        "id": "GT9f2hcYuoQf"
      },
      "source": [
        "df1.applymap(lambda x : x**2 - x)"
      ],
      "execution_count": null,
      "outputs": []
    },
    {
      "cell_type": "code",
      "metadata": {
        "id": "Hjas8o47t0hp"
      },
      "source": [
        "# sorting\n",
        "np.random.shuffle(samples)\n",
        "np.random.shuffle(variables)\n",
        "\n",
        "df2 = pd.DataFrame(np.random.rand(5,5), index=samples, columns=variables)\n",
        "df2\n"
      ],
      "execution_count": null,
      "outputs": []
    },
    {
      "cell_type": "code",
      "metadata": {
        "id": "sZ5IDhGVvaqP"
      },
      "source": [
        "df2.sort_index(axis=0)"
      ],
      "execution_count": null,
      "outputs": []
    },
    {
      "cell_type": "code",
      "metadata": {
        "id": "1GAf1oZqvgF3"
      },
      "source": [
        "df2.sort_index(axis=1)"
      ],
      "execution_count": null,
      "outputs": []
    },
    {
      "cell_type": "code",
      "metadata": {
        "id": "-ku83cz6vjFa"
      },
      "source": [
        "df2.sort_values(by='a')"
      ],
      "execution_count": null,
      "outputs": []
    },
    {
      "cell_type": "code",
      "metadata": {
        "id": "q9lot8bxvpXS"
      },
      "source": [
        "df2.loc['sample_2','a'] = df2.loc['sample_4','a'] \n",
        "df2.sort_values(by=['a', 'b'])"
      ],
      "execution_count": null,
      "outputs": []
    },
    {
      "cell_type": "code",
      "metadata": {
        "id": "bBTMq_RPt2m_"
      },
      "source": [
        "# summarizing and descriptive statistics\n",
        "df2"
      ],
      "execution_count": null,
      "outputs": []
    },
    {
      "cell_type": "code",
      "metadata": {
        "id": "lY8myo_jt3D6"
      },
      "source": [
        "df2.sum(axis=1)"
      ],
      "execution_count": null,
      "outputs": []
    },
    {
      "cell_type": "code",
      "metadata": {
        "id": "Bs6R7KBhyBp6"
      },
      "source": [
        "df2.describe()"
      ],
      "execution_count": null,
      "outputs": []
    },
    {
      "cell_type": "code",
      "metadata": {
        "id": "OVtmrUVxyJi-"
      },
      "source": [
        "# pandas i/o\n",
        "iris = pd.read_csv('/content/drive/MyDrive/Projects/Physalia-courses/Python/Notebook - Colab/iris.csv', \n",
        "                   skiprows=4, sep='\\t', names=['Sepal Length', 'Sepal Width', 'Petal Length',\t'Petal Width',\t'Species'])"
      ],
      "execution_count": null,
      "outputs": []
    },
    {
      "cell_type": "code",
      "metadata": {
        "id": "aG9vWK9zMa3K"
      },
      "source": [
        "iris.head()"
      ],
      "execution_count": null,
      "outputs": []
    },
    {
      "cell_type": "code",
      "metadata": {
        "id": "nnGSn-GVNJHk"
      },
      "source": [
        "df2.to_csv('/content/drive/MyDrive/Projects/Physalia-courses/Python/Notebook - Colab/df2.csv', sep=',')"
      ],
      "execution_count": null,
      "outputs": []
    },
    {
      "cell_type": "code",
      "metadata": {
        "id": "PLYTd0lxQ9WW"
      },
      "source": [
        "# read / write excel files\n",
        "iris = pd.read_excel('/content/drive/MyDrive/Projects/Physalia-courses/Python/Notebook - Colab/iris.xlsx')"
      ],
      "execution_count": null,
      "outputs": []
    },
    {
      "cell_type": "code",
      "metadata": {
        "id": "dgSb3kXIRlGQ"
      },
      "source": [
        "iris.head()"
      ],
      "execution_count": null,
      "outputs": []
    },
    {
      "cell_type": "code",
      "metadata": {
        "id": "Mp-eTB__Rq0V"
      },
      "source": [
        "df2.to_excel('/content/drive/MyDrive/Projects/Physalia-courses/Python/Notebook - Colab/df2.xlsx')"
      ],
      "execution_count": null,
      "outputs": []
    },
    {
      "cell_type": "code",
      "metadata": {
        "id": "mI4TlcklRAR3"
      },
      "source": [
        "# read / write hdf5 files\n",
        "# HDF5 (hierarchical data format) is a well-regarded file format intended for storing large quantities of scientific\n",
        "# array data. It is available as a C library, and it has interfaces available in many other\n",
        "# languages, including Java, Julia, MATLAB, and Python.\n",
        "\n",
        "store = pd.HDFStore('/content/drive/MyDrive/Projects/Physalia-courses/Python/Notebook - Colab/iris.h5')\n",
        "store['iris'] = iris\n",
        "store.close()"
      ],
      "execution_count": null,
      "outputs": []
    },
    {
      "cell_type": "code",
      "metadata": {
        "id": "-9faWZCQTRpI"
      },
      "source": [
        "store = pd.HDFStore('/content/drive/MyDrive/Projects/Physalia-courses/Python/Notebook - Colab/iris.h5')\n",
        "new_iris = store['iris']\n",
        "new_iris.head()"
      ],
      "execution_count": null,
      "outputs": []
    },
    {
      "cell_type": "code",
      "metadata": {
        "id": "auC_ckju2pdo"
      },
      "source": [
        "# You can also read data from SQL database directly, but this story is for another time"
      ],
      "execution_count": null,
      "outputs": []
    },
    {
      "cell_type": "code",
      "metadata": {
        "id": "zsTLLnPnBD1L"
      },
      "source": [
        "# grouping\n",
        "iris.groupby('species').mean()"
      ],
      "execution_count": null,
      "outputs": []
    },
    {
      "cell_type": "code",
      "metadata": {
        "id": "9Djg7S0OBf1m"
      },
      "source": [
        "iris.groupby('species').max()"
      ],
      "execution_count": null,
      "outputs": []
    },
    {
      "cell_type": "code",
      "metadata": {
        "id": "mixystXeEzQG"
      },
      "source": [
        "iris.groupby('species').transform('mean')"
      ],
      "execution_count": null,
      "outputs": []
    },
    {
      "cell_type": "code",
      "metadata": {
        "id": "CD8UO9c-0dTe"
      },
      "source": [
        "# multiindex, reshape and pivot\n",
        "\n",
        "# Hierarchical (multi) indexing is an important feature of pandas that enables you to have multiple \n",
        "# (two or more) index levels on an axis. Somewhat abstractly, it provides a way for\n",
        "# you to work with higher dimensional data in a lower dimensional form.\n",
        "\n",
        "data = pd.Series(np.random.randn(9), index=[['a', 'a', 'a', 'b', 'b', 'c', 'c', 'd', 'd'], [1, 2, 3, 1, 3, 1, 2, 2, 3]])\n",
        "\n",
        "data"
      ],
      "execution_count": null,
      "outputs": []
    },
    {
      "cell_type": "code",
      "metadata": {
        "id": "47vRxHg7Boc3"
      },
      "source": [
        "data.index"
      ],
      "execution_count": null,
      "outputs": []
    },
    {
      "cell_type": "code",
      "metadata": {
        "id": "6xU2zKrLBuWH"
      },
      "source": [
        "data.loc[:, 2]"
      ],
      "execution_count": null,
      "outputs": []
    },
    {
      "cell_type": "code",
      "metadata": {
        "id": "KIR0-6SMCTEx"
      },
      "source": [
        "data.unstack()"
      ],
      "execution_count": null,
      "outputs": []
    },
    {
      "cell_type": "code",
      "metadata": {
        "id": "Cm5lqRBSCVfe"
      },
      "source": [
        "data.unstack().stack()"
      ],
      "execution_count": null,
      "outputs": []
    },
    {
      "cell_type": "code",
      "metadata": {
        "id": "hJN4cdFaCcFu"
      },
      "source": [
        "# what about DataFrames\n",
        "frame = pd.DataFrame(np.arange(12).reshape((4, 3)), index=[['a', 'a', 'b', 'b'], [1, 2, 1, 2]], columns=[['Ohio', 'Ohio', 'Colorado'], ['Green', 'Red', 'Green']])\n",
        "frame"
      ],
      "execution_count": null,
      "outputs": []
    },
    {
      "cell_type": "code",
      "metadata": {
        "id": "nNtZKB8mCptP"
      },
      "source": [
        "new_columns = pd.MultiIndex.from_arrays([['California', 'California', 'Utah'], ['Blue', 'Yellow', 'Blue']])\n",
        "frame.columns = new_columns\n",
        "frame"
      ],
      "execution_count": null,
      "outputs": []
    },
    {
      "cell_type": "code",
      "metadata": {
        "id": "Mn2bL0IIFOph"
      },
      "source": [
        "frame.sum(level=0, axis=1)"
      ],
      "execution_count": null,
      "outputs": []
    },
    {
      "cell_type": "code",
      "metadata": {
        "id": "ZR1gYFXvJ-tL"
      },
      "source": [
        "data = pd.read_csv('/content/drive/MyDrive/Projects/Physalia-courses/Python/Notebook - Colab/macrodata_long.csv', index_col=0)\n",
        "data.head()"
      ],
      "execution_count": null,
      "outputs": []
    },
    {
      "cell_type": "code",
      "metadata": {
        "id": "qZ4Q870RK27f"
      },
      "source": [
        "data.pivot('date', 'item', 'value').head()"
      ],
      "execution_count": null,
      "outputs": []
    },
    {
      "cell_type": "code",
      "metadata": {
        "id": "VsZ-o6onMCz2"
      },
      "source": [
        "data.set_index(['date', 'item']).unstack('item').head()"
      ],
      "execution_count": null,
      "outputs": []
    },
    {
      "cell_type": "code",
      "metadata": {
        "id": "iDKGoFo9ZUCN"
      },
      "source": [
        "# melt\n",
        "df = pd.DataFrame({'key': ['foo', 'bar', 'baz'], 'A': [1, 2, 3], 'B': [4, 5, 6], 'C': [7, 8, 9]})\n",
        "df"
      ],
      "execution_count": null,
      "outputs": []
    },
    {
      "cell_type": "code",
      "metadata": {
        "id": "GZZ7p3mEGkwL"
      },
      "source": [
        "df.melt('key') # pd.melt(df, ['key'])"
      ],
      "execution_count": null,
      "outputs": []
    },
    {
      "cell_type": "code",
      "metadata": {
        "id": "0h7zzLk4M2Sn"
      },
      "source": [
        "# merge\n",
        "df1 = pd.DataFrame({'key': ['b', 'b', 'a', 'c', 'a', 'a', 'b'], 'data': range(7)})\n",
        "df2 = pd.DataFrame({'key': ['a', 'b', 'd'], 'data': range(3)})\n",
        "\n",
        "df1"
      ],
      "execution_count": null,
      "outputs": []
    },
    {
      "cell_type": "code",
      "metadata": {
        "id": "3BAol_F4Y_Eg"
      },
      "source": [
        "df2"
      ],
      "execution_count": null,
      "outputs": []
    },
    {
      "cell_type": "code",
      "metadata": {
        "id": "R9kcEfAXZA2A"
      },
      "source": [
        "pd.merge(df1, df2, on='key')"
      ],
      "execution_count": null,
      "outputs": []
    },
    {
      "cell_type": "code",
      "metadata": {
        "id": "zGLt85pag-cs"
      },
      "source": [
        "pd.merge(df1, df2, on='key', how='outer', suffixes=['_left', '_right'])"
      ],
      "execution_count": null,
      "outputs": []
    },
    {
      "cell_type": "code",
      "metadata": {
        "id": "A6uOhTWKZN65"
      },
      "source": [
        "# concat\n",
        "s1 = pd.Series([0, 1], index=['a', 'b'])\n",
        "s2 = pd.Series([2, 3, 4], index=['c', 'd', 'e'])\n",
        "s3 = pd.Series([5, 6], index=['f', 'g'])"
      ],
      "execution_count": null,
      "outputs": []
    },
    {
      "cell_type": "code",
      "metadata": {
        "id": "Es7MmFgJIa7U"
      },
      "source": [
        "pd.concat([s1, s2, s3])"
      ],
      "execution_count": null,
      "outputs": []
    },
    {
      "cell_type": "code",
      "metadata": {
        "id": "pNne5zc-IgIq"
      },
      "source": [
        "pd.concat([s1, s2, s3], axis=1)"
      ],
      "execution_count": null,
      "outputs": []
    },
    {
      "cell_type": "code",
      "metadata": {
        "id": "vbUnFUEAIuOh"
      },
      "source": [
        "s4 = pd.concat([s1, s3])\n",
        "s4"
      ],
      "execution_count": null,
      "outputs": []
    },
    {
      "cell_type": "code",
      "metadata": {
        "id": "2EEWGxIaJIEi"
      },
      "source": [
        "pd.concat([s1, s4], axis=1)"
      ],
      "execution_count": null,
      "outputs": []
    },
    {
      "cell_type": "code",
      "metadata": {
        "id": "GvLmJkNAJPuf"
      },
      "source": [
        "pd.concat([s1, s4], axis=1, join='inner')"
      ],
      "execution_count": null,
      "outputs": []
    },
    {
      "cell_type": "code",
      "metadata": {
        "id": "aQC1nhDkJSqo"
      },
      "source": [
        "df1 = pd.DataFrame(np.arange(6).reshape(3, 2), index=['a', 'b', 'c'], columns=['one', 'two'])\n",
        "df2 = pd.DataFrame(5 + np.arange(4).reshape(2, 2), index=['a', 'c'], columns=['three', 'four'])"
      ],
      "execution_count": null,
      "outputs": []
    },
    {
      "cell_type": "code",
      "metadata": {
        "id": "QOt7kFTHKsvV"
      },
      "source": [
        "df1"
      ],
      "execution_count": null,
      "outputs": []
    },
    {
      "cell_type": "code",
      "metadata": {
        "id": "2iIGl7zfKv-6"
      },
      "source": [
        "df2"
      ],
      "execution_count": null,
      "outputs": []
    },
    {
      "cell_type": "code",
      "metadata": {
        "id": "81rtj11xKWhD"
      },
      "source": [
        "pd.concat([df1, df2], axis=1, keys=['first', 'second'])"
      ],
      "execution_count": null,
      "outputs": []
    },
    {
      "cell_type": "code",
      "metadata": {
        "id": "7hJ-gB5PK21r"
      },
      "source": [
        "pd.concat([df1, df2], axis=0, keys=['first', 'second'])"
      ],
      "execution_count": null,
      "outputs": []
    },
    {
      "cell_type": "markdown",
      "metadata": {
        "id": "LShNtfWIXFaY"
      },
      "source": [
        "# Exercises"
      ]
    },
    {
      "cell_type": "code",
      "metadata": {
        "id": "_miVpkrRSska"
      },
      "source": [
        "# How to fill NaN with rowwise mean?\n",
        "\n",
        "# How to normalize all columns in a dataframe? Substract mean and divide for the standard deviation\n",
        "\n",
        "# Concat 2 dataframes sharing the same index\n",
        "\n",
        "# Create a Multiindex on columns\n",
        "\n",
        "# Get the mean value for two levels\n",
        "\n",
        "# Consider these dataframes\n",
        "\n",
        "df_fruit_1 = pd.DataFrame({'fruit': ['apple', 'watermelon', 'strawberry'] * 3,\n",
        "                    'country': ['IT'] * 3 + ['SP'] * 3 + ['FR'] * 3,\n",
        "                    'price': np.random.randint(0, 15, 9)})\n",
        "\n",
        "df_fruit_2 = pd.DataFrame({'fruit': ['apple', 'banana', 'peach'] * 3,\n",
        "                    'price': np.random.randint(0, 15, 9)})\n",
        "\n",
        "# How to merge these two dataframes by 1 column so they have only the common rows?\n",
        "\n",
        "# How to change the LONG format for df_fruit_1 in order to have fruits as indexes and countries as columns?"
      ],
      "execution_count": null,
      "outputs": []
    },
    {
      "cell_type": "code",
      "metadata": {
        "id": "KfskN6fMZp5U"
      },
      "source": [
        "import pandas as pd\n",
        "import numpy as np\n",
        "\n",
        "matrix = np.arange(1,16).reshape(3, 5)\n",
        "df = pd.DataFrame(matrix, columns=['a', 'b', 'c', 'd', 'e'])\n",
        "df.loc[[0,2], ['c']] = np.nan\n",
        "df"
      ],
      "execution_count": null,
      "outputs": []
    },
    {
      "cell_type": "code",
      "metadata": {
        "id": "IBdBJwTNaLfL"
      },
      "source": [
        "df1 = df.apply(lambda x: x.fillna(x.mean()), axis=1)"
      ],
      "execution_count": null,
      "outputs": []
    },
    {
      "cell_type": "code",
      "metadata": {
        "id": "LQEF9TIpap4y"
      },
      "source": [
        "(df1 - df1.mean()) / df1.std()"
      ],
      "execution_count": null,
      "outputs": []
    },
    {
      "cell_type": "code",
      "metadata": {
        "id": "TI9wGK4RbK9d"
      },
      "source": [
        "df2 = df1.apply(lambda x: (x - x.mean()) / x.std(), axis=1)"
      ],
      "execution_count": null,
      "outputs": []
    },
    {
      "cell_type": "code",
      "metadata": {
        "id": "bvSyfRMrbZ3R"
      },
      "source": [
        "df2 = df2.drop(['a', 'b', 'e'], axis=1)"
      ],
      "execution_count": null,
      "outputs": []
    },
    {
      "cell_type": "code",
      "metadata": {
        "id": "T8qTeYD8cAqP"
      },
      "source": [
        "df1"
      ],
      "execution_count": null,
      "outputs": []
    },
    {
      "cell_type": "code",
      "metadata": {
        "id": "q18_ZzIvdaEr"
      },
      "source": [
        "df3 = pd.concat([df1, df2], axis=1)\n",
        "df3.columns = pd.MultiIndex.from_arrays([['first'] * len(df1.columns) + ['second'] * len(df2.columns), list(df1.columns) + list(df2.columns)])\n",
        "df3"
      ],
      "execution_count": null,
      "outputs": []
    },
    {
      "cell_type": "code",
      "metadata": {
        "id": "dE9iDd8qc1sV"
      },
      "source": [
        "pd.concat([df1, df2], axis=1, keys=['first', 'second'])"
      ],
      "execution_count": null,
      "outputs": []
    },
    {
      "cell_type": "code",
      "metadata": {
        "id": "DJTlJVBgeQR0"
      },
      "source": [
        "df3.mean(axis=1, level=1)"
      ],
      "execution_count": null,
      "outputs": []
    },
    {
      "cell_type": "code",
      "metadata": {
        "id": "dKJ4sk5eenq1"
      },
      "source": [
        "df_fruit_1"
      ],
      "execution_count": null,
      "outputs": []
    },
    {
      "cell_type": "code",
      "metadata": {
        "id": "obHe4sAQgZmr"
      },
      "source": [
        "df_fruit_2"
      ],
      "execution_count": null,
      "outputs": []
    },
    {
      "cell_type": "code",
      "metadata": {
        "id": "oHzRZl8KggLA"
      },
      "source": [
        "pd.merge(df_fruit_1, df_fruit_2, on=['fruit'], suffixes=['_left', '_right'])"
      ],
      "execution_count": null,
      "outputs": []
    },
    {
      "cell_type": "code",
      "metadata": {
        "id": "0p7BYI3xjXMC"
      },
      "source": [
        "df_fruit_1.pivot('fruit', 'country', 'price')"
      ],
      "execution_count": null,
      "outputs": []
    },
    {
      "cell_type": "markdown",
      "metadata": {
        "id": "3zWUFKVY9fEx"
      },
      "source": [
        "# Matplotlib"
      ]
    },
    {
      "cell_type": "code",
      "metadata": {
        "id": "L_Q1VCKW9gkx"
      },
      "source": [
        "import numpy as np\n",
        "\n",
        "data = np.arange(10)\n",
        "data"
      ],
      "execution_count": null,
      "outputs": []
    },
    {
      "cell_type": "code",
      "metadata": {
        "id": "QLK6KqRnMdqs"
      },
      "source": [
        "import matplotlib.pyplot as plt\n",
        "\n",
        "plt.plot(data) "
      ],
      "execution_count": null,
      "outputs": []
    },
    {
      "cell_type": "code",
      "metadata": {
        "id": "K9EIpaJGMjZM"
      },
      "source": [
        "# Plots in matplotlib reside within a Figure object\n",
        "fig = plt.figure(figsize=(20,10))"
      ],
      "execution_count": null,
      "outputs": []
    },
    {
      "cell_type": "code",
      "metadata": {
        "id": "qNrEK5gSM3ye"
      },
      "source": [
        "# You can’t make a plot with a blank figure. You have to create one or more subplots\n",
        "ax1 = fig.add_subplot(2, 2, 1)"
      ],
      "execution_count": null,
      "outputs": []
    },
    {
      "cell_type": "code",
      "metadata": {
        "id": "NR5Lb2QWNiIz"
      },
      "source": [
        "ax2 = fig.add_subplot(2, 2, 2)\n",
        "ax3 = fig.add_subplot(2, 2, 3)"
      ],
      "execution_count": null,
      "outputs": []
    },
    {
      "cell_type": "code",
      "metadata": {
        "id": "q8CuDuVmNo0O"
      },
      "source": [
        "fig = plt.figure(figsize=(20,10))\n",
        "ax1 = fig.add_subplot(2, 2, 1)\n",
        "ax2 = fig.add_subplot(2, 2, 2)\n",
        "ax3 = fig.add_subplot(2, 2, 3)\n",
        "\n",
        "plt.plot(np.random.randn(50).cumsum(), 'k--')"
      ],
      "execution_count": null,
      "outputs": []
    },
    {
      "cell_type": "code",
      "metadata": {
        "id": "fRsjf2rGPtAR"
      },
      "source": [
        "plt.plot(np.random.randn(50).cumsum(), 'k--')"
      ],
      "execution_count": null,
      "outputs": []
    },
    {
      "cell_type": "code",
      "metadata": {
        "id": "cocfjQFwNtG6"
      },
      "source": [
        "fig = plt.figure(figsize=(15,10))\n",
        "ax1 = fig.add_subplot(2, 2, 1)\n",
        "ax2 = fig.add_subplot(2, 2, 2)\n",
        "ax3 = fig.add_subplot(2, 2, 3)\n",
        "\n",
        "ax1.hist(np.random.randn(100), bins=20, color='k', alpha=0.3)\n",
        "ax2.scatter(np.arange(30), np.arange(30) + 3 * np.random.randn(30))\n",
        "ax3.plot(np.random.randn(50).cumsum(), 'k--')"
      ],
      "execution_count": null,
      "outputs": []
    },
    {
      "cell_type": "code",
      "metadata": {
        "id": "NuW7SfJlOl5u"
      },
      "source": [
        "# styles and colors and legend\n",
        "\n",
        "from numpy.random import randn\n",
        "\n",
        "fig = plt.figure(figsize=(15,10))\n",
        "plt.plot(randn(30).cumsum(), color='black', linestyle='dashed', marker='*') # plt.plot(randn(30).cumsum(), 'ko--')"
      ],
      "execution_count": null,
      "outputs": []
    },
    {
      "cell_type": "code",
      "metadata": {
        "id": "Cae3bos5Oyrf"
      },
      "source": [
        "from numpy.random import randn\n",
        "\n",
        "fig = plt.figure(figsize=(15,10))\n",
        "\n",
        "data = np.random.randn(30).cumsum()\n",
        "plt.plot(data, 'k--', label='Default')\n",
        "plt.plot(data, 'k-', drawstyle='steps-post', label='steps-post')\n",
        "plt.legend(loc='best')"
      ],
      "execution_count": null,
      "outputs": []
    },
    {
      "cell_type": "code",
      "metadata": {
        "id": "0SvLCU-zRIAF"
      },
      "source": [
        "# ticks, labels and title\n",
        "\n",
        "from numpy.random import randn\n",
        "\n",
        "fig = plt.figure(figsize=(15,10))\n",
        "\n",
        "ax = fig.add_subplot(1, 1, 1)\n",
        "\n",
        "ax.plot(np.random.randn(1000).cumsum())\n",
        "\n",
        "ticks = ax.set_xticks([0, 250, 500, 750, 1000])\n",
        "labels = ax.set_xticklabels(['one', 'two', 'three', 'four', 'five'], rotation=45, fontsize='large')\n",
        "\n",
        "ax.set_title('My first matplotlib plot')\n",
        "\n",
        "ax.set_xlabel('Stages')"
      ],
      "execution_count": null,
      "outputs": []
    },
    {
      "cell_type": "code",
      "metadata": {
        "id": "2X6pUeVAVJ8L"
      },
      "source": [
        "# save  a figure\n",
        "fig = plt.figure(figsize=(15,10))\n",
        "\n",
        "ax = fig.add_subplot(1, 1, 1)\n",
        "\n",
        "ax.plot(np.random.randn(1000).cumsum())\n",
        "\n",
        "ticks = ax.set_xticks([0, 250, 500, 750, 1000])\n",
        "labels = ax.set_xticklabels(['one', 'two', 'three', 'four', 'five'], rotation=30, fontsize='small')\n",
        "\n",
        "ax.set_title('My first matplotlib plot')\n",
        "\n",
        "ax.set_xlabel('Stages')\n",
        "\n",
        "plt.savefig('figpath.png', dpi=400)"
      ],
      "execution_count": null,
      "outputs": []
    },
    {
      "cell_type": "code",
      "metadata": {
        "id": "shs_wlNnRkCy"
      },
      "source": [
        "plt.rc('figure', figsize=(15, 10)) # set figsize globally"
      ],
      "execution_count": null,
      "outputs": []
    },
    {
      "cell_type": "markdown",
      "metadata": {
        "id": "EuY8bvKuVx6E"
      },
      "source": [
        "### Plotting with pandas and seaborn"
      ]
    },
    {
      "cell_type": "code",
      "metadata": {
        "id": "YJjMkejIU9Xa"
      },
      "source": [
        "s = pd.Series(np.random.randn(10).cumsum(), index=np.arange(0, 100, 10))\n",
        "s.plot()"
      ],
      "execution_count": null,
      "outputs": []
    },
    {
      "cell_type": "code",
      "metadata": {
        "id": "neo5dTpRaT71"
      },
      "source": [
        "df = pd.DataFrame(np.random.randn(10, 4).cumsum(0), columns=['A', 'B', 'C', 'D'], index=np.arange(0, 100, 10))\n",
        "df.plot()"
      ],
      "execution_count": null,
      "outputs": []
    },
    {
      "cell_type": "code",
      "metadata": {
        "id": "pcwP6WF7adRS"
      },
      "source": [
        "# bar plot\n",
        "fig, axes = plt.subplots(2, 1)\n",
        "data = pd.Series(np.random.rand(16), index=list('abcdefghijklmnop'))\n",
        "data.plot.bar(ax=axes[0], color='k', alpha=0.7)\n",
        "data.plot.barh(ax=axes[1], color='k', alpha=0.7)"
      ],
      "execution_count": null,
      "outputs": []
    },
    {
      "cell_type": "code",
      "metadata": {
        "id": "NlB6oxkXavFP"
      },
      "source": [
        "df = pd.DataFrame(np.random.rand(6, 4), index=['one', 'two', 'three', 'four', 'five', 'six'], columns=pd.Index(['A', 'B', 'C', 'D'], name='Genus'))\n",
        "df"
      ],
      "execution_count": null,
      "outputs": []
    },
    {
      "cell_type": "code",
      "metadata": {
        "id": "y9CSS2MWa-KI"
      },
      "source": [
        "df.plot.bar()"
      ],
      "execution_count": null,
      "outputs": []
    },
    {
      "cell_type": "code",
      "metadata": {
        "id": "Rh_TOCe7bAtt"
      },
      "source": [
        "df.plot.barh(stacked=True, alpha=0.5)"
      ],
      "execution_count": null,
      "outputs": []
    },
    {
      "cell_type": "code",
      "metadata": {
        "id": "UoyuFE_vbJfD"
      },
      "source": [
        "tips = pd.read_csv('/content/drive/MyDrive/Projects/Physalia-courses/Python/Notebook - Colab/tips.csv')\n",
        "pd.crosstab(tips['day'], tips['size'])"
      ],
      "execution_count": null,
      "outputs": []
    },
    {
      "cell_type": "code",
      "metadata": {
        "id": "tckwoPgJv6VM"
      },
      "source": [
        "tips[(tips['day'] == 'Sun') & (tips['size'] == 5)]"
      ],
      "execution_count": null,
      "outputs": []
    },
    {
      "cell_type": "code",
      "metadata": {
        "id": "6xqxJqk7xZXe"
      },
      "source": [
        "party_counts = pd.crosstab(tips['day'], tips['size'])\n",
        "party_counts = party_counts.loc[:, 2:5] # remove 1 and 6\n",
        "party_counts"
      ],
      "execution_count": null,
      "outputs": []
    },
    {
      "cell_type": "code",
      "metadata": {
        "id": "jde3Fl4JzKqZ"
      },
      "source": [
        "party_pcts = party_counts.div(party_counts.sum(axis=1), axis=0) # normalize in order to sum up to 1\n",
        "party_pcts"
      ],
      "execution_count": null,
      "outputs": []
    },
    {
      "cell_type": "code",
      "metadata": {
        "id": "di5omEs04pdp"
      },
      "source": [
        "party_pcts.plot.bar()"
      ],
      "execution_count": null,
      "outputs": []
    },
    {
      "cell_type": "code",
      "metadata": {
        "id": "5let-pdp4qN1"
      },
      "source": [
        "# seaborn\n",
        "\n",
        "import seaborn as sns\n",
        "\n",
        "sns.set()\n",
        "\n",
        "tips['tip_pct'] = tips['tip'] / (tips['total_bill'] - tips['tip'])\n",
        "tips.head()\n"
      ],
      "execution_count": null,
      "outputs": []
    },
    {
      "cell_type": "code",
      "metadata": {
        "id": "_H9kzTvk49xE"
      },
      "source": [
        "sns.barplot(x='tip_pct', y='day', data=tips, orient='h')"
      ],
      "execution_count": null,
      "outputs": []
    },
    {
      "cell_type": "code",
      "metadata": {
        "id": "xHaZiEgP5BZ7"
      },
      "source": [
        "sns.barplot(x='tip_pct', y='day', hue='time', data=tips, orient='h')\n",
        "plt.legend(loc='center right')"
      ],
      "execution_count": null,
      "outputs": []
    },
    {
      "cell_type": "code",
      "metadata": {
        "id": "KS7S4LKP-gX8"
      },
      "source": [
        "sns.catplot(x='tip_pct', y='day', kind='box', data=tips[tips.tip_pct < 0.5])"
      ],
      "execution_count": null,
      "outputs": []
    },
    {
      "cell_type": "code",
      "metadata": {
        "id": "j2qzhXoP5gTA"
      },
      "source": [
        "tips['tip_pct'].plot.hist(bins=50)"
      ],
      "execution_count": null,
      "outputs": []
    },
    {
      "cell_type": "code",
      "metadata": {
        "id": "y2e-cGj3565Y"
      },
      "source": [
        "tips['tip_pct'].plot.density()"
      ],
      "execution_count": null,
      "outputs": []
    },
    {
      "cell_type": "code",
      "metadata": {
        "id": "65WVGQMB6S-F"
      },
      "source": [
        "sns.distplot(tips['tip_pct'], hist=True, kde=True)"
      ],
      "execution_count": null,
      "outputs": []
    },
    {
      "cell_type": "code",
      "metadata": {
        "id": "xJKO2-jL7fC2"
      },
      "source": [
        "macro = pd.read_csv('/content/drive/MyDrive/Projects/Physalia-courses/Python/Notebook - Colab/macrodata.csv', index_col=0)\n",
        "data = macro[['cpi', 'm1', 'tbilrate', 'unemp']]\n",
        "trans_data = np.log(data).diff().dropna()\n",
        "trans_data.head()"
      ],
      "execution_count": null,
      "outputs": []
    },
    {
      "cell_type": "code",
      "metadata": {
        "id": "wIpmP8e19iZY"
      },
      "source": [
        "sns.regplot('m1', 'unemp', data=trans_data)\n",
        "plt.title('Changes in log {} versus log {}'.format('m1', 'unemp'))"
      ],
      "execution_count": null,
      "outputs": []
    },
    {
      "cell_type": "code",
      "metadata": {
        "id": "OKhRddCj903S"
      },
      "source": [
        "sns.pairplot(trans_data, diag_kind='kde', plot_kws={'alpha': 0.2})"
      ],
      "execution_count": null,
      "outputs": []
    },
    {
      "cell_type": "code",
      "metadata": {
        "id": "Unojbe2b78ym"
      },
      "source": [
        "# read the iris.csv file into a dataframe\n",
        "import numpy as np\n",
        "import pandas as pd\n",
        "import matplotlib.pyplot as plt\n",
        "import seaborn as sns\n",
        "\n",
        "sns.set()\n",
        "\n",
        "iris_fn = '/content/drive/MyDrive/Projects/Physalia-courses/Python/Notebook - Colab/iris.csv'\n",
        "iris = pd.read_csv(iris_fn, skiprows=3, sep='\\t')\n",
        "iris.head()"
      ],
      "execution_count": null,
      "outputs": []
    },
    {
      "cell_type": "code",
      "metadata": {
        "id": "mxuev2Px8xp0"
      },
      "source": [
        "# plot the histograms of the sepal_length of the three species in a 1x3 subplot (i.e. three plots one next to the other)\n",
        "\n",
        "fig = plt.figure(figsize=(25,10))\n",
        "ax1 = fig.add_subplot(1, 3, 1)\n",
        "ax2 = fig.add_subplot(1, 3, 2)\n",
        "ax3 = fig.add_subplot(1, 3, 3)\n",
        "\n",
        "ax1.hist(iris[iris['species'] == 'setosa'].sepal_length, label='Iris setosa', alpha=0.6, color='blue')\n",
        "ax2.hist(iris[iris['species'] == 'virginica'].sepal_length, label='Iris virginica', alpha=0.6, color='orange')\n",
        "ax3.hist(iris[iris['species'] == 'versicolor'].sepal_length, label='Iris versicolor', alpha=0.6, color='pink')\n",
        "ax1.set_title('Iris setosa')\n",
        "ax2.set_title('Iris virginica')\n",
        "ax3.set_title('Iris versicolor')\n",
        "ax1.set_xlabel('Sepal length')\n",
        "ax2.set_xlabel('Sepal length')\n",
        "ax3.set_xlabel('Sepal length')\n",
        "\n",
        "ax1.set_ylabel('Frequency')"
      ],
      "execution_count": null,
      "outputs": []
    },
    {
      "cell_type": "code",
      "metadata": {
        "id": "uAy1YPx89aMY"
      },
      "source": [
        "# plot the boxplot of the sepal length of the three species\n",
        "sns.catplot(x='sepal_length', y='species', kind='box', data=iris, height=8.27, aspect=11.7/8.27)"
      ],
      "execution_count": null,
      "outputs": []
    },
    {
      "cell_type": "code",
      "metadata": {
        "id": "XrmE_fpjBPCr"
      },
      "source": [
        "# plot a scatterplot of sepal_lenght vs petal_length for the three species\n",
        "\n",
        "g = sns.FacetGrid(iris, col=\"species\", margin_titles=True, height=5)\n",
        "g.map(sns.regplot, \"petal_length\", \"petal_width\", color=\".3\", fit_reg=False)"
      ],
      "execution_count": null,
      "outputs": []
    },
    {
      "cell_type": "code",
      "metadata": {
        "id": "Sj7p0T81XPzN"
      },
      "source": [
        "# plot the distributions of petal_width of the three species\n",
        "g = sns.FacetGrid(iris, col=\"species\", margin_titles=True, height=5)\n",
        "g.map(sns.kdeplot, 'petal_width')"
      ],
      "execution_count": null,
      "outputs": []
    },
    {
      "cell_type": "code",
      "metadata": {
        "id": "LMA9--qXXp7I"
      },
      "source": [
        ""
      ],
      "execution_count": null,
      "outputs": []
    }
  ]
}