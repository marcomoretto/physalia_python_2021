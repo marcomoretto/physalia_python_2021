{
 "cells": [
  {
   "cell_type": "markdown",
   "metadata": {
    "id": "dWboQTMeJ1mS"
   },
   "source": [
    "# Exercises\n",
    "\n",
    "Choose and try to provide a working solution for as many problems as you want/can. You can use everything we learned so far and even (I encourange you to do so) check on Google for possible solutions. Just be sure to understand the solution!"
   ]
  },
  {
   "cell_type": "markdown",
   "metadata": {
    "id": "GU4gL1kkK1sF"
   },
   "source": [
    "### Ex #1\n",
    "Consider the following text in the `s` multiline string (don't be scared is just a normal string)\n"
   ]
  },
  {
   "cell_type": "code",
   "execution_count": null,
   "metadata": {
    "id": "-2JVN5An0mcp"
   },
   "outputs": [],
   "source": [
    "s = '''>id_sequence_101\n",
    "TGCAAATGGGTGGGTCAATGTTCCAAGGCCACCCCAAAGGGGCCCATGAGGAAAGGGCAAAACTAATGTGCTATAGCCTTAGGCCCTAAGGCCCGAGGGGAGTTGAGTTTTTCTACCCTGGGAAATTCATTGAGGCAGTAAGAGTGCCAGCCAAGCGGTGCCTCACCGCCACCAGAAGGCTCTAATAGTTTTTTGGGAATTTATTCCAAAATTAGGCCTAAAATTTTGATTT\n",
    ">id_sequence_17\n",
    "CATTGTGAGTTTTTAATTTAATTGCATTGTGTGTTTTTCATGTTGGATTTTAGAATTAATTTGTGTGCGGGGTTGAAATGGTTGTAGATTTGAATTGTGTTTTTTTAAATTTAAGGAAAAATGACACAGAGACCCCCAACGTTTGAATAAAGGACACAAAACCCCCTAAGGTTTCAAAAAAGACACTCAGACCCTCATTTGTTAACAGTAAATTATAAT\n",
    ">id_sequence_451\n",
    "AAACTTGGTCTTTCTGAAAATACTGAAAGAGGCATCGGTCTGTTATGGGGTCCTGATAGCACCGAGGAGTTCTTAAAAAAGTTTAGTCTAAAGGTGATATCATGATCCTACATTTTATCTTTTAAACCAATGGATTCATATTTATCTCTGTAAGTAGTGTTAAAACTTACTGAAGTTTAAAGTGGCAGTGGCAACCTCGTAGTTC\n",
    ">id_sequence_41\n",
    "TTGATTTTTGCTGCGTTAAGAGTTTTTAAAAAAATAATAATAATAATAACGAAAGAGATTGAACTGATCATTATGTACCCATTGATTACCGTTACGGCCAGCACAAATTTTAAGTCGAAGAGATTAACTAGACAAGCTCAAGATGTAACAGTTTGGCTTGATTTTAGAAGGTTTTATTTTTAAGAATACTCTAGAGTGATAAAATGTGAGTTCTTTAACAATTTCGTACTCTAGCGAGTAATAAAATGTGAGTTCTTTAACAATTTCGTATATAGAAGTCTCTAGCATATTGTAGATAGTAATCGGTCTAAAATATTCTAGGTATTACTAAAAATGAGATTTCTTTAAACCATGAAAATTCTCTAGATTAGAAAAGCCAGGCCCTCCCTATAGGCTTGGTTACTTGACATTTTATTCAAGCAATTCAAATTAAGCAATGCCAAGTATCAAATACCAAGCATCAAATACCAAGCATCAAGT\n",
    ">id_sequence_101\n",
    "TTGCCAAACAAGTTACCAAATATGTTACTAGAGAGAAATCTAGTACATGGTACCTACAAAATTAAATATCAAAGCGGACTGACACCAAACTGTAGCTAACATCTTCATTTCCATGGATAGCTGATATATTTCTCAATATGAACTCTCTTTCATATATCTCATACTTTCTAAATAGATGTTCTGTCTCAAATTGAATT\n",
    ">id_sequence_201\n",
    "ACAGAAAATATTCAAAAGTTTTGGAGGAAAGTTGGTCTGGTTGTTTGCTAGGTCATTCTGATTGTGCAACTTCAATAAGCACAAATGGTATGTCATTAACTTAGAAGAAATATACTTTAGATATCAACTACTTCACATATCCTCTCTTGCATCAATATAAGAGCAGGAATCATGCCAAGCCATAAGAGCCCAGATAACCTGACTC\n",
    ">id_sequence_131\n",
    "GGCTTAAATTCCATGCTCCTATCTCTAAAGAAGTTTTCAAGTTCCTCCATGAATGATGATTGCTCCTCTTCCGTTCCAGATTCACTGCCCTCGTCACTTCCATCCAAAAGAAATAACTGTGCTGAGTTGGACTTCTCATTCATTGGTAGTGTAGGTAACTCCGATTTGTTAACCTTATCTTTGATTTCTGTGTCATTTACATTCTTAAGCTCTGTGTCAGAAGGAGCTGCATTACG\n",
    ">id_sequence_21\n",
    "TTATTTTGTCTTTGTCGACGATCTGATTCCTTCCGATAAAAGATAAACCCTAACTTATTTCTTAACGATATCGATCTAATATCACCCCTTTTCCTTTCCGCAGCACTCTGCTTCTTTTTATTTATGTTTTTCCTTTTCCCGTCTTCTTTTTTTTAATAATTAAGAGGATTCTCTAATTCATTCTTGATAACGGGACGGTACAGGCACAAAAGCCAGGCGGACAGCTTCCGTATTGAACACGTGTTTTATTACT\n",
    ">id_sequence_10\n",
    "ACTGTAAAAATCCGAGGAATAGCTTTTTAGAATTTAATTTTAAAAATCAGTTTTATATTTAATACAATTTCACATATATTCTTACATACTTTACATAAACCCAAAGTTTTACTTAGTCAATTTAAAAATAAACTCAGAAAAGTTTAGATAATTATTCTTTTAATTTATTTTTTCTTCATGCACACTCTTCACCCCAAAACCTCTTCTTCTTCCTATTTTCCATTCCATCCAAACTTATCTAATCGTATAAAAATCATTA\n",
    ">id_sequence_112\n",
    "TGGTAGTATAACTCTCAAATATCAAGAGATAAGCCCCTTGAAGAAAATATAGCTTTTGTAAATATGTCTGGTATCAAAGGGTATTATCAGAACTCAAATTTTGTTGATTAGAGACAGCACGTGAATAGTGCACGCTATCATGAGAAAAAATAAAATATCTTCTTTTTTGGCTAAGAATAAGAAGCCAATAAAAATAAAAGTTCTTTAAACAAATCAATAGGAGTGGACCACGTCAGTTGTCCTTT\n",
    "'''"
   ]
  },
  {
   "cell_type": "markdown",
   "metadata": {
    "id": "kLWKr0oHLWiH"
   },
   "source": [
    "If you are used to FASTA format that is a set of DNA sequences in a FASTA-formatted string. If you never saw a FASTA formatted file before don't worry they are composed as follow:\n",
    "everything that starts with a  `>` till the end of line is considered an `ID` and everything from the following line up until the next end of line is considered a `sequence`.\n",
    "\n",
    "1) Write a program to read the FASTA format and put the result in a dictionary in the form `{'ID1': 'sequence1', 'ID2': 'sequence2', ... }`\n",
    "\n",
    "2) How many sequences are there? Which is the longest and the shortest? What is the average length?\n",
    "\n",
    "3) Which sequence contains the following 'CCATTCCATCCAAACTTATCT`?\n",
    "\n",
    "4) Extract the pieces from the nucleotide (aka letter) 30 to 40 and from 65 to 85 from each sequence, printing a valid FASTA formatted string\n",
    "\n",
    "5) Since every nucleotide (aka A, C, T, G) has a complementary nucleotide (T, G, A, C respectively). Write the reverse complement of each sequence."
   ]
  },
  {
   "cell_type": "markdown",
   "metadata": {
    "id": "VZ0G0kPbTO7n"
   },
   "source": [
    "# Ex # 2\n",
    "Consider the following 3 `dict` as 3 samples containing the measurements for 18 variables each"
   ]
  },
  {
   "cell_type": "code",
   "execution_count": null,
   "metadata": {
    "id": "UU_YPumsTAIg"
   },
   "outputs": [],
   "source": [
    "sample_a = {'var_1': 30, 'var_2': 60, 'var_3': 56, 'var_4': 97, 'var_5': 66, 'var_6': 40, 'var_7': 23, 'var_8': 16, 'var_9': 90, 'var_10': 22, 'var_11': 40, 'var_12': 10, 'var_13': 18, 'var_14': 37, 'var_15': 5, 'var_16': 66, 'var_17': 60, 'var_18': 36}\n",
    "sample_b = {'var_1': 96, 'var_2': 91, 'var_3': 9, 'var_4': 34, 'var_5': 19, 'var_6': 61, 'var_7': 11, 'var_8': 52, 'var_9': 72, 'var_10': 44, 'var_11': 57, 'var_12': 21, 'var_13': 95, 'var_14': 34, 'var_15': 4, 'var_16': 80, 'var_17': 83, 'var_18': 75}\n",
    "sample_c = {'var_1': 85, 'var_2': 61, 'var_3': 99, 'var_4': 98, 'var_5': 99, 'var_6': 51, 'var_7': 34, 'var_8': 76, 'var_9': 87, 'var_10': 94, 'var_11': 66, 'var_12': 64, 'var_13': 69, 'var_14': 68, 'var_15': 4, 'var_16': 74, 'var_17': 57, 'var_18': 31}"
   ]
  },
  {
   "cell_type": "markdown",
   "metadata": {
    "id": "9li9ARRKkHnS"
   },
   "source": [
    "1. Calculate the average value of each variable between samples;\n",
    "2. Calculate the standard deviation of each variable between samples (check on Google if you don't remember how to calculate standard deviation). You can use `import math` and `math.sqrt` or power of 0.5 to get the square root of a number.\n",
    "3. Compare all the possible couples calculating the difference between variables, i.e. sample_a - sample_b, sample_a - sample_c, etc.\n",
    "4. Starting from the previous point consider only the couples in which variable difference has an absolute value of at least 20. How many of these variables are in common between all couples? How many there are in total? How many are common to just 2 of the couples? Hint: think about that as a Venn diagram. You might want to use the functions set.union(a, b), set.intersection(a, b) and set.difference(a, b) calculate union, intersection and difference between sets.\n",
    "The absolute value can be calculated using the `abs(n)` function where `n` is the number for which we want the absolute value, so `abs(-5)` will return `5`.\n",
    "5. Normalize each variable value by substracting the mean value for that variable and dividing it by its standard deviation.\n"
   ]
  }
 ],
 "metadata": {
  "colab": {
   "collapsed_sections": [],
   "name": "Lesson 2: Exercises",
   "provenance": []
  },
  "kernelspec": {
   "display_name": "Python 3",
   "language": "python",
   "name": "python3"
  },
  "language_info": {
   "codemirror_mode": {
    "name": "ipython",
    "version": 3
   },
   "file_extension": ".py",
   "mimetype": "text/x-python",
   "name": "python",
   "nbconvert_exporter": "python",
   "pygments_lexer": "ipython3",
   "version": "3.9.1"
  }
 },
 "nbformat": 4,
 "nbformat_minor": 4
}
